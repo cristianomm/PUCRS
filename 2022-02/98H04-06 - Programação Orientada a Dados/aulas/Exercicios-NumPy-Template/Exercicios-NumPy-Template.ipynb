{
 "cells": [
  {
   "cell_type": "markdown",
   "id": "76d22082",
   "metadata": {},
   "source": [
    "# [Prof. Dalvan Griebler](mailto:dalvan.griebler@pucrs.br)\n",
    "\n",
    "## Programação Orientada a Dados (POD) - Turma 10 (POD_98H04-06)\n",
    "\n",
    "**Atualizado**: 28/10/2021\n",
    "\n",
    "**Descrição**: Exercícios com NumPy para POD.\n",
    "\n",
    "**Copyright &copy;**: Este documento está sob a licensa da Criative Commons [BY-NC-ND 4.0](https://creativecommons.org/licenses/by-nc-nd/4.0/legalcode)"
   ]
  },
  {
   "cell_type": "markdown",
   "id": "702a8eba",
   "metadata": {},
   "source": [
    "**Resolvido por:**"
   ]
  },
  {
   "cell_type": "markdown",
   "id": "efff9ca2",
   "metadata": {},
   "source": []
  },
  {
   "cell_type": "code",
   "execution_count": 2,
   "id": "cffbe53a",
   "metadata": {},
   "outputs": [],
   "source": [
    "import numpy as np"
   ]
  },
  {
   "cell_type": "markdown",
   "id": "3c7815e1",
   "metadata": {},
   "source": [
    "**1. Crie um `ndarray` a partir da lista e depois altere para booleano. Ao final, conte quantos elementos são verdadeiros e quantos são falsos.**\n",
    "\n",
    "```python\n",
    "lista = [[1, 2, 3], [0, 5, 0], [10, -1, -3], [0, 50, 0]]\n",
    "```"
   ]
  },
  {
   "cell_type": "code",
   "execution_count": 16,
   "id": "ef9f6456",
   "metadata": {},
   "outputs": [
    {
     "name": "stdout",
     "output_type": "stream",
     "text": [
      "True: 8 False: 4\n"
     ]
    }
   ],
   "source": [
    "lista = [[1, 2, 3], [0, 5, 0], [10, -1, -3], [0, 50, 0]]\n",
    "\n",
    "arr = np.array(lista, dtype=bool)\n",
    "\n",
    "print(f'True: {np.count_nonzero(arr==True)} False: {np.count_nonzero(arr==False)}')"
   ]
  },
  {
   "cell_type": "markdown",
   "id": "b69957b7",
   "metadata": {},
   "source": [
    "**2. Crie um `ndarray` com tamanho 5x5 contendo apenas zeros. Em seguida, realize operações de indexação/slicing para obter o seguinte array:**\n",
    "\n",
    "```python\n",
    "[[0. 8. 0. 0. 0.]\n",
    " [0. 8. 0. 2. 2.]\n",
    " [5. 5. 5. 5. 0.]\n",
    " [0. 8. 0. 2. 2.]\n",
    " [0. 8. 0. 0. 0.]]\n",
    " ```"
   ]
  },
  {
   "cell_type": "code",
   "execution_count": 10,
   "id": "7f61b8ad",
   "metadata": {},
   "outputs": [
    {
     "data": {
      "text/plain": [
       "array([[0., 8., 0., 0., 0.],\n",
       "       [0., 8., 0., 2., 2.],\n",
       "       [5., 5., 5., 5., 0.],\n",
       "       [0., 8., 0., 2., 2.],\n",
       "       [0., 8., 0., 0., 0.]])"
      ]
     },
     "execution_count": 10,
     "metadata": {},
     "output_type": "execute_result"
    }
   ],
   "source": [
    "mtx = np.zeros(25).reshape(5,5)\n",
    "mtx[:,1] = 8\n",
    "mtx[2,:4] = 5\n",
    "mtx[1,3:] = 2\n",
    "mtx[3, 3:] = 2\n",
    "\n",
    "mtx"
   ]
  },
  {
   "cell_type": "markdown",
   "id": "6a5da518",
   "metadata": {},
   "source": [
    "**3. Dado o array `a`, some 10 em todos os elementos de sua Penúltima coluna e linha.**"
   ]
  },
  {
   "cell_type": "code",
   "execution_count": 19,
   "id": "0a60fbf1",
   "metadata": {},
   "outputs": [
    {
     "name": "stdout",
     "output_type": "stream",
     "text": [
      "10.0 10.0\n"
     ]
    }
   ],
   "source": [
    "mtx = np.zeros(25).reshape(5,5)\n",
    "\n",
    "mtx[3,:] = 2\n",
    "mtx[:, 3] = 2\n",
    "\n",
    "print(mtx[3, :].sum(), mtx[:, 3].sum())"
   ]
  },
  {
   "cell_type": "markdown",
   "id": "a5637679",
   "metadata": {},
   "source": [
    "**4. Dado o array `a`, realize as seguintes operações:**\n",
    "  - Crie um array `b` de mesmo tamanho que `a`, onde todos os valores são 10\n",
    "  - Realize a soma de `a` e `b`.\n",
    "  - Multiplique todos os elementos do array resultante por 100\n",
    "  \n",
    "  ```python\n",
    "    a = np.arange(10, 70, 3).reshape(4, 5)\n",
    "  ```"
   ]
  },
  {
   "cell_type": "code",
   "execution_count": 26,
   "id": "a33ad305",
   "metadata": {},
   "outputs": [
    {
     "data": {
      "text/plain": [
       "array([[2000, 2300, 2600, 2900, 3200],\n",
       "       [3500, 3800, 4100, 4400, 4700],\n",
       "       [5000, 5300, 5600, 5900, 6200],\n",
       "       [6500, 6800, 7100, 7400, 7700]])"
      ]
     },
     "execution_count": 26,
     "metadata": {},
     "output_type": "execute_result"
    }
   ],
   "source": [
    "a = np.arange(10, 70, 3).reshape(4, 5)\n",
    "b = np.full((4,5), 10)\n",
    "\n",
    "c = (a + b) * 100\n",
    "c"
   ]
  },
  {
   "cell_type": "markdown",
   "id": "967c4b3c",
   "metadata": {},
   "source": [
    "**5. Crie um array 2D com a sequência de números ímpares no intervalo 0 a 100 e faça as seguintes operações:**\n",
    "- Média das linhas\n",
    "- Média das colunas\n",
    "- Soma dos elementos da última linha\n",
    "- Soma dos elementos da última coluna"
   ]
  },
  {
   "cell_type": "code",
   "execution_count": 38,
   "id": "46f9fbbb",
   "metadata": {},
   "outputs": [
    {
     "name": "stdout",
     "output_type": "stream",
     "text": [
      "[[ 1  3  5  7  9 11 13 15 17 19]\n",
      " [21 23 25 27 29 31 33 35 37 39]\n",
      " [41 43 45 47 49 51 53 55 57 59]\n",
      " [61 63 65 67 69 71 73 75 77 79]\n",
      " [81 83 85 87 89 91 93 95 97 99]]\n",
      "mean lines:[10. 30. 50. 70. 90.]\n",
      "mean columns:[41. 43. 45. 47. 49. 51. 53. 55. 57. 59.]\n",
      "sum of last line:900\n",
      "sum of last column:295\n"
     ]
    }
   ],
   "source": [
    "mtx = np.arange(1, 100, 2).reshape(5, 10)\n",
    "print(mtx)\n",
    "\n",
    "print(f'mean lines:{np.mean(mtx, axis=1)}')\n",
    "print(f'mean columns:{np.mean(mtx, axis=0)}')\n",
    "print(f'sum of last line:{mtx[-1,:].sum()}')\n",
    "print(f'sum of last column:{mtx[:, -1].sum()}')"
   ]
  },
  {
   "cell_type": "markdown",
   "id": "8be5a18b",
   "metadata": {},
   "source": [
    "**6. Crie um array com a seguinte estrutura:**\n",
    "\n",
    "```bash\n",
    "[[ 1 11 21 31 41]\n",
    " [ 2 12 22 32 42]\n",
    " [ 3 13 23 33 43]\n",
    " [ 4 14 24 34 44]\n",
    " [ 5 15 25 35 45]\n",
    " [ 6 16 26 36 46]\n",
    " [ 7 17 27 37 47]\n",
    " [ 8 18 28 38 48]\n",
    " [ 9 19 29 39 49]\n",
    " [10 20 30 40 50]]\n",
    "```"
   ]
  },
  {
   "cell_type": "code",
   "execution_count": 66,
   "id": "91e35178",
   "metadata": {},
   "outputs": [
    {
     "data": {
      "text/plain": [
       "array([[ 1, 11, 21, 31, 41],\n",
       "       [ 2, 12, 22, 32, 42],\n",
       "       [ 3, 13, 23, 33, 43],\n",
       "       [ 4, 14, 24, 34, 44],\n",
       "       [ 5, 15, 25, 35, 45],\n",
       "       [ 6, 16, 26, 36, 46],\n",
       "       [ 7, 17, 27, 37, 47],\n",
       "       [ 8, 18, 28, 38, 48],\n",
       "       [ 9, 19, 29, 39, 49],\n",
       "       [10, 20, 30, 40, 50]])"
      ]
     },
     "execution_count": 66,
     "metadata": {},
     "output_type": "execute_result"
    }
   ],
   "source": [
    "mtx = np.zeros(50, dtype=int).reshape(10,5)\n",
    "mtx[:, 0] = np.arange(1,11,1)\n",
    "mtx[:, 1] = np.arange(11,21,1)\n",
    "mtx[:, 2] = np.arange(21,31,1)\n",
    "mtx[:, 3] = np.arange(31,41,1)\n",
    "mtx[:, 4] = np.arange(41,51,1)\n",
    "\n",
    "mtx"
   ]
  },
  {
   "cell_type": "markdown",
   "id": "c5b6de8d",
   "metadata": {},
   "source": [
    "**7. Crie uma array com a seguinte estrutura:**\n",
    "\n",
    "```bash\n",
    "[[ 1  1  1  1  1  1  1  1  1  1]\n",
    " [ 1  0  0  0  0  0  0  0  0  1]\n",
    " [ 1  0  0  0  0  0  0  0  0  1]\n",
    " [ 1  0  0  0  0  0  0  0  0  1]\n",
    " [ 1  0  0  0  0  0  0  0  0  1]\n",
    " [ 1  0  0  0  0 -1  0  0  0  1]\n",
    " [ 1  0  0  0  0  0  0  0  0  1]\n",
    " [ 1  0  0  0  0  0  0  0  0  1]\n",
    " [ 1  0  0  0  0  0  0  0  0  1]\n",
    " [ 1  1  1  1  1  1  1  1  1  1]]\n",
    "```"
   ]
  },
  {
   "cell_type": "code",
   "execution_count": 65,
   "id": "b3966c0e",
   "metadata": {},
   "outputs": [
    {
     "data": {
      "text/plain": [
       "array([[ 1,  1,  1,  1,  1,  1,  1,  1,  1,  1],\n",
       "       [ 1,  0,  0,  0,  0,  0,  0,  0,  0,  1],\n",
       "       [ 1,  0,  0,  0,  0,  0,  0,  0,  0,  1],\n",
       "       [ 1,  0,  0,  0,  0,  0,  0,  0,  0,  1],\n",
       "       [ 1,  0,  0,  0,  0,  0,  0,  0,  0,  1],\n",
       "       [ 1,  0,  0,  0,  0, -1,  0,  0,  0,  1],\n",
       "       [ 1,  0,  0,  0,  0,  0,  0,  0,  0,  1],\n",
       "       [ 1,  0,  0,  0,  0,  0,  0,  0,  0,  1],\n",
       "       [ 1,  0,  0,  0,  0,  0,  0,  0,  0,  1],\n",
       "       [ 1,  1,  1,  1,  1,  1,  1,  1,  1,  1]])"
      ]
     },
     "execution_count": 65,
     "metadata": {},
     "output_type": "execute_result"
    }
   ],
   "source": [
    "mtx = np.zeros(100, dtype=int).reshape(10,10)\n",
    "mtx[:, 0] = 1\n",
    "mtx[0, 1:] = 1\n",
    "mtx[-1, 1:] = 1\n",
    "mtx[1:-1, -1] = 1\n",
    "mtx[5, 5] = -1\n",
    "\n",
    "mtx"
   ]
  },
  {
   "cell_type": "markdown",
   "id": "ab6d811d",
   "metadata": {},
   "source": [
    "**8. Crie um array 2D `shape(8,8)` com os seguintes valores.**\n",
    "```bash\n",
    "[[ 0. -1.  0.  0. -1.  0.  0. -1.]\n",
    " [-1.  0.  0. -1.  0.  0. -1.  0.]\n",
    " [ 0.  0.  0.  0.  0.  0.  0.  0.]\n",
    " [ 0. -1.  0.  0. -1.  0.  0. -1.]\n",
    " [-1.  0.  0. -1.  0.  0. -1.  0.]\n",
    " [ 0.  0.  0.  0.  0.  0.  0.  0.]\n",
    " [ 0. -1.  0.  0. -1.  0.  0. -1.]\n",
    " [-1.  0.  0. -1.  0.  0. -1.  0.]]\n",
    "```"
   ]
  },
  {
   "cell_type": "code",
   "execution_count": 73,
   "id": "77ddf509",
   "metadata": {},
   "outputs": [
    {
     "data": {
      "text/plain": [
       "array([[ 0., -1.,  0.,  0., -1.,  0.,  0., -1.],\n",
       "       [-1.,  0.,  0., -1.,  0.,  0., -1.,  0.],\n",
       "       [ 0.,  0.,  0.,  0.,  0.,  0.,  0.,  0.],\n",
       "       [ 0., -1.,  0.,  0., -1.,  0.,  0., -1.],\n",
       "       [-1.,  0.,  0., -1.,  0.,  0., -1.,  0.],\n",
       "       [ 0.,  0.,  0.,  0.,  0.,  0.,  0.,  0.],\n",
       "       [ 0., -1.,  0.,  0., -1.,  0.,  0., -1.],\n",
       "       [-1.,  0.,  0., -1.,  0.,  0., -1.,  0.]])"
      ]
     },
     "execution_count": 73,
     "metadata": {},
     "output_type": "execute_result"
    }
   ],
   "source": [
    "mtx = np.zeros(64).reshape(8,8)\n",
    "\n",
    "mtx[0::3, 1::3] = -1\n",
    "mtx[1::3, ::3] = -1\n",
    "\n",
    "mtx"
   ]
  },
  {
   "cell_type": "markdown",
   "id": "9400e1ab",
   "metadata": {},
   "source": [
    "**9. Dados um array `a`, realize operações de slicing para obter os arrays `b,c,d,e`.**\n",
    "```python\n",
    "a = np.arange(1, 51).reshape(5, 10)\n",
    "```\n",
    "\n",
    "```bash\n",
    "b: \n",
    " [12 13 14 15]\n",
    "c: \n",
    " [ 4 14 24 34 44]\n",
    "d: \n",
    " [[32 33 34 35 36 37]\n",
    " [42 43 44 45 46 47]]\n",
    "e: \n",
    " [[30 28 26 24 22]\n",
    " [50 48 46 44 42]]\n",
    "```"
   ]
  },
  {
   "cell_type": "code",
   "execution_count": null,
   "id": "469cb017",
   "metadata": {},
   "outputs": [],
   "source": []
  },
  {
   "cell_type": "markdown",
   "id": "3cf4ae76",
   "metadata": {},
   "source": [
    "**10. Crie um array 2D em que a soma da quinta e décima colunas produzem o resultado `340` e a média a partir da terceira linha até o fim produz o resultado `53`.**"
   ]
  },
  {
   "cell_type": "code",
   "execution_count": null,
   "id": "df5fbea4",
   "metadata": {},
   "outputs": [],
   "source": []
  },
  {
   "cell_type": "markdown",
   "id": "0ccc61f1",
   "metadata": {},
   "source": [
    "**11. Dado um array `a`:**\n",
    "  - Imprima os elementos de cada coluna de maneira crescente.\n",
    "  - Imprima os elementos de cada linha de maneira decrescente.\n",
    "  ```python\n",
    "a = np.array([[1, 22, 8, 9, 12, 33],\n",
    "                [11, 51, 13, 8, 13, 2],\n",
    "                [10, 0, 1, 8, 8, 5],\n",
    "                [0, 12, 23, 14, 2, 16],\n",
    "                [1, 13, 17, 8, 10, 1]])\n",
    "  ```"
   ]
  },
  {
   "cell_type": "code",
   "execution_count": null,
   "id": "1cb3a5bc",
   "metadata": {},
   "outputs": [],
   "source": []
  },
  {
   "cell_type": "markdown",
   "id": "f0d73e95",
   "metadata": {},
   "source": [
    "**12. Dado um array `a`:**\n",
    "  - Imprima o menor valor do array\n",
    "  - Imprima o maior valor da coluna 2\n",
    "  - Imprima os menores valores para cada linha\n",
    "  - Imprima a posição (em 2D) do maior valor\n",
    "  \n",
    "    ```python\n",
    "a = np.array([[1, 22, 8, 9, 12, 33],\n",
    "                [11, 51, 13, 8, 13, 2],\n",
    "                [10, 0, 1, 8, 8, 5],\n",
    "                [0, 12, 23, 14, 2, 16],\n",
    "                [1, 13, 17, 8, 10, 1]])\n",
    "  ```"
   ]
  },
  {
   "cell_type": "code",
   "execution_count": null,
   "id": "2c228329",
   "metadata": {},
   "outputs": [],
   "source": []
  },
  {
   "cell_type": "markdown",
   "id": "d4cef062",
   "metadata": {},
   "source": [
    "**13. Particione verticalmente ao meio o array `a`, armazenando a parte superior em `b` e inferior em `c`. Depois, tranforme os números negativos em positivos do array `c` e atribua `0` para os valores negativos do array `b`. Ao final das transformações, concatene `b` com `c` e forneça a matriz transposta.**\n",
    "```python\n",
    "a=np.random.randn(6, 6)\n",
    "```"
   ]
  },
  {
   "cell_type": "code",
   "execution_count": null,
   "id": "edcbbcef",
   "metadata": {},
   "outputs": [],
   "source": []
  },
  {
   "cell_type": "markdown",
   "id": "482b9e7a",
   "metadata": {},
   "source": [
    "**14. Crie um programa que gera números pseudo aleatorios com semente `3000` para um array `a` de `shape(10,10)` e outro array `b` de `shape(10,5)` usando semente `1234` e depois escreva o resultado em um arquivo `.npz`. Então, leia do arquivo os dois arrays `a` e `b`. Para realizar as sequintes operações, no `b` selecione apenas a terceira coluna. Ao final do programa, salve em um arquivo comprimido o resultado das operações.**\n",
    "- a * b\n",
    "- a / b\n",
    "- a - b\n",
    "- a + b"
   ]
  },
  {
   "cell_type": "code",
   "execution_count": null,
   "id": "3710297c",
   "metadata": {},
   "outputs": [],
   "source": []
  }
 ],
 "metadata": {
  "kernelspec": {
   "display_name": "Python 3.9.13 ('base')",
   "language": "python",
   "name": "python3"
  },
  "language_info": {
   "codemirror_mode": {
    "name": "ipython",
    "version": 3
   },
   "file_extension": ".py",
   "mimetype": "text/x-python",
   "name": "python",
   "nbconvert_exporter": "python",
   "pygments_lexer": "ipython3",
   "version": "3.9.13"
  },
  "vscode": {
   "interpreter": {
    "hash": "f537f9c21165c7935e03bfae5be5274269b6258f52c06218383ed7c44dd706d9"
   }
  }
 },
 "nbformat": 4,
 "nbformat_minor": 5
}
