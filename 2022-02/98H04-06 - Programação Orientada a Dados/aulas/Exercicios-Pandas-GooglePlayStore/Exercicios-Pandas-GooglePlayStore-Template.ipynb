{
 "cells": [
  {
   "cell_type": "markdown",
   "id": "0d108758",
   "metadata": {},
   "source": [
    "# [Prof. Dalvan Griebler](mailto:dalvan.griebler@pucrs.br)\n",
    "\n",
    "## Programação Orientada a Dados (POD) - Turma 10 (POD_98H04-06)\n",
    "\n",
    "**Atualizado**: 10/11/2021\n",
    "\n",
    "**Descrição**: Exercícios com Pandas para POD.\n",
    "\n",
    "**Copyright &copy;**: Este documento está sob a licensa da Criative Commons [BY-NC-ND 4.0](https://creativecommons.org/licenses/by-nc-nd/4.0/legalcode)"
   ]
  },
  {
   "cell_type": "markdown",
   "id": "85f4c53f",
   "metadata": {},
   "source": [
    "**Resolvido por:**"
   ]
  },
  {
   "cell_type": "code",
   "execution_count": null,
   "id": "48ba90e5",
   "metadata": {},
   "outputs": [],
   "source": []
  },
  {
   "cell_type": "code",
   "execution_count": 1,
   "id": "f615f43c",
   "metadata": {},
   "outputs": [],
   "source": [
    "import numpy as np\n",
    "import pandas as pd"
   ]
  },
  {
   "cell_type": "markdown",
   "id": "0d319046",
   "metadata": {},
   "source": [
    "# Atividade com dados do Google Play Store"
   ]
  },
  {
   "cell_type": "markdown",
   "id": "9ac0ce03",
   "metadata": {},
   "source": [
    "Leia os dados do `googleplaystore_data.csv` em uma estrutura DataFrame para realizar as seguintes atividades:\n",
    "1. Faça a limpeza dos dados. Existem dados ausentes e duplicados. Também remova o cifrão do preço (`Price`) e converta para float o número de instalações (`Installs`)\n",
    "2. Mostre qual o app mais cara existente no dataset.\n",
    "3. Mostre quantos apps são classificadas como `Mature 17+`.\n",
    "4. Mostre o top 10 apps por número de reviews bem como o respectivo número de reviews. Ordene a lista de forma decrescente por número de reviews\n",
    "5. Faça um gráfico de pizza (pie chart) mostrando as categorias de apps existentes no dataset de acordo com a frequência em que elas aparecem"
   ]
  },
  {
   "cell_type": "code",
   "execution_count": null,
   "id": "656701a0",
   "metadata": {},
   "outputs": [],
   "source": []
  }
 ],
 "metadata": {
  "kernelspec": {
   "display_name": "Python 3",
   "language": "python",
   "name": "python3"
  },
  "language_info": {
   "codemirror_mode": {
    "name": "ipython",
    "version": 3
   },
   "file_extension": ".py",
   "mimetype": "text/x-python",
   "name": "python",
   "nbconvert_exporter": "python",
   "pygments_lexer": "ipython3",
   "version": "3.8.8"
  }
 },
 "nbformat": 4,
 "nbformat_minor": 5
}
