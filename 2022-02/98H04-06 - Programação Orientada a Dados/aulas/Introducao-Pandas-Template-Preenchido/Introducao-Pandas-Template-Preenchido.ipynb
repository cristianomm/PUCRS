{
 "cells": [
  {
   "cell_type": "markdown",
   "id": "113a8d54",
   "metadata": {},
   "source": [
    "# [Prof. Dalvan Griebler](mailto:dalvan.griebler@pucrs.br)\n",
    "\n",
    "## Programação Orientada a Dados (POD) - Turma 10 (POD_98H04-06)\n",
    "\n",
    "**Atualizado**: 29/10/2021\n",
    "\n",
    "**Descrição**: Material de apoio as aulas sobre Python para POD\n",
    "\n",
    "**Copyright &copy;**: Este documento está sob a licensa da Criative Commons [BY-NC-ND 4.0](https://creativecommons.org/licenses/by-nc-nd/4.0/legalcode)"
   ]
  },
  {
   "cell_type": "markdown",
   "id": "c74bd3db",
   "metadata": {},
   "source": [
    "# Introdução a Biblioteca Pandas do Python"
   ]
  },
  {
   "cell_type": "markdown",
   "id": "31cd8204",
   "metadata": {},
   "source": [
    "## Programação Funcional vs Manipulação de Dados com Pandas"
   ]
  },
  {
   "cell_type": "code",
   "execution_count": 1,
   "id": "c195b6a8",
   "metadata": {},
   "outputs": [
    {
     "name": "stdout",
     "output_type": "stream",
     "text": [
      "fat1(6) 720\n",
      "fat2(6) 720\n",
      "fat3(6) 720\n"
     ]
    }
   ],
   "source": [
    "# modo imperativo\n",
    "def fat1(n):\n",
    "    f = 1\n",
    "    while n > 1:\n",
    "        f *= n\n",
    "        n -= 1\n",
    "    return f\n",
    "# modo funcional\n",
    "def fat2(n):\n",
    "    if n < 2:\n",
    "        return 1\n",
    "    else:\n",
    "        return n * fat2(n-1)\n",
    "\n",
    "# modo re-uso de funções\n",
    "from operator import mul\n",
    "from functools import reduce\n",
    "def fat3(n):\n",
    "    return reduce(mul,range(1,n+1))\n",
    "\n",
    "print(\"fat1(6)\", fat1(6))\n",
    "print(\"fat2(6)\", fat2(6))\n",
    "print(\"fat3(6)\", fat3(6))"
   ]
  },
  {
   "cell_type": "markdown",
   "id": "e94a4460",
   "metadata": {},
   "source": [
    "## Estrutura de Dados"
   ]
  },
  {
   "cell_type": "code",
   "execution_count": 2,
   "id": "ac07fa36",
   "metadata": {},
   "outputs": [],
   "source": [
    "# !conda install pandas\n",
    "# !pip install numpy\n",
    "import pandas as pd"
   ]
  },
  {
   "cell_type": "markdown",
   "id": "7f403087",
   "metadata": {},
   "source": [
    "### Series"
   ]
  },
  {
   "cell_type": "code",
   "execution_count": 3,
   "id": "c2025e96",
   "metadata": {},
   "outputs": [
    {
     "name": "stdout",
     "output_type": "stream",
     "text": [
      "0    4\n",
      "1   -1\n",
      "2    2\n",
      "3    5\n",
      "dtype: int64\n",
      "<class 'pandas.core.series.Series'>\n",
      "[ 4 -1  2  5]\n",
      "RangeIndex(start=0, stop=4, step=1)\n"
     ]
    }
   ],
   "source": [
    "obj = pd.Series([4,-1, 2, 5])\n",
    "print(obj)\n",
    "print(type(obj))\n",
    "\n",
    "print(obj.values)\n",
    "\n",
    "print(obj.index)"
   ]
  },
  {
   "cell_type": "code",
   "execution_count": 4,
   "id": "11318d17",
   "metadata": {},
   "outputs": [
    {
     "name": "stdout",
     "output_type": "stream",
     "text": [
      "d    4\n",
      "a   -1\n",
      "c    2\n",
      "b    5\n",
      "dtype: int64\n",
      "Index(['d', 'a', 'c', 'b'], dtype='object')\n"
     ]
    }
   ],
   "source": [
    "obj = pd.Series([4,-1, 2, 5], index=['d','a','c', 'b'])\n",
    "\n",
    "print(obj)\n",
    "print(obj.index)"
   ]
  },
  {
   "cell_type": "code",
   "execution_count": 5,
   "id": "be5729f8",
   "metadata": {},
   "outputs": [
    {
     "name": "stdout",
     "output_type": "stream",
     "text": [
      "-1\n",
      "a    6\n",
      "c    2\n",
      "dtype: int64\n"
     ]
    }
   ],
   "source": [
    "print(obj['a'])\n",
    "obj['a']=6\n",
    "print(obj[['a','c']])"
   ]
  },
  {
   "cell_type": "code",
   "execution_count": 6,
   "id": "4c964284",
   "metadata": {},
   "outputs": [
    {
     "name": "stdout",
     "output_type": "stream",
     "text": [
      "d    4\n",
      "a    6\n",
      "c    2\n",
      "b    5\n",
      "dtype: int64\n",
      "a    6\n",
      "b    5\n",
      "dtype: int64\n"
     ]
    }
   ],
   "source": [
    "print(obj)\n",
    "print(obj[obj>4])"
   ]
  },
  {
   "cell_type": "code",
   "execution_count": 7,
   "id": "822d9c19",
   "metadata": {},
   "outputs": [
    {
     "name": "stdout",
     "output_type": "stream",
     "text": [
      "d     8\n",
      "a    12\n",
      "c     4\n",
      "b    10\n",
      "dtype: int64\n"
     ]
    }
   ],
   "source": [
    "print(obj*2)"
   ]
  },
  {
   "cell_type": "code",
   "execution_count": 8,
   "id": "1a7aa7f5",
   "metadata": {},
   "outputs": [
    {
     "name": "stdout",
     "output_type": "stream",
     "text": [
      "d    4\n",
      "a    6\n",
      "c    2\n",
      "b    5\n",
      "dtype: int64\n",
      "True\n",
      "False\n",
      "True\n"
     ]
    }
   ],
   "source": [
    "print(obj)\n",
    "print('a' in obj)\n",
    "print('e' in obj)\n",
    "print(2 in obj.values)"
   ]
  },
  {
   "cell_type": "code",
   "execution_count": 9,
   "id": "6bec8cb6",
   "metadata": {},
   "outputs": [
    {
     "name": "stdout",
     "output_type": "stream",
     "text": [
      "RS     30405\n",
      "SC     87463\n",
      "SP    232434\n",
      "RJ    382746\n",
      "dtype: int64\n",
      "RS     30405.0\n",
      "SP    232434.0\n",
      "RJ    382746.0\n",
      "SC     87463.0\n",
      "PR         NaN\n",
      "dtype: float64\n"
     ]
    }
   ],
   "source": [
    "sdata = {'RS': 30405, \"SC\": 87463, \"SP\": 232434, \"RJ\": 382746}\n",
    "\n",
    "obj3 = pd.Series(sdata)\n",
    "print(obj3)\n",
    "\n",
    "estados = ['RS', \"SP\", \"RJ\", \"SC\", \"PR\"]\n",
    "\n",
    "obj4 = pd.Series(sdata, index=estados)\n",
    "print(obj4)"
   ]
  },
  {
   "cell_type": "code",
   "execution_count": 10,
   "id": "8e70d884",
   "metadata": {},
   "outputs": [
    {
     "name": "stdout",
     "output_type": "stream",
     "text": [
      "RS    False\n",
      "SP    False\n",
      "RJ    False\n",
      "SC    False\n",
      "PR     True\n",
      "dtype: bool\n",
      "RS     True\n",
      "SP     True\n",
      "RJ     True\n",
      "SC     True\n",
      "PR    False\n",
      "dtype: bool\n",
      "RS    False\n",
      "SP    False\n",
      "RJ    False\n",
      "SC    False\n",
      "PR     True\n",
      "dtype: bool\n"
     ]
    }
   ],
   "source": [
    "print(pd.isnull(obj4))\n",
    "print(pd.notnull(obj4))\n",
    "print(obj4.isnull())"
   ]
  },
  {
   "cell_type": "code",
   "execution_count": 11,
   "id": "b3c67028",
   "metadata": {},
   "outputs": [
    {
     "name": "stdout",
     "output_type": "stream",
     "text": [
      "PR         NaN\n",
      "RJ    765492.0\n",
      "RS     60810.0\n",
      "SC    174926.0\n",
      "SP    464868.0\n",
      "dtype: float64\n"
     ]
    }
   ],
   "source": [
    "print(obj3+obj4)"
   ]
  },
  {
   "cell_type": "code",
   "execution_count": 12,
   "id": "3fd934e7",
   "metadata": {},
   "outputs": [
    {
     "name": "stdout",
     "output_type": "stream",
     "text": [
      "estados\n",
      "RS     30405.0\n",
      "SP    232434.0\n",
      "RJ    382746.0\n",
      "SC     87463.0\n",
      "PR         NaN\n",
      "Name: popul, dtype: float64\n"
     ]
    }
   ],
   "source": [
    "obj4.name = 'popul'\n",
    "obj4.index.name = 'estados'\n",
    "print(obj4)"
   ]
  },
  {
   "cell_type": "code",
   "execution_count": 13,
   "id": "54f07aa7",
   "metadata": {},
   "outputs": [
    {
     "name": "stdout",
     "output_type": "stream",
     "text": [
      "0     2\n",
      "1     5\n",
      "2    90\n",
      "3    45\n",
      "dtype: int64\n",
      "RangeIndex(start=0, stop=4, step=1)\n",
      "Dalvan      2\n",
      "Carlos      5\n",
      "Vitor      90\n",
      "Luciano    45\n",
      "dtype: int64\n",
      "Index(['Dalvan', 'Carlos', 'Vitor', 'Luciano'], dtype='object')\n",
      "Carlos      2\n",
      "Dalvan      5\n",
      "Vitor      90\n",
      "Luciano    45\n",
      "dtype: int64\n",
      "Index(['Carlos', 'Dalvan', 'Vitor', 'Luciano'], dtype='object')\n"
     ]
    }
   ],
   "source": [
    "obj5 = pd.Series([2,5,90,45])\n",
    "print(obj5)\n",
    "print(obj5.index)\n",
    "obj5.index = ['Dalvan', \"Carlos\", \"Vitor\", \"Luciano\"]\n",
    "print(obj5)\n",
    "print(obj5.index)\n",
    "obj5.index = [\"Carlos\", 'Dalvan', \"Vitor\", \"Luciano\"]\n",
    "print(obj5)\n",
    "print(obj5.index)"
   ]
  },
  {
   "cell_type": "markdown",
   "id": "adf0da2d",
   "metadata": {},
   "source": [
    "### DataFrame"
   ]
  },
  {
   "cell_type": "code",
   "execution_count": 14,
   "id": "66fcbedc",
   "metadata": {},
   "outputs": [
    {
     "name": "stdout",
     "output_type": "stream",
     "text": [
      "<class 'pandas.core.frame.DataFrame'>\n"
     ]
    },
    {
     "data": {
      "text/html": [
       "<div>\n",
       "<style scoped>\n",
       "    .dataframe tbody tr th:only-of-type {\n",
       "        vertical-align: middle;\n",
       "    }\n",
       "\n",
       "    .dataframe tbody tr th {\n",
       "        vertical-align: top;\n",
       "    }\n",
       "\n",
       "    .dataframe thead th {\n",
       "        text-align: right;\n",
       "    }\n",
       "</style>\n",
       "<table border=\"1\" class=\"dataframe\">\n",
       "  <thead>\n",
       "    <tr style=\"text-align: right;\">\n",
       "      <th></th>\n",
       "      <th>estados</th>\n",
       "      <th>ano</th>\n",
       "      <th>popul</th>\n",
       "    </tr>\n",
       "  </thead>\n",
       "  <tbody>\n",
       "    <tr>\n",
       "      <th>0</th>\n",
       "      <td>RS</td>\n",
       "      <td>2000</td>\n",
       "      <td>1.5</td>\n",
       "    </tr>\n",
       "    <tr>\n",
       "      <th>1</th>\n",
       "      <td>RS</td>\n",
       "      <td>2001</td>\n",
       "      <td>1.7</td>\n",
       "    </tr>\n",
       "    <tr>\n",
       "      <th>2</th>\n",
       "      <td>RS</td>\n",
       "      <td>2002</td>\n",
       "      <td>3.6</td>\n",
       "    </tr>\n",
       "    <tr>\n",
       "      <th>3</th>\n",
       "      <td>SP</td>\n",
       "      <td>2000</td>\n",
       "      <td>2.4</td>\n",
       "    </tr>\n",
       "    <tr>\n",
       "      <th>4</th>\n",
       "      <td>SP</td>\n",
       "      <td>2001</td>\n",
       "      <td>2.6</td>\n",
       "    </tr>\n",
       "    <tr>\n",
       "      <th>5</th>\n",
       "      <td>SP</td>\n",
       "      <td>2002</td>\n",
       "      <td>3.2</td>\n",
       "    </tr>\n",
       "  </tbody>\n",
       "</table>\n",
       "</div>"
      ],
      "text/plain": [
       "  estados   ano  popul\n",
       "0      RS  2000    1.5\n",
       "1      RS  2001    1.7\n",
       "2      RS  2002    3.6\n",
       "3      SP  2000    2.4\n",
       "4      SP  2001    2.6\n",
       "5      SP  2002    3.2"
      ]
     },
     "metadata": {},
     "output_type": "display_data"
    }
   ],
   "source": [
    "dicionario = {'estados': ['RS', 'RS', \"RS\", \"SP\", 'SP', \"SP\"],\n",
    "              'ano': [2000, 2001, 2002, 2000, 2001, 2002],\n",
    "              'popul': [1.5, 1.7, 3.6, 2.4, 2.6, 3.2]\n",
    "             }\n",
    "\n",
    "df1 = pd.DataFrame(dicionario)\n",
    "print(type(df1))\n",
    "display(df1)"
   ]
  },
  {
   "cell_type": "code",
   "execution_count": 15,
   "id": "cf7f8462",
   "metadata": {},
   "outputs": [
    {
     "data": {
      "text/html": [
       "<div>\n",
       "<style scoped>\n",
       "    .dataframe tbody tr th:only-of-type {\n",
       "        vertical-align: middle;\n",
       "    }\n",
       "\n",
       "    .dataframe tbody tr th {\n",
       "        vertical-align: top;\n",
       "    }\n",
       "\n",
       "    .dataframe thead th {\n",
       "        text-align: right;\n",
       "    }\n",
       "</style>\n",
       "<table border=\"1\" class=\"dataframe\">\n",
       "  <thead>\n",
       "    <tr style=\"text-align: right;\">\n",
       "      <th></th>\n",
       "      <th>estados</th>\n",
       "      <th>ano</th>\n",
       "      <th>popul</th>\n",
       "    </tr>\n",
       "  </thead>\n",
       "  <tbody>\n",
       "    <tr>\n",
       "      <th>0</th>\n",
       "      <td>RS</td>\n",
       "      <td>2000</td>\n",
       "      <td>1.5</td>\n",
       "    </tr>\n",
       "    <tr>\n",
       "      <th>1</th>\n",
       "      <td>RS</td>\n",
       "      <td>2001</td>\n",
       "      <td>1.7</td>\n",
       "    </tr>\n",
       "    <tr>\n",
       "      <th>2</th>\n",
       "      <td>RS</td>\n",
       "      <td>2002</td>\n",
       "      <td>3.6</td>\n",
       "    </tr>\n",
       "  </tbody>\n",
       "</table>\n",
       "</div>"
      ],
      "text/plain": [
       "  estados   ano  popul\n",
       "0      RS  2000    1.5\n",
       "1      RS  2001    1.7\n",
       "2      RS  2002    3.6"
      ]
     },
     "metadata": {},
     "output_type": "display_data"
    }
   ],
   "source": [
    "display(df1.head(3))"
   ]
  },
  {
   "cell_type": "code",
   "execution_count": 16,
   "id": "3f75d228",
   "metadata": {},
   "outputs": [
    {
     "data": {
      "text/html": [
       "<div>\n",
       "<style scoped>\n",
       "    .dataframe tbody tr th:only-of-type {\n",
       "        vertical-align: middle;\n",
       "    }\n",
       "\n",
       "    .dataframe tbody tr th {\n",
       "        vertical-align: top;\n",
       "    }\n",
       "\n",
       "    .dataframe thead th {\n",
       "        text-align: right;\n",
       "    }\n",
       "</style>\n",
       "<table border=\"1\" class=\"dataframe\">\n",
       "  <thead>\n",
       "    <tr style=\"text-align: right;\">\n",
       "      <th></th>\n",
       "      <th>ano</th>\n",
       "      <th>estados</th>\n",
       "      <th>popul</th>\n",
       "    </tr>\n",
       "  </thead>\n",
       "  <tbody>\n",
       "    <tr>\n",
       "      <th>0</th>\n",
       "      <td>2000</td>\n",
       "      <td>RS</td>\n",
       "      <td>1.5</td>\n",
       "    </tr>\n",
       "    <tr>\n",
       "      <th>1</th>\n",
       "      <td>2001</td>\n",
       "      <td>RS</td>\n",
       "      <td>1.7</td>\n",
       "    </tr>\n",
       "    <tr>\n",
       "      <th>2</th>\n",
       "      <td>2002</td>\n",
       "      <td>RS</td>\n",
       "      <td>3.6</td>\n",
       "    </tr>\n",
       "    <tr>\n",
       "      <th>3</th>\n",
       "      <td>2000</td>\n",
       "      <td>SP</td>\n",
       "      <td>2.4</td>\n",
       "    </tr>\n",
       "    <tr>\n",
       "      <th>4</th>\n",
       "      <td>2001</td>\n",
       "      <td>SP</td>\n",
       "      <td>2.6</td>\n",
       "    </tr>\n",
       "    <tr>\n",
       "      <th>5</th>\n",
       "      <td>2002</td>\n",
       "      <td>SP</td>\n",
       "      <td>3.2</td>\n",
       "    </tr>\n",
       "  </tbody>\n",
       "</table>\n",
       "</div>"
      ],
      "text/plain": [
       "    ano estados  popul\n",
       "0  2000      RS    1.5\n",
       "1  2001      RS    1.7\n",
       "2  2002      RS    3.6\n",
       "3  2000      SP    2.4\n",
       "4  2001      SP    2.6\n",
       "5  2002      SP    3.2"
      ]
     },
     "metadata": {},
     "output_type": "display_data"
    }
   ],
   "source": [
    "df1 = pd.DataFrame(dicionario, columns=['ano', 'estados', 'popul'])\n",
    "display(df1)"
   ]
  },
  {
   "cell_type": "code",
   "execution_count": 17,
   "id": "8001ada1",
   "metadata": {},
   "outputs": [
    {
     "data": {
      "text/html": [
       "<div>\n",
       "<style scoped>\n",
       "    .dataframe tbody tr th:only-of-type {\n",
       "        vertical-align: middle;\n",
       "    }\n",
       "\n",
       "    .dataframe tbody tr th {\n",
       "        vertical-align: top;\n",
       "    }\n",
       "\n",
       "    .dataframe thead th {\n",
       "        text-align: right;\n",
       "    }\n",
       "</style>\n",
       "<table border=\"1\" class=\"dataframe\">\n",
       "  <thead>\n",
       "    <tr style=\"text-align: right;\">\n",
       "      <th></th>\n",
       "      <th>ano</th>\n",
       "      <th>estados</th>\n",
       "      <th>popul</th>\n",
       "    </tr>\n",
       "  </thead>\n",
       "  <tbody>\n",
       "    <tr>\n",
       "      <th>um</th>\n",
       "      <td>2000</td>\n",
       "      <td>RS</td>\n",
       "      <td>1.5</td>\n",
       "    </tr>\n",
       "    <tr>\n",
       "      <th>dois</th>\n",
       "      <td>2001</td>\n",
       "      <td>RS</td>\n",
       "      <td>1.7</td>\n",
       "    </tr>\n",
       "    <tr>\n",
       "      <th>tres</th>\n",
       "      <td>2002</td>\n",
       "      <td>RS</td>\n",
       "      <td>3.6</td>\n",
       "    </tr>\n",
       "    <tr>\n",
       "      <th>quatro</th>\n",
       "      <td>2000</td>\n",
       "      <td>SP</td>\n",
       "      <td>2.4</td>\n",
       "    </tr>\n",
       "    <tr>\n",
       "      <th>cinco</th>\n",
       "      <td>2001</td>\n",
       "      <td>SP</td>\n",
       "      <td>2.6</td>\n",
       "    </tr>\n",
       "    <tr>\n",
       "      <th>seis</th>\n",
       "      <td>2002</td>\n",
       "      <td>SP</td>\n",
       "      <td>3.2</td>\n",
       "    </tr>\n",
       "  </tbody>\n",
       "</table>\n",
       "</div>"
      ],
      "text/plain": [
       "         ano estados  popul\n",
       "um      2000      RS    1.5\n",
       "dois    2001      RS    1.7\n",
       "tres    2002      RS    3.6\n",
       "quatro  2000      SP    2.4\n",
       "cinco   2001      SP    2.6\n",
       "seis    2002      SP    3.2"
      ]
     },
     "metadata": {},
     "output_type": "display_data"
    },
    {
     "data": {
      "text/plain": [
       "Index(['ano', 'estados', 'popul'], dtype='object')"
      ]
     },
     "metadata": {},
     "output_type": "display_data"
    }
   ],
   "source": [
    "df1 = pd.DataFrame(dicionario, columns=['ano', 'estados', 'popul'],\n",
    "                   index=['um','dois','tres', 'quatro', 'cinco', 'seis']\n",
    "                  )\n",
    "display(df1)\n",
    "display(df1.columns)"
   ]
  },
  {
   "cell_type": "code",
   "execution_count": 18,
   "id": "1f0a0245",
   "metadata": {},
   "outputs": [
    {
     "name": "stdout",
     "output_type": "stream",
     "text": [
      "um        RS\n",
      "dois      RS\n",
      "tres      RS\n",
      "quatro    SP\n",
      "cinco     SP\n",
      "seis      SP\n",
      "Name: estados, dtype: object\n",
      "<class 'pandas.core.series.Series'>\n"
     ]
    }
   ],
   "source": [
    "print(df1['estados'])\n",
    "print(type(df1['estados']))"
   ]
  },
  {
   "cell_type": "code",
   "execution_count": 19,
   "id": "82bdc20f",
   "metadata": {},
   "outputs": [
    {
     "name": "stdout",
     "output_type": "stream",
     "text": [
      "um        2000\n",
      "dois      2001\n",
      "tres      2002\n",
      "quatro    2000\n",
      "cinco     2001\n",
      "seis      2002\n",
      "Name: ano, dtype: int64\n"
     ]
    }
   ],
   "source": [
    "print(df1.ano)"
   ]
  },
  {
   "cell_type": "code",
   "execution_count": 20,
   "id": "0214bbbd",
   "metadata": {},
   "outputs": [
    {
     "name": "stdout",
     "output_type": "stream",
     "text": [
      "ano        2000\n",
      "estados      RS\n",
      "popul       1.5\n",
      "Name: um, dtype: object\n",
      "<class 'pandas.core.series.Series'>\n"
     ]
    }
   ],
   "source": [
    "print(df1.loc['um'])\n",
    "print(type(df1.loc['um']))"
   ]
  },
  {
   "cell_type": "code",
   "execution_count": 21,
   "id": "5385ae58",
   "metadata": {},
   "outputs": [
    {
     "name": "stdout",
     "output_type": "stream",
     "text": [
      "ano        2000\n",
      "estados      RS\n",
      "popul       1.5\n",
      "Name: um, dtype: object\n",
      "<class 'pandas.core.series.Series'>\n"
     ]
    }
   ],
   "source": [
    "print(df1.iloc[0])\n",
    "print(type(df1.iloc[0]))"
   ]
  },
  {
   "cell_type": "code",
   "execution_count": 22,
   "id": "c299befb",
   "metadata": {},
   "outputs": [
    {
     "data": {
      "text/html": [
       "<div>\n",
       "<style scoped>\n",
       "    .dataframe tbody tr th:only-of-type {\n",
       "        vertical-align: middle;\n",
       "    }\n",
       "\n",
       "    .dataframe tbody tr th {\n",
       "        vertical-align: top;\n",
       "    }\n",
       "\n",
       "    .dataframe thead th {\n",
       "        text-align: right;\n",
       "    }\n",
       "</style>\n",
       "<table border=\"1\" class=\"dataframe\">\n",
       "  <thead>\n",
       "    <tr style=\"text-align: right;\">\n",
       "      <th></th>\n",
       "      <th>ano</th>\n",
       "      <th>estados</th>\n",
       "      <th>popul</th>\n",
       "      <th>mortes</th>\n",
       "    </tr>\n",
       "  </thead>\n",
       "  <tbody>\n",
       "    <tr>\n",
       "      <th>um</th>\n",
       "      <td>2000</td>\n",
       "      <td>RS</td>\n",
       "      <td>1.5</td>\n",
       "      <td>0.0</td>\n",
       "    </tr>\n",
       "    <tr>\n",
       "      <th>dois</th>\n",
       "      <td>2001</td>\n",
       "      <td>RS</td>\n",
       "      <td>1.7</td>\n",
       "      <td>1.0</td>\n",
       "    </tr>\n",
       "    <tr>\n",
       "      <th>tres</th>\n",
       "      <td>2002</td>\n",
       "      <td>RS</td>\n",
       "      <td>3.6</td>\n",
       "      <td>2.0</td>\n",
       "    </tr>\n",
       "    <tr>\n",
       "      <th>quatro</th>\n",
       "      <td>2000</td>\n",
       "      <td>SP</td>\n",
       "      <td>2.4</td>\n",
       "      <td>3.0</td>\n",
       "    </tr>\n",
       "    <tr>\n",
       "      <th>cinco</th>\n",
       "      <td>2001</td>\n",
       "      <td>SP</td>\n",
       "      <td>2.6</td>\n",
       "      <td>4.0</td>\n",
       "    </tr>\n",
       "    <tr>\n",
       "      <th>seis</th>\n",
       "      <td>2002</td>\n",
       "      <td>SP</td>\n",
       "      <td>3.2</td>\n",
       "      <td>5.0</td>\n",
       "    </tr>\n",
       "  </tbody>\n",
       "</table>\n",
       "</div>"
      ],
      "text/plain": [
       "         ano estados  popul  mortes\n",
       "um      2000      RS    1.5     0.0\n",
       "dois    2001      RS    1.7     1.0\n",
       "tres    2002      RS    3.6     2.0\n",
       "quatro  2000      SP    2.4     3.0\n",
       "cinco   2001      SP    2.6     4.0\n",
       "seis    2002      SP    3.2     5.0"
      ]
     },
     "metadata": {},
     "output_type": "display_data"
    }
   ],
   "source": [
    "import numpy as np\n",
    "df1['mortes']=np.arange(6.)\n",
    "display(df1)"
   ]
  },
  {
   "cell_type": "code",
   "execution_count": 23,
   "id": "b6b1afb5",
   "metadata": {},
   "outputs": [
    {
     "data": {
      "text/html": [
       "<div>\n",
       "<style scoped>\n",
       "    .dataframe tbody tr th:only-of-type {\n",
       "        vertical-align: middle;\n",
       "    }\n",
       "\n",
       "    .dataframe tbody tr th {\n",
       "        vertical-align: top;\n",
       "    }\n",
       "\n",
       "    .dataframe thead th {\n",
       "        text-align: right;\n",
       "    }\n",
       "</style>\n",
       "<table border=\"1\" class=\"dataframe\">\n",
       "  <thead>\n",
       "    <tr style=\"text-align: right;\">\n",
       "      <th></th>\n",
       "      <th>ano</th>\n",
       "      <th>estados</th>\n",
       "      <th>popul</th>\n",
       "      <th>mortes</th>\n",
       "    </tr>\n",
       "  </thead>\n",
       "  <tbody>\n",
       "    <tr>\n",
       "      <th>um</th>\n",
       "      <td>2000</td>\n",
       "      <td>RS</td>\n",
       "      <td>1.5</td>\n",
       "      <td>NaN</td>\n",
       "    </tr>\n",
       "    <tr>\n",
       "      <th>dois</th>\n",
       "      <td>2001</td>\n",
       "      <td>RS</td>\n",
       "      <td>1.7</td>\n",
       "      <td>20.0</td>\n",
       "    </tr>\n",
       "    <tr>\n",
       "      <th>tres</th>\n",
       "      <td>2002</td>\n",
       "      <td>RS</td>\n",
       "      <td>3.6</td>\n",
       "      <td>NaN</td>\n",
       "    </tr>\n",
       "    <tr>\n",
       "      <th>quatro</th>\n",
       "      <td>2000</td>\n",
       "      <td>SP</td>\n",
       "      <td>2.4</td>\n",
       "      <td>567.0</td>\n",
       "    </tr>\n",
       "    <tr>\n",
       "      <th>cinco</th>\n",
       "      <td>2001</td>\n",
       "      <td>SP</td>\n",
       "      <td>2.6</td>\n",
       "      <td>300.0</td>\n",
       "    </tr>\n",
       "    <tr>\n",
       "      <th>seis</th>\n",
       "      <td>2002</td>\n",
       "      <td>SP</td>\n",
       "      <td>3.2</td>\n",
       "      <td>NaN</td>\n",
       "    </tr>\n",
       "  </tbody>\n",
       "</table>\n",
       "</div>"
      ],
      "text/plain": [
       "         ano estados  popul  mortes\n",
       "um      2000      RS    1.5     NaN\n",
       "dois    2001      RS    1.7    20.0\n",
       "tres    2002      RS    3.6     NaN\n",
       "quatro  2000      SP    2.4   567.0\n",
       "cinco   2001      SP    2.6   300.0\n",
       "seis    2002      SP    3.2     NaN"
      ]
     },
     "metadata": {},
     "output_type": "display_data"
    }
   ],
   "source": [
    "val = pd.Series([20, 567, 300], index=['dois', 'quatro', 'cinco'])\n",
    "\n",
    "df1['mortes'] = val\n",
    "display(df1)"
   ]
  },
  {
   "cell_type": "code",
   "execution_count": 24,
   "id": "08cc9e31",
   "metadata": {},
   "outputs": [
    {
     "data": {
      "text/html": [
       "<div>\n",
       "<style scoped>\n",
       "    .dataframe tbody tr th:only-of-type {\n",
       "        vertical-align: middle;\n",
       "    }\n",
       "\n",
       "    .dataframe tbody tr th {\n",
       "        vertical-align: top;\n",
       "    }\n",
       "\n",
       "    .dataframe thead th {\n",
       "        text-align: right;\n",
       "    }\n",
       "</style>\n",
       "<table border=\"1\" class=\"dataframe\">\n",
       "  <thead>\n",
       "    <tr style=\"text-align: right;\">\n",
       "      <th></th>\n",
       "      <th>ano</th>\n",
       "      <th>estados</th>\n",
       "      <th>popul</th>\n",
       "      <th>mortes</th>\n",
       "      <th>inverno</th>\n",
       "    </tr>\n",
       "  </thead>\n",
       "  <tbody>\n",
       "    <tr>\n",
       "      <th>um</th>\n",
       "      <td>2000</td>\n",
       "      <td>RS</td>\n",
       "      <td>1.5</td>\n",
       "      <td>NaN</td>\n",
       "      <td>True</td>\n",
       "    </tr>\n",
       "    <tr>\n",
       "      <th>dois</th>\n",
       "      <td>2001</td>\n",
       "      <td>RS</td>\n",
       "      <td>1.7</td>\n",
       "      <td>20.0</td>\n",
       "      <td>True</td>\n",
       "    </tr>\n",
       "    <tr>\n",
       "      <th>tres</th>\n",
       "      <td>2002</td>\n",
       "      <td>RS</td>\n",
       "      <td>3.6</td>\n",
       "      <td>NaN</td>\n",
       "      <td>True</td>\n",
       "    </tr>\n",
       "    <tr>\n",
       "      <th>quatro</th>\n",
       "      <td>2000</td>\n",
       "      <td>SP</td>\n",
       "      <td>2.4</td>\n",
       "      <td>567.0</td>\n",
       "      <td>False</td>\n",
       "    </tr>\n",
       "    <tr>\n",
       "      <th>cinco</th>\n",
       "      <td>2001</td>\n",
       "      <td>SP</td>\n",
       "      <td>2.6</td>\n",
       "      <td>300.0</td>\n",
       "      <td>False</td>\n",
       "    </tr>\n",
       "    <tr>\n",
       "      <th>seis</th>\n",
       "      <td>2002</td>\n",
       "      <td>SP</td>\n",
       "      <td>3.2</td>\n",
       "      <td>NaN</td>\n",
       "      <td>False</td>\n",
       "    </tr>\n",
       "  </tbody>\n",
       "</table>\n",
       "</div>"
      ],
      "text/plain": [
       "         ano estados  popul  mortes  inverno\n",
       "um      2000      RS    1.5     NaN     True\n",
       "dois    2001      RS    1.7    20.0     True\n",
       "tres    2002      RS    3.6     NaN     True\n",
       "quatro  2000      SP    2.4   567.0    False\n",
       "cinco   2001      SP    2.6   300.0    False\n",
       "seis    2002      SP    3.2     NaN    False"
      ]
     },
     "metadata": {},
     "output_type": "display_data"
    }
   ],
   "source": [
    "df1['inverno'] = df1.estados == \"RS\"\n",
    "display(df1)"
   ]
  },
  {
   "cell_type": "code",
   "execution_count": 25,
   "id": "2d878d6a",
   "metadata": {},
   "outputs": [
    {
     "data": {
      "text/html": [
       "<div>\n",
       "<style scoped>\n",
       "    .dataframe tbody tr th:only-of-type {\n",
       "        vertical-align: middle;\n",
       "    }\n",
       "\n",
       "    .dataframe tbody tr th {\n",
       "        vertical-align: top;\n",
       "    }\n",
       "\n",
       "    .dataframe thead th {\n",
       "        text-align: right;\n",
       "    }\n",
       "</style>\n",
       "<table border=\"1\" class=\"dataframe\">\n",
       "  <thead>\n",
       "    <tr style=\"text-align: right;\">\n",
       "      <th></th>\n",
       "      <th>ano</th>\n",
       "      <th>estados</th>\n",
       "      <th>popul</th>\n",
       "      <th>mortes</th>\n",
       "    </tr>\n",
       "  </thead>\n",
       "  <tbody>\n",
       "    <tr>\n",
       "      <th>um</th>\n",
       "      <td>2000</td>\n",
       "      <td>RS</td>\n",
       "      <td>1.5</td>\n",
       "      <td>NaN</td>\n",
       "    </tr>\n",
       "    <tr>\n",
       "      <th>dois</th>\n",
       "      <td>2001</td>\n",
       "      <td>RS</td>\n",
       "      <td>1.7</td>\n",
       "      <td>20.0</td>\n",
       "    </tr>\n",
       "    <tr>\n",
       "      <th>tres</th>\n",
       "      <td>2002</td>\n",
       "      <td>RS</td>\n",
       "      <td>3.6</td>\n",
       "      <td>NaN</td>\n",
       "    </tr>\n",
       "    <tr>\n",
       "      <th>quatro</th>\n",
       "      <td>2000</td>\n",
       "      <td>SP</td>\n",
       "      <td>2.4</td>\n",
       "      <td>567.0</td>\n",
       "    </tr>\n",
       "    <tr>\n",
       "      <th>cinco</th>\n",
       "      <td>2001</td>\n",
       "      <td>SP</td>\n",
       "      <td>2.6</td>\n",
       "      <td>300.0</td>\n",
       "    </tr>\n",
       "    <tr>\n",
       "      <th>seis</th>\n",
       "      <td>2002</td>\n",
       "      <td>SP</td>\n",
       "      <td>3.2</td>\n",
       "      <td>NaN</td>\n",
       "    </tr>\n",
       "  </tbody>\n",
       "</table>\n",
       "</div>"
      ],
      "text/plain": [
       "         ano estados  popul  mortes\n",
       "um      2000      RS    1.5     NaN\n",
       "dois    2001      RS    1.7    20.0\n",
       "tres    2002      RS    3.6     NaN\n",
       "quatro  2000      SP    2.4   567.0\n",
       "cinco   2001      SP    2.6   300.0\n",
       "seis    2002      SP    3.2     NaN"
      ]
     },
     "execution_count": 25,
     "metadata": {},
     "output_type": "execute_result"
    }
   ],
   "source": [
    "del df1['inverno']\n",
    "df1"
   ]
  },
  {
   "cell_type": "code",
   "execution_count": null,
   "id": "51721706",
   "metadata": {},
   "outputs": [],
   "source": []
  },
  {
   "cell_type": "markdown",
   "id": "cbc768d9",
   "metadata": {},
   "source": [
    "### Objetos Index"
   ]
  },
  {
   "cell_type": "code",
   "execution_count": 38,
   "id": "cfb097bd",
   "metadata": {},
   "outputs": [
    {
     "name": "stdout",
     "output_type": "stream",
     "text": [
      "a    0\n",
      "b    1\n",
      "c    2\n",
      "dtype: int64\n",
      "Index(['a', 'b', 'c'], dtype='object')\n",
      "Index(['a', 'b'], dtype='object')\n",
      "Int64Index([0, 1, 2], dtype='int64')\n",
      "0    0.173682\n",
      "1    0.566855\n",
      "2    1.778700\n",
      "dtype: float64\n"
     ]
    },
    {
     "data": {
      "text/plain": [
       "True"
      ]
     },
     "execution_count": 38,
     "metadata": {},
     "output_type": "execute_result"
    }
   ],
   "source": [
    "obj=pd.Series(range(3), index=['a','b','c'])\n",
    "print(obj)\n",
    "print(obj.index)\n",
    "print(obj.index[:2])\n",
    "\n",
    "labels=pd.Index(np.arange(3))\n",
    "print(labels)\n",
    "\n",
    "obj1=pd.Series(np.random.randn(3), index=labels)\n",
    "\n",
    "print(obj1)\n",
    "obj1.index is labels"
   ]
  },
  {
   "cell_type": "code",
   "execution_count": 42,
   "id": "6f9fc82d",
   "metadata": {},
   "outputs": [
    {
     "data": {
      "text/html": [
       "<div>\n",
       "<style scoped>\n",
       "    .dataframe tbody tr th:only-of-type {\n",
       "        vertical-align: middle;\n",
       "    }\n",
       "\n",
       "    .dataframe tbody tr th {\n",
       "        vertical-align: top;\n",
       "    }\n",
       "\n",
       "    .dataframe thead th {\n",
       "        text-align: right;\n",
       "    }\n",
       "</style>\n",
       "<table border=\"1\" class=\"dataframe\">\n",
       "  <thead>\n",
       "    <tr style=\"text-align: right;\">\n",
       "      <th></th>\n",
       "      <th>ano</th>\n",
       "      <th>estados</th>\n",
       "      <th>popul</th>\n",
       "      <th>mortes</th>\n",
       "    </tr>\n",
       "  </thead>\n",
       "  <tbody>\n",
       "    <tr>\n",
       "      <th>um</th>\n",
       "      <td>2000</td>\n",
       "      <td>RS</td>\n",
       "      <td>1.5</td>\n",
       "      <td>NaN</td>\n",
       "    </tr>\n",
       "    <tr>\n",
       "      <th>dois</th>\n",
       "      <td>2001</td>\n",
       "      <td>RS</td>\n",
       "      <td>1.7</td>\n",
       "      <td>20.0</td>\n",
       "    </tr>\n",
       "    <tr>\n",
       "      <th>tres</th>\n",
       "      <td>2002</td>\n",
       "      <td>RS</td>\n",
       "      <td>3.6</td>\n",
       "      <td>NaN</td>\n",
       "    </tr>\n",
       "    <tr>\n",
       "      <th>quatro</th>\n",
       "      <td>2000</td>\n",
       "      <td>SP</td>\n",
       "      <td>2.4</td>\n",
       "      <td>567.0</td>\n",
       "    </tr>\n",
       "    <tr>\n",
       "      <th>cinco</th>\n",
       "      <td>2001</td>\n",
       "      <td>SP</td>\n",
       "      <td>2.6</td>\n",
       "      <td>300.0</td>\n",
       "    </tr>\n",
       "    <tr>\n",
       "      <th>seis</th>\n",
       "      <td>2002</td>\n",
       "      <td>SP</td>\n",
       "      <td>3.2</td>\n",
       "      <td>NaN</td>\n",
       "    </tr>\n",
       "  </tbody>\n",
       "</table>\n",
       "</div>"
      ],
      "text/plain": [
       "         ano estados  popul  mortes\n",
       "um      2000      RS    1.5     NaN\n",
       "dois    2001      RS    1.7    20.0\n",
       "tres    2002      RS    3.6     NaN\n",
       "quatro  2000      SP    2.4   567.0\n",
       "cinco   2001      SP    2.6   300.0\n",
       "seis    2002      SP    3.2     NaN"
      ]
     },
     "metadata": {},
     "output_type": "display_data"
    },
    {
     "name": "stdout",
     "output_type": "stream",
     "text": [
      "Index(['ano', 'estados', 'popul', 'mortes'], dtype='object')\n",
      "Index(['um', 'dois', 'tres', 'quatro', 'cinco', 'seis'], dtype='object')\n"
     ]
    }
   ],
   "source": [
    "display(df1)\n",
    "print(df1.columns)\n",
    "print(df1.index)"
   ]
  },
  {
   "cell_type": "markdown",
   "id": "aca7a5ec",
   "metadata": {},
   "source": [
    "## Funcionalidades"
   ]
  },
  {
   "cell_type": "markdown",
   "id": "8630a77f",
   "metadata": {},
   "source": [
    "### Reindexação"
   ]
  },
  {
   "cell_type": "code",
   "execution_count": 45,
   "id": "1ecf09a2",
   "metadata": {},
   "outputs": [
    {
     "name": "stdout",
     "output_type": "stream",
     "text": [
      "d    5\n",
      "c    6\n",
      "a    7\n",
      "b    8\n",
      "e    9\n",
      "dtype: int64\n",
      "a    7\n",
      "b    8\n",
      "c    6\n",
      "d    5\n",
      "e    9\n",
      "dtype: int64\n"
     ]
    }
   ],
   "source": [
    "obj = pd.Series(range(5,10), index=['d', 'c', 'a', 'b', 'e'])\n",
    "\n",
    "print(obj)\n",
    "\n",
    "obj1=obj.reindex(sorted(obj.index))\n",
    "print(obj1)\n"
   ]
  },
  {
   "cell_type": "code",
   "execution_count": 48,
   "id": "f9bf3fa2",
   "metadata": {},
   "outputs": [
    {
     "name": "stdout",
     "output_type": "stream",
     "text": [
      "0    Amarelo\n",
      "2       Azul\n",
      "4      Verde\n",
      "dtype: object\n",
      "0    Amarelo\n",
      "1    Amarelo\n",
      "2       Azul\n",
      "3       Azul\n",
      "4      Verde\n",
      "5      Verde\n",
      "dtype: object\n"
     ]
    }
   ],
   "source": [
    "obj3=pd.Series(['Amarelo', 'Azul', 'Verde'], index=[0,2,4])\n",
    "print(obj3)\n",
    "print(obj3.reindex(range(6), method='ffill'))"
   ]
  },
  {
   "cell_type": "code",
   "execution_count": 55,
   "id": "333bf4e4",
   "metadata": {},
   "outputs": [
    {
     "name": "stdout",
     "output_type": "stream",
     "text": [
      "   RS  RJ  SP\n",
      "a   0   1   2\n",
      "c   3   4   5\n",
      "d   6   7   8\n"
     ]
    },
    {
     "data": {
      "text/html": [
       "<div>\n",
       "<style scoped>\n",
       "    .dataframe tbody tr th:only-of-type {\n",
       "        vertical-align: middle;\n",
       "    }\n",
       "\n",
       "    .dataframe tbody tr th {\n",
       "        vertical-align: top;\n",
       "    }\n",
       "\n",
       "    .dataframe thead th {\n",
       "        text-align: right;\n",
       "    }\n",
       "</style>\n",
       "<table border=\"1\" class=\"dataframe\">\n",
       "  <thead>\n",
       "    <tr style=\"text-align: right;\">\n",
       "      <th></th>\n",
       "      <th>RS</th>\n",
       "      <th>RJ</th>\n",
       "      <th>SP</th>\n",
       "    </tr>\n",
       "  </thead>\n",
       "  <tbody>\n",
       "    <tr>\n",
       "      <th>a</th>\n",
       "      <td>0.0</td>\n",
       "      <td>1.0</td>\n",
       "      <td>2.0</td>\n",
       "    </tr>\n",
       "    <tr>\n",
       "      <th>b</th>\n",
       "      <td>NaN</td>\n",
       "      <td>NaN</td>\n",
       "      <td>NaN</td>\n",
       "    </tr>\n",
       "    <tr>\n",
       "      <th>c</th>\n",
       "      <td>3.0</td>\n",
       "      <td>4.0</td>\n",
       "      <td>5.0</td>\n",
       "    </tr>\n",
       "    <tr>\n",
       "      <th>d</th>\n",
       "      <td>6.0</td>\n",
       "      <td>7.0</td>\n",
       "      <td>8.0</td>\n",
       "    </tr>\n",
       "  </tbody>\n",
       "</table>\n",
       "</div>"
      ],
      "text/plain": [
       "    RS   RJ   SP\n",
       "a  0.0  1.0  2.0\n",
       "b  NaN  NaN  NaN\n",
       "c  3.0  4.0  5.0\n",
       "d  6.0  7.0  8.0"
      ]
     },
     "metadata": {},
     "output_type": "display_data"
    },
    {
     "data": {
      "text/html": [
       "<div>\n",
       "<style scoped>\n",
       "    .dataframe tbody tr th:only-of-type {\n",
       "        vertical-align: middle;\n",
       "    }\n",
       "\n",
       "    .dataframe tbody tr th {\n",
       "        vertical-align: top;\n",
       "    }\n",
       "\n",
       "    .dataframe thead th {\n",
       "        text-align: right;\n",
       "    }\n",
       "</style>\n",
       "<table border=\"1\" class=\"dataframe\">\n",
       "  <thead>\n",
       "    <tr style=\"text-align: right;\">\n",
       "      <th></th>\n",
       "      <th>RS</th>\n",
       "      <th>RJ</th>\n",
       "      <th>SP</th>\n",
       "    </tr>\n",
       "  </thead>\n",
       "  <tbody>\n",
       "    <tr>\n",
       "      <th>a</th>\n",
       "      <td>0</td>\n",
       "      <td>1</td>\n",
       "      <td>2</td>\n",
       "    </tr>\n",
       "    <tr>\n",
       "      <th>b</th>\n",
       "      <td>0</td>\n",
       "      <td>1</td>\n",
       "      <td>2</td>\n",
       "    </tr>\n",
       "    <tr>\n",
       "      <th>c</th>\n",
       "      <td>3</td>\n",
       "      <td>4</td>\n",
       "      <td>5</td>\n",
       "    </tr>\n",
       "    <tr>\n",
       "      <th>d</th>\n",
       "      <td>6</td>\n",
       "      <td>7</td>\n",
       "      <td>8</td>\n",
       "    </tr>\n",
       "  </tbody>\n",
       "</table>\n",
       "</div>"
      ],
      "text/plain": [
       "   RS  RJ  SP\n",
       "a   0   1   2\n",
       "b   0   1   2\n",
       "c   3   4   5\n",
       "d   6   7   8"
      ]
     },
     "metadata": {},
     "output_type": "display_data"
    },
    {
     "data": {
      "text/html": [
       "<div>\n",
       "<style scoped>\n",
       "    .dataframe tbody tr th:only-of-type {\n",
       "        vertical-align: middle;\n",
       "    }\n",
       "\n",
       "    .dataframe tbody tr th {\n",
       "        vertical-align: top;\n",
       "    }\n",
       "\n",
       "    .dataframe thead th {\n",
       "        text-align: right;\n",
       "    }\n",
       "</style>\n",
       "<table border=\"1\" class=\"dataframe\">\n",
       "  <thead>\n",
       "    <tr style=\"text-align: right;\">\n",
       "      <th></th>\n",
       "      <th>SP</th>\n",
       "      <th>RJ</th>\n",
       "      <th>RS</th>\n",
       "    </tr>\n",
       "  </thead>\n",
       "  <tbody>\n",
       "    <tr>\n",
       "      <th>a</th>\n",
       "      <td>2</td>\n",
       "      <td>1</td>\n",
       "      <td>0</td>\n",
       "    </tr>\n",
       "    <tr>\n",
       "      <th>c</th>\n",
       "      <td>5</td>\n",
       "      <td>4</td>\n",
       "      <td>3</td>\n",
       "    </tr>\n",
       "    <tr>\n",
       "      <th>d</th>\n",
       "      <td>8</td>\n",
       "      <td>7</td>\n",
       "      <td>6</td>\n",
       "    </tr>\n",
       "  </tbody>\n",
       "</table>\n",
       "</div>"
      ],
      "text/plain": [
       "   SP  RJ  RS\n",
       "a   2   1   0\n",
       "c   5   4   3\n",
       "d   8   7   6"
      ]
     },
     "metadata": {},
     "output_type": "display_data"
    }
   ],
   "source": [
    "df2 = pd.DataFrame(np.arange(9).reshape((3,3)),\n",
    "                  index=['a','c','d'],\n",
    "                  columns=['RS','RJ', 'SP'])\n",
    "\n",
    "print(df2)\n",
    "display(df2.reindex(['a','b','c','d']))\n",
    "display(df2.reindex(['a','b','c','d'], method='ffill'))\n",
    "\n",
    "\n",
    "display(df2.reindex(columns=['SP','RJ','RS']))"
   ]
  },
  {
   "cell_type": "markdown",
   "id": "7ad3ddd3",
   "metadata": {},
   "source": [
    "### Descartando entradas de um eixo"
   ]
  },
  {
   "cell_type": "code",
   "execution_count": 65,
   "id": "6f0be007",
   "metadata": {},
   "outputs": [
    {
     "data": {
      "text/html": [
       "<div>\n",
       "<style scoped>\n",
       "    .dataframe tbody tr th:only-of-type {\n",
       "        vertical-align: middle;\n",
       "    }\n",
       "\n",
       "    .dataframe tbody tr th {\n",
       "        vertical-align: top;\n",
       "    }\n",
       "\n",
       "    .dataframe thead th {\n",
       "        text-align: right;\n",
       "    }\n",
       "</style>\n",
       "<table border=\"1\" class=\"dataframe\">\n",
       "  <thead>\n",
       "    <tr style=\"text-align: right;\">\n",
       "      <th></th>\n",
       "      <th>RS</th>\n",
       "      <th>RJ</th>\n",
       "      <th>SP</th>\n",
       "    </tr>\n",
       "  </thead>\n",
       "  <tbody>\n",
       "    <tr>\n",
       "      <th>a</th>\n",
       "      <td>0.0</td>\n",
       "      <td>1.0</td>\n",
       "      <td>2.0</td>\n",
       "    </tr>\n",
       "    <tr>\n",
       "      <th>b</th>\n",
       "      <td>NaN</td>\n",
       "      <td>NaN</td>\n",
       "      <td>NaN</td>\n",
       "    </tr>\n",
       "    <tr>\n",
       "      <th>c</th>\n",
       "      <td>3.0</td>\n",
       "      <td>4.0</td>\n",
       "      <td>5.0</td>\n",
       "    </tr>\n",
       "    <tr>\n",
       "      <th>d</th>\n",
       "      <td>6.0</td>\n",
       "      <td>7.0</td>\n",
       "      <td>8.0</td>\n",
       "    </tr>\n",
       "  </tbody>\n",
       "</table>\n",
       "</div>"
      ],
      "text/plain": [
       "    RS   RJ   SP\n",
       "a  0.0  1.0  2.0\n",
       "b  NaN  NaN  NaN\n",
       "c  3.0  4.0  5.0\n",
       "d  6.0  7.0  8.0"
      ]
     },
     "metadata": {},
     "output_type": "display_data"
    },
    {
     "data": {
      "text/html": [
       "<div>\n",
       "<style scoped>\n",
       "    .dataframe tbody tr th:only-of-type {\n",
       "        vertical-align: middle;\n",
       "    }\n",
       "\n",
       "    .dataframe tbody tr th {\n",
       "        vertical-align: top;\n",
       "    }\n",
       "\n",
       "    .dataframe thead th {\n",
       "        text-align: right;\n",
       "    }\n",
       "</style>\n",
       "<table border=\"1\" class=\"dataframe\">\n",
       "  <thead>\n",
       "    <tr style=\"text-align: right;\">\n",
       "      <th></th>\n",
       "      <th>RS</th>\n",
       "      <th>RJ</th>\n",
       "      <th>SP</th>\n",
       "    </tr>\n",
       "  </thead>\n",
       "  <tbody>\n",
       "    <tr>\n",
       "      <th>a</th>\n",
       "      <td>0.0</td>\n",
       "      <td>1.0</td>\n",
       "      <td>2.0</td>\n",
       "    </tr>\n",
       "    <tr>\n",
       "      <th>c</th>\n",
       "      <td>3.0</td>\n",
       "      <td>4.0</td>\n",
       "      <td>5.0</td>\n",
       "    </tr>\n",
       "    <tr>\n",
       "      <th>d</th>\n",
       "      <td>6.0</td>\n",
       "      <td>7.0</td>\n",
       "      <td>8.0</td>\n",
       "    </tr>\n",
       "  </tbody>\n",
       "</table>\n",
       "</div>"
      ],
      "text/plain": [
       "    RS   RJ   SP\n",
       "a  0.0  1.0  2.0\n",
       "c  3.0  4.0  5.0\n",
       "d  6.0  7.0  8.0"
      ]
     },
     "metadata": {},
     "output_type": "display_data"
    },
    {
     "data": {
      "text/html": [
       "<div>\n",
       "<style scoped>\n",
       "    .dataframe tbody tr th:only-of-type {\n",
       "        vertical-align: middle;\n",
       "    }\n",
       "\n",
       "    .dataframe tbody tr th {\n",
       "        vertical-align: top;\n",
       "    }\n",
       "\n",
       "    .dataframe thead th {\n",
       "        text-align: right;\n",
       "    }\n",
       "</style>\n",
       "<table border=\"1\" class=\"dataframe\">\n",
       "  <thead>\n",
       "    <tr style=\"text-align: right;\">\n",
       "      <th></th>\n",
       "      <th>RJ</th>\n",
       "      <th>SP</th>\n",
       "    </tr>\n",
       "  </thead>\n",
       "  <tbody>\n",
       "    <tr>\n",
       "      <th>a</th>\n",
       "      <td>1.0</td>\n",
       "      <td>2.0</td>\n",
       "    </tr>\n",
       "    <tr>\n",
       "      <th>b</th>\n",
       "      <td>NaN</td>\n",
       "      <td>NaN</td>\n",
       "    </tr>\n",
       "    <tr>\n",
       "      <th>c</th>\n",
       "      <td>4.0</td>\n",
       "      <td>5.0</td>\n",
       "    </tr>\n",
       "    <tr>\n",
       "      <th>d</th>\n",
       "      <td>7.0</td>\n",
       "      <td>8.0</td>\n",
       "    </tr>\n",
       "  </tbody>\n",
       "</table>\n",
       "</div>"
      ],
      "text/plain": [
       "    RJ   SP\n",
       "a  1.0  2.0\n",
       "b  NaN  NaN\n",
       "c  4.0  5.0\n",
       "d  7.0  8.0"
      ]
     },
     "metadata": {},
     "output_type": "display_data"
    },
    {
     "data": {
      "text/html": [
       "<div>\n",
       "<style scoped>\n",
       "    .dataframe tbody tr th:only-of-type {\n",
       "        vertical-align: middle;\n",
       "    }\n",
       "\n",
       "    .dataframe tbody tr th {\n",
       "        vertical-align: top;\n",
       "    }\n",
       "\n",
       "    .dataframe thead th {\n",
       "        text-align: right;\n",
       "    }\n",
       "</style>\n",
       "<table border=\"1\" class=\"dataframe\">\n",
       "  <thead>\n",
       "    <tr style=\"text-align: right;\">\n",
       "      <th></th>\n",
       "      <th>RS</th>\n",
       "      <th>RJ</th>\n",
       "      <th>SP</th>\n",
       "    </tr>\n",
       "  </thead>\n",
       "  <tbody>\n",
       "    <tr>\n",
       "      <th>c</th>\n",
       "      <td>3.0</td>\n",
       "      <td>4.0</td>\n",
       "      <td>5.0</td>\n",
       "    </tr>\n",
       "    <tr>\n",
       "      <th>d</th>\n",
       "      <td>6.0</td>\n",
       "      <td>7.0</td>\n",
       "      <td>8.0</td>\n",
       "    </tr>\n",
       "  </tbody>\n",
       "</table>\n",
       "</div>"
      ],
      "text/plain": [
       "    RS   RJ   SP\n",
       "c  3.0  4.0  5.0\n",
       "d  6.0  7.0  8.0"
      ]
     },
     "metadata": {},
     "output_type": "display_data"
    }
   ],
   "source": [
    "df3=df2.reindex(['a','b','c','d'])\n",
    "\n",
    "display(df3)\n",
    "new_df3=df3.drop('b')\n",
    "display(new_df3)\n",
    "\n",
    "new_df3=df3.drop('RS', axis='columns')\n",
    "display(new_df3)\n",
    "\n",
    "new_df3=df3.drop(['a','b'])\n",
    "display(new_df3)\n"
   ]
  },
  {
   "cell_type": "markdown",
   "id": "e4790683",
   "metadata": {},
   "source": [
    "### Indexação, Seleção e Fatiamento"
   ]
  },
  {
   "cell_type": "code",
   "execution_count": 72,
   "id": "8532400b",
   "metadata": {},
   "outputs": [
    {
     "name": "stdout",
     "output_type": "stream",
     "text": [
      "a    0\n",
      "b    1\n",
      "c    2\n",
      "d    3\n",
      "dtype: int64\n",
      "1\n",
      "1\n",
      "c    2\n",
      "d    3\n",
      "dtype: int64\n",
      "b    1\n",
      "a    0\n",
      "dtype: int64\n",
      "b    1\n",
      "a    0\n",
      "dtype: int64\n",
      "a    0\n",
      "b    1\n",
      "c    2\n",
      "dtype: int64\n",
      "b    1\n",
      "c    2\n",
      "d    3\n",
      "dtype: int64\n",
      "a     0\n",
      "b    20\n",
      "c    20\n",
      "d    20\n",
      "dtype: int64\n"
     ]
    }
   ],
   "source": [
    "obj = pd.Series(np.arange(4), index=['a','b','c','d'])\n",
    "print(obj)\n",
    "\n",
    "print(obj['b'])\n",
    "print(obj[1])\n",
    "\n",
    "print(obj[2:4])\n",
    "\n",
    "print(obj[['b','a']])\n",
    "\n",
    "print(obj[[1,0]])\n",
    "\n",
    "print(obj[obj<3])\n",
    "\n",
    "print(obj['b':'d'])\n",
    "\n",
    "obj['b':'d'] = 20\n",
    "print(obj)"
   ]
  },
  {
   "cell_type": "code",
   "execution_count": 86,
   "id": "f03dc6a0",
   "metadata": {},
   "outputs": [
    {
     "data": {
      "text/html": [
       "<div>\n",
       "<style scoped>\n",
       "    .dataframe tbody tr th:only-of-type {\n",
       "        vertical-align: middle;\n",
       "    }\n",
       "\n",
       "    .dataframe tbody tr th {\n",
       "        vertical-align: top;\n",
       "    }\n",
       "\n",
       "    .dataframe thead th {\n",
       "        text-align: right;\n",
       "    }\n",
       "</style>\n",
       "<table border=\"1\" class=\"dataframe\">\n",
       "  <thead>\n",
       "    <tr style=\"text-align: right;\">\n",
       "      <th></th>\n",
       "      <th>ano</th>\n",
       "      <th>estados</th>\n",
       "      <th>popul</th>\n",
       "      <th>mortes</th>\n",
       "    </tr>\n",
       "  </thead>\n",
       "  <tbody>\n",
       "    <tr>\n",
       "      <th>um</th>\n",
       "      <td>2000</td>\n",
       "      <td>RS</td>\n",
       "      <td>1.5</td>\n",
       "      <td>NaN</td>\n",
       "    </tr>\n",
       "    <tr>\n",
       "      <th>dois</th>\n",
       "      <td>2001</td>\n",
       "      <td>RS</td>\n",
       "      <td>1.7</td>\n",
       "      <td>20.0</td>\n",
       "    </tr>\n",
       "    <tr>\n",
       "      <th>tres</th>\n",
       "      <td>2002</td>\n",
       "      <td>RS</td>\n",
       "      <td>3.6</td>\n",
       "      <td>NaN</td>\n",
       "    </tr>\n",
       "    <tr>\n",
       "      <th>quatro</th>\n",
       "      <td>2000</td>\n",
       "      <td>SP</td>\n",
       "      <td>2.4</td>\n",
       "      <td>567.0</td>\n",
       "    </tr>\n",
       "    <tr>\n",
       "      <th>cinco</th>\n",
       "      <td>2001</td>\n",
       "      <td>SP</td>\n",
       "      <td>2.6</td>\n",
       "      <td>300.0</td>\n",
       "    </tr>\n",
       "    <tr>\n",
       "      <th>seis</th>\n",
       "      <td>2002</td>\n",
       "      <td>SP</td>\n",
       "      <td>3.2</td>\n",
       "      <td>NaN</td>\n",
       "    </tr>\n",
       "  </tbody>\n",
       "</table>\n",
       "</div>"
      ],
      "text/plain": [
       "         ano estados  popul  mortes\n",
       "um      2000      RS    1.5     NaN\n",
       "dois    2001      RS    1.7    20.0\n",
       "tres    2002      RS    3.6     NaN\n",
       "quatro  2000      SP    2.4   567.0\n",
       "cinco   2001      SP    2.6   300.0\n",
       "seis    2002      SP    3.2     NaN"
      ]
     },
     "metadata": {},
     "output_type": "display_data"
    },
    {
     "name": "stdout",
     "output_type": "stream",
     "text": [
      "um        2000\n",
      "dois      2001\n",
      "tres      2002\n",
      "quatro    2000\n",
      "cinco     2001\n",
      "seis      2002\n",
      "Name: ano, dtype: int64\n"
     ]
    },
    {
     "data": {
      "text/html": [
       "<div>\n",
       "<style scoped>\n",
       "    .dataframe tbody tr th:only-of-type {\n",
       "        vertical-align: middle;\n",
       "    }\n",
       "\n",
       "    .dataframe tbody tr th {\n",
       "        vertical-align: top;\n",
       "    }\n",
       "\n",
       "    .dataframe thead th {\n",
       "        text-align: right;\n",
       "    }\n",
       "</style>\n",
       "<table border=\"1\" class=\"dataframe\">\n",
       "  <thead>\n",
       "    <tr style=\"text-align: right;\">\n",
       "      <th></th>\n",
       "      <th>ano</th>\n",
       "      <th>mortes</th>\n",
       "    </tr>\n",
       "  </thead>\n",
       "  <tbody>\n",
       "    <tr>\n",
       "      <th>um</th>\n",
       "      <td>2000</td>\n",
       "      <td>NaN</td>\n",
       "    </tr>\n",
       "    <tr>\n",
       "      <th>dois</th>\n",
       "      <td>2001</td>\n",
       "      <td>20.0</td>\n",
       "    </tr>\n",
       "    <tr>\n",
       "      <th>tres</th>\n",
       "      <td>2002</td>\n",
       "      <td>NaN</td>\n",
       "    </tr>\n",
       "    <tr>\n",
       "      <th>quatro</th>\n",
       "      <td>2000</td>\n",
       "      <td>567.0</td>\n",
       "    </tr>\n",
       "    <tr>\n",
       "      <th>cinco</th>\n",
       "      <td>2001</td>\n",
       "      <td>300.0</td>\n",
       "    </tr>\n",
       "    <tr>\n",
       "      <th>seis</th>\n",
       "      <td>2002</td>\n",
       "      <td>NaN</td>\n",
       "    </tr>\n",
       "  </tbody>\n",
       "</table>\n",
       "</div>"
      ],
      "text/plain": [
       "         ano  mortes\n",
       "um      2000     NaN\n",
       "dois    2001    20.0\n",
       "tres    2002     NaN\n",
       "quatro  2000   567.0\n",
       "cinco   2001   300.0\n",
       "seis    2002     NaN"
      ]
     },
     "metadata": {},
     "output_type": "display_data"
    },
    {
     "data": {
      "text/html": [
       "<div>\n",
       "<style scoped>\n",
       "    .dataframe tbody tr th:only-of-type {\n",
       "        vertical-align: middle;\n",
       "    }\n",
       "\n",
       "    .dataframe tbody tr th {\n",
       "        vertical-align: top;\n",
       "    }\n",
       "\n",
       "    .dataframe thead th {\n",
       "        text-align: right;\n",
       "    }\n",
       "</style>\n",
       "<table border=\"1\" class=\"dataframe\">\n",
       "  <thead>\n",
       "    <tr style=\"text-align: right;\">\n",
       "      <th></th>\n",
       "      <th>ano</th>\n",
       "      <th>estados</th>\n",
       "      <th>popul</th>\n",
       "      <th>mortes</th>\n",
       "    </tr>\n",
       "  </thead>\n",
       "  <tbody>\n",
       "    <tr>\n",
       "      <th>um</th>\n",
       "      <td>2000</td>\n",
       "      <td>RS</td>\n",
       "      <td>1.5</td>\n",
       "      <td>NaN</td>\n",
       "    </tr>\n",
       "    <tr>\n",
       "      <th>dois</th>\n",
       "      <td>2001</td>\n",
       "      <td>RS</td>\n",
       "      <td>1.7</td>\n",
       "      <td>20.0</td>\n",
       "    </tr>\n",
       "  </tbody>\n",
       "</table>\n",
       "</div>"
      ],
      "text/plain": [
       "       ano estados  popul  mortes\n",
       "um    2000      RS    1.5     NaN\n",
       "dois  2001      RS    1.7    20.0"
      ]
     },
     "metadata": {},
     "output_type": "display_data"
    },
    {
     "data": {
      "text/html": [
       "<div>\n",
       "<style scoped>\n",
       "    .dataframe tbody tr th:only-of-type {\n",
       "        vertical-align: middle;\n",
       "    }\n",
       "\n",
       "    .dataframe tbody tr th {\n",
       "        vertical-align: top;\n",
       "    }\n",
       "\n",
       "    .dataframe thead th {\n",
       "        text-align: right;\n",
       "    }\n",
       "</style>\n",
       "<table border=\"1\" class=\"dataframe\">\n",
       "  <thead>\n",
       "    <tr style=\"text-align: right;\">\n",
       "      <th></th>\n",
       "      <th>ano</th>\n",
       "      <th>estados</th>\n",
       "      <th>popul</th>\n",
       "      <th>mortes</th>\n",
       "    </tr>\n",
       "  </thead>\n",
       "  <tbody>\n",
       "    <tr>\n",
       "      <th>um</th>\n",
       "      <td>2000</td>\n",
       "      <td>RS</td>\n",
       "      <td>1.5</td>\n",
       "      <td>NaN</td>\n",
       "    </tr>\n",
       "    <tr>\n",
       "      <th>dois</th>\n",
       "      <td>2001</td>\n",
       "      <td>RS</td>\n",
       "      <td>1.7</td>\n",
       "      <td>20.0</td>\n",
       "    </tr>\n",
       "    <tr>\n",
       "      <th>quatro</th>\n",
       "      <td>2000</td>\n",
       "      <td>SP</td>\n",
       "      <td>2.4</td>\n",
       "      <td>567.0</td>\n",
       "    </tr>\n",
       "    <tr>\n",
       "      <th>cinco</th>\n",
       "      <td>2001</td>\n",
       "      <td>SP</td>\n",
       "      <td>2.6</td>\n",
       "      <td>300.0</td>\n",
       "    </tr>\n",
       "  </tbody>\n",
       "</table>\n",
       "</div>"
      ],
      "text/plain": [
       "         ano estados  popul  mortes\n",
       "um      2000      RS    1.5     NaN\n",
       "dois    2001      RS    1.7    20.0\n",
       "quatro  2000      SP    2.4   567.0\n",
       "cinco   2001      SP    2.6   300.0"
      ]
     },
     "metadata": {},
     "output_type": "display_data"
    },
    {
     "data": {
      "text/plain": [
       "um         True\n",
       "dois       True\n",
       "tres      False\n",
       "quatro     True\n",
       "cinco      True\n",
       "seis      False\n",
       "Name: popul, dtype: bool"
      ]
     },
     "metadata": {},
     "output_type": "display_data"
    }
   ],
   "source": [
    "display(df1)\n",
    "\n",
    "print(df1['ano'])\n",
    "\n",
    "display(df1[['ano','mortes']])\n",
    "\n",
    "display(df1[:2])\n",
    "\n",
    "display(df1[df1['popul'] < 3])\n",
    "\n",
    "display(df1.popul < 3)"
   ]
  },
  {
   "cell_type": "markdown",
   "id": "6cdfd74b",
   "metadata": {},
   "source": [
    "### Índices Inteiros"
   ]
  },
  {
   "cell_type": "code",
   "execution_count": null,
   "id": "106f8ff0",
   "metadata": {},
   "outputs": [],
   "source": []
  },
  {
   "cell_type": "markdown",
   "id": "476f81a1",
   "metadata": {},
   "source": [
    "### Iteração"
   ]
  },
  {
   "cell_type": "code",
   "execution_count": 92,
   "id": "9ca43958",
   "metadata": {},
   "outputs": [
    {
     "data": {
      "text/html": [
       "<div>\n",
       "<style scoped>\n",
       "    .dataframe tbody tr th:only-of-type {\n",
       "        vertical-align: middle;\n",
       "    }\n",
       "\n",
       "    .dataframe tbody tr th {\n",
       "        vertical-align: top;\n",
       "    }\n",
       "\n",
       "    .dataframe thead th {\n",
       "        text-align: right;\n",
       "    }\n",
       "</style>\n",
       "<table border=\"1\" class=\"dataframe\">\n",
       "  <thead>\n",
       "    <tr style=\"text-align: right;\">\n",
       "      <th></th>\n",
       "      <th>ano</th>\n",
       "      <th>estados</th>\n",
       "      <th>popul</th>\n",
       "      <th>mortes</th>\n",
       "    </tr>\n",
       "  </thead>\n",
       "  <tbody>\n",
       "    <tr>\n",
       "      <th>um</th>\n",
       "      <td>2000</td>\n",
       "      <td>RS</td>\n",
       "      <td>1.5</td>\n",
       "      <td>NaN</td>\n",
       "    </tr>\n",
       "    <tr>\n",
       "      <th>dois</th>\n",
       "      <td>2001</td>\n",
       "      <td>RS</td>\n",
       "      <td>1.7</td>\n",
       "      <td>20.0</td>\n",
       "    </tr>\n",
       "    <tr>\n",
       "      <th>tres</th>\n",
       "      <td>2002</td>\n",
       "      <td>RS</td>\n",
       "      <td>3.6</td>\n",
       "      <td>NaN</td>\n",
       "    </tr>\n",
       "    <tr>\n",
       "      <th>quatro</th>\n",
       "      <td>2000</td>\n",
       "      <td>SP</td>\n",
       "      <td>2.4</td>\n",
       "      <td>567.0</td>\n",
       "    </tr>\n",
       "    <tr>\n",
       "      <th>cinco</th>\n",
       "      <td>2001</td>\n",
       "      <td>SP</td>\n",
       "      <td>2.6</td>\n",
       "      <td>300.0</td>\n",
       "    </tr>\n",
       "    <tr>\n",
       "      <th>seis</th>\n",
       "      <td>2002</td>\n",
       "      <td>SP</td>\n",
       "      <td>3.2</td>\n",
       "      <td>NaN</td>\n",
       "    </tr>\n",
       "  </tbody>\n",
       "</table>\n",
       "</div>"
      ],
      "text/plain": [
       "         ano estados  popul  mortes\n",
       "um      2000      RS    1.5     NaN\n",
       "dois    2001      RS    1.7    20.0\n",
       "tres    2002      RS    3.6     NaN\n",
       "quatro  2000      SP    2.4   567.0\n",
       "cinco   2001      SP    2.6   300.0\n",
       "seis    2002      SP    3.2     NaN"
      ]
     },
     "metadata": {},
     "output_type": "display_data"
    },
    {
     "name": "stdout",
     "output_type": "stream",
     "text": [
      "um\n",
      "<class 'pandas.core.series.Series'>\n",
      "ano        2000\n",
      "estados      RS\n",
      "popul       1.5\n",
      "mortes      NaN\n",
      "Name: um, dtype: object\n",
      "dois\n",
      "<class 'pandas.core.series.Series'>\n",
      "ano        2001\n",
      "estados      RS\n",
      "popul       1.7\n",
      "mortes     20.0\n",
      "Name: dois, dtype: object\n",
      "tres\n",
      "<class 'pandas.core.series.Series'>\n",
      "ano        2002\n",
      "estados      RS\n",
      "popul       3.6\n",
      "mortes      NaN\n",
      "Name: tres, dtype: object\n",
      "quatro\n",
      "<class 'pandas.core.series.Series'>\n",
      "ano         2000\n",
      "estados       SP\n",
      "popul        2.4\n",
      "mortes     567.0\n",
      "Name: quatro, dtype: object\n",
      "cinco\n",
      "<class 'pandas.core.series.Series'>\n",
      "ano         2001\n",
      "estados       SP\n",
      "popul        2.6\n",
      "mortes     300.0\n",
      "Name: cinco, dtype: object\n",
      "seis\n",
      "<class 'pandas.core.series.Series'>\n",
      "ano        2002\n",
      "estados      SP\n",
      "popul       3.2\n",
      "mortes      NaN\n",
      "Name: seis, dtype: object\n"
     ]
    }
   ],
   "source": [
    "display(df1)\n",
    "\n",
    "for idx, linha in df1.iterrows():\n",
    "    print(idx)\n",
    "    print(type(linha))    \n",
    "    print(linha)"
   ]
  },
  {
   "cell_type": "code",
   "execution_count": 93,
   "id": "8a3437df",
   "metadata": {},
   "outputs": [
    {
     "name": "stdout",
     "output_type": "stream",
     "text": [
      "ano\n",
      "<class 'pandas.core.series.Series'>\n",
      "um        2000\n",
      "dois      2001\n",
      "tres      2002\n",
      "quatro    2000\n",
      "cinco     2001\n",
      "seis      2002\n",
      "Name: ano, dtype: int64\n",
      "estados\n",
      "<class 'pandas.core.series.Series'>\n",
      "um        RS\n",
      "dois      RS\n",
      "tres      RS\n",
      "quatro    SP\n",
      "cinco     SP\n",
      "seis      SP\n",
      "Name: estados, dtype: object\n",
      "popul\n",
      "<class 'pandas.core.series.Series'>\n",
      "um        1.5\n",
      "dois      1.7\n",
      "tres      3.6\n",
      "quatro    2.4\n",
      "cinco     2.6\n",
      "seis      3.2\n",
      "Name: popul, dtype: float64\n",
      "mortes\n",
      "<class 'pandas.core.series.Series'>\n",
      "um          NaN\n",
      "dois       20.0\n",
      "tres        NaN\n",
      "quatro    567.0\n",
      "cinco     300.0\n",
      "seis        NaN\n",
      "Name: mortes, dtype: float64\n"
     ]
    }
   ],
   "source": [
    "for col, ser in df1.items():\n",
    "    print(col)\n",
    "    print(type(ser))    \n",
    "    print(ser)"
   ]
  },
  {
   "cell_type": "markdown",
   "id": "977346c5",
   "metadata": {},
   "source": [
    "### Aritmética e alinhamento de dados"
   ]
  },
  {
   "cell_type": "code",
   "execution_count": 95,
   "id": "ed91c84d",
   "metadata": {},
   "outputs": [
    {
     "name": "stdout",
     "output_type": "stream",
     "text": [
      "a   -1.148658\n",
      "b   -1.280267\n",
      "c   -1.483432\n",
      "d   -0.770908\n",
      "dtype: float64\n",
      "a   -1.572050\n",
      "e   -0.128872\n",
      "f    0.826799\n",
      "d    0.106972\n",
      "b    0.755843\n",
      "dtype: float64\n",
      "a   -2.720708\n",
      "b   -0.524425\n",
      "c         NaN\n",
      "d   -0.663936\n",
      "e         NaN\n",
      "f         NaN\n",
      "dtype: float64\n"
     ]
    }
   ],
   "source": [
    "s1 = pd.Series(np.random.randn(4), index=list('abcd'))\n",
    "s2 = pd.Series(np.random.randn(5), index=list('aefdb'))\n",
    "\n",
    "print(s1)\n",
    "print(s2)\n",
    "print(s1+s2)"
   ]
  },
  {
   "cell_type": "code",
   "execution_count": 98,
   "id": "0c716289",
   "metadata": {},
   "outputs": [
    {
     "data": {
      "text/html": [
       "<div>\n",
       "<style scoped>\n",
       "    .dataframe tbody tr th:only-of-type {\n",
       "        vertical-align: middle;\n",
       "    }\n",
       "\n",
       "    .dataframe tbody tr th {\n",
       "        vertical-align: top;\n",
       "    }\n",
       "\n",
       "    .dataframe thead th {\n",
       "        text-align: right;\n",
       "    }\n",
       "</style>\n",
       "<table border=\"1\" class=\"dataframe\">\n",
       "  <thead>\n",
       "    <tr style=\"text-align: right;\">\n",
       "      <th></th>\n",
       "      <th>b</th>\n",
       "      <th>c</th>\n",
       "      <th>d</th>\n",
       "    </tr>\n",
       "  </thead>\n",
       "  <tbody>\n",
       "    <tr>\n",
       "      <th>RS</th>\n",
       "      <td>0</td>\n",
       "      <td>1</td>\n",
       "      <td>2</td>\n",
       "    </tr>\n",
       "    <tr>\n",
       "      <th>SP</th>\n",
       "      <td>3</td>\n",
       "      <td>4</td>\n",
       "      <td>5</td>\n",
       "    </tr>\n",
       "    <tr>\n",
       "      <th>RJ</th>\n",
       "      <td>6</td>\n",
       "      <td>7</td>\n",
       "      <td>8</td>\n",
       "    </tr>\n",
       "  </tbody>\n",
       "</table>\n",
       "</div>"
      ],
      "text/plain": [
       "    b  c  d\n",
       "RS  0  1  2\n",
       "SP  3  4  5\n",
       "RJ  6  7  8"
      ]
     },
     "metadata": {},
     "output_type": "display_data"
    },
    {
     "data": {
      "text/html": [
       "<div>\n",
       "<style scoped>\n",
       "    .dataframe tbody tr th:only-of-type {\n",
       "        vertical-align: middle;\n",
       "    }\n",
       "\n",
       "    .dataframe tbody tr th {\n",
       "        vertical-align: top;\n",
       "    }\n",
       "\n",
       "    .dataframe thead th {\n",
       "        text-align: right;\n",
       "    }\n",
       "</style>\n",
       "<table border=\"1\" class=\"dataframe\">\n",
       "  <thead>\n",
       "    <tr style=\"text-align: right;\">\n",
       "      <th></th>\n",
       "      <th>b</th>\n",
       "      <th>d</th>\n",
       "      <th>e</th>\n",
       "    </tr>\n",
       "  </thead>\n",
       "  <tbody>\n",
       "    <tr>\n",
       "      <th>PR</th>\n",
       "      <td>0</td>\n",
       "      <td>1</td>\n",
       "      <td>2</td>\n",
       "    </tr>\n",
       "    <tr>\n",
       "      <th>RS</th>\n",
       "      <td>3</td>\n",
       "      <td>4</td>\n",
       "      <td>5</td>\n",
       "    </tr>\n",
       "    <tr>\n",
       "      <th>SP</th>\n",
       "      <td>6</td>\n",
       "      <td>7</td>\n",
       "      <td>8</td>\n",
       "    </tr>\n",
       "    <tr>\n",
       "      <th>RJ</th>\n",
       "      <td>9</td>\n",
       "      <td>10</td>\n",
       "      <td>11</td>\n",
       "    </tr>\n",
       "  </tbody>\n",
       "</table>\n",
       "</div>"
      ],
      "text/plain": [
       "    b   d   e\n",
       "PR  0   1   2\n",
       "RS  3   4   5\n",
       "SP  6   7   8\n",
       "RJ  9  10  11"
      ]
     },
     "metadata": {},
     "output_type": "display_data"
    },
    {
     "data": {
      "text/html": [
       "<div>\n",
       "<style scoped>\n",
       "    .dataframe tbody tr th:only-of-type {\n",
       "        vertical-align: middle;\n",
       "    }\n",
       "\n",
       "    .dataframe tbody tr th {\n",
       "        vertical-align: top;\n",
       "    }\n",
       "\n",
       "    .dataframe thead th {\n",
       "        text-align: right;\n",
       "    }\n",
       "</style>\n",
       "<table border=\"1\" class=\"dataframe\">\n",
       "  <thead>\n",
       "    <tr style=\"text-align: right;\">\n",
       "      <th></th>\n",
       "      <th>b</th>\n",
       "      <th>c</th>\n",
       "      <th>d</th>\n",
       "      <th>e</th>\n",
       "    </tr>\n",
       "  </thead>\n",
       "  <tbody>\n",
       "    <tr>\n",
       "      <th>PR</th>\n",
       "      <td>NaN</td>\n",
       "      <td>NaN</td>\n",
       "      <td>NaN</td>\n",
       "      <td>NaN</td>\n",
       "    </tr>\n",
       "    <tr>\n",
       "      <th>RJ</th>\n",
       "      <td>15.0</td>\n",
       "      <td>NaN</td>\n",
       "      <td>18.0</td>\n",
       "      <td>NaN</td>\n",
       "    </tr>\n",
       "    <tr>\n",
       "      <th>RS</th>\n",
       "      <td>3.0</td>\n",
       "      <td>NaN</td>\n",
       "      <td>6.0</td>\n",
       "      <td>NaN</td>\n",
       "    </tr>\n",
       "    <tr>\n",
       "      <th>SP</th>\n",
       "      <td>9.0</td>\n",
       "      <td>NaN</td>\n",
       "      <td>12.0</td>\n",
       "      <td>NaN</td>\n",
       "    </tr>\n",
       "  </tbody>\n",
       "</table>\n",
       "</div>"
      ],
      "text/plain": [
       "       b   c     d   e\n",
       "PR   NaN NaN   NaN NaN\n",
       "RJ  15.0 NaN  18.0 NaN\n",
       "RS   3.0 NaN   6.0 NaN\n",
       "SP   9.0 NaN  12.0 NaN"
      ]
     },
     "metadata": {},
     "output_type": "display_data"
    },
    {
     "data": {
      "text/html": [
       "<div>\n",
       "<style scoped>\n",
       "    .dataframe tbody tr th:only-of-type {\n",
       "        vertical-align: middle;\n",
       "    }\n",
       "\n",
       "    .dataframe tbody tr th {\n",
       "        vertical-align: top;\n",
       "    }\n",
       "\n",
       "    .dataframe thead th {\n",
       "        text-align: right;\n",
       "    }\n",
       "</style>\n",
       "<table border=\"1\" class=\"dataframe\">\n",
       "  <thead>\n",
       "    <tr style=\"text-align: right;\">\n",
       "      <th></th>\n",
       "      <th>b</th>\n",
       "      <th>c</th>\n",
       "      <th>d</th>\n",
       "      <th>e</th>\n",
       "    </tr>\n",
       "  </thead>\n",
       "  <tbody>\n",
       "    <tr>\n",
       "      <th>PR</th>\n",
       "      <td>0.0</td>\n",
       "      <td>NaN</td>\n",
       "      <td>1.0</td>\n",
       "      <td>2.0</td>\n",
       "    </tr>\n",
       "    <tr>\n",
       "      <th>RJ</th>\n",
       "      <td>15.0</td>\n",
       "      <td>7.0</td>\n",
       "      <td>18.0</td>\n",
       "      <td>11.0</td>\n",
       "    </tr>\n",
       "    <tr>\n",
       "      <th>RS</th>\n",
       "      <td>3.0</td>\n",
       "      <td>1.0</td>\n",
       "      <td>6.0</td>\n",
       "      <td>5.0</td>\n",
       "    </tr>\n",
       "    <tr>\n",
       "      <th>SP</th>\n",
       "      <td>9.0</td>\n",
       "      <td>4.0</td>\n",
       "      <td>12.0</td>\n",
       "      <td>8.0</td>\n",
       "    </tr>\n",
       "  </tbody>\n",
       "</table>\n",
       "</div>"
      ],
      "text/plain": [
       "       b    c     d     e\n",
       "PR   0.0  NaN   1.0   2.0\n",
       "RJ  15.0  7.0  18.0  11.0\n",
       "RS   3.0  1.0   6.0   5.0\n",
       "SP   9.0  4.0  12.0   8.0"
      ]
     },
     "metadata": {},
     "output_type": "display_data"
    }
   ],
   "source": [
    "df1 = pd.DataFrame(np.arange(9).reshape((3,3)), columns=list('bcd'),\n",
    "                  index=['RS', \"SP\", \"RJ\"])\n",
    "df2 = pd.DataFrame(np.arange(12).reshape((4,3)), columns=list('bde'),\n",
    "                  index=['PR', 'RS', \"SP\", \"RJ\"])\n",
    "\n",
    "display(df1)\n",
    "display(df2)\n",
    "\n",
    "display(df1+df2)\n",
    "\n"
   ]
  },
  {
   "cell_type": "markdown",
   "id": "579e6d70",
   "metadata": {},
   "source": [
    "### Métodos aritméticos com valores para preenchimento"
   ]
  },
  {
   "cell_type": "code",
   "execution_count": 99,
   "id": "e9ed3bfb",
   "metadata": {},
   "outputs": [
    {
     "data": {
      "text/html": [
       "<div>\n",
       "<style scoped>\n",
       "    .dataframe tbody tr th:only-of-type {\n",
       "        vertical-align: middle;\n",
       "    }\n",
       "\n",
       "    .dataframe tbody tr th {\n",
       "        vertical-align: top;\n",
       "    }\n",
       "\n",
       "    .dataframe thead th {\n",
       "        text-align: right;\n",
       "    }\n",
       "</style>\n",
       "<table border=\"1\" class=\"dataframe\">\n",
       "  <thead>\n",
       "    <tr style=\"text-align: right;\">\n",
       "      <th></th>\n",
       "      <th>b</th>\n",
       "      <th>c</th>\n",
       "      <th>d</th>\n",
       "      <th>e</th>\n",
       "    </tr>\n",
       "  </thead>\n",
       "  <tbody>\n",
       "    <tr>\n",
       "      <th>PR</th>\n",
       "      <td>0.0</td>\n",
       "      <td>NaN</td>\n",
       "      <td>1.0</td>\n",
       "      <td>2.0</td>\n",
       "    </tr>\n",
       "    <tr>\n",
       "      <th>RJ</th>\n",
       "      <td>15.0</td>\n",
       "      <td>7.0</td>\n",
       "      <td>18.0</td>\n",
       "      <td>11.0</td>\n",
       "    </tr>\n",
       "    <tr>\n",
       "      <th>RS</th>\n",
       "      <td>3.0</td>\n",
       "      <td>1.0</td>\n",
       "      <td>6.0</td>\n",
       "      <td>5.0</td>\n",
       "    </tr>\n",
       "    <tr>\n",
       "      <th>SP</th>\n",
       "      <td>9.0</td>\n",
       "      <td>4.0</td>\n",
       "      <td>12.0</td>\n",
       "      <td>8.0</td>\n",
       "    </tr>\n",
       "  </tbody>\n",
       "</table>\n",
       "</div>"
      ],
      "text/plain": [
       "       b    c     d     e\n",
       "PR   0.0  NaN   1.0   2.0\n",
       "RJ  15.0  7.0  18.0  11.0\n",
       "RS   3.0  1.0   6.0   5.0\n",
       "SP   9.0  4.0  12.0   8.0"
      ]
     },
     "metadata": {},
     "output_type": "display_data"
    }
   ],
   "source": [
    "display(df1.add(df2, fill_value=0))"
   ]
  },
  {
   "cell_type": "markdown",
   "id": "295ddee0",
   "metadata": {},
   "source": [
    "### Operações entre DataFrame e Series"
   ]
  },
  {
   "cell_type": "code",
   "execution_count": 106,
   "id": "ea05481c",
   "metadata": {},
   "outputs": [
    {
     "data": {
      "text/html": [
       "<div>\n",
       "<style scoped>\n",
       "    .dataframe tbody tr th:only-of-type {\n",
       "        vertical-align: middle;\n",
       "    }\n",
       "\n",
       "    .dataframe tbody tr th {\n",
       "        vertical-align: top;\n",
       "    }\n",
       "\n",
       "    .dataframe thead th {\n",
       "        text-align: right;\n",
       "    }\n",
       "</style>\n",
       "<table border=\"1\" class=\"dataframe\">\n",
       "  <thead>\n",
       "    <tr style=\"text-align: right;\">\n",
       "      <th></th>\n",
       "      <th>b</th>\n",
       "      <th>c</th>\n",
       "      <th>d</th>\n",
       "      <th>e</th>\n",
       "    </tr>\n",
       "  </thead>\n",
       "  <tbody>\n",
       "    <tr>\n",
       "      <th>PR</th>\n",
       "      <td>0.0</td>\n",
       "      <td>NaN</td>\n",
       "      <td>1.0</td>\n",
       "      <td>2.0</td>\n",
       "    </tr>\n",
       "    <tr>\n",
       "      <th>RJ</th>\n",
       "      <td>15.0</td>\n",
       "      <td>7.0</td>\n",
       "      <td>18.0</td>\n",
       "      <td>11.0</td>\n",
       "    </tr>\n",
       "    <tr>\n",
       "      <th>RS</th>\n",
       "      <td>3.0</td>\n",
       "      <td>1.0</td>\n",
       "      <td>6.0</td>\n",
       "      <td>5.0</td>\n",
       "    </tr>\n",
       "    <tr>\n",
       "      <th>SP</th>\n",
       "      <td>9.0</td>\n",
       "      <td>4.0</td>\n",
       "      <td>12.0</td>\n",
       "      <td>8.0</td>\n",
       "    </tr>\n",
       "  </tbody>\n",
       "</table>\n",
       "</div>"
      ],
      "text/plain": [
       "       b    c     d     e\n",
       "PR   0.0  NaN   1.0   2.0\n",
       "RJ  15.0  7.0  18.0  11.0\n",
       "RS   3.0  1.0   6.0   5.0\n",
       "SP   9.0  4.0  12.0   8.0"
      ]
     },
     "metadata": {},
     "output_type": "display_data"
    },
    {
     "name": "stdout",
     "output_type": "stream",
     "text": [
      "b    3.0\n",
      "c    1.0\n",
      "d    6.0\n",
      "e    5.0\n",
      "Name: RS, dtype: float64\n",
      "       b    c     d     e\n",
      "PR   3.0  NaN   7.0   7.0\n",
      "RJ  18.0  8.0  24.0  16.0\n",
      "RS   6.0  2.0  12.0  10.0\n",
      "SP  12.0  5.0  18.0  13.0\n"
     ]
    }
   ],
   "source": [
    "df10 = df1.add(df2, fill_value=0)\n",
    "display(df10)\n",
    "\n",
    "s10 = df10.iloc[2]\n",
    "print(s10)\n",
    "\n",
    "print(df10+s10)"
   ]
  },
  {
   "cell_type": "markdown",
   "id": "16217751",
   "metadata": {},
   "source": [
    "### Aplicação de funções e mapeamento"
   ]
  },
  {
   "cell_type": "code",
   "execution_count": 109,
   "id": "c8db1732",
   "metadata": {},
   "outputs": [
    {
     "data": {
      "text/html": [
       "<div>\n",
       "<style scoped>\n",
       "    .dataframe tbody tr th:only-of-type {\n",
       "        vertical-align: middle;\n",
       "    }\n",
       "\n",
       "    .dataframe tbody tr th {\n",
       "        vertical-align: top;\n",
       "    }\n",
       "\n",
       "    .dataframe thead th {\n",
       "        text-align: right;\n",
       "    }\n",
       "</style>\n",
       "<table border=\"1\" class=\"dataframe\">\n",
       "  <thead>\n",
       "    <tr style=\"text-align: right;\">\n",
       "      <th></th>\n",
       "      <th>b</th>\n",
       "      <th>d</th>\n",
       "      <th>e</th>\n",
       "    </tr>\n",
       "  </thead>\n",
       "  <tbody>\n",
       "    <tr>\n",
       "      <th>RS</th>\n",
       "      <td>-1.490712</td>\n",
       "      <td>0.020717</td>\n",
       "      <td>0.583004</td>\n",
       "    </tr>\n",
       "    <tr>\n",
       "      <th>SP</th>\n",
       "      <td>0.107376</td>\n",
       "      <td>-0.076047</td>\n",
       "      <td>0.479054</td>\n",
       "    </tr>\n",
       "    <tr>\n",
       "      <th>RJ</th>\n",
       "      <td>-0.948971</td>\n",
       "      <td>0.419479</td>\n",
       "      <td>0.018982</td>\n",
       "    </tr>\n",
       "    <tr>\n",
       "      <th>SC</th>\n",
       "      <td>-0.593160</td>\n",
       "      <td>0.631921</td>\n",
       "      <td>0.225851</td>\n",
       "    </tr>\n",
       "  </tbody>\n",
       "</table>\n",
       "</div>"
      ],
      "text/plain": [
       "           b         d         e\n",
       "RS -1.490712  0.020717  0.583004\n",
       "SP  0.107376 -0.076047  0.479054\n",
       "RJ -0.948971  0.419479  0.018982\n",
       "SC -0.593160  0.631921  0.225851"
      ]
     },
     "metadata": {},
     "output_type": "display_data"
    },
    {
     "data": {
      "text/html": [
       "<div>\n",
       "<style scoped>\n",
       "    .dataframe tbody tr th:only-of-type {\n",
       "        vertical-align: middle;\n",
       "    }\n",
       "\n",
       "    .dataframe tbody tr th {\n",
       "        vertical-align: top;\n",
       "    }\n",
       "\n",
       "    .dataframe thead th {\n",
       "        text-align: right;\n",
       "    }\n",
       "</style>\n",
       "<table border=\"1\" class=\"dataframe\">\n",
       "  <thead>\n",
       "    <tr style=\"text-align: right;\">\n",
       "      <th></th>\n",
       "      <th>b</th>\n",
       "      <th>d</th>\n",
       "      <th>e</th>\n",
       "    </tr>\n",
       "  </thead>\n",
       "  <tbody>\n",
       "    <tr>\n",
       "      <th>RS</th>\n",
       "      <td>1.490712</td>\n",
       "      <td>0.020717</td>\n",
       "      <td>0.583004</td>\n",
       "    </tr>\n",
       "    <tr>\n",
       "      <th>SP</th>\n",
       "      <td>0.107376</td>\n",
       "      <td>0.076047</td>\n",
       "      <td>0.479054</td>\n",
       "    </tr>\n",
       "    <tr>\n",
       "      <th>RJ</th>\n",
       "      <td>0.948971</td>\n",
       "      <td>0.419479</td>\n",
       "      <td>0.018982</td>\n",
       "    </tr>\n",
       "    <tr>\n",
       "      <th>SC</th>\n",
       "      <td>0.593160</td>\n",
       "      <td>0.631921</td>\n",
       "      <td>0.225851</td>\n",
       "    </tr>\n",
       "  </tbody>\n",
       "</table>\n",
       "</div>"
      ],
      "text/plain": [
       "           b         d         e\n",
       "RS  1.490712  0.020717  0.583004\n",
       "SP  0.107376  0.076047  0.479054\n",
       "RJ  0.948971  0.419479  0.018982\n",
       "SC  0.593160  0.631921  0.225851"
      ]
     },
     "execution_count": 109,
     "metadata": {},
     "output_type": "execute_result"
    }
   ],
   "source": [
    "dfN = pd.DataFrame(np.random.randn(4,3), columns=list('bde'),\n",
    "                  index=['RS', 'SP', \"RJ\", \"SC\"])\n",
    "\n",
    "display(dfN)\n",
    "\n",
    "np.abs(dfN)"
   ]
  },
  {
   "cell_type": "code",
   "execution_count": 111,
   "id": "020aee37",
   "metadata": {},
   "outputs": [
    {
     "data": {
      "text/plain": [
       "b    1.598088\n",
       "d    0.707969\n",
       "e    0.564022\n",
       "dtype: float64"
      ]
     },
     "execution_count": 111,
     "metadata": {},
     "output_type": "execute_result"
    }
   ],
   "source": [
    "f = lambda x: x.max() - x.min()\n",
    "dfN.apply(f)"
   ]
  },
  {
   "cell_type": "code",
   "execution_count": 112,
   "id": "c1c07f15",
   "metadata": {},
   "outputs": [
    {
     "data": {
      "text/plain": [
       "RS    2.073716\n",
       "SP    0.555101\n",
       "RJ    1.368450\n",
       "SC    1.225082\n",
       "dtype: float64"
      ]
     },
     "execution_count": 112,
     "metadata": {},
     "output_type": "execute_result"
    }
   ],
   "source": [
    "f = lambda x: x.max() - x.min()\n",
    "dfN.apply(f, axis='columns')"
   ]
  },
  {
   "cell_type": "markdown",
   "id": "b694d9f3",
   "metadata": {},
   "source": [
    "### Ordenação e classificação"
   ]
  },
  {
   "cell_type": "code",
   "execution_count": null,
   "id": "e70e46b7",
   "metadata": {},
   "outputs": [],
   "source": []
  },
  {
   "cell_type": "markdown",
   "id": "8de1ca31",
   "metadata": {},
   "source": [
    "### Índices de eixos com rótulos duplicados"
   ]
  },
  {
   "cell_type": "code",
   "execution_count": null,
   "id": "20a52e02",
   "metadata": {},
   "outputs": [],
   "source": []
  },
  {
   "cell_type": "markdown",
   "id": "1528c656",
   "metadata": {},
   "source": [
    "## Sumarização dos Dados e Estatísticas Descritivas"
   ]
  },
  {
   "cell_type": "code",
   "execution_count": null,
   "id": "c9ed29b8",
   "metadata": {},
   "outputs": [],
   "source": []
  },
  {
   "cell_type": "markdown",
   "id": "a1f3c2f8",
   "metadata": {},
   "source": [
    "## Carregamento e Armazenamento de Dados"
   ]
  },
  {
   "cell_type": "code",
   "execution_count": null,
   "id": "410c0c24",
   "metadata": {},
   "outputs": [],
   "source": []
  },
  {
   "cell_type": "markdown",
   "id": "e14ffdb5",
   "metadata": {},
   "source": [
    "## "
   ]
  }
 ],
 "metadata": {
  "kernelspec": {
   "display_name": "Python 3 (ipykernel)",
   "language": "python",
   "name": "python3"
  },
  "language_info": {
   "codemirror_mode": {
    "name": "ipython",
    "version": 3
   },
   "file_extension": ".py",
   "mimetype": "text/x-python",
   "name": "python",
   "nbconvert_exporter": "python",
   "pygments_lexer": "ipython3",
   "version": "3.8.8"
  }
 },
 "nbformat": 4,
 "nbformat_minor": 5
}
