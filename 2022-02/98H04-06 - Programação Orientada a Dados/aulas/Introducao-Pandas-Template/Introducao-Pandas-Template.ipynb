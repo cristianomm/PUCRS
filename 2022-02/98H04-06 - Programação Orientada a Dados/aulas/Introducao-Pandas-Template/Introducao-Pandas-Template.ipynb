{
 "cells": [
  {
   "cell_type": "markdown",
   "id": "113a8d54",
   "metadata": {},
   "source": [
    "# [Prof. Dalvan Griebler](mailto:dalvan.griebler@pucrs.br)\n",
    "\n",
    "## Programação Orientada a Dados (POD) - Turma 10 (POD_98H04-06)\n",
    "\n",
    "**Atualizado**: 29/10/2021\n",
    "\n",
    "**Descrição**: Material de apoio as aulas sobre Python para POD\n",
    "\n",
    "**Copyright &copy;**: Este documento está sob a licensa da Criative Commons [BY-NC-ND 4.0](https://creativecommons.org/licenses/by-nc-nd/4.0/legalcode)"
   ]
  },
  {
   "cell_type": "markdown",
   "id": "c74bd3db",
   "metadata": {},
   "source": [
    "# Introdução a Biblioteca Pandas do Python"
   ]
  },
  {
   "cell_type": "markdown",
   "id": "31cd8204",
   "metadata": {},
   "source": [
    "## Programação Funcional vs Manipulação de Dados com Pandas"
   ]
  },
  {
   "cell_type": "code",
   "execution_count": null,
   "id": "c195b6a8",
   "metadata": {},
   "outputs": [],
   "source": [
    "# modo imperativo\n",
    "def fat1(n):\n",
    "    f = 1\n",
    "    while n > 1:\n",
    "        f *= n\n",
    "        n -= 1\n",
    "    return f\n",
    "# modo funcional\n",
    "def fat2(n):\n",
    "    if n < 2:\n",
    "        return 1\n",
    "    else:\n",
    "        return n * fat2(n-1)\n",
    "\n",
    "# modo re-uso de funções\n",
    "from operator import mul\n",
    "from functools import reduce\n",
    "def fat3(n):\n",
    "    return reduce(mul,range(1,n+1))\n",
    "\n",
    "print(\"fat1(6)\", fat1(6))\n",
    "print(\"fat2(6)\", fat2(6))\n",
    "print(\"fat3(6)\", fat3(6))"
   ]
  },
  {
   "cell_type": "markdown",
   "id": "e94a4460",
   "metadata": {},
   "source": [
    "## Estrutura de Dados"
   ]
  },
  {
   "cell_type": "code",
   "execution_count": null,
   "id": "ac07fa36",
   "metadata": {},
   "outputs": [],
   "source": [
    "import pandas as pd"
   ]
  },
  {
   "cell_type": "markdown",
   "id": "7f403087",
   "metadata": {},
   "source": [
    "### Series"
   ]
  },
  {
   "cell_type": "code",
   "execution_count": null,
   "id": "c2025e96",
   "metadata": {},
   "outputs": [],
   "source": []
  },
  {
   "cell_type": "markdown",
   "id": "adf0da2d",
   "metadata": {},
   "source": [
    "### DataFrame"
   ]
  },
  {
   "cell_type": "code",
   "execution_count": null,
   "id": "66fcbedc",
   "metadata": {},
   "outputs": [],
   "source": []
  },
  {
   "cell_type": "markdown",
   "id": "cbc768d9",
   "metadata": {},
   "source": [
    "### Objetos Index"
   ]
  },
  {
   "cell_type": "code",
   "execution_count": null,
   "id": "cfb097bd",
   "metadata": {},
   "outputs": [],
   "source": []
  },
  {
   "cell_type": "markdown",
   "id": "aca7a5ec",
   "metadata": {},
   "source": [
    "## Funcionalidades"
   ]
  },
  {
   "cell_type": "markdown",
   "id": "8630a77f",
   "metadata": {},
   "source": [
    "### Reindexação"
   ]
  },
  {
   "cell_type": "code",
   "execution_count": null,
   "id": "1ecf09a2",
   "metadata": {},
   "outputs": [],
   "source": []
  },
  {
   "cell_type": "markdown",
   "id": "7ad3ddd3",
   "metadata": {},
   "source": [
    "### Descartando entradas de um eixo"
   ]
  },
  {
   "cell_type": "code",
   "execution_count": null,
   "id": "6f0be007",
   "metadata": {},
   "outputs": [],
   "source": []
  },
  {
   "cell_type": "markdown",
   "id": "e4790683",
   "metadata": {},
   "source": [
    "### Indexação, Seleção e Fatiamento"
   ]
  },
  {
   "cell_type": "code",
   "execution_count": null,
   "id": "8532400b",
   "metadata": {},
   "outputs": [],
   "source": []
  },
  {
   "cell_type": "markdown",
   "id": "6cdfd74b",
   "metadata": {},
   "source": [
    "### Índices Inteiros"
   ]
  },
  {
   "cell_type": "code",
   "execution_count": null,
   "id": "106f8ff0",
   "metadata": {},
   "outputs": [],
   "source": []
  },
  {
   "cell_type": "markdown",
   "id": "476f81a1",
   "metadata": {},
   "source": [
    "### Iteração"
   ]
  },
  {
   "cell_type": "code",
   "execution_count": null,
   "id": "9ca43958",
   "metadata": {},
   "outputs": [],
   "source": []
  },
  {
   "cell_type": "markdown",
   "id": "977346c5",
   "metadata": {},
   "source": [
    "### Aritmética e alinhamento de dados"
   ]
  },
  {
   "cell_type": "code",
   "execution_count": null,
   "id": "ed91c84d",
   "metadata": {},
   "outputs": [],
   "source": []
  },
  {
   "cell_type": "markdown",
   "id": "579e6d70",
   "metadata": {},
   "source": [
    "### Métodos aritméticos com valores para preenchimento"
   ]
  },
  {
   "cell_type": "code",
   "execution_count": null,
   "id": "e9ed3bfb",
   "metadata": {},
   "outputs": [],
   "source": []
  },
  {
   "cell_type": "markdown",
   "id": "295ddee0",
   "metadata": {},
   "source": [
    "### Operações entre DataFrame e Series"
   ]
  },
  {
   "cell_type": "code",
   "execution_count": null,
   "id": "ea05481c",
   "metadata": {},
   "outputs": [],
   "source": []
  },
  {
   "cell_type": "markdown",
   "id": "16217751",
   "metadata": {},
   "source": [
    "### Aplicação de funções e mapeamento"
   ]
  },
  {
   "cell_type": "code",
   "execution_count": null,
   "id": "c8db1732",
   "metadata": {},
   "outputs": [],
   "source": []
  },
  {
   "cell_type": "markdown",
   "id": "b694d9f3",
   "metadata": {},
   "source": [
    "### Ordenação e classificação"
   ]
  },
  {
   "cell_type": "code",
   "execution_count": null,
   "id": "e70e46b7",
   "metadata": {},
   "outputs": [],
   "source": []
  },
  {
   "cell_type": "markdown",
   "id": "8de1ca31",
   "metadata": {},
   "source": [
    "### Índices de eixos com rótulos duplicados"
   ]
  },
  {
   "cell_type": "code",
   "execution_count": null,
   "id": "20a52e02",
   "metadata": {},
   "outputs": [],
   "source": []
  },
  {
   "cell_type": "markdown",
   "id": "1528c656",
   "metadata": {},
   "source": [
    "## Sumarização dos Dados e Estatísticas Descritivas"
   ]
  },
  {
   "cell_type": "code",
   "execution_count": null,
   "id": "c9ed29b8",
   "metadata": {},
   "outputs": [],
   "source": []
  },
  {
   "cell_type": "markdown",
   "id": "a1f3c2f8",
   "metadata": {},
   "source": [
    "## Carregamento e Armazenamento de Dados"
   ]
  },
  {
   "cell_type": "code",
   "execution_count": null,
   "id": "410c0c24",
   "metadata": {},
   "outputs": [],
   "source": []
  },
  {
   "cell_type": "markdown",
   "id": "e14ffdb5",
   "metadata": {},
   "source": [
    "## "
   ]
  }
 ],
 "metadata": {
  "kernelspec": {
   "display_name": "Python 3",
   "language": "python",
   "name": "python3"
  },
  "language_info": {
   "codemirror_mode": {
    "name": "ipython",
    "version": 3
   },
   "file_extension": ".py",
   "mimetype": "text/x-python",
   "name": "python",
   "nbconvert_exporter": "python",
   "pygments_lexer": "ipython3",
   "version": "3.8.8"
  }
 },
 "nbformat": 4,
 "nbformat_minor": 5
}
