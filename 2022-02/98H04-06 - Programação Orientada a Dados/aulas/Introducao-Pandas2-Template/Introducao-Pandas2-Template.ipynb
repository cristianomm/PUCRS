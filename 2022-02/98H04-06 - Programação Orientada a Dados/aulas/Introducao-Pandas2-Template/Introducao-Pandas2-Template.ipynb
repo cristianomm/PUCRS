{
 "cells": [
  {
   "cell_type": "markdown",
   "id": "a5384a01",
   "metadata": {},
   "source": [
    "# [Prof. Dalvan Griebler](mailto:dalvan.griebler@pucrs.br)\n",
    "\n",
    "## Programação Orientada a Dados (POD) - Turma 10 (POD_98H04-06)\n",
    "\n",
    "**Atualizado**: 29/10/2021\n",
    "\n",
    "**Descrição**: Material de apoio as aulas sobre Python para POD\n",
    "\n",
    "**Copyright &copy;**: Este documento está sob a licensa da Criative Commons [BY-NC-ND 4.0](https://creativecommons.org/licenses/by-nc-nd/4.0/legalcode)"
   ]
  },
  {
   "cell_type": "markdown",
   "id": "53d2fea9",
   "metadata": {},
   "source": [
    "# Biblioteca Pandas do Python"
   ]
  },
  {
   "cell_type": "code",
   "execution_count": null,
   "id": "c0f9fbef",
   "metadata": {},
   "outputs": [],
   "source": [
    "import numpy as np\n",
    "import pandas as pd"
   ]
  },
  {
   "cell_type": "markdown",
   "id": "936519fd",
   "metadata": {},
   "source": [
    "## Limpeza e Preparação de Dados"
   ]
  },
  {
   "cell_type": "markdown",
   "id": "c29d7986",
   "metadata": {},
   "source": [
    "### Lidando com Dados Ausentes"
   ]
  },
  {
   "cell_type": "code",
   "execution_count": null,
   "id": "69e846a3",
   "metadata": {},
   "outputs": [],
   "source": []
  },
  {
   "cell_type": "markdown",
   "id": "63f9bb8a",
   "metadata": {},
   "source": [
    "### Filtrando Dados Ausentes"
   ]
  },
  {
   "cell_type": "code",
   "execution_count": null,
   "id": "b006d992",
   "metadata": {},
   "outputs": [],
   "source": []
  },
  {
   "cell_type": "markdown",
   "id": "68f4737e",
   "metadata": {},
   "source": [
    "### Preenchendo Dados Ausentes"
   ]
  },
  {
   "cell_type": "code",
   "execution_count": null,
   "id": "9f1df77f",
   "metadata": {},
   "outputs": [],
   "source": []
  },
  {
   "cell_type": "markdown",
   "id": "983d69f3",
   "metadata": {},
   "source": [
    "## Transformação de Dados"
   ]
  },
  {
   "cell_type": "markdown",
   "id": "ec79ce3e",
   "metadata": {},
   "source": [
    "### Removendo Dados Duplicados"
   ]
  },
  {
   "cell_type": "code",
   "execution_count": null,
   "id": "fe30159a",
   "metadata": {},
   "outputs": [],
   "source": []
  },
  {
   "cell_type": "markdown",
   "id": "588e6884",
   "metadata": {},
   "source": [
    "### Transformando Dados com Map"
   ]
  },
  {
   "cell_type": "code",
   "execution_count": null,
   "id": "1604a090",
   "metadata": {},
   "outputs": [],
   "source": []
  },
  {
   "cell_type": "markdown",
   "id": "c19e49ea",
   "metadata": {},
   "source": [
    "### Substituindo Valores"
   ]
  },
  {
   "cell_type": "code",
   "execution_count": null,
   "id": "05e37aa6",
   "metadata": {},
   "outputs": [],
   "source": []
  },
  {
   "cell_type": "markdown",
   "id": "3619808d",
   "metadata": {},
   "source": [
    "### Renomeando Índices de um Eixo"
   ]
  },
  {
   "cell_type": "code",
   "execution_count": null,
   "id": "4917d08f",
   "metadata": {},
   "outputs": [],
   "source": []
  },
  {
   "cell_type": "markdown",
   "id": "1187730b",
   "metadata": {},
   "source": [
    "### Discretização e Binning (compartimentos)"
   ]
  },
  {
   "cell_type": "code",
   "execution_count": null,
   "id": "df38e1fb",
   "metadata": {},
   "outputs": [],
   "source": []
  },
  {
   "cell_type": "markdown",
   "id": "008c5cad",
   "metadata": {},
   "source": [
    "### Detecção de Valores Descrepantes/Outiliers"
   ]
  },
  {
   "cell_type": "code",
   "execution_count": null,
   "id": "8daf6354",
   "metadata": {},
   "outputs": [],
   "source": []
  },
  {
   "cell_type": "markdown",
   "id": "274964f2",
   "metadata": {},
   "source": [
    "### Permutação e Amostragem Aleatória"
   ]
  },
  {
   "cell_type": "code",
   "execution_count": null,
   "id": "2d70eb8a",
   "metadata": {},
   "outputs": [],
   "source": []
  },
  {
   "cell_type": "markdown",
   "id": "975d598b",
   "metadata": {},
   "source": [
    "### DataFrames com Valores Dummy"
   ]
  },
  {
   "cell_type": "code",
   "execution_count": null,
   "id": "b1668b9f",
   "metadata": {},
   "outputs": [],
   "source": []
  },
  {
   "cell_type": "markdown",
   "id": "369c8c13",
   "metadata": {},
   "source": [
    "### Manipulação de Strings"
   ]
  },
  {
   "cell_type": "code",
   "execution_count": null,
   "id": "2a023129",
   "metadata": {},
   "outputs": [],
   "source": []
  },
  {
   "cell_type": "markdown",
   "id": "48d3156b",
   "metadata": {},
   "source": [
    "## Tratamento e Manipulação de Dados"
   ]
  },
  {
   "cell_type": "markdown",
   "id": "ed76af7c",
   "metadata": {},
   "source": [
    "### Indexação Hierárquica"
   ]
  },
  {
   "cell_type": "code",
   "execution_count": null,
   "id": "ab1cf6fe",
   "metadata": {},
   "outputs": [],
   "source": []
  },
  {
   "cell_type": "markdown",
   "id": "c171d4ce",
   "metadata": {},
   "source": [
    "### Combinação e Mesclagem de dados"
   ]
  },
  {
   "cell_type": "code",
   "execution_count": null,
   "id": "d95760f7",
   "metadata": {},
   "outputs": [],
   "source": []
  },
  {
   "cell_type": "markdown",
   "id": "c3b21a1e",
   "metadata": {},
   "source": [
    "## Reformatação e Pivotamento"
   ]
  },
  {
   "cell_type": "code",
   "execution_count": null,
   "id": "d3f99446",
   "metadata": {},
   "outputs": [],
   "source": []
  },
  {
   "cell_type": "markdown",
   "id": "8664f7cb",
   "metadata": {},
   "source": [
    "## Agregação e Operações em Grupo"
   ]
  },
  {
   "cell_type": "markdown",
   "id": "e1b6298d",
   "metadata": {},
   "source": [
    "### GroupBy"
   ]
  },
  {
   "cell_type": "code",
   "execution_count": null,
   "id": "278b13de",
   "metadata": {},
   "outputs": [],
   "source": []
  },
  {
   "cell_type": "markdown",
   "id": "541b32d4",
   "metadata": {},
   "source": [
    "### Iteração"
   ]
  },
  {
   "cell_type": "code",
   "execution_count": null,
   "id": "44980e30",
   "metadata": {},
   "outputs": [],
   "source": []
  },
  {
   "cell_type": "markdown",
   "id": "b3bbee6c",
   "metadata": {},
   "source": [
    "### Selecionando uma ou subconjunto de colunas"
   ]
  },
  {
   "cell_type": "code",
   "execution_count": null,
   "id": "0f7d6885",
   "metadata": {},
   "outputs": [],
   "source": []
  },
  {
   "cell_type": "markdown",
   "id": "bb57d337",
   "metadata": {},
   "source": [
    "### Agrupamento com dicionários e series"
   ]
  },
  {
   "cell_type": "code",
   "execution_count": null,
   "id": "0137369c",
   "metadata": {},
   "outputs": [],
   "source": []
  },
  {
   "cell_type": "markdown",
   "id": "633a9445",
   "metadata": {},
   "source": [
    "### Agrupamento com funções"
   ]
  },
  {
   "cell_type": "code",
   "execution_count": null,
   "id": "57b8bb24",
   "metadata": {},
   "outputs": [],
   "source": []
  },
  {
   "cell_type": "markdown",
   "id": "f5a9a08c",
   "metadata": {},
   "source": [
    "### Agrupamento por níveis de indices"
   ]
  },
  {
   "cell_type": "code",
   "execution_count": null,
   "id": "d800fff2",
   "metadata": {},
   "outputs": [],
   "source": []
  },
  {
   "cell_type": "markdown",
   "id": "cf20fa92",
   "metadata": {},
   "source": [
    "## Agregação de Dados"
   ]
  },
  {
   "cell_type": "code",
   "execution_count": null,
   "id": "49bf8aad",
   "metadata": {},
   "outputs": [],
   "source": []
  },
  {
   "cell_type": "markdown",
   "id": "6c9a2394",
   "metadata": {},
   "source": [
    "### Método Apply"
   ]
  },
  {
   "cell_type": "code",
   "execution_count": null,
   "id": "3225d7de",
   "metadata": {},
   "outputs": [],
   "source": []
  },
  {
   "cell_type": "markdown",
   "id": "48bbe5e8",
   "metadata": {},
   "source": [
    "### Pivot e Cross Table com Agregação"
   ]
  },
  {
   "cell_type": "code",
   "execution_count": null,
   "id": "411829f6",
   "metadata": {},
   "outputs": [],
   "source": []
  }
 ],
 "metadata": {
  "kernelspec": {
   "display_name": "Python 3",
   "language": "python",
   "name": "python3"
  },
  "language_info": {
   "codemirror_mode": {
    "name": "ipython",
    "version": 3
   },
   "file_extension": ".py",
   "mimetype": "text/x-python",
   "name": "python",
   "nbconvert_exporter": "python",
   "pygments_lexer": "ipython3",
   "version": "3.8.8"
  }
 },
 "nbformat": 4,
 "nbformat_minor": 5
}
