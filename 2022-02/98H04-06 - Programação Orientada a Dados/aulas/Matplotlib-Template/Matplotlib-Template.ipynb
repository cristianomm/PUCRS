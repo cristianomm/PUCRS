{
 "cells": [
  {
   "cell_type": "markdown",
   "id": "72b6dc06",
   "metadata": {},
   "source": [
    "# [Prof. Dalvan Griebler](mailto:dalvan.griebler@pucrs.br)\n",
    "\n",
    "## Programação Orientada a Dados (POD) - Turma 10 (POD_98H04-06)\n",
    "\n",
    "**Atualizado**: 15/11/2021\n",
    "\n",
    "**Descrição**: Material de apoio as aulas sobre Python para POD\n",
    "\n",
    "**Copyright &copy;**: Este documento está sob a licensa da Criative Commons [BY-NC-ND 4.0](https://creativecommons.org/licenses/by-nc-nd/4.0/legalcode)"
   ]
  },
  {
   "cell_type": "markdown",
   "id": "1be03d36",
   "metadata": {},
   "source": [
    "# Introdução a Biblioteca Matplotlib do Python"
   ]
  },
  {
   "cell_type": "markdown",
   "id": "fac20734",
   "metadata": {},
   "source": [
    "## Configurações para o Notebook"
   ]
  },
  {
   "cell_type": "code",
   "execution_count": null,
   "id": "eaf8ae10",
   "metadata": {},
   "outputs": [],
   "source": []
  },
  {
   "cell_type": "code",
   "execution_count": null,
   "id": "753387b5",
   "metadata": {},
   "outputs": [],
   "source": [
    "from matplotlib import pyplot as plt\n",
    "import numpy as np\n",
    "import pandas as pd"
   ]
  },
  {
   "cell_type": "markdown",
   "id": "ce3704c8",
   "metadata": {},
   "source": [
    "## Modos de Utilização"
   ]
  },
  {
   "cell_type": "markdown",
   "id": "d1e2c491",
   "metadata": {},
   "source": [
    "### Direto"
   ]
  },
  {
   "cell_type": "code",
   "execution_count": null,
   "id": "73a06422",
   "metadata": {},
   "outputs": [],
   "source": []
  },
  {
   "cell_type": "markdown",
   "id": "436a5351",
   "metadata": {},
   "source": [
    "### Orientado a Objetos"
   ]
  },
  {
   "cell_type": "code",
   "execution_count": null,
   "id": "dbe3db68",
   "metadata": {},
   "outputs": [],
   "source": []
  },
  {
   "cell_type": "markdown",
   "id": "f270089d",
   "metadata": {},
   "source": [
    "## Gráfico de Linha ([`plot`](https://matplotlib.org/stable/api/_as_gen/matplotlib.axes.Axes.plot.html#matplotlib.axes.Axes.plot))"
   ]
  },
  {
   "cell_type": "code",
   "execution_count": null,
   "id": "969a13a4",
   "metadata": {},
   "outputs": [],
   "source": []
  },
  {
   "cell_type": "markdown",
   "id": "b619e75f",
   "metadata": {},
   "source": [
    "## Gráfico de Barras ([`bar`](https://matplotlib.org/stable/api/_as_gen/matplotlib.axes.Axes.bar.html#matplotlib.axes.Axes.bar), [`barh`](https://matplotlib.org/stable/api/_as_gen/matplotlib.axes.Axes.barh.html#matplotlib.axes.Axes.barh))"
   ]
  },
  {
   "cell_type": "code",
   "execution_count": null,
   "id": "f0b7ebf8",
   "metadata": {},
   "outputs": [],
   "source": []
  },
  {
   "cell_type": "markdown",
   "id": "a62f9266",
   "metadata": {},
   "source": [
    "## Gráfico de Disperção ([`scatter`](https://matplotlib.org/stable/api/_as_gen/matplotlib.axes.Axes.scatter.html#matplotlib.axes.Axes.scatter))"
   ]
  },
  {
   "cell_type": "code",
   "execution_count": null,
   "id": "5ea3cf6e",
   "metadata": {},
   "outputs": [],
   "source": []
  },
  {
   "cell_type": "markdown",
   "id": "e3362955",
   "metadata": {},
   "source": [
    "## Gráfico de Pizza ([`pie`](https://matplotlib.org/stable/api/_as_gen/matplotlib.axes.Axes.pie.html#matplotlib.axes.Axes.pie))"
   ]
  },
  {
   "cell_type": "code",
   "execution_count": null,
   "id": "44d66a86",
   "metadata": {},
   "outputs": [],
   "source": []
  },
  {
   "cell_type": "markdown",
   "id": "aa8d2a3f",
   "metadata": {},
   "source": [
    "## Gráfico de Histograma ([`hist`](https://matplotlib.org/stable/api/_as_gen/matplotlib.axes.Axes.hist.html#matplotlib.axes.Axes.hist))"
   ]
  },
  {
   "cell_type": "code",
   "execution_count": null,
   "id": "21835ed0",
   "metadata": {},
   "outputs": [],
   "source": []
  },
  {
   "cell_type": "markdown",
   "id": "a5689358",
   "metadata": {},
   "source": [
    "## Gráficos de Boxes ([`boxplot`](https://matplotlib.org/stable/api/_as_gen/matplotlib.axes.Axes.boxplot.html#matplotlib.axes.Axes.boxplot))"
   ]
  },
  {
   "cell_type": "code",
   "execution_count": null,
   "id": "0517f807",
   "metadata": {},
   "outputs": [],
   "source": []
  },
  {
   "cell_type": "markdown",
   "id": "7cc56ca9",
   "metadata": {},
   "source": [
    "## Mapa de Calor ([`heatmap`](https://matplotlib.org/stable/api/_as_gen/matplotlib.axes.Axes.imshow.html#matplotlib.axes.Axes.imshow))"
   ]
  },
  {
   "cell_type": "code",
   "execution_count": null,
   "id": "7fc5f83d",
   "metadata": {},
   "outputs": [],
   "source": []
  },
  {
   "cell_type": "markdown",
   "id": "12f075c1",
   "metadata": {},
   "source": [
    "## Manipulação de Imagens em Gráficos"
   ]
  },
  {
   "cell_type": "code",
   "execution_count": null,
   "id": "ef211a33",
   "metadata": {},
   "outputs": [],
   "source": []
  },
  {
   "cell_type": "markdown",
   "id": "d7556093",
   "metadata": {},
   "source": [
    "## Múltiplos Gráficos em uma Figura ([`subplots`](https://matplotlib.org/stable/api/_as_gen/matplotlib.pyplot.subplots.html#matplotlib.pyplot.subplots))"
   ]
  },
  {
   "cell_type": "code",
   "execution_count": null,
   "id": "c97c2590",
   "metadata": {},
   "outputs": [],
   "source": []
  },
  {
   "cell_type": "markdown",
   "id": "d486c5f8",
   "metadata": {},
   "source": [
    "# Referências"
   ]
  },
  {
   "cell_type": "markdown",
   "id": "c8df558d",
   "metadata": {},
   "source": [
    "- [Página Oficial](https://matplotlib.org/)\n",
    "- [Tutorial](https://matplotlib.org/stable/tutorials/index.html)\n",
    "- [Guia do Usuário](https://matplotlib.org/stable/users/index.html)\n",
    "- [Galeria de Gráficos](https://matplotlib.org/stable/gallery/index.html)"
   ]
  }
 ],
 "metadata": {
  "kernelspec": {
   "display_name": "Python 3",
   "language": "python",
   "name": "python3"
  },
  "language_info": {
   "codemirror_mode": {
    "name": "ipython",
    "version": 3
   },
   "file_extension": ".py",
   "mimetype": "text/x-python",
   "name": "python",
   "nbconvert_exporter": "python",
   "pygments_lexer": "ipython3",
   "version": "3.8.8"
  }
 },
 "nbformat": 4,
 "nbformat_minor": 5
}
