{
 "cells": [
  {
   "cell_type": "markdown",
   "id": "662ac30f",
   "metadata": {},
   "source": [
    "# [Prof. Dalvan Griebler](mailto:dalvan.griebler@pucrs.br)\n",
    "\n",
    "## Programação Orientada a Dados (POD) - Turma 10 (POD_98H04-06)\n",
    "\n",
    "**Atualizado**: 29/10/2021\n",
    "\n",
    "**Descrição**: Material de apoio as aulas sobre Python para POD\n",
    "\n",
    "**Copyright &copy;**: Este documento está sob a licensa da Criative Commons [BY-NC-ND 4.0](https://creativecommons.org/licenses/by-nc-nd/4.0/legalcode)"
   ]
  },
  {
   "cell_type": "markdown",
   "id": "7b542cfd",
   "metadata": {},
   "source": [
    "# Manipulação Vetorial de Dados com NumPy"
   ]
  },
  {
   "cell_type": "code",
   "execution_count": 1,
   "id": "50f5d8a8",
   "metadata": {},
   "outputs": [],
   "source": [
    "import numpy as np"
   ]
  },
  {
   "cell_type": "code",
   "execution_count": 2,
   "id": "fd1cd4b3",
   "metadata": {},
   "outputs": [
    {
     "name": "stdout",
     "output_type": "stream",
     "text": [
      "[1 2 3]\n",
      "<class 'numpy.ndarray'>\n",
      "(3,)\n",
      "int64\n",
      "3\n",
      "1\n",
      "24\n",
      "<memory at 0x7f77b8390e80>\n",
      "8\n"
     ]
    }
   ],
   "source": [
    "a = np.array([1,2,3])\n",
    "print(a)\n",
    "print(type(a))\n",
    "print(a.shape)\n",
    "print(a.dtype)\n",
    "print(a.size)\n",
    "print(a.ndim)\n",
    "print(a.nbytes)\n",
    "print(a.data)\n",
    "print(a.itemsize)\n",
    "\n",
    "\n"
   ]
  },
  {
   "cell_type": "code",
   "execution_count": 3,
   "id": "733e6dad",
   "metadata": {},
   "outputs": [
    {
     "name": "stdout",
     "output_type": "stream",
     "text": [
      "int32\n",
      "[1 2 3]\n",
      "(3,)\n",
      "int32\n",
      "3\n",
      "1\n",
      "12\n",
      "<memory at 0x7f77b8390e80>\n",
      "4\n"
     ]
    }
   ],
   "source": [
    "a = a.astype(np.int32)\n",
    "print(a.dtype)\n",
    "print(a)\n",
    "print(a.shape)\n",
    "print(a.dtype)\n",
    "print(a.size)\n",
    "print(a.ndim)\n",
    "print(a.nbytes)\n",
    "print(a.data)\n",
    "print(a.itemsize)"
   ]
  },
  {
   "cell_type": "code",
   "execution_count": 4,
   "id": "5a14d9a2",
   "metadata": {},
   "outputs": [
    {
     "name": "stdout",
     "output_type": "stream",
     "text": [
      "<U8\n",
      "['Dalvan' 'João' 'Gabriela']\n"
     ]
    }
   ],
   "source": [
    "a = np.array(['Dalvan', 'João', 'Gabriela'])\n",
    "print(a.dtype)\n",
    "print(a)"
   ]
  },
  {
   "cell_type": "code",
   "execution_count": 5,
   "id": "04ad05cf",
   "metadata": {},
   "outputs": [
    {
     "name": "stdout",
     "output_type": "stream",
     "text": [
      "[[1 2 3]\n",
      " [4 5 6]]\n",
      "(2, 3)\n",
      "2\n"
     ]
    }
   ],
   "source": [
    "a2D = np.array([[1,2,3],[4,5,6]])\n",
    "print(a2D)\n",
    "print(a2D.shape)\n",
    "print(a2D.ndim)"
   ]
  },
  {
   "cell_type": "code",
   "execution_count": 6,
   "id": "df0930d9",
   "metadata": {},
   "outputs": [
    {
     "name": "stdout",
     "output_type": "stream",
     "text": [
      "[[[ 1  2  3]\n",
      "  [ 4  5  6]]\n",
      "\n",
      " [[ 7  8  9]\n",
      "  [10 11 12]]]\n",
      "(2, 2, 3)\n",
      "3\n"
     ]
    }
   ],
   "source": [
    "a3D = np.array([\n",
    "    [[1,2,3],[4,5,6]],\n",
    "    [[7,8,9],[10,11,12]],\n",
    "])\n",
    "print(a3D)\n",
    "print(a3D.shape)\n",
    "print(a3D.ndim)"
   ]
  },
  {
   "cell_type": "markdown",
   "id": "b2ebdce1",
   "metadata": {},
   "source": [
    "## Transformações"
   ]
  },
  {
   "cell_type": "code",
   "execution_count": 7,
   "id": "db784f4d",
   "metadata": {},
   "outputs": [
    {
     "name": "stdout",
     "output_type": "stream",
     "text": [
      "[6 5 4 3 2 1]\n",
      "[1 2 3 4 5 6]\n"
     ]
    }
   ],
   "source": [
    "a = np.array([1,2,3,4,5,6])\n",
    "print(np.flip(a))\n",
    "print(a)"
   ]
  },
  {
   "cell_type": "code",
   "execution_count": 8,
   "id": "8bad56ab",
   "metadata": {},
   "outputs": [
    {
     "name": "stdout",
     "output_type": "stream",
     "text": [
      "[[1 2 3]\n",
      " [4 5 6]]\n"
     ]
    }
   ],
   "source": [
    "a1 = a.reshape(2,3)\n",
    "print(a1)"
   ]
  },
  {
   "cell_type": "code",
   "execution_count": 9,
   "id": "6a041e6f",
   "metadata": {},
   "outputs": [
    {
     "name": "stdout",
     "output_type": "stream",
     "text": [
      "[1 2 3 4 5 6]\n",
      "[1 2 3 4 5 6]\n"
     ]
    }
   ],
   "source": [
    "print(a1.flatten())\n",
    "print(a1.ravel())"
   ]
  },
  {
   "cell_type": "markdown",
   "id": "10a2ff6a",
   "metadata": {},
   "source": [
    "## Criação de Arrays"
   ]
  },
  {
   "cell_type": "code",
   "execution_count": 10,
   "id": "21dd51f4",
   "metadata": {},
   "outputs": [
    {
     "name": "stdout",
     "output_type": "stream",
     "text": [
      "[1 2 3 4 5 6 7 8 9]\n"
     ]
    }
   ],
   "source": [
    "a = np.arange(1,10, dtype=np.int32)\n",
    "print(a)"
   ]
  },
  {
   "cell_type": "code",
   "execution_count": 11,
   "id": "54dc50f3",
   "metadata": {},
   "outputs": [
    {
     "name": "stdout",
     "output_type": "stream",
     "text": [
      "[0. 0. 0. 0. 0. 0. 0. 0.]\n",
      "[[0. 0. 0. 0.]\n",
      " [0. 0. 0. 0.]]\n"
     ]
    }
   ],
   "source": [
    "az = np.zeros(8, dtype=np.float64)\n",
    "print(az)\n",
    "az2d = np.zeros((2,4), dtype=np.float64)\n",
    "print(az2d)"
   ]
  },
  {
   "cell_type": "code",
   "execution_count": 12,
   "id": "bbdbea6e",
   "metadata": {},
   "outputs": [
    {
     "name": "stdout",
     "output_type": "stream",
     "text": [
      "[0. 0. 0. 0. 0. 0. 0. 0.]\n",
      "[[0. 0. 0. 0.]\n",
      " [0. 0. 0. 0.]]\n"
     ]
    }
   ],
   "source": [
    "ae = np.empty(8, dtype=np.float64)\n",
    "print(ae)\n",
    "ae2d = np.empty((2,4), dtype=np.float64)\n",
    "print(ae2d)"
   ]
  },
  {
   "cell_type": "code",
   "execution_count": 13,
   "id": "f1ba343d",
   "metadata": {},
   "outputs": [
    {
     "name": "stdout",
     "output_type": "stream",
     "text": [
      "[1. 1. 1. 1. 1. 1. 1. 1.]\n",
      "[[1. 1. 1. 1.]\n",
      " [1. 1. 1. 1.]]\n"
     ]
    }
   ],
   "source": [
    "ao = np.ones(8, dtype=np.float64)\n",
    "print(ao)\n",
    "ao2d = np.ones((2,4), dtype=np.float64)\n",
    "print(ao2d)"
   ]
  },
  {
   "cell_type": "code",
   "execution_count": 14,
   "id": "f22cfa78",
   "metadata": {},
   "outputs": [
    {
     "name": "stdout",
     "output_type": "stream",
     "text": [
      "[5. 5. 5. 5. 5. 5. 5. 5.]\n",
      "[[5. 5. 5. 5.]\n",
      " [5. 5. 5. 5.]]\n"
     ]
    }
   ],
   "source": [
    "af = np.full(8,5, dtype=np.float64)\n",
    "print(af)\n",
    "af2d = np.full((2,4),5,dtype=np.float64)\n",
    "print(af2d)"
   ]
  },
  {
   "cell_type": "code",
   "execution_count": 15,
   "id": "339d4678",
   "metadata": {},
   "outputs": [
    {
     "name": "stdout",
     "output_type": "stream",
     "text": [
      "[ 1.66085835  0.26121373 -0.03285991  0.1295366  -0.80699457 -1.49930102\n",
      " -0.48393129  0.44999468]\n",
      "[[-1.43417037e+00 -6.38168656e-02  1.22545676e+00 -9.29083036e-01]\n",
      " [ 4.37433523e-04 -2.23173468e-01 -4.97384132e-01  4.33651477e-01]]\n"
     ]
    }
   ],
   "source": [
    "ar = np.random.randn(8)\n",
    "print(ar)\n",
    "ar2d = np.random.randn(2,4)\n",
    "print(ar2d)"
   ]
  },
  {
   "cell_type": "code",
   "execution_count": 16,
   "id": "ffe4b331",
   "metadata": {},
   "outputs": [
    {
     "name": "stdout",
     "output_type": "stream",
     "text": [
      "[0. 0. 0. 0. 0. 0. 0. 0.]\n",
      "[0. 0. 0. 0. 0. 0. 0. 0.]\n",
      "[1. 1. 1. 1. 1. 1. 1. 1.]\n",
      "[30. 30. 30. 30. 30. 30. 30. 30.]\n"
     ]
    }
   ],
   "source": [
    "zl=np.zeros_like(az)\n",
    "print(zl)\n",
    "\n",
    "el=np.empty_like(ae)\n",
    "print(el)\n",
    "\n",
    "ol=np.ones_like(ao)\n",
    "print(ol)\n",
    "\n",
    "fl=np.full_like(az,30)\n",
    "print(fl)"
   ]
  },
  {
   "cell_type": "markdown",
   "id": "69796bf2",
   "metadata": {},
   "source": [
    "## Arquivos"
   ]
  },
  {
   "cell_type": "code",
   "execution_count": 17,
   "id": "0088e6b7",
   "metadata": {},
   "outputs": [
    {
     "name": "stdout",
     "output_type": "stream",
     "text": [
      "0 1 2 3 4 5 6 7 8 9 [0 1 2 3 4 5 6 7 8 9]\n",
      "int64\n"
     ]
    }
   ],
   "source": [
    "with open(\"meuarray1D.txt\", 'w') as arq:\n",
    "    for i in range(10):\n",
    "        arq.write(str(i)+' ')\n",
    "!cat meuarray1D.txt\n",
    "\n",
    "a = np.loadtxt('meuarray1D.txt', dtype=int)\n",
    "print(a)\n",
    "print(a.dtype)"
   ]
  },
  {
   "cell_type": "code",
   "execution_count": 18,
   "id": "d0bf4c4b",
   "metadata": {},
   "outputs": [
    {
     "name": "stdout",
     "output_type": "stream",
     "text": [
      "1-2-3-4-5-6-7-8-9-10\n",
      "1-2-3-4-5-6-7-8-9-10\n",
      "1-2-3-4-5-6-7-8-9-10\n",
      "[[ 1  2  3  4  5  6  7  8  9 10]\n",
      " [ 1  2  3  4  5  6  7  8  9 10]\n",
      " [ 1  2  3  4  5  6  7  8  9 10]]\n",
      "2\n"
     ]
    }
   ],
   "source": [
    "with open(\"meuarray2D.txt\", 'w') as arq:\n",
    "    for i in range(1,10):\n",
    "        arq.write(str(i)+'-')\n",
    "    arq.write('10\\n')\n",
    "    for i in range(1,10):\n",
    "        arq.write(str(i)+'-')\n",
    "    arq.write('10\\n')\n",
    "    for i in range(1,10):\n",
    "        arq.write(str(i)+'-')\n",
    "    arq.write('10\\n')\n",
    "    \n",
    "!cat meuarray2D.txt\n",
    "\n",
    "a2d = np.loadtxt('meuarray2D.txt', dtype=int, delimiter='-')\n",
    "print(a2d)\n",
    "print(a2d.ndim)"
   ]
  },
  {
   "cell_type": "code",
   "execution_count": 19,
   "id": "f0d7bfc0",
   "metadata": {},
   "outputs": [
    {
     "name": "stdout",
     "output_type": "stream",
     "text": [
      "[[1 6 7]\n",
      " [1 6 7]\n",
      " [1 6 7]]\n",
      "2\n"
     ]
    }
   ],
   "source": [
    "a2d = np.loadtxt('meuarray2D.txt', dtype=int, delimiter='-', usecols=(0,5,6))\n",
    "print(a2d)\n",
    "print(a2d.ndim)"
   ]
  },
  {
   "cell_type": "code",
   "execution_count": 20,
   "id": "eb93215f",
   "metadata": {},
   "outputs": [
    {
     "name": "stdout",
     "output_type": "stream",
     "text": [
      "[[ 1  2  3  4  5  6  7  8  9 10]\n",
      " [ 1  2  3  4  5  6  7  8  9 10]]\n",
      "2\n"
     ]
    }
   ],
   "source": [
    "a2d = np.loadtxt('meuarray2D.txt', dtype=int, delimiter='-', max_rows=2)\n",
    "print(a2d)\n",
    "print(a2d.ndim)"
   ]
  },
  {
   "cell_type": "code",
   "execution_count": 21,
   "id": "e8308609",
   "metadata": {},
   "outputs": [
    {
     "name": "stdout",
     "output_type": "stream",
     "text": [
      "[[ 0  1  2  3  4  5  6  7  8  9]\n",
      " [10 11 12 13 14 15 16 17 18 19]\n",
      " [20 21 22 23 24 25 26 27 28 29]]\n",
      "0.0000e+00 1.0000e+00 2.0000e+00 3.0000e+00 4.0000e+00 5.0000e+00 6.0000e+00 7.0000e+00 8.0000e+00 9.0000e+00\r\n",
      "1.0000e+01 1.1000e+01 1.2000e+01 1.3000e+01 1.4000e+01 1.5000e+01 1.6000e+01 1.7000e+01 1.8000e+01 1.9000e+01\r\n",
      "2.0000e+01 2.1000e+01 2.2000e+01 2.3000e+01 2.4000e+01 2.5000e+01 2.6000e+01 2.7000e+01 2.8000e+01 2.9000e+01\r\n"
     ]
    }
   ],
   "source": [
    "a = np.arange(30).reshape(3,10)\n",
    "print(a)\n",
    "\n",
    "np.savetxt('meuarray2d-gerado.txt', a, fmt=\"%1.4e\")\n",
    "\n",
    "!cat meuarray2d-gerado.txt"
   ]
  },
  {
   "cell_type": "code",
   "execution_count": 22,
   "id": "3cd59343",
   "metadata": {},
   "outputs": [
    {
     "name": "stdout",
     "output_type": "stream",
     "text": [
      "[[ 0  1  2  3  4  5  6  7  8  9]\n",
      " [10 11 12 13 14 15 16 17 18 19]\n",
      " [20 21 22 23 24 25 26 27 28 29]]\n",
      "[[ 0  1  2  3  4  5  6  7  8  9]\n",
      " [10 11 12 13 14 15 16 17 18 19]\n",
      " [20 21 22 23 24 25 26 27 28 29]]\n",
      "�NUMPY\u0001\u0000v\u0000{'descr': '<i8', 'fortran_order': False, 'shape': (3, 10), }                                                         \r\n",
      "\u0000\u0000\u0000\u0000\u0000\u0000\u0000\u0000\u0001\u0000\u0000\u0000\u0000\u0000\u0000\u0000\u0002\u0000\u0000\u0000\u0000\u0000\u0000\u0000\u0003\u0000\u0000\u0000\u0000\u0000\u0000\u0000\u0004\u0000\u0000\u0000\u0000\u0000\u0000\u0000\u0005\u0000\u0000\u0000\u0000\u0000\u0000\u0000\u0006\u0000\u0000\u0000\u0000\u0000\u0000\u0000\u0007\u0000\u0000\u0000\u0000\u0000\u0000\u0000\b\u0000\u0000\u0000\u0000\u0000\u0000\u0000\t\u0000\u0000\u0000\u0000\u0000\u0000\u0000\r\n",
      "\u0000\u0000\u0000\u0000\u0000\u0000\u0000\u000b",
      "\u0000\u0000\u0000\u0000\u0000\u0000\u0000\f",
      "\u0000\u0000\u0000\u0000\u0000\u0000\u0000\r",
      "\u0000\u0000\u0000\u0000\u0000\u0000\u0000\u000e\u0000\u0000\u0000\u0000\u0000\u0000\u0000\u000f\u0000\u0000\u0000\u0000\u0000\u0000\u0000\u0010\u0000\u0000\u0000\u0000\u0000\u0000\u0000\u0011\u0000\u0000\u0000\u0000\u0000\u0000\u0000\u0012\u0000\u0000\u0000\u0000\u0000\u0000\u0000\u0013\u0000\u0000\u0000\u0000\u0000\u0000\u0000\u0014\u0000\u0000\u0000\u0000\u0000\u0000\u0000\u0015\u0000\u0000\u0000\u0000\u0000\u0000\u0000\u0016\u0000\u0000\u0000\u0000\u0000\u0000\u0000\u0017\u0000\u0000\u0000\u0000\u0000\u0000\u0000\u0018\u0000\u0000\u0000\u0000\u0000\u0000\u0000\u0019\u0000\u0000\u0000\u0000\u0000\u0000\u0000\u001a\u0000\u0000\u0000\u0000\u0000\u0000\u0000\u001b\u0000\u0000\u0000\u0000\u0000\u0000\u0000\u001c",
      "\u0000\u0000\u0000\u0000\u0000\u0000\u0000\u001d",
      "\u0000\u0000\u0000\u0000\u0000\u0000\u0000"
     ]
    }
   ],
   "source": [
    "a = np.arange(30).reshape(3,10)\n",
    "print(a)\n",
    "\n",
    "np.save(\"meuarray\", a)\n",
    "\n",
    "a2=np.load(\"meuarray.npy\")\n",
    "print(a2)\n",
    "\n",
    "!cat meuarray.npy"
   ]
  },
  {
   "cell_type": "markdown",
   "id": "348898d1",
   "metadata": {},
   "source": [
    "## Indexação e Fatiamento"
   ]
  },
  {
   "cell_type": "code",
   "execution_count": 23,
   "id": "0eb6736e",
   "metadata": {},
   "outputs": [
    {
     "name": "stdout",
     "output_type": "stream",
     "text": [
      "[2 3 4 5 6 7 8 9]\n",
      "7\n",
      "9\n",
      "[11  3  4  5  6  7  8  9]\n"
     ]
    }
   ],
   "source": [
    "a = np.arange(2,10)\n",
    "print(a)\n",
    "print(a[5])\n",
    "print(a[-1])\n",
    "\n",
    "a[0] = 11\n",
    "print(a)"
   ]
  },
  {
   "cell_type": "code",
   "execution_count": 24,
   "id": "31ebf3f6",
   "metadata": {},
   "outputs": [
    {
     "name": "stdout",
     "output_type": "stream",
     "text": [
      "[[ 0  1  2  3  4  5  6  7  8  9]\n",
      " [10 11 12 13 14 15 16 17 18 19]\n",
      " [20 21 22 23 24 25 26 27 28 29]]\n",
      "12\n",
      "12\n"
     ]
    }
   ],
   "source": [
    "a = np.arange(30).reshape(3,10)\n",
    "\n",
    "print(a)\n",
    "print(a[1][2])\n",
    "print(a[1,2])"
   ]
  },
  {
   "cell_type": "code",
   "execution_count": 25,
   "id": "15c7bdad",
   "metadata": {},
   "outputs": [
    {
     "name": "stdout",
     "output_type": "stream",
     "text": [
      "[2 3 4 5 6 7 8 9]\n",
      "[2 3 4 5 6 7 8 9]\n",
      "[4 5 6 7 8 9]\n",
      "[2 3 4 5]\n",
      "[3 4 5]\n",
      "[2 3 4 5 6 7]\n",
      "[ 2  3 22 33  6  7  8  9]\n"
     ]
    }
   ],
   "source": [
    "a = np.arange(2,10)\n",
    "print(a)\n",
    "print(a[:])\n",
    "print(a[2:])\n",
    "print(a[:4])\n",
    "print(a[1:4])\n",
    "print(a[:-2])\n",
    "\n",
    "a[2:4] = [22,33]\n",
    "print(a)"
   ]
  },
  {
   "cell_type": "code",
   "execution_count": 26,
   "id": "e6a3e64f",
   "metadata": {},
   "outputs": [
    {
     "name": "stdout",
     "output_type": "stream",
     "text": [
      "[[ 0  1  2  3  4  5  6  7  8  9]\n",
      " [10 11 12 13 14 15 16 17 18 19]\n",
      " [20 21 22 23 24 25 26 27 28 29]]\n",
      "[0 1 2 3 4 5 6 7 8 9]\n",
      "[ 0 10 20]\n",
      "[20 21 22 23 24 25 26 27 28 29]\n",
      "[ 9 19 29]\n",
      "[[ 1  2]\n",
      " [11 12]\n",
      " [21 22]]\n"
     ]
    }
   ],
   "source": [
    "a = np.arange(30).reshape(3,10)\n",
    "print(a)\n",
    "\n",
    "print(a[0,:])\n",
    "print(a[:,0])\n",
    "print(a[-1,:])\n",
    "print(a[:,-1])\n",
    "\n",
    "print(a[:,1:3])"
   ]
  },
  {
   "cell_type": "code",
   "execution_count": 27,
   "id": "b9fa5450",
   "metadata": {},
   "outputs": [
    {
     "name": "stdout",
     "output_type": "stream",
     "text": [
      "[[ 0  1  2  3  4  5  6  7  8  9]\n",
      " [20 21 22 23 24 25 26 27 28 29]]\n"
     ]
    }
   ],
   "source": [
    "print(a[::2, :])"
   ]
  },
  {
   "cell_type": "markdown",
   "id": "7583528e",
   "metadata": {},
   "source": [
    "## Manipulando os eixos/dimensões"
   ]
  },
  {
   "cell_type": "code",
   "execution_count": 33,
   "id": "1d7b62dc",
   "metadata": {},
   "outputs": [
    {
     "name": "stdout",
     "output_type": "stream",
     "text": [
      "[1 2]\n",
      "[3 4]\n",
      "[[1]\n",
      " [2]]\n",
      "(2, 1)\n",
      "[[1 2]]\n",
      "(1, 2)\n"
     ]
    }
   ],
   "source": [
    "lin = np.arange(1,3)\n",
    "col = np.arange(3,5)\n",
    "print(lin)\n",
    "print(col)\n",
    "\n",
    "a = lin[:,np.newaxis]\n",
    "print(a)\n",
    "print(a.shape)\n",
    "\n",
    "a = lin[np.newaxis,:]\n",
    "print(a)\n",
    "print(a.shape)"
   ]
  },
  {
   "cell_type": "code",
   "execution_count": 35,
   "id": "2ef2087a",
   "metadata": {},
   "outputs": [
    {
     "name": "stdout",
     "output_type": "stream",
     "text": [
      "[[4 5]\n",
      " [5 6]]\n",
      "(2, 2)\n"
     ]
    }
   ],
   "source": [
    "a = lin[:,np.newaxis]+col\n",
    "print(a)\n",
    "print(a.shape)"
   ]
  },
  {
   "cell_type": "code",
   "execution_count": 42,
   "id": "19a86644",
   "metadata": {},
   "outputs": [
    {
     "name": "stdout",
     "output_type": "stream",
     "text": [
      "[1 2 3 4 5]\n",
      "[[1 2 3 4 5]]\n",
      "[[1]\n",
      " [2]\n",
      " [3]\n",
      " [4]\n",
      " [5]]\n",
      "[[[1 2 3 4 5]]]\n"
     ]
    }
   ],
   "source": [
    "a = np.arange(1,6)\n",
    "print(a)\n",
    "b = np.expand_dims(a, axis=0)\n",
    "print(b)\n",
    "\n",
    "b = np.expand_dims(a, axis=1)\n",
    "print(b)\n",
    "\n",
    "b = np.expand_dims(a, axis=[0,1])\n",
    "print(b)"
   ]
  },
  {
   "cell_type": "code",
   "execution_count": 46,
   "id": "b6aeb2a3",
   "metadata": {},
   "outputs": [
    {
     "name": "stdout",
     "output_type": "stream",
     "text": [
      "[[ 0  1  2  3  4]\n",
      " [ 5  6  7  8  9]\n",
      " [10 11 12 13 14]]\n",
      "[[ 0  5 10]\n",
      " [ 1  6 11]\n",
      " [ 2  7 12]\n",
      " [ 3  8 13]\n",
      " [ 4  9 14]]\n"
     ]
    }
   ],
   "source": [
    "a = np.arange(15).reshape((3,5))\n",
    "print(a)\n",
    "print(a.T)"
   ]
  },
  {
   "cell_type": "code",
   "execution_count": 48,
   "id": "ab0dadae",
   "metadata": {},
   "outputs": [
    {
     "name": "stdout",
     "output_type": "stream",
     "text": [
      "[[ 0  5 10]\n",
      " [ 1  6 11]\n",
      " [ 2  7 12]\n",
      " [ 3  8 13]\n",
      " [ 4  9 14]]\n"
     ]
    }
   ],
   "source": [
    "print(a.swapaxes(0,1))"
   ]
  },
  {
   "cell_type": "code",
   "execution_count": 51,
   "id": "5d120f96",
   "metadata": {},
   "outputs": [
    {
     "name": "stdout",
     "output_type": "stream",
     "text": [
      "[[ 0  5 10]\n",
      " [ 1  6 11]\n",
      " [ 2  7 12]\n",
      " [ 3  8 13]\n",
      " [ 4  9 14]]\n"
     ]
    }
   ],
   "source": [
    "print(a.transpose(1,0))"
   ]
  },
  {
   "cell_type": "code",
   "execution_count": 52,
   "id": "763cb91c",
   "metadata": {},
   "outputs": [
    {
     "name": "stdout",
     "output_type": "stream",
     "text": [
      "[[-1.84709575  0.64016095  0.50712685]\n",
      " [-0.67331833 -1.24733824 -1.22208731]\n",
      " [ 1.0820081   2.07416537  1.22924764]\n",
      " [-0.42069391  1.82307707 -0.47947362]\n",
      " [ 0.75941037  1.19536132 -0.55449806]\n",
      " [-1.24736443  1.67003272  0.6116876 ]]\n",
      "[[ 7.34546733 -0.0406462   0.23382055]\n",
      " [-0.0406462  13.80932868  3.88325736]\n",
      " [ 0.23382055  3.88325736  4.17324958]]\n"
     ]
    }
   ],
   "source": [
    "a = np.random.randn(6,3)\n",
    "\n",
    "print(a)\n",
    "print(np.dot(a.T, a))"
   ]
  },
  {
   "cell_type": "markdown",
   "id": "338b9b0b",
   "metadata": {},
   "source": [
    "## Iterando pelos Elementos"
   ]
  },
  {
   "cell_type": "code",
   "execution_count": 58,
   "id": "5507237b",
   "metadata": {
    "scrolled": true
   },
   "outputs": [
    {
     "name": "stdout",
     "output_type": "stream",
     "text": [
      "1 2 3 \n",
      "4 5 6 \n",
      "\n",
      "1\n",
      "2\n",
      "3\n",
      "4\n",
      "5\n",
      "6\n",
      "\n",
      "1\n",
      "2\n",
      "3\n",
      "4\n",
      "5\n",
      "6\n"
     ]
    }
   ],
   "source": [
    "a = np.arange(1,7).reshape(2,3)\n",
    "\n",
    "for l in a:\n",
    "    for c in l:\n",
    "        print(c, end=' ')\n",
    "    print()\n",
    "    \n",
    "print()\n",
    "for i in np.nditer(a):\n",
    "    print(i)\n",
    "\n",
    "print()\n",
    "for i in a.flat:\n",
    "    print(i)"
   ]
  },
  {
   "cell_type": "markdown",
   "id": "12aea470",
   "metadata": {},
   "source": [
    "## Operações Aritméticas, Booleanas e Binárias"
   ]
  },
  {
   "cell_type": "code",
   "execution_count": 60,
   "id": "eec62b14",
   "metadata": {},
   "outputs": [
    {
     "name": "stdout",
     "output_type": "stream",
     "text": [
      "[[2. 2. 2.]\n",
      " [2. 2. 2.]\n",
      " [2. 2. 2.]]\n",
      "[[1. 1. 1.]\n",
      " [1. 1. 1.]\n",
      " [1. 1. 1.]]\n",
      "[[2. 2. 2.]\n",
      " [2. 2. 2.]\n",
      " [2. 2. 2.]]\n",
      "[[1. 1. 1.]\n",
      " [1. 1. 1.]\n",
      " [1. 1. 1.]]\n",
      "[[3. 3. 3.]\n",
      " [3. 3. 3.]\n",
      " [3. 3. 3.]]\n",
      "[[2. 2. 2.]\n",
      " [2. 2. 2.]\n",
      " [2. 2. 2.]]\n",
      "[[2. 2. 2.]\n",
      " [2. 2. 2.]\n",
      " [2. 2. 2.]]\n"
     ]
    }
   ],
   "source": [
    "a = np.full((3,3), 2.)\n",
    "b = np.ones_like(a)\n",
    "print(a)\n",
    "print(b)\n",
    "\n",
    "print(a*b)\n",
    "print(a-b)\n",
    "print(a+b)\n",
    "print(a/b)\n",
    "print(a**b)"
   ]
  },
  {
   "cell_type": "code",
   "execution_count": 64,
   "id": "dbe6d73b",
   "metadata": {},
   "outputs": [
    {
     "name": "stdout",
     "output_type": "stream",
     "text": [
      "[[6. 6. 6.]\n",
      " [6. 6. 6.]\n",
      " [6. 6. 6.]]\n",
      "[[10. 10. 10.]\n",
      " [10. 10. 10.]\n",
      " [10. 10. 10.]]\n",
      "[[5. 5. 5.]\n",
      " [5. 5. 5.]\n",
      " [5. 5. 5.]]\n"
     ]
    }
   ],
   "source": [
    "print(a*3)\n",
    "print(10*b)\n",
    "print(10/a)"
   ]
  },
  {
   "cell_type": "code",
   "execution_count": 67,
   "id": "66f51524",
   "metadata": {},
   "outputs": [
    {
     "name": "stdout",
     "output_type": "stream",
     "text": [
      "[[ True  True  True]\n",
      " [ True  True  True]\n",
      " [ True  True  True]]\n",
      "[[False False False]\n",
      " [False False False]\n",
      " [False False False]]\n",
      "[[False False False]\n",
      " [False False False]\n",
      " [False False False]]\n",
      "[[ True  True  True]\n",
      " [ True  True  True]\n",
      " [ True  True  True]]\n"
     ]
    }
   ],
   "source": [
    "print(a>b)\n",
    "print(a<b)\n",
    "print(a==b)\n",
    "\n",
    "print(a!=b)"
   ]
  },
  {
   "cell_type": "markdown",
   "id": "8b4669fd",
   "metadata": {},
   "source": [
    "## Arrays vs Listas"
   ]
  },
  {
   "cell_type": "code",
   "execution_count": 71,
   "id": "1938cf64",
   "metadata": {},
   "outputs": [
    {
     "name": "stdout",
     "output_type": "stream",
     "text": [
      "CPU times: user 93.7 ms, sys: 56.8 ms, total: 150 ms\n",
      "Wall time: 150 ms\n",
      "CPU times: user 3.8 s, sys: 932 ms, total: 4.73 s\n",
      "Wall time: 4.73 s\n"
     ]
    }
   ],
   "source": [
    "a1 = np.arange(10_000_000)\n",
    "l1 = list(range(10_000_000))\n",
    "\n",
    "%time for _ in range(10): a2 = a1 * 2\n",
    "    \n",
    "%time for _ in range(10): l2 = [x*2 for x in l1]"
   ]
  },
  {
   "cell_type": "markdown",
   "id": "10f6d0a9",
   "metadata": {},
   "source": [
    "## Operações Recorrentes"
   ]
  },
  {
   "cell_type": "markdown",
   "id": "b4ea25cb",
   "metadata": {},
   "source": [
    "### Concatenação"
   ]
  },
  {
   "cell_type": "code",
   "execution_count": 74,
   "id": "55c2482b",
   "metadata": {},
   "outputs": [
    {
     "name": "stdout",
     "output_type": "stream",
     "text": [
      "[[1 2 3]\n",
      " [4 5 6]]\n",
      "[[ 7  8  9]\n",
      " [10 11 12]]\n",
      "[[ 1  2  3]\n",
      " [ 4  5  6]\n",
      " [ 7  8  9]\n",
      " [10 11 12]]\n",
      "[[ 1  2  3  7  8  9]\n",
      " [ 4  5  6 10 11 12]]\n"
     ]
    }
   ],
   "source": [
    "a = np.arange(1,7).reshape(2,3)\n",
    "b = np.arange(7,13).reshape(2,3)\n",
    "\n",
    "print(a)\n",
    "print(b)\n",
    "\n",
    "c = np.concatenate([a,b])\n",
    "print(c)\n",
    "\n",
    "c = np.concatenate([a,b], axis=1)\n",
    "print(c)"
   ]
  },
  {
   "cell_type": "code",
   "execution_count": 80,
   "id": "929cc793",
   "metadata": {},
   "outputs": [
    {
     "name": "stdout",
     "output_type": "stream",
     "text": [
      "[[[ 1  2  3]\n",
      "  [ 4  5  6]]\n",
      "\n",
      " [[ 7  8  9]\n",
      "  [10 11 12]]]\n",
      "(2, 2, 3)\n",
      "[[[ 1  7]\n",
      "  [ 2  8]\n",
      "  [ 3  9]]\n",
      "\n",
      " [[ 4 10]\n",
      "  [ 5 11]\n",
      "  [ 6 12]]]\n",
      "(2, 3, 2)\n"
     ]
    }
   ],
   "source": [
    "c = np.stack([a,b])\n",
    "print(c)\n",
    "print(c.shape)\n",
    "\n",
    "c = np.dstack([a,b])\n",
    "print(c)\n",
    "print(c.shape)\n"
   ]
  },
  {
   "cell_type": "code",
   "execution_count": 81,
   "id": "410ca0fa",
   "metadata": {},
   "outputs": [
    {
     "name": "stdout",
     "output_type": "stream",
     "text": [
      "[[ 1  2  3]\n",
      " [ 4  5  6]\n",
      " [ 7  8  9]\n",
      " [10 11 12]]\n",
      "(4, 3)\n",
      "[[ 1  2  3  7  8  9]\n",
      " [ 4  5  6 10 11 12]]\n",
      "(2, 6)\n"
     ]
    }
   ],
   "source": [
    "c = np.vstack([a,b])\n",
    "print(c)\n",
    "print(c.shape)\n",
    "\n",
    "c = np.hstack([a,b])\n",
    "print(c)\n",
    "print(c.shape)"
   ]
  },
  {
   "cell_type": "markdown",
   "id": "5555b884",
   "metadata": {},
   "source": [
    "### Separar"
   ]
  },
  {
   "cell_type": "code",
   "execution_count": 87,
   "id": "fdfe0870",
   "metadata": {},
   "outputs": [
    {
     "name": "stdout",
     "output_type": "stream",
     "text": [
      "[[1 2 3]\n",
      " [4 5 6]]\n",
      "[array([[1, 2, 3]]), array([[4, 5, 6]])]\n",
      "[array([[1],\n",
      "       [4]]), array([[2],\n",
      "       [5]]), array([[3],\n",
      "       [6]])]\n"
     ]
    }
   ],
   "source": [
    "print(a)\n",
    "print(np.split(a,2))\n",
    "\n",
    "print(np.hsplit(a,3))"
   ]
  },
  {
   "cell_type": "markdown",
   "id": "034540c9",
   "metadata": {},
   "source": [
    "### Copiar"
   ]
  },
  {
   "cell_type": "code",
   "execution_count": 88,
   "id": "c953af98",
   "metadata": {},
   "outputs": [
    {
     "name": "stdout",
     "output_type": "stream",
     "text": [
      "[[1 2 3]\n",
      " [4 5 6]]\n"
     ]
    }
   ],
   "source": [
    "d = np.copy(a)\n",
    "print(d)"
   ]
  },
  {
   "cell_type": "markdown",
   "id": "92de34dd",
   "metadata": {},
   "source": [
    "## Métodos Matemáticos e Estatisticas"
   ]
  },
  {
   "cell_type": "code",
   "execution_count": 92,
   "id": "98cc6962",
   "metadata": {},
   "outputs": [
    {
     "name": "stdout",
     "output_type": "stream",
     "text": [
      "[[1.         1.41421356 1.73205081]\n",
      " [2.         2.23606798 2.44948974]]\n",
      "[[  2.71828183   7.3890561   20.08553692]\n",
      " [ 54.59815003 148.4131591  403.42879349]]\n",
      "[[ 7  8  9]\n",
      " [10 11 12]]\n"
     ]
    }
   ],
   "source": [
    "print(np.sqrt(a))\n",
    "print(np.exp(a))\n",
    "print(np.maximum(a,b))"
   ]
  },
  {
   "cell_type": "code",
   "execution_count": 98,
   "id": "93a3179d",
   "metadata": {},
   "outputs": [
    {
     "name": "stdout",
     "output_type": "stream",
     "text": [
      "3.5\n",
      "3.5\n",
      "21\n",
      "[ 1  3  6 10 15 21]\n",
      "[[1 2 3]\n",
      " [5 7 9]]\n",
      "[[ 1  3  6]\n",
      " [ 4  9 15]]\n"
     ]
    }
   ],
   "source": [
    "print(np.mean(a))\n",
    "print(a.mean())\n",
    "\n",
    "print(a.sum())\n",
    "print(a.cumsum())\n",
    "\n",
    "print(a.cumsum(axis=0))\n",
    "print(a.cumsum(axis=1))"
   ]
  },
  {
   "cell_type": "markdown",
   "id": "bb39736e",
   "metadata": {},
   "source": [
    "## Funções para Manipulação de Dados"
   ]
  },
  {
   "cell_type": "code",
   "execution_count": 102,
   "id": "84da80f5",
   "metadata": {},
   "outputs": [
    {
     "name": "stdout",
     "output_type": "stream",
     "text": [
      "['Dalvan' 'Carlos' 'Vitor' 'Carlos' 'Luciano' 'Betina']\n",
      "['Betina' 'Carlos' 'Dalvan' 'Luciano' 'Vitor']\n",
      "(array(['Betina', 'Carlos', 'Dalvan', 'Luciano', 'Vitor'], dtype='<U7'), array([5, 1, 0, 4, 2]))\n",
      "(array(['Betina', 'Carlos', 'Dalvan', 'Luciano', 'Vitor'], dtype='<U7'), array([1, 2, 1, 1, 1]))\n"
     ]
    }
   ],
   "source": [
    "nome = np.array(['Dalvan', 'Carlos', \"Vitor\", 'Carlos', \"Luciano\", \"Betina\"])\n",
    "\n",
    "print(nome)\n",
    "print(np.unique(nome))\n",
    "\n",
    "print(np.unique(nome, return_index=True))\n",
    "\n",
    "print(np.unique(nome, return_counts=True))"
   ]
  },
  {
   "cell_type": "code",
   "execution_count": 111,
   "id": "6323bdbc",
   "metadata": {},
   "outputs": [
    {
     "name": "stdout",
     "output_type": "stream",
     "text": [
      "[[0 1 2]\n",
      " [3 4 5]\n",
      " [6 7 8]]\n",
      "\n",
      "[[0 1 2]\n",
      " [3 4 5]\n",
      " [6 7 8]]\n",
      "[0 1 2]\n",
      "[1 1 1]\n"
     ]
    }
   ],
   "source": [
    "a = np.arange(9).reshape(3,3)\n",
    "print(a)\n",
    "\n",
    "valores_linhas, indices, ocorrencia = np.unique(a, \n",
    "                                               axis=0, \n",
    "                                               return_counts=True,\n",
    "                                           return_index=True)\n",
    "print()\n",
    "print(valores_linhas)\n",
    "print(indices)\n",
    "print(ocorrencia)"
   ]
  },
  {
   "cell_type": "markdown",
   "id": "36b055aa",
   "metadata": {},
   "source": [
    "## Visualização de Dados Vetoriais"
   ]
  },
  {
   "cell_type": "code",
   "execution_count": 115,
   "id": "af9857ff",
   "metadata": {},
   "outputs": [
    {
     "data": {
      "text/plain": [
       "[<matplotlib.lines.Line2D at 0x7f778ad43fd0>]"
      ]
     },
     "execution_count": 115,
     "metadata": {},
     "output_type": "execute_result"
    },
    {
     "data": {
      "image/png": "[encoded data removed]",
      "text/plain": [
       "<Figure size 432x288 with 1 Axes>"
      ]
     },
     "metadata": {
      "needs_background": "light"
     },
     "output_type": "display_data"
    }
   ],
   "source": [
    "import matplotlib.pyplot as plt\n",
    "\n",
    "a = np.arange(30)\n",
    "\n",
    "plt.plot(a)"
   ]
  },
  {
   "cell_type": "code",
   "execution_count": 142,
   "id": "df40bb96",
   "metadata": {},
   "outputs": [
    {
     "name": "stdout",
     "output_type": "stream",
     "text": [
      "[ 0.47143516 -1.19097569  1.43270697 -0.3126519  -0.72058873  0.88716294\n",
      "  0.85958841 -0.6365235   0.01569637 -2.24268495]\n",
      "[ 2.72644884  1.19093329  0.29382871  1.87646072 -0.44175107 -0.19154023\n",
      " -0.57180268 -2.10455754  1.46008266  1.19251383]\n",
      "[ 1.42317707 -0.43982057 -1.12019256 -0.12539387 -0.36371566 -1.64089226\n",
      "  0.20259607  1.32410612 -0.54842869  0.48289355]\n"
     ]
    }
   ],
   "source": [
    "rs = np.random.RandomState(1234)\n",
    "rs2 = np.random.RandomState(678)\n",
    "print(rs.randn(10))\n",
    "print(rs2.randn(10))\n",
    "print(np.random.randn(10))"
   ]
  },
  {
   "cell_type": "code",
   "execution_count": 220,
   "id": "e8dbefc2",
   "metadata": {},
   "outputs": [
    {
     "name": "stdout",
     "output_type": "stream",
     "text": [
      "7\n"
     ]
    }
   ],
   "source": [
    "print(rs2.randint(2,10))"
   ]
  }
 ],
 "metadata": {
  "kernelspec": {
   "display_name": "Python 3 (ipykernel)",
   "language": "python",
   "name": "python3"
  },
  "language_info": {
   "codemirror_mode": {
    "name": "ipython",
    "version": 3
   },
   "file_extension": ".py",
   "mimetype": "text/x-python",
   "name": "python",
   "nbconvert_exporter": "python",
   "pygments_lexer": "ipython3",
   "version": "3.8.8"
  }
 },
 "nbformat": 4,
 "nbformat_minor": 5
}
