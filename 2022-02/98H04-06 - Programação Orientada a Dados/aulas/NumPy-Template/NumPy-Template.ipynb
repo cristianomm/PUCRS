{
 "cells": [
  {
   "cell_type": "markdown",
   "id": "662ac30f",
   "metadata": {},
   "source": [
    "# [Prof. Dalvan Griebler](mailto:dalvan.griebler@pucrs.br)\n",
    "\n",
    "## Programação Orientada a Dados (POD) - Turma 10 (POD_98H04-06)\n",
    "\n",
    "**Atualizado**: 29/10/2021\n",
    "\n",
    "**Descrição**: Material de apoio as aulas sobre Python para POD\n",
    "\n",
    "**Copyright &copy;**: Este documento está sob a licensa da Criative Commons [BY-NC-ND 4.0](https://creativecommons.org/licenses/by-nc-nd/4.0/legalcode)"
   ]
  },
  {
   "cell_type": "markdown",
   "id": "7b542cfd",
   "metadata": {},
   "source": [
    "# Manipulação Vetorial de Dados com NumPy"
   ]
  },
  {
   "cell_type": "code",
   "execution_count": null,
   "id": "50f5d8a8",
   "metadata": {},
   "outputs": [],
   "source": [
    "import numpy as np"
   ]
  },
  {
   "cell_type": "code",
   "execution_count": null,
   "id": "fd1cd4b3",
   "metadata": {},
   "outputs": [],
   "source": []
  },
  {
   "cell_type": "markdown",
   "id": "b2ebdce1",
   "metadata": {},
   "source": [
    "## Transformações"
   ]
  },
  {
   "cell_type": "code",
   "execution_count": null,
   "id": "db784f4d",
   "metadata": {},
   "outputs": [],
   "source": []
  },
  {
   "cell_type": "markdown",
   "id": "10a2ff6a",
   "metadata": {},
   "source": [
    "## Criação de Arrays"
   ]
  },
  {
   "cell_type": "code",
   "execution_count": null,
   "id": "21dd51f4",
   "metadata": {},
   "outputs": [],
   "source": []
  },
  {
   "cell_type": "markdown",
   "id": "69796bf2",
   "metadata": {},
   "source": [
    "## Arquivos"
   ]
  },
  {
   "cell_type": "code",
   "execution_count": null,
   "id": "0088e6b7",
   "metadata": {},
   "outputs": [],
   "source": []
  },
  {
   "cell_type": "markdown",
   "id": "348898d1",
   "metadata": {},
   "source": [
    "## Indexação e Fatiamento"
   ]
  },
  {
   "cell_type": "code",
   "execution_count": null,
   "id": "0eb6736e",
   "metadata": {},
   "outputs": [],
   "source": []
  },
  {
   "cell_type": "markdown",
   "id": "7583528e",
   "metadata": {},
   "source": [
    "## Manipulando os eixos/dimensões"
   ]
  },
  {
   "cell_type": "code",
   "execution_count": null,
   "id": "1d7b62dc",
   "metadata": {},
   "outputs": [],
   "source": []
  },
  {
   "cell_type": "markdown",
   "id": "338b9b0b",
   "metadata": {},
   "source": [
    "## Iterando pelos Elementos"
   ]
  },
  {
   "cell_type": "code",
   "execution_count": null,
   "id": "5507237b",
   "metadata": {
    "scrolled": true
   },
   "outputs": [],
   "source": []
  },
  {
   "cell_type": "markdown",
   "id": "12aea470",
   "metadata": {},
   "source": [
    "## Operações Aritméticas, Booleanas e Binárias"
   ]
  },
  {
   "cell_type": "code",
   "execution_count": null,
   "id": "eec62b14",
   "metadata": {},
   "outputs": [],
   "source": []
  },
  {
   "cell_type": "markdown",
   "id": "8b4669fd",
   "metadata": {},
   "source": [
    "## Arrays vs Listas"
   ]
  },
  {
   "cell_type": "code",
   "execution_count": null,
   "id": "1938cf64",
   "metadata": {},
   "outputs": [],
   "source": []
  },
  {
   "cell_type": "markdown",
   "id": "10f6d0a9",
   "metadata": {},
   "source": [
    "## Operações Recorrentes"
   ]
  },
  {
   "cell_type": "markdown",
   "id": "b4ea25cb",
   "metadata": {},
   "source": [
    "### Concatenação"
   ]
  },
  {
   "cell_type": "code",
   "execution_count": null,
   "id": "55c2482b",
   "metadata": {},
   "outputs": [],
   "source": []
  },
  {
   "cell_type": "markdown",
   "id": "5555b884",
   "metadata": {},
   "source": [
    "### Separar"
   ]
  },
  {
   "cell_type": "code",
   "execution_count": null,
   "id": "fdfe0870",
   "metadata": {},
   "outputs": [],
   "source": []
  },
  {
   "cell_type": "markdown",
   "id": "034540c9",
   "metadata": {},
   "source": [
    "### Copiar"
   ]
  },
  {
   "cell_type": "code",
   "execution_count": null,
   "id": "c953af98",
   "metadata": {},
   "outputs": [],
   "source": []
  },
  {
   "cell_type": "markdown",
   "id": "92de34dd",
   "metadata": {},
   "source": [
    "## Métodos Matemáticos e Estatisticas"
   ]
  },
  {
   "cell_type": "code",
   "execution_count": null,
   "id": "98cc6962",
   "metadata": {},
   "outputs": [],
   "source": []
  },
  {
   "cell_type": "markdown",
   "id": "bb39736e",
   "metadata": {},
   "source": [
    "## Funções para Manipulação de Dados"
   ]
  },
  {
   "cell_type": "code",
   "execution_count": null,
   "id": "84da80f5",
   "metadata": {},
   "outputs": [],
   "source": []
  },
  {
   "cell_type": "markdown",
   "id": "36b055aa",
   "metadata": {},
   "source": [
    "## Visualização de Dados Vetoriais"
   ]
  },
  {
   "cell_type": "code",
   "execution_count": null,
   "id": "af9857ff",
   "metadata": {},
   "outputs": [],
   "source": []
  }
 ],
 "metadata": {
  "kernelspec": {
   "display_name": "Python 3",
   "language": "python",
   "name": "python3"
  },
  "language_info": {
   "codemirror_mode": {
    "name": "ipython",
    "version": 3
   },
   "file_extension": ".py",
   "mimetype": "text/x-python",
   "name": "python",
   "nbconvert_exporter": "python",
   "pygments_lexer": "ipython3",
   "version": "3.8.8"
  }
 },
 "nbformat": 4,
 "nbformat_minor": 5
}
