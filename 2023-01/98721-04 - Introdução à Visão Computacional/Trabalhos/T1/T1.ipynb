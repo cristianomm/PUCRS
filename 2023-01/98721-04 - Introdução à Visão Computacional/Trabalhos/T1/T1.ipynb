{
 "cells": [
  {
   "cell_type": "code",
   "execution_count": 4,
   "metadata": {},
   "outputs": [],
   "source": [
    "import os\n",
    "import requests\n",
    "from datetime import datetime\n",
    "import pandas as pd\n",
    "from googlesearch import search\n",
    "from bs4 import BeautifulSoup\n",
    "from urllib.parse import urljoin"
   ]
  },
  {
   "cell_type": "code",
   "execution_count": null,
   "metadata": {},
   "outputs": [],
   "source": []
  },
  {
   "cell_type": "code",
   "execution_count": 5,
   "metadata": {},
   "outputs": [],
   "source": [
    "class ImageCoinCrawler:\n",
    "    def __init__(self):\n",
    "        self.download_folder = 'coin_images'\n",
    "\n",
    "        if not os.path.exists('visited_pages.csv'):\n",
    "            self.visited_pages = []\n",
    "        else:\n",
    "            self.visited_pages = pd.read_csv('visited_pages.csv')['0'].values.tolist()\n",
    "\n",
    "        if not os.path.exists('image_urls.csv'):\n",
    "            self.image_urls = []\n",
    "        else:\n",
    "            self.image_urls = pd.read_csv('image_urls.csv')['0'].values.tolist()\n",
    "\n",
    "    def is_valid_image_url(self, url):\n",
    "        image_extensions = ['.jpg', '.jpeg', '.png', '.gif']\n",
    "        return any(url.lower().endswith(ext) for ext in image_extensions)\n",
    "    \n",
    "    def is_valid_image_name(self, url):\n",
    "        image_contains = ['moeda', 'moedas', 'coin', 'centavo', 'centavos', 'real', 'reais', 'dinheiro', 'money', 'currency']\n",
    "        return any(nm in url.lower() for nm in image_contains)\n",
    "    \n",
    "    def update_visited_pages(self):\n",
    "        pd.DataFrame(self.visited_pages).to_csv('visited_pages.csv', index=False)\n",
    "\n",
    "    def update_image_urls(self):\n",
    "        pd.DataFrame(self.image_urls).to_csv('image_urls.csv', index=False)\n",
    "\n",
    "    def get_image_urls(self, query, num_results=50):\n",
    "\n",
    "        results = search(query, num_results=num_results, sleep_interval=15, timeout=3, lang='pt')\n",
    "        for page_url in results:\n",
    "            try:\n",
    "                if page_url in self.visited_pages:\n",
    "                    continue\n",
    "                \n",
    "                print('loading page: ', page_url, '...')\n",
    "                self.visited_pages.append(page_url)\n",
    "\n",
    "                response = requests.get(page_url)\n",
    "                soup = BeautifulSoup(response.text, 'html.parser')\n",
    "\n",
    "                for img_tag in soup.find_all('img'):\n",
    "                    img_url = img_tag.get('src')\n",
    "\n",
    "                    if not self.is_valid_image_url(img_url):\n",
    "                        continue\n",
    "                    \n",
    "                    full_img_url = urljoin(page_url, img_url)\n",
    "                    if full_img_url not in self.image_urls:\n",
    "                        print('---------- found image: ', full_img_url)\n",
    "                        self.image_urls.append(full_img_url)\n",
    "                        self.update_image_urls()\n",
    "\n",
    "                self.update_visited_pages()\n",
    "            except:\n",
    "                continue\n",
    "\n",
    "    def download_images(self, urls):\n",
    "        if not os.path.exists(self.download_folder):\n",
    "            os.makedirs(self.download_folder)\n",
    "\n",
    "        for i, url in enumerate(urls):\n",
    "            try:\n",
    "                response = requests.get(url)\n",
    "                file_ext = os.path.splitext(url)[-1].split('?')[0]\n",
    "                file_path = os.path.join(self.download_folder, f'coin_{i}{file_ext}')\n",
    "                with open(file_path, 'wb') as f:\n",
    "                    f.write(response.content)\n",
    "            except:\n",
    "                continue"
   ]
  },
  {
   "cell_type": "code",
   "execution_count": 6,
   "metadata": {},
   "outputs": [
    {
     "ename": "HTTPError",
     "evalue": "429 Client Error: Too Many Requests for url: https://www.google.com/sorry/index?continue=https://www.google.com/search%3Fq%3Dmoedas%252Bbrasileiras%26num%3D152%26hl%3Dpt%26start%3D0&hl=pt&q=EgS9BvjtGOfo4KEGIjBhIfaVlNr0DyhCESOGeoKJnpNUBYqGdte3pfOrsNTfgJTZHVOvhS14ifVMspb1MhgyAXI",
     "output_type": "error",
     "traceback": [
      "\u001b[1;31m---------------------------------------------------------------------------\u001b[0m",
      "\u001b[1;31mHTTPError\u001b[0m                                 Traceback (most recent call last)",
      "\u001b[1;32mc:\\Users\\10087940\\Documents\\GitHub\\PUCRS\\2023-01\\98721-04 - Introdução à Visão Computacional\\Trabalhos\\T1\\T1.ipynb Cell 4\u001b[0m in \u001b[0;36m5\n\u001b[0;32m      <a href='vscode-notebook-cell:/c%3A/Users/10087940/Documents/GitHub/PUCRS/2023-01/98721-04%20-%20Introdu%C3%A7%C3%A3o%20%C3%A0%20Vis%C3%A3o%20Computacional/Trabalhos/T1/T1.ipynb#W3sZmlsZQ%3D%3D?line=1'>2</a>\u001b[0m num_images \u001b[39m=\u001b[39m \u001b[39m150\u001b[39m\n\u001b[0;32m      <a href='vscode-notebook-cell:/c%3A/Users/10087940/Documents/GitHub/PUCRS/2023-01/98721-04%20-%20Introdu%C3%A7%C3%A3o%20%C3%A0%20Vis%C3%A3o%20Computacional/Trabalhos/T1/T1.ipynb#W3sZmlsZQ%3D%3D?line=3'>4</a>\u001b[0m imageCoin \u001b[39m=\u001b[39m ImageCoinCrawler()\n\u001b[1;32m----> <a href='vscode-notebook-cell:/c%3A/Users/10087940/Documents/GitHub/PUCRS/2023-01/98721-04%20-%20Introdu%C3%A7%C3%A3o%20%C3%A0%20Vis%C3%A3o%20Computacional/Trabalhos/T1/T1.ipynb#W3sZmlsZQ%3D%3D?line=4'>5</a>\u001b[0m imageCoin\u001b[39m.\u001b[39;49mget_image_urls(coin_query, num_results\u001b[39m=\u001b[39;49mnum_images)\n\u001b[0;32m      <a href='vscode-notebook-cell:/c%3A/Users/10087940/Documents/GitHub/PUCRS/2023-01/98721-04%20-%20Introdu%C3%A7%C3%A3o%20%C3%A0%20Vis%C3%A3o%20Computacional/Trabalhos/T1/T1.ipynb#W3sZmlsZQ%3D%3D?line=6'>7</a>\u001b[0m imageCoin\u001b[39m.\u001b[39mdownload_images(imageCoin\u001b[39m.\u001b[39mimage_urls)\n",
      "\u001b[1;32mc:\\Users\\10087940\\Documents\\GitHub\\PUCRS\\2023-01\\98721-04 - Introdução à Visão Computacional\\Trabalhos\\T1\\T1.ipynb Cell 4\u001b[0m in \u001b[0;36m3\n\u001b[0;32m     <a href='vscode-notebook-cell:/c%3A/Users/10087940/Documents/GitHub/PUCRS/2023-01/98721-04%20-%20Introdu%C3%A7%C3%A3o%20%C3%A0%20Vis%C3%A3o%20Computacional/Trabalhos/T1/T1.ipynb#W3sZmlsZQ%3D%3D?line=28'>29</a>\u001b[0m \u001b[39mdef\u001b[39;00m \u001b[39mget_image_urls\u001b[39m(\u001b[39mself\u001b[39m, query, num_results\u001b[39m=\u001b[39m\u001b[39m50\u001b[39m):\n\u001b[0;32m     <a href='vscode-notebook-cell:/c%3A/Users/10087940/Documents/GitHub/PUCRS/2023-01/98721-04%20-%20Introdu%C3%A7%C3%A3o%20%C3%A0%20Vis%C3%A3o%20Computacional/Trabalhos/T1/T1.ipynb#W3sZmlsZQ%3D%3D?line=30'>31</a>\u001b[0m     results \u001b[39m=\u001b[39m search(query, num_results\u001b[39m=\u001b[39mnum_results, sleep_interval\u001b[39m=\u001b[39m\u001b[39m5\u001b[39m, timeout\u001b[39m=\u001b[39m\u001b[39m3\u001b[39m, lang\u001b[39m=\u001b[39m\u001b[39m'\u001b[39m\u001b[39mpt\u001b[39m\u001b[39m'\u001b[39m)\n\u001b[1;32m---> <a href='vscode-notebook-cell:/c%3A/Users/10087940/Documents/GitHub/PUCRS/2023-01/98721-04%20-%20Introdu%C3%A7%C3%A3o%20%C3%A0%20Vis%C3%A3o%20Computacional/Trabalhos/T1/T1.ipynb#W3sZmlsZQ%3D%3D?line=31'>32</a>\u001b[0m     \u001b[39mfor\u001b[39;00m page_url \u001b[39min\u001b[39;00m results:\n\u001b[0;32m     <a href='vscode-notebook-cell:/c%3A/Users/10087940/Documents/GitHub/PUCRS/2023-01/98721-04%20-%20Introdu%C3%A7%C3%A3o%20%C3%A0%20Vis%C3%A3o%20Computacional/Trabalhos/T1/T1.ipynb#W3sZmlsZQ%3D%3D?line=32'>33</a>\u001b[0m         \u001b[39mtry\u001b[39;00m:\n\u001b[0;32m     <a href='vscode-notebook-cell:/c%3A/Users/10087940/Documents/GitHub/PUCRS/2023-01/98721-04%20-%20Introdu%C3%A7%C3%A3o%20%C3%A0%20Vis%C3%A3o%20Computacional/Trabalhos/T1/T1.ipynb#W3sZmlsZQ%3D%3D?line=33'>34</a>\u001b[0m             \u001b[39mif\u001b[39;00m page_url \u001b[39min\u001b[39;00m \u001b[39mself\u001b[39m\u001b[39m.\u001b[39mvisited_pages:\n",
      "File \u001b[1;32mc:\\Programs\\Anaconda3\\envs\\ivc\\lib\\site-packages\\googlesearch\\__init__.py:54\u001b[0m, in \u001b[0;36msearch\u001b[1;34m(term, num_results, lang, proxy, advanced, sleep_interval, timeout)\u001b[0m\n\u001b[0;32m     51\u001b[0m start \u001b[39m=\u001b[39m \u001b[39m0\u001b[39m\n\u001b[0;32m     52\u001b[0m \u001b[39mwhile\u001b[39;00m start \u001b[39m<\u001b[39m num_results:\n\u001b[0;32m     53\u001b[0m     \u001b[39m# Send request\u001b[39;00m\n\u001b[1;32m---> 54\u001b[0m     resp \u001b[39m=\u001b[39m _req(escaped_term, num_results \u001b[39m-\u001b[39;49m start,\n\u001b[0;32m     55\u001b[0m                 lang, start, proxies, timeout)\n\u001b[0;32m     57\u001b[0m     \u001b[39m# Parse\u001b[39;00m\n\u001b[0;32m     58\u001b[0m     soup \u001b[39m=\u001b[39m BeautifulSoup(resp\u001b[39m.\u001b[39mtext, \u001b[39m\"\u001b[39m\u001b[39mhtml.parser\u001b[39m\u001b[39m\"\u001b[39m)\n",
      "File \u001b[1;32mc:\\Programs\\Anaconda3\\envs\\ivc\\lib\\site-packages\\googlesearch\\__init__.py:23\u001b[0m, in \u001b[0;36m_req\u001b[1;34m(term, results, lang, start, proxies, timeout)\u001b[0m\n\u001b[0;32m      8\u001b[0m \u001b[39mdef\u001b[39;00m \u001b[39m_req\u001b[39m(term, results, lang, start, proxies, timeout):\n\u001b[0;32m      9\u001b[0m     resp \u001b[39m=\u001b[39m get(\n\u001b[0;32m     10\u001b[0m         url\u001b[39m=\u001b[39m\u001b[39m\"\u001b[39m\u001b[39mhttps://www.google.com/search\u001b[39m\u001b[39m\"\u001b[39m,\n\u001b[0;32m     11\u001b[0m         headers\u001b[39m=\u001b[39m{\n\u001b[1;32m   (...)\u001b[0m\n\u001b[0;32m     21\u001b[0m         timeout\u001b[39m=\u001b[39mtimeout,\n\u001b[0;32m     22\u001b[0m     )\n\u001b[1;32m---> 23\u001b[0m     resp\u001b[39m.\u001b[39;49mraise_for_status()\n\u001b[0;32m     24\u001b[0m     \u001b[39mreturn\u001b[39;00m resp\n",
      "File \u001b[1;32mc:\\Programs\\Anaconda3\\envs\\ivc\\lib\\site-packages\\requests\\models.py:1021\u001b[0m, in \u001b[0;36mResponse.raise_for_status\u001b[1;34m(self)\u001b[0m\n\u001b[0;32m   1016\u001b[0m     http_error_msg \u001b[39m=\u001b[39m (\n\u001b[0;32m   1017\u001b[0m         \u001b[39mf\u001b[39m\u001b[39m\"\u001b[39m\u001b[39m{\u001b[39;00m\u001b[39mself\u001b[39m\u001b[39m.\u001b[39mstatus_code\u001b[39m}\u001b[39;00m\u001b[39m Server Error: \u001b[39m\u001b[39m{\u001b[39;00mreason\u001b[39m}\u001b[39;00m\u001b[39m for url: \u001b[39m\u001b[39m{\u001b[39;00m\u001b[39mself\u001b[39m\u001b[39m.\u001b[39murl\u001b[39m}\u001b[39;00m\u001b[39m\"\u001b[39m\n\u001b[0;32m   1018\u001b[0m     )\n\u001b[0;32m   1020\u001b[0m \u001b[39mif\u001b[39;00m http_error_msg:\n\u001b[1;32m-> 1021\u001b[0m     \u001b[39mraise\u001b[39;00m HTTPError(http_error_msg, response\u001b[39m=\u001b[39m\u001b[39mself\u001b[39m)\n",
      "\u001b[1;31mHTTPError\u001b[0m: 429 Client Error: Too Many Requests for url: https://www.google.com/sorry/index?continue=https://www.google.com/search%3Fq%3Dmoedas%252Bbrasileiras%26num%3D152%26hl%3Dpt%26start%3D0&hl=pt&q=EgS9BvjtGOfo4KEGIjBhIfaVlNr0DyhCESOGeoKJnpNUBYqGdte3pfOrsNTfgJTZHVOvhS14ifVMspb1MhgyAXI"
     ]
    }
   ],
   "source": [
    "coin_query = 'moedas brasileiras'\n",
    "num_images = 150\n",
    "\n",
    "imageCoin = ImageCoinCrawler()\n",
    "imageCoin.get_image_urls(coin_query, num_results=num_images)\n",
    "\n",
    "imageCoin.download_images(imageCoin.image_urls)"
   ]
  },
  {
   "cell_type": "code",
   "execution_count": null,
   "metadata": {},
   "outputs": [],
   "source": []
  },
  {
   "cell_type": "code",
   "execution_count": null,
   "metadata": {},
   "outputs": [],
   "source": []
  }
 ],
 "metadata": {
  "kernelspec": {
   "display_name": "ivc",
   "language": "python",
   "name": "python3"
  },
  "language_info": {
   "codemirror_mode": {
    "name": "ipython",
    "version": 3
   },
   "file_extension": ".py",
   "mimetype": "text/x-python",
   "name": "python",
   "nbconvert_exporter": "python",
   "pygments_lexer": "ipython3",
   "version": "3.10.10"
  },
  "orig_nbformat": 4
 },
 "nbformat": 4,
 "nbformat_minor": 2
}
