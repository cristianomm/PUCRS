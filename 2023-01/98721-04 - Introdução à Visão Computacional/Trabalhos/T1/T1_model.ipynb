{
 "cells": [
  {
   "cell_type": "code",
   "execution_count": null,
   "metadata": {},
   "outputs": [],
   "source": []
  },
  {
   "attachments": {},
   "cell_type": "markdown",
   "metadata": {},
   "source": [
    "#### 1 - Localiza cada moeda, extraindo da imagem um array com cada uma das localizações\n",
    "#### 2 - em cada recorte da imagem original, transforma em B&W, escala o recorte e extrai as features\n",
    "#### 3 - passa cada um dos recortes para as MLP's e armazena o resultado de cada imagem\n",
    "#### 4 - Avalia as probabilidades de cada resultado e informa o resultado com maior probabilidade como resposta"
   ]
  },
  {
   "cell_type": "code",
   "execution_count": null,
   "metadata": {},
   "outputs": [],
   "source": [
    "###"
   ]
  },
  {
   "cell_type": "code",
   "execution_count": 7,
   "metadata": {},
   "outputs": [],
   "source": [
    "import os\n",
    "import cv2\n",
    "import numpy as np\n",
    "from minisom import MiniSom\n",
    "\n",
    "path_images = 'coin_images/train/1-c/'\n",
    "coin_img = '1-c_2002_10.jpg'"
   ]
  },
  {
   "cell_type": "code",
   "execution_count": 13,
   "metadata": {},
   "outputs": [],
   "source": [
    "# Inicialize as listas para armazenar as características e os rótulos\n",
    "features = []\n",
    "labels = []\n",
    "\n",
    "# Para cada diretório na pasta atual\n",
    "for dir_name in [path_images]:#os.listdir('.'):\n",
    "    if os.path.isdir(dir_name):\n",
    "\n",
    "        # Para cada arquivo no diretório\n",
    "        for file_name in os.listdir(dir_name):\n",
    "\n",
    "            # Se o arquivo for uma imagem\n",
    "            if (file_name.endswith('.png') or file_name.endswith('.jpg')) and file_name.endswith('_gs.jpg'):\n",
    "\n",
    "                # Carregue a imagem em escala de cinza\n",
    "                img_path = os.path.join(dir_name, file_name)\n",
    "                image = cv2.imread(img_path, cv2.IMREAD_GRAYSCALE)\n",
    "\n",
    "                # Redimensione a imagem para 64x64 pixels\n",
    "                image_resized = cv2.resize(image, (128, 128))\n",
    "\n",
    "                # Achate a imagem em um vetor\n",
    "                feature = image_resized.flatten()\n",
    "\n",
    "                # Normalize as características para terem uma média de 0 e um desvio padrão de 1\n",
    "                feature = (feature - np.mean(feature)) / np.std(feature)\n",
    "\n",
    "                # Adicione as características e o rótulo às suas respectivas listas\n",
    "                features.append(feature)\n",
    "                labels.append(dir_name)  # assumindo que o nome do diretório é o rótulo\n",
    "\n",
    "# Converta as listas em arrays numpy\n",
    "features = np.array(features)\n",
    "labels = np.array(labels)\n"
   ]
  },
  {
   "cell_type": "code",
   "execution_count": 14,
   "metadata": {},
   "outputs": [
    {
     "ename": "AttributeError",
     "evalue": "'MiniSom' object has no attribute 'weights'",
     "output_type": "error",
     "traceback": [
      "\u001b[1;31m---------------------------------------------------------------------------\u001b[0m",
      "\u001b[1;31mAttributeError\u001b[0m                            Traceback (most recent call last)",
      "\u001b[1;32mc:\\Users\\crist\\GitHub\\PUCRS\\2023-01\\98721-04 - Introdução à Visão Computacional\\Trabalhos\\T1\\T1_model.ipynb Cell 6\u001b[0m in \u001b[0;36m3\n\u001b[0;32m     <a href='vscode-notebook-cell:/c%3A/Users/crist/GitHub/PUCRS/2023-01/98721-04%20-%20Introdu%C3%A7%C3%A3o%20%C3%A0%20Vis%C3%A3o%20Computacional/Trabalhos/T1/T1_model.ipynb#W3sZmlsZQ%3D%3D?line=29'>30</a>\u001b[0m min_label \u001b[39m=\u001b[39m \u001b[39mNone\u001b[39;00m\n\u001b[0;32m     <a href='vscode-notebook-cell:/c%3A/Users/crist/GitHub/PUCRS/2023-01/98721-04%20-%20Introdu%C3%A7%C3%A3o%20%C3%A0%20Vis%C3%A3o%20Computacional/Trabalhos/T1/T1_model.ipynb#W3sZmlsZQ%3D%3D?line=30'>31</a>\u001b[0m \u001b[39mfor\u001b[39;00m k, feature \u001b[39min\u001b[39;00m \u001b[39menumerate\u001b[39m(features[labels \u001b[39m==\u001b[39m value]):\n\u001b[1;32m---> <a href='vscode-notebook-cell:/c%3A/Users/crist/GitHub/PUCRS/2023-01/98721-04%20-%20Introdu%C3%A7%C3%A3o%20%C3%A0%20Vis%C3%A3o%20Computacional/Trabalhos/T1/T1_model.ipynb#W3sZmlsZQ%3D%3D?line=31'>32</a>\u001b[0m     dist \u001b[39m=\u001b[39m np\u001b[39m.\u001b[39mlinalg\u001b[39m.\u001b[39mnorm(som\u001b[39m.\u001b[39;49mweights[i, j] \u001b[39m-\u001b[39m feature)\n\u001b[0;32m     <a href='vscode-notebook-cell:/c%3A/Users/crist/GitHub/PUCRS/2023-01/98721-04%20-%20Introdu%C3%A7%C3%A3o%20%C3%A0%20Vis%C3%A3o%20Computacional/Trabalhos/T1/T1_model.ipynb#W3sZmlsZQ%3D%3D?line=32'>33</a>\u001b[0m     \u001b[39mif\u001b[39;00m dist \u001b[39m<\u001b[39m min_dist:\n\u001b[0;32m     <a href='vscode-notebook-cell:/c%3A/Users/crist/GitHub/PUCRS/2023-01/98721-04%20-%20Introdu%C3%A7%C3%A3o%20%C3%A0%20Vis%C3%A3o%20Computacional/Trabalhos/T1/T1_model.ipynb#W3sZmlsZQ%3D%3D?line=33'>34</a>\u001b[0m         min_dist \u001b[39m=\u001b[39m dist\n",
      "\u001b[1;31mAttributeError\u001b[0m: 'MiniSom' object has no attribute 'weights'"
     ]
    }
   ],
   "source": [
    "# Inicialize um dicionário para armazenar os SOMs e seus rótulos\n",
    "soms = {}\n",
    "som_labels = {}\n",
    "neurons = 50\n",
    "\n",
    "# Obtenha os valores únicos de moedas\n",
    "coin_values = np.unique(labels)\n",
    "\n",
    "# Para cada valor de moeda\n",
    "for value in coin_values:\n",
    "\n",
    "    # Crie um novo SOM\n",
    "    som = MiniSom(x=neurons, y=neurons, input_len=features.shape[1])\n",
    "\n",
    "    # Treine o SOM com as características das moedas desse valor\n",
    "    som.train_random(features[labels == value], num_iteration=5000)\n",
    "\n",
    "    # Armazene o SOM\n",
    "    soms[value] = som\n",
    "\n",
    "    # Inicialize uma matriz para armazenar os rótulos do SOM\n",
    "    som_labels[value] = np.empty((neurons, neurons), dtype=str)  # Mude para dtype=str\n",
    "\n",
    "    # Para cada neurônio no SOM\n",
    "    for i in range(neurons):\n",
    "        for j in range(neurons):\n",
    "\n",
    "            # Encontre as características que são mais semelhantes a esse neurônio\n",
    "            min_dist = np.inf\n",
    "            min_label = None\n",
    "            for k, feature in enumerate(features[labels == value]):\n",
    "                dist = np.linalg.norm(som.get_weights()[i, j] - feature)\n",
    "                if dist < min_dist:\n",
    "                    min_dist = dist\n",
    "                    min_label = labels[labels == value][k]\n",
    "\n",
    "            # Rotule o neurônio com a classe de moeda mais comum entre as características mais semelhantes\n",
    "            som_labels[value][i, j] = min_label\n",
    "\n"
   ]
  },
  {
   "cell_type": "code",
   "execution_count": 17,
   "metadata": {},
   "outputs": [],
   "source": [
    "# Inicialize uma matriz para armazenar os rótulos do SOM\n",
    "som_labels[value] = np.empty((neurons, neurons), dtype=str)  # Mude para dtype=str\n",
    "\n",
    "# Para cada neurônio no SOM\n",
    "for i in range(neurons):\n",
    "    for j in range(neurons):\n",
    "\n",
    "        # Encontre as características que são mais semelhantes a esse neurônio\n",
    "        min_dist = np.inf\n",
    "        min_label = None\n",
    "        for k, feature in enumerate(features[labels == value]):\n",
    "            dist = np.linalg.norm(som.get_weights()[i, j] - feature)\n",
    "            if dist < min_dist:\n",
    "                min_dist = dist\n",
    "                min_label = labels[labels == value][k]\n",
    "\n",
    "        # Rotule o neurônio com a classe de moeda mais comum entre as características mais semelhantes\n",
    "        som_labels[value][i, j] = min_label\n"
   ]
  },
  {
   "cell_type": "code",
   "execution_count": 18,
   "metadata": {},
   "outputs": [],
   "source": [
    "def classify_coin(image, soms, som_labels):\n",
    "    # Redimensione a imagem para 64x64 pixels\n",
    "    image_resized = cv2.resize(image, (128, 128))\n",
    "\n",
    "    # Achate a imagem em um vetor\n",
    "    feature = image_resized.flatten()\n",
    "\n",
    "    # Normalize as características para terem uma média de 0 e um desvio padrão de 1\n",
    "    feature = (feature - np.mean(feature)) / np.std(feature)\n",
    "\n",
    "    # Inicialize uma variável para armazenar a menor distância e a classe correspondente\n",
    "    min_dist = np.inf\n",
    "    min_class = None\n",
    "\n",
    "    # Para cada SOM\n",
    "    for value, som in soms.items():\n",
    "\n",
    "        # Encontre o neurônio mais semelhante\n",
    "        winner = som.winner(feature)\n",
    "\n",
    "        # Calcule a distância entre a característica e o neurônio vencedor\n",
    "        dist = np.linalg.norm(som.get_weights()[winner] - feature)\n",
    "\n",
    "\n",
    "        # Se a distância for menor que a menor distância encontrada até agora\n",
    "        if dist < min_dist:\n",
    "\n",
    "            # Atualize a menor distância e a classe correspondente\n",
    "            min_dist = dist\n",
    "            min_class = som_labels[value][winner]\n",
    "\n",
    "    # Retorne a classe com a menor distância\n",
    "    return min_class\n"
   ]
  },
  {
   "cell_type": "code",
   "execution_count": 19,
   "metadata": {},
   "outputs": [
    {
     "data": {
      "text/plain": [
       "'c'"
      ]
     },
     "execution_count": 19,
     "metadata": {},
     "output_type": "execute_result"
    }
   ],
   "source": [
    "classify_coin(cv2.imread(path_images + coin_img, cv2.IMREAD_GRAYSCALE), soms, som_labels)"
   ]
  },
  {
   "cell_type": "code",
   "execution_count": 20,
   "metadata": {},
   "outputs": [
    {
     "data": {
      "text/plain": [
       "'c'"
      ]
     },
     "execution_count": 20,
     "metadata": {},
     "output_type": "execute_result"
    }
   ],
   "source": [
    "classify_coin(cv2.imread('coin_images/train/1-c/1-c_1994_4_rot90.jpg', cv2.IMREAD_GRAYSCALE), soms, som_labels)"
   ]
  },
  {
   "cell_type": "code",
   "execution_count": 21,
   "metadata": {},
   "outputs": [
    {
     "data": {
      "text/plain": [
       "'c'"
      ]
     },
     "execution_count": 21,
     "metadata": {},
     "output_type": "execute_result"
    }
   ],
   "source": [
    "classify_coin(cv2.imread('coin_images/train/5-c/5-c_2009_17.jpg', cv2.IMREAD_GRAYSCALE), soms, som_labels)"
   ]
  },
  {
   "cell_type": "code",
   "execution_count": 23,
   "metadata": {},
   "outputs": [
    {
     "data": {
      "text/plain": [
       "{'coin_images/train/1-c/': array([['c', 'c', 'c', ..., 'c', 'c', 'c'],\n",
       "        ['c', 'c', 'c', ..., 'c', 'c', 'c'],\n",
       "        ['c', 'c', 'c', ..., 'c', 'c', 'c'],\n",
       "        ...,\n",
       "        ['c', 'c', 'c', ..., 'c', 'c', 'c'],\n",
       "        ['c', 'c', 'c', ..., 'c', 'c', 'c'],\n",
       "        ['c', 'c', 'c', ..., 'c', 'c', 'c']], dtype='<U1')}"
      ]
     },
     "execution_count": 23,
     "metadata": {},
     "output_type": "execute_result"
    }
   ],
   "source": [
    "som_labels"
   ]
  },
  {
   "cell_type": "code",
   "execution_count": null,
   "metadata": {},
   "outputs": [],
   "source": []
  }
 ],
 "metadata": {
  "kernelspec": {
   "display_name": "cv",
   "language": "python",
   "name": "python3"
  },
  "language_info": {
   "codemirror_mode": {
    "name": "ipython",
    "version": 3
   },
   "file_extension": ".py",
   "mimetype": "text/x-python",
   "name": "python",
   "nbconvert_exporter": "python",
   "pygments_lexer": "ipython3",
   "version": "3.9.13"
  },
  "orig_nbformat": 4
 },
 "nbformat": 4,
 "nbformat_minor": 2
}
