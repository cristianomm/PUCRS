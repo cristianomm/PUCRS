{
 "cells": [
  {
   "cell_type": "code",
   "execution_count": null,
   "metadata": {},
   "outputs": [],
   "source": []
  },
  {
   "attachments": {},
   "cell_type": "markdown",
   "metadata": {},
   "source": [
    "\n",
    "#### Duas ideias\n",
    "- Tracking temporal de pessoas e ações \n",
    "    - Reconhece as pessoas que tem o habito de frequentar um local \n",
    "    - Reconhece os veiculos que habitualmente frequentam o local\n",
    "    - Reconhece as ações (agrupamento de pessoas, pessoas rondando um local, carros que param e não deixam pessoas )\n",
    "    - Armazena as pessoas \n",
    "    - armazena os carros\n",
    "    - armazena as ações\n",
    "    - armazena timestamp para inicio e fim do evento\n",
    "- Melhoramento de imagens em câmeras de baixa resolução\n",
    "- Melhoramento de imagens será aplicado pois é dificil encontrar estabelecimentos com cameras de alta resolução\n",
    "- \n",
    "\n"
   ]
  }
 ],
 "metadata": {
  "language_info": {
   "name": "python"
  },
  "orig_nbformat": 4
 },
 "nbformat": 4,
 "nbformat_minor": 2
}
