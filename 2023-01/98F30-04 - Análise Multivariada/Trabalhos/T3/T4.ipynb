{
 "cells": [
  {
   "cell_type": "code",
   "execution_count": 1,
   "metadata": {},
   "outputs": [],
   "source": [
    "import numpy as np\n",
    "from sympy import Matrix"
   ]
  },
  {
   "cell_type": "code",
   "execution_count": 9,
   "metadata": {},
   "outputs": [],
   "source": [
    "def text_to_numbers(text):\n",
    "    return [(ord(c) - ord('A') + 1) % 26 for c in text.upper() if c.isalpha()]\n",
    "\n",
    "def numbers_to_text(numbers):\n",
    "    return ''.join(chr((n % 26) + ord('A')) if n != 0 else 'Z' for n in numbers)\n",
    "\n",
    "def encrypt(message, matrix):\n",
    "    message_numbers = text_to_numbers(message)\n",
    "    if len(message_numbers) % 2 != 0:\n",
    "        message_numbers.append(ord('X') - ord('A') + 1)\n",
    "    message_matrix = np.array(message_numbers).reshape(-1, 2)\n",
    "    encrypted_matrix = np.dot(message_matrix, matrix) % 26\n",
    "    return numbers_to_text(encrypted_matrix.flatten())\n",
    "\n",
    "def decrypt(message, matrix):\n",
    "    message_numbers = text_to_numbers(message)\n",
    "    message_matrix = np.array(message_numbers).reshape(-1, 2)\n",
    "    inverse_matrix = Matrix(matrix).inv_mod(26)\n",
    "    decrypted_matrix = np.dot(message_matrix, inverse_matrix) % 26\n",
    "    return numbers_to_text(decrypted_matrix.flatten())\n"
   ]
  },
  {
   "cell_type": "code",
   "execution_count": 13,
   "metadata": {},
   "outputs": [
    {
     "name": "stdout",
     "output_type": "stream",
     "text": [
      "Encrypted message: CJIBPHMB\n"
     ]
    }
   ],
   "source": [
    "# Define the matrix\n",
    "matrix = np.array([[1, 3], [5, 4]])\n",
    "\n",
    "# Encrypt a message\n",
    "message = \"AUGUSTOO\"\n",
    "encrypted_message = encrypt(message, matrix)\n",
    "print(f\"Encrypted message: {encrypted_message}\")"
   ]
  },
  {
   "cell_type": "code",
   "execution_count": 12,
   "metadata": {},
   "outputs": [
    {
     "name": "stdout",
     "output_type": "stream",
     "text": [
      "Decrypted message: RXNYTELZFP\n"
     ]
    }
   ],
   "source": [
    "# Decrypt a message\n",
    "#BMCEMUKGBW.\n",
    "#IDCEMJVIXZ.\n",
    "encrypted_message = 'BMCEMUKGBW'\n",
    "decrypted_message = decrypt(encrypted_message, matrix)\n",
    "print(f\"Decrypted message: {decrypted_message}\")"
   ]
  },
  {
   "cell_type": "code",
   "execution_count": 15,
   "metadata": {},
   "outputs": [
    {
     "name": "stdout",
     "output_type": "stream",
     "text": [
      "Encrypted message: ZOHDOFODSDGR\n",
      "Decrypted message: RXNYTELZFP\n"
     ]
    }
   ],
   "source": [
    "import numpy as np\n",
    "from sympy import Matrix\n",
    "\n",
    "def text_to_numbers(text):\n",
    "    return [(ord(c) - ord('A') + 1) % 26 for c in text.upper() if c.isalpha()]\n",
    "\n",
    "def numbers_to_text(numbers):\n",
    "    return ''.join(chr((n % 26) + ord('A')) if n != 0 else 'Z' for n in numbers)\n",
    "\n",
    "def encrypt(message, matrix):\n",
    "    message_numbers = text_to_numbers(message)\n",
    "    if len(message_numbers) % 2 != 0:\n",
    "        message_numbers.append(0)  # Adding 'Z' if the message length is odd\n",
    "    message_matrix = np.array(message_numbers).reshape(-1, 2)\n",
    "    encrypted_matrix = np.dot(message_matrix, matrix) % 26\n",
    "    return numbers_to_text(encrypted_matrix.flatten())\n",
    "\n",
    "def decrypt(message, matrix):\n",
    "    message_numbers = text_to_numbers(message)\n",
    "    message_matrix = np.array(message_numbers).reshape(-1, 2)\n",
    "    inverse_matrix = Matrix(matrix).inv_mod(26)\n",
    "    decrypted_matrix = np.dot(message_matrix, inverse_matrix) % 26\n",
    "    return numbers_to_text(decrypted_matrix.flatten())\n",
    "\n",
    "# Define the matrix\n",
    "matrix = np.array([[1, 3], [5, 4]])\n",
    "\n",
    "# Encrypt a message\n",
    "message = \"BOMDIAAMIGOS\"\n",
    "encrypted_message = encrypt(message, matrix)\n",
    "print(f\"Encrypted message: {encrypted_message}\")\n",
    "\n",
    "# Decrypt a message\n",
    "encrypted_message = \"BMCEMUKGBW\"\n",
    "decrypted_message = decrypt(encrypted_message, matrix)\n",
    "print(f\"Decrypted message: {decrypted_message}\")\n"
   ]
  }
 ],
 "metadata": {
  "kernelspec": {
   "display_name": "ivc",
   "language": "python",
   "name": "python3"
  },
  "language_info": {
   "codemirror_mode": {
    "name": "ipython",
    "version": 3
   },
   "file_extension": ".py",
   "mimetype": "text/x-python",
   "name": "python",
   "nbconvert_exporter": "python",
   "pygments_lexer": "ipython3",
   "version": "3.10.10"
  },
  "orig_nbformat": 4
 },
 "nbformat": 4,
 "nbformat_minor": 2
}
