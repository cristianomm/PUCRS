{
 "cells": [
  {
   "attachments": {},
   "cell_type": "markdown",
   "metadata": {},
   "source": [
    "### Nome: Cristiano Moreira Martins\n",
    "### Matrícula: 11111871-7"
   ]
  },
  {
   "attachments": {},
   "cell_type": "markdown",
   "metadata": {},
   "source": [
    "### 1. Escolher um conjunto de dados público para realização da tarefa. Algumas sugestões de datasets que podem ser utilizados são: Penguins, Iris, AMES House Prices."
   ]
  },
  {
   "attachments": {},
   "cell_type": "markdown",
   "metadata": {},
   "source": [
    "Foram utilizados os dados disponibilizados na biblioteca <code>pandas-datareader</code> (https://pydata.github.io/pandas-datareader/readers/index.html). \n",
    "\n",
    "Os dados escolhidos são as informações de instrumentos financeiros listados na NASDAQ que a biblioteca disponibiliza: \n",
    "https://pydata.github.io/pandas-datareader/readers/nasdaq-trader.html\n",
    "\n",
    "Ao todo são carregados 11550 instrumentos."
   ]
  },
  {
   "attachments": {},
   "cell_type": "markdown",
   "metadata": {},
   "source": [
    "### 2. Criar uma API Rest que permita: ..."
   ]
  },
  {
   "attachments": {},
   "cell_type": "markdown",
   "metadata": {},
   "source": [
    "Para o desenvolvimento da API, foi criado um arquivo python <code>app.py</code> para comportar a API e os métodos solicitados. \n",
    "- Foi implementada a paginação dos dados no método GET, quando solicitado todos os instrumentos.\n",
    "- As colunas originais da fonte de dados foram renomeadas, na função <code>load_data()</code>, por comodidade.\n",
    "- Os dados permanecem em memória, em um dicionário.\n",
    "- Para rodar Api, digitar no terminal onde estão os arquivos do projeto: <code>python app.py</code>"
   ]
  },
  {
   "cell_type": "code",
   "execution_count": null,
   "metadata": {},
   "outputs": [],
   "source": [
    "# Instala as bibliotecas necessárias...\n",
    "!pip install flask pandas pandas-datareader requests"
   ]
  },
  {
   "attachments": {},
   "cell_type": "markdown",
   "metadata": {},
   "source": [
    "### 3. Consumir a API criada usando a lib requests. Explorar todas as operações da API"
   ]
  },
  {
   "cell_type": "code",
   "execution_count": 1,
   "metadata": {},
   "outputs": [],
   "source": [
    "import requests\n",
    "import pandas as pd"
   ]
  },
  {
   "attachments": {},
   "cell_type": "markdown",
   "metadata": {},
   "source": [
    "##### a) Consulta - Método HTTP GET;"
   ]
  },
  {
   "cell_type": "code",
   "execution_count": 3,
   "metadata": {},
   "outputs": [
    {
     "data": {
      "text/html": [
       "<div>\n",
       "<style scoped>\n",
       "    .dataframe tbody tr th:only-of-type {\n",
       "        vertical-align: middle;\n",
       "    }\n",
       "\n",
       "    .dataframe tbody tr th {\n",
       "        vertical-align: top;\n",
       "    }\n",
       "\n",
       "    .dataframe thead th {\n",
       "        text-align: right;\n",
       "    }\n",
       "</style>\n",
       "<table border=\"1\" class=\"dataframe\">\n",
       "  <thead>\n",
       "    <tr style=\"text-align: right;\">\n",
       "      <th></th>\n",
       "      <th>category</th>\n",
       "      <th>cqsSymbol</th>\n",
       "      <th>exchange</th>\n",
       "      <th>isETF</th>\n",
       "      <th>isTest</th>\n",
       "      <th>isTraded</th>\n",
       "      <th>lotSize</th>\n",
       "      <th>name</th>\n",
       "      <th>nextShares</th>\n",
       "      <th>status</th>\n",
       "      <th>symbol</th>\n",
       "    </tr>\n",
       "  </thead>\n",
       "  <tbody>\n",
       "    <tr>\n",
       "      <th>0</th>\n",
       "      <td></td>\n",
       "      <td>A</td>\n",
       "      <td>N</td>\n",
       "      <td>False</td>\n",
       "      <td>False</td>\n",
       "      <td>True</td>\n",
       "      <td>100.0</td>\n",
       "      <td>Agilent Technologies, Inc. Common Stock</td>\n",
       "      <td>False</td>\n",
       "      <td>NaN</td>\n",
       "      <td>A</td>\n",
       "    </tr>\n",
       "    <tr>\n",
       "      <th>1</th>\n",
       "      <td></td>\n",
       "      <td>AA</td>\n",
       "      <td>N</td>\n",
       "      <td>False</td>\n",
       "      <td>False</td>\n",
       "      <td>True</td>\n",
       "      <td>100.0</td>\n",
       "      <td>Alcoa Corporation Common Stock</td>\n",
       "      <td>False</td>\n",
       "      <td>NaN</td>\n",
       "      <td>AA</td>\n",
       "    </tr>\n",
       "    <tr>\n",
       "      <th>2</th>\n",
       "      <td></td>\n",
       "      <td>AAA</td>\n",
       "      <td>P</td>\n",
       "      <td>True</td>\n",
       "      <td>False</td>\n",
       "      <td>True</td>\n",
       "      <td>100.0</td>\n",
       "      <td>Investment Managers Series Trust II AXS First ...</td>\n",
       "      <td>False</td>\n",
       "      <td>NaN</td>\n",
       "      <td>AAA</td>\n",
       "    </tr>\n",
       "    <tr>\n",
       "      <th>3</th>\n",
       "      <td></td>\n",
       "      <td>AAAU</td>\n",
       "      <td>Z</td>\n",
       "      <td>True</td>\n",
       "      <td>False</td>\n",
       "      <td>True</td>\n",
       "      <td>100.0</td>\n",
       "      <td>Goldman Sachs Physical Gold ETF Shares</td>\n",
       "      <td>False</td>\n",
       "      <td>NaN</td>\n",
       "      <td>AAAU</td>\n",
       "    </tr>\n",
       "    <tr>\n",
       "      <th>4</th>\n",
       "      <td></td>\n",
       "      <td>AAC</td>\n",
       "      <td>N</td>\n",
       "      <td>False</td>\n",
       "      <td>False</td>\n",
       "      <td>True</td>\n",
       "      <td>100.0</td>\n",
       "      <td>Ares Acquisition Corporation Class A Ordinary ...</td>\n",
       "      <td>False</td>\n",
       "      <td>NaN</td>\n",
       "      <td>AAC</td>\n",
       "    </tr>\n",
       "    <tr>\n",
       "      <th>5</th>\n",
       "      <td></td>\n",
       "      <td>AAC.U</td>\n",
       "      <td>N</td>\n",
       "      <td>False</td>\n",
       "      <td>False</td>\n",
       "      <td>True</td>\n",
       "      <td>100.0</td>\n",
       "      <td>Ares Acquisition Corporation Units, each consi...</td>\n",
       "      <td>False</td>\n",
       "      <td>NaN</td>\n",
       "      <td>AAC=</td>\n",
       "    </tr>\n",
       "    <tr>\n",
       "      <th>6</th>\n",
       "      <td></td>\n",
       "      <td>AAC.WS</td>\n",
       "      <td>N</td>\n",
       "      <td>False</td>\n",
       "      <td>False</td>\n",
       "      <td>True</td>\n",
       "      <td>100.0</td>\n",
       "      <td>Ares Acquisition Corporation Redeemable Warran...</td>\n",
       "      <td>False</td>\n",
       "      <td>NaN</td>\n",
       "      <td>AAC+</td>\n",
       "    </tr>\n",
       "    <tr>\n",
       "      <th>7</th>\n",
       "      <td>G</td>\n",
       "      <td>NaN</td>\n",
       "      <td>Q</td>\n",
       "      <td>False</td>\n",
       "      <td>False</td>\n",
       "      <td>True</td>\n",
       "      <td>100.0</td>\n",
       "      <td>ATA Creativity Global - American Depositary Sh...</td>\n",
       "      <td>False</td>\n",
       "      <td>N</td>\n",
       "      <td>AACG</td>\n",
       "    </tr>\n",
       "    <tr>\n",
       "      <th>8</th>\n",
       "      <td>G</td>\n",
       "      <td>NaN</td>\n",
       "      <td>Q</td>\n",
       "      <td>False</td>\n",
       "      <td>False</td>\n",
       "      <td>True</td>\n",
       "      <td>100.0</td>\n",
       "      <td>Armada Acquisition Corp. I - Common Stock</td>\n",
       "      <td>False</td>\n",
       "      <td>N</td>\n",
       "      <td>AACI</td>\n",
       "    </tr>\n",
       "    <tr>\n",
       "      <th>9</th>\n",
       "      <td>G</td>\n",
       "      <td>NaN</td>\n",
       "      <td>Q</td>\n",
       "      <td>False</td>\n",
       "      <td>False</td>\n",
       "      <td>True</td>\n",
       "      <td>100.0</td>\n",
       "      <td>Armada Acquisition Corp. I - Unit</td>\n",
       "      <td>False</td>\n",
       "      <td>N</td>\n",
       "      <td>AACIU</td>\n",
       "    </tr>\n",
       "  </tbody>\n",
       "</table>\n",
       "</div>"
      ],
      "text/plain": [
       "  category cqsSymbol exchange  isETF  isTest  isTraded  lotSize  \\\n",
       "0                  A        N  False   False      True    100.0   \n",
       "1                 AA        N  False   False      True    100.0   \n",
       "2                AAA        P   True   False      True    100.0   \n",
       "3               AAAU        Z   True   False      True    100.0   \n",
       "4                AAC        N  False   False      True    100.0   \n",
       "5              AAC.U        N  False   False      True    100.0   \n",
       "6             AAC.WS        N  False   False      True    100.0   \n",
       "7        G       NaN        Q  False   False      True    100.0   \n",
       "8        G       NaN        Q  False   False      True    100.0   \n",
       "9        G       NaN        Q  False   False      True    100.0   \n",
       "\n",
       "                                                name  nextShares status symbol  \n",
       "0            Agilent Technologies, Inc. Common Stock       False    NaN      A  \n",
       "1                    Alcoa Corporation Common Stock        False    NaN     AA  \n",
       "2  Investment Managers Series Trust II AXS First ...       False    NaN    AAA  \n",
       "3             Goldman Sachs Physical Gold ETF Shares       False    NaN   AAAU  \n",
       "4  Ares Acquisition Corporation Class A Ordinary ...       False    NaN    AAC  \n",
       "5  Ares Acquisition Corporation Units, each consi...       False    NaN   AAC=  \n",
       "6  Ares Acquisition Corporation Redeemable Warran...       False    NaN   AAC+  \n",
       "7  ATA Creativity Global - American Depositary Sh...       False      N   AACG  \n",
       "8          Armada Acquisition Corp. I - Common Stock       False      N   AACI  \n",
       "9                  Armada Acquisition Corp. I - Unit       False      N  AACIU  "
      ]
     },
     "execution_count": 3,
     "metadata": {},
     "output_type": "execute_result"
    }
   ],
   "source": [
    "base_url = 'http://localhost:5000/api/symbols'\n",
    "\n",
    "response = requests.get(base_url)\n",
    "pd.DataFrame(response.json())"
   ]
  },
  {
   "cell_type": "code",
   "execution_count": 4,
   "metadata": {},
   "outputs": [
    {
     "data": {
      "text/html": [
       "<div>\n",
       "<style scoped>\n",
       "    .dataframe tbody tr th:only-of-type {\n",
       "        vertical-align: middle;\n",
       "    }\n",
       "\n",
       "    .dataframe tbody tr th {\n",
       "        vertical-align: top;\n",
       "    }\n",
       "\n",
       "    .dataframe thead th {\n",
       "        text-align: right;\n",
       "    }\n",
       "</style>\n",
       "<table border=\"1\" class=\"dataframe\">\n",
       "  <thead>\n",
       "    <tr style=\"text-align: right;\">\n",
       "      <th></th>\n",
       "      <th>category</th>\n",
       "      <th>cqsSymbol</th>\n",
       "      <th>exchange</th>\n",
       "      <th>isETF</th>\n",
       "      <th>isTest</th>\n",
       "      <th>isTraded</th>\n",
       "      <th>lotSize</th>\n",
       "      <th>name</th>\n",
       "      <th>nextShares</th>\n",
       "      <th>status</th>\n",
       "      <th>symbol</th>\n",
       "    </tr>\n",
       "  </thead>\n",
       "  <tbody>\n",
       "    <tr>\n",
       "      <th>0</th>\n",
       "      <td>Q</td>\n",
       "      <td>NaN</td>\n",
       "      <td>Q</td>\n",
       "      <td>False</td>\n",
       "      <td>False</td>\n",
       "      <td>True</td>\n",
       "      <td>100.0</td>\n",
       "      <td>AAON, Inc. - Common Stock</td>\n",
       "      <td>False</td>\n",
       "      <td>N</td>\n",
       "      <td>AAON</td>\n",
       "    </tr>\n",
       "    <tr>\n",
       "      <th>1</th>\n",
       "      <td></td>\n",
       "      <td>AAP</td>\n",
       "      <td>N</td>\n",
       "      <td>False</td>\n",
       "      <td>False</td>\n",
       "      <td>True</td>\n",
       "      <td>100.0</td>\n",
       "      <td>Advance Auto Parts Inc.</td>\n",
       "      <td>False</td>\n",
       "      <td>NaN</td>\n",
       "      <td>AAP</td>\n",
       "    </tr>\n",
       "    <tr>\n",
       "      <th>2</th>\n",
       "      <td>G</td>\n",
       "      <td>NaN</td>\n",
       "      <td>Q</td>\n",
       "      <td>True</td>\n",
       "      <td>False</td>\n",
       "      <td>True</td>\n",
       "      <td>100.0</td>\n",
       "      <td>GraniteShares 1.75x Long AAPL Daily ETF</td>\n",
       "      <td>False</td>\n",
       "      <td>N</td>\n",
       "      <td>AAPB</td>\n",
       "    </tr>\n",
       "    <tr>\n",
       "      <th>3</th>\n",
       "      <td>G</td>\n",
       "      <td>NaN</td>\n",
       "      <td>Q</td>\n",
       "      <td>True</td>\n",
       "      <td>False</td>\n",
       "      <td>True</td>\n",
       "      <td>100.0</td>\n",
       "      <td>Direxion Daily AAPL Bear 1X Shares</td>\n",
       "      <td>False</td>\n",
       "      <td>N</td>\n",
       "      <td>AAPD</td>\n",
       "    </tr>\n",
       "    <tr>\n",
       "      <th>4</th>\n",
       "      <td>Q</td>\n",
       "      <td>NaN</td>\n",
       "      <td>Q</td>\n",
       "      <td>False</td>\n",
       "      <td>False</td>\n",
       "      <td>True</td>\n",
       "      <td>100.0</td>\n",
       "      <td>Apple Inc. - Common Stock</td>\n",
       "      <td>False</td>\n",
       "      <td>N</td>\n",
       "      <td>AAPL</td>\n",
       "    </tr>\n",
       "  </tbody>\n",
       "</table>\n",
       "</div>"
      ],
      "text/plain": [
       "  category cqsSymbol exchange  isETF  isTest  isTraded  lotSize  \\\n",
       "0        Q       NaN        Q  False   False      True    100.0   \n",
       "1                AAP        N  False   False      True    100.0   \n",
       "2        G       NaN        Q   True   False      True    100.0   \n",
       "3        G       NaN        Q   True   False      True    100.0   \n",
       "4        Q       NaN        Q  False   False      True    100.0   \n",
       "\n",
       "                                      name  nextShares status symbol  \n",
       "0                AAON, Inc. - Common Stock       False      N   AAON  \n",
       "1                  Advance Auto Parts Inc.       False    NaN    AAP  \n",
       "2  GraniteShares 1.75x Long AAPL Daily ETF       False      N   AAPB  \n",
       "3       Direxion Daily AAPL Bear 1X Shares       False      N   AAPD  \n",
       "4                Apple Inc. - Common Stock       False      N   AAPL  "
      ]
     },
     "execution_count": 4,
     "metadata": {},
     "output_type": "execute_result"
    }
   ],
   "source": [
    "# Consulta - Método HTTP GET, com parâmetros de paginação na URL\n",
    "base_url = 'http://localhost:5000/api/symbols?page=6&per_page=5'\n",
    "\n",
    "response = requests.get(base_url)\n",
    "pd.DataFrame(response.json())"
   ]
  },
  {
   "cell_type": "code",
   "execution_count": 5,
   "metadata": {},
   "outputs": [
    {
     "data": {
      "text/html": [
       "<div>\n",
       "<style scoped>\n",
       "    .dataframe tbody tr th:only-of-type {\n",
       "        vertical-align: middle;\n",
       "    }\n",
       "\n",
       "    .dataframe tbody tr th {\n",
       "        vertical-align: top;\n",
       "    }\n",
       "\n",
       "    .dataframe thead th {\n",
       "        text-align: right;\n",
       "    }\n",
       "</style>\n",
       "<table border=\"1\" class=\"dataframe\">\n",
       "  <thead>\n",
       "    <tr style=\"text-align: right;\">\n",
       "      <th></th>\n",
       "      <th>category</th>\n",
       "      <th>cqsSymbol</th>\n",
       "      <th>exchange</th>\n",
       "      <th>isETF</th>\n",
       "      <th>isTest</th>\n",
       "      <th>isTraded</th>\n",
       "      <th>lotSize</th>\n",
       "      <th>name</th>\n",
       "      <th>nextShares</th>\n",
       "      <th>status</th>\n",
       "      <th>symbol</th>\n",
       "    </tr>\n",
       "  </thead>\n",
       "  <tbody>\n",
       "    <tr>\n",
       "      <th>0</th>\n",
       "      <td>Q</td>\n",
       "      <td>NaN</td>\n",
       "      <td>Q</td>\n",
       "      <td>False</td>\n",
       "      <td>False</td>\n",
       "      <td>True</td>\n",
       "      <td>100.0</td>\n",
       "      <td>Apple Inc. - Common Stock</td>\n",
       "      <td>False</td>\n",
       "      <td>N</td>\n",
       "      <td>AAPL</td>\n",
       "    </tr>\n",
       "  </tbody>\n",
       "</table>\n",
       "</div>"
      ],
      "text/plain": [
       "  category  cqsSymbol exchange  isETF  isTest  isTraded  lotSize  \\\n",
       "0        Q        NaN        Q  False   False      True    100.0   \n",
       "\n",
       "                        name  nextShares status symbol  \n",
       "0  Apple Inc. - Common Stock       False      N   AAPL  "
      ]
     },
     "execution_count": 5,
     "metadata": {},
     "output_type": "execute_result"
    }
   ],
   "source": [
    "# Consulta - Método HTTP GET (por símbolo)\n",
    "\n",
    "base_url = 'http://localhost:5000/api/symbols/AAPL'\n",
    "response = requests.get(base_url)\n",
    "pd.DataFrame([response.json()])"
   ]
  },
  {
   "attachments": {},
   "cell_type": "markdown",
   "metadata": {},
   "source": [
    "##### b) Atualização - Método HTTP PUT;"
   ]
  },
  {
   "cell_type": "code",
   "execution_count": 6,
   "metadata": {},
   "outputs": [
    {
     "name": "stdout",
     "output_type": "stream",
     "text": [
      "{'message': 'Instrumento atualizado.'}\n"
     ]
    }
   ],
   "source": [
    "base_url = 'http://localhost:5000/api/symbols'\n",
    "\n",
    "symbol = 'AAPL'\n",
    "response = requests.get(f'{base_url}/{symbol}')\n",
    "aapl = pd.DataFrame([response.json()])\n",
    "\n",
    "# Altera o valor de alguns campos\n",
    "aapl['isTraded'] = False\n",
    "aapl['name'] = 'Apple Inc.'\n",
    "aapl['lotSize'] = 150.0\n",
    "aapl['cqsSymbol'] = None\n",
    "\n",
    "# Envia alterações para o servidor\n",
    "aapl = aapl.to_dict(orient='records')[0]\n",
    "response = requests.put(f'{base_url}/{symbol}', json=aapl)\n",
    "print(response.json())"
   ]
  },
  {
   "cell_type": "code",
   "execution_count": 7,
   "metadata": {},
   "outputs": [
    {
     "data": {
      "text/html": [
       "<div>\n",
       "<style scoped>\n",
       "    .dataframe tbody tr th:only-of-type {\n",
       "        vertical-align: middle;\n",
       "    }\n",
       "\n",
       "    .dataframe tbody tr th {\n",
       "        vertical-align: top;\n",
       "    }\n",
       "\n",
       "    .dataframe thead th {\n",
       "        text-align: right;\n",
       "    }\n",
       "</style>\n",
       "<table border=\"1\" class=\"dataframe\">\n",
       "  <thead>\n",
       "    <tr style=\"text-align: right;\">\n",
       "      <th></th>\n",
       "      <th>category</th>\n",
       "      <th>cqsSymbol</th>\n",
       "      <th>exchange</th>\n",
       "      <th>isETF</th>\n",
       "      <th>isTest</th>\n",
       "      <th>isTraded</th>\n",
       "      <th>lotSize</th>\n",
       "      <th>name</th>\n",
       "      <th>nextShares</th>\n",
       "      <th>status</th>\n",
       "      <th>symbol</th>\n",
       "    </tr>\n",
       "  </thead>\n",
       "  <tbody>\n",
       "    <tr>\n",
       "      <th>0</th>\n",
       "      <td>Q</td>\n",
       "      <td>None</td>\n",
       "      <td>Q</td>\n",
       "      <td>False</td>\n",
       "      <td>False</td>\n",
       "      <td>False</td>\n",
       "      <td>150.0</td>\n",
       "      <td>Apple Inc.</td>\n",
       "      <td>False</td>\n",
       "      <td>N</td>\n",
       "      <td>AAPL</td>\n",
       "    </tr>\n",
       "  </tbody>\n",
       "</table>\n",
       "</div>"
      ],
      "text/plain": [
       "  category cqsSymbol exchange  isETF  isTest  isTraded  lotSize        name  \\\n",
       "0        Q      None        Q  False   False     False    150.0  Apple Inc.   \n",
       "\n",
       "   nextShares status symbol  \n",
       "0       False      N   AAPL  "
      ]
     },
     "execution_count": 7,
     "metadata": {},
     "output_type": "execute_result"
    }
   ],
   "source": [
    "# Consulta o símbolo que foi atualizado\n",
    "response = requests.get(f'{base_url}/AAPL')\n",
    "pd.DataFrame([response.json()])"
   ]
  },
  {
   "attachments": {},
   "cell_type": "markdown",
   "metadata": {},
   "source": [
    "##### c) Inserção - Método HTTP POST"
   ]
  },
  {
   "cell_type": "code",
   "execution_count": 8,
   "metadata": {},
   "outputs": [
    {
     "name": "stdout",
     "output_type": "stream",
     "text": [
      "{'message': 'Instrumento adicionado.'}\n"
     ]
    }
   ],
   "source": [
    "base_url = 'http://localhost:5000/api/symbols'\n",
    "\n",
    "new_symbol = {\n",
    "    'symbol': 'TEST',\n",
    "    'isTraded': True,\n",
    "    'name': 'Test Security',\n",
    "    'exchange': 'N',\n",
    "    'category': 'G',\n",
    "    'isETF': False,\n",
    "    'lotSize': 100,\n",
    "    'isTest': False,\n",
    "    'status': 'N',\n",
    "    'cqsSymbol': 'TEST',\n",
    "    'nextShares': False\n",
    "}\n",
    "response = requests.post(base_url, json=new_symbol)\n",
    "print(response.json())\n"
   ]
  },
  {
   "cell_type": "code",
   "execution_count": 9,
   "metadata": {},
   "outputs": [
    {
     "data": {
      "text/html": [
       "<div>\n",
       "<style scoped>\n",
       "    .dataframe tbody tr th:only-of-type {\n",
       "        vertical-align: middle;\n",
       "    }\n",
       "\n",
       "    .dataframe tbody tr th {\n",
       "        vertical-align: top;\n",
       "    }\n",
       "\n",
       "    .dataframe thead th {\n",
       "        text-align: right;\n",
       "    }\n",
       "</style>\n",
       "<table border=\"1\" class=\"dataframe\">\n",
       "  <thead>\n",
       "    <tr style=\"text-align: right;\">\n",
       "      <th></th>\n",
       "      <th>category</th>\n",
       "      <th>cqsSymbol</th>\n",
       "      <th>exchange</th>\n",
       "      <th>isETF</th>\n",
       "      <th>isTest</th>\n",
       "      <th>isTraded</th>\n",
       "      <th>lotSize</th>\n",
       "      <th>name</th>\n",
       "      <th>nextShares</th>\n",
       "      <th>status</th>\n",
       "      <th>symbol</th>\n",
       "    </tr>\n",
       "  </thead>\n",
       "  <tbody>\n",
       "    <tr>\n",
       "      <th>0</th>\n",
       "      <td>G</td>\n",
       "      <td>TEST</td>\n",
       "      <td>N</td>\n",
       "      <td>False</td>\n",
       "      <td>False</td>\n",
       "      <td>True</td>\n",
       "      <td>100</td>\n",
       "      <td>Test Security</td>\n",
       "      <td>False</td>\n",
       "      <td>N</td>\n",
       "      <td>TEST</td>\n",
       "    </tr>\n",
       "  </tbody>\n",
       "</table>\n",
       "</div>"
      ],
      "text/plain": [
       "  category cqsSymbol exchange  isETF  isTest  isTraded  lotSize  \\\n",
       "0        G      TEST        N  False   False      True      100   \n",
       "\n",
       "            name  nextShares status symbol  \n",
       "0  Test Security       False      N   TEST  "
      ]
     },
     "execution_count": 9,
     "metadata": {},
     "output_type": "execute_result"
    }
   ],
   "source": [
    "# Consulta o símbolo adicionado\n",
    "response = requests.get(f'{base_url}/TEST')\n",
    "pd.DataFrame([response.json()])"
   ]
  },
  {
   "attachments": {},
   "cell_type": "markdown",
   "metadata": {},
   "source": [
    "##### d) Deleção - Método HTTP DELETE."
   ]
  },
  {
   "cell_type": "code",
   "execution_count": 10,
   "metadata": {},
   "outputs": [
    {
     "name": "stdout",
     "output_type": "stream",
     "text": [
      "{'message': 'Instrumento removido.'}\n"
     ]
    }
   ],
   "source": [
    "response = requests.delete(f'{base_url}/TEST')\n",
    "print(response.json())"
   ]
  },
  {
   "cell_type": "code",
   "execution_count": 11,
   "metadata": {},
   "outputs": [
    {
     "name": "stdout",
     "output_type": "stream",
     "text": [
      "{'error': 'Instrumento não encontrado.'}\n"
     ]
    }
   ],
   "source": [
    "# Consulta o símbolo que foi removido\n",
    "response = requests.get(f'{base_url}/TEST')\n",
    "print(response.json())"
   ]
  }
 ],
 "metadata": {
  "kernelspec": {
   "display_name": "data-analysis",
   "language": "python",
   "name": "python3"
  },
  "language_info": {
   "codemirror_mode": {
    "name": "ipython",
    "version": 3
   },
   "file_extension": ".py",
   "mimetype": "text/x-python",
   "name": "python",
   "nbconvert_exporter": "python",
   "pygments_lexer": "ipython3",
   "version": "3.9.13"
  },
  "orig_nbformat": 4,
  "vscode": {
   "interpreter": {
    "hash": "4891d0531006130b048409e856637fe2db4a9aa47439f56f84544b554b63b093"
   }
  }
 },
 "nbformat": 4,
 "nbformat_minor": 2
}
