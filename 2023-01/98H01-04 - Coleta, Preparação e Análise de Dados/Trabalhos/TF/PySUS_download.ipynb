{
 "cells": [
  {
   "attachments": {},
   "cell_type": "markdown",
   "id": "c817dc59",
   "metadata": {},
   "source": [
    "### Nome: Cristiano M Martins\n",
    "### Matricula: 11111871-7"
   ]
  },
  {
   "cell_type": "code",
   "execution_count": 1,
   "id": "bbc88904",
   "metadata": {},
   "outputs": [],
   "source": [
    "from pysus.preprocessing.sinan import read_sinan_dbf\n",
    "from pysus.utilities.readdbc import read_dbc\n",
    "from pysus.online_data import SIM\n",
    "from pysus.online_data import SINAN\n",
    "from pysus.online_data import sinasc\n",
    "\n",
    "import pandas as pd\n",
    "import warnings\n",
    "\n",
    "warnings.filterwarnings('ignore')"
   ]
  },
  {
   "cell_type": "code",
   "execution_count": 2,
   "id": "2429fa3b",
   "metadata": {},
   "outputs": [],
   "source": [
    "states = ['AC', 'AL', 'AP', 'AM', 'BA', 'CE', 'DF', 'ES', 'GO', 'MA', 'MT', 'MS', 'MG', 'PA', 'PB', 'PR', 'PE', 'PI', 'RJ', 'RN', 'RS', 'RO', 'RR', 'SC', 'SE', 'TO', 'SP']\n",
    "states = ['SP']\n",
    "\n",
    "years = list(range(1994, 2024)) \n"
   ]
  },
  {
   "cell_type": "code",
   "execution_count": null,
   "id": "d53568af",
   "metadata": {},
   "outputs": [],
   "source": []
  },
  {
   "cell_type": "code",
   "execution_count": 3,
   "id": "7439c703",
   "metadata": {},
   "outputs": [],
   "source": [
    "#SINASC data\n",
    "def get_SINASC_data(state, year):\n",
    "    data = pd.DataFrame()\n",
    "    try:\n",
    "        data = sinasc.download(state, year)\n",
    "    \n",
    "        data['STATE'] = state\n",
    "        data['YEAR'] = year\n",
    "    except:\n",
    "        pass\n",
    "    \n",
    "    return data\n",
    "\n",
    "#SIM data\n",
    "def get_SIM_data(state, year):\n",
    "    data = pd.DataFrame()\n",
    "    try:\n",
    "        data = SIM.download(state, year)\n",
    "    \n",
    "        data['STATE'] = state\n",
    "        data['YEAR'] = year\n",
    "    except:\n",
    "        pass\n",
    "    \n",
    "    return data\n",
    "\n",
    "def get_SINAN_data(disease, year):\n",
    "    data = pd.DataFrame()\n",
    "    try:\n",
    "        data = SINAN.download(year, disease)\n",
    "    \n",
    "        data['DISEASE'] = disease\n",
    "        data['YEAR'] = year\n",
    "    except:\n",
    "        pass\n",
    "    \n",
    "    return data\n"
   ]
  },
  {
   "cell_type": "code",
   "execution_count": null,
   "id": "336f9196",
   "metadata": {},
   "outputs": [],
   "source": []
  },
  {
   "cell_type": "code",
   "execution_count": null,
   "id": "4defc081",
   "metadata": {},
   "outputs": [],
   "source": [
    "###################################################SINASC DATA\n",
    "for state in states[:]:\n",
    "    sinascData = pd.DataFrame()\n",
    "    print(f'Loading SINASC - {state}')\n",
    "    for year in years[:]:\n",
    "        sinascData = get_SINASC_data(state, year)\n",
    "    \n",
    "    minY = sinascData['YEAR'].min()\n",
    "    maxY = sinascData['YEAR'].max()\n",
    "    print(f'Saving SINASC - {state} {minY} to {maxY}')\n",
    "    sinascData.to_parquet(f'SINASC_{state}_{minY}-{maxY}.parquet')\n",
    "    print('ok')"
   ]
  },
  {
   "cell_type": "code",
   "execution_count": null,
   "id": "51dc1cfb",
   "metadata": {},
   "outputs": [],
   "source": [
    "###################################################SIM DATA\n",
    "for state in states[:]:\n",
    "    data = pd.DataFrame()\n",
    "    print(f'Loading SIM - {state}')\n",
    "    for year in years[:]:\n",
    "        data = get_SIM_data(state, year)\n",
    "        #data = data.append(get_SIM_data(state, year))\n",
    "    \n",
    "        minY = data['YEAR'].min()\n",
    "        maxY = data['YEAR'].max()\n",
    "        print(f'Saving SIM - {state} {minY} to {maxY}')\n",
    "        data.to_csv(f'SIM_{state}_{minY}-{maxY}.parquet')\n",
    "        print('ok')"
   ]
  },
  {
   "cell_type": "code",
   "execution_count": null,
   "id": "155c1006",
   "metadata": {
    "scrolled": false
   },
   "outputs": [],
   "source": [
    "###################################################SINAN DATA\n",
    "for disease in SINAN.list_diseases()[9:10]:\n",
    "    data = pd.DataFrame()\n",
    "    print(f'Loading SINAN - {disease}')\n",
    "    for year in years[:]:\n",
    "        data = data.append(get_SINAN_data(disease, year))\n",
    "    \n",
    "        if len(data) >0:\n",
    "            minY = data['YEAR'].min()\n",
    "            maxY = data['YEAR'].max()\n",
    "            print(f'Saving SINAN - {disease} {minY} to {maxY}')\n",
    "            data.to_csv(f'SINAN_{disease}_{minY}-{maxY}.parquet')\n",
    "            print('ok')\n",
    "        else:\n",
    "            print(f'Sem dados para {disease}')"
   ]
  },
  {
   "cell_type": "code",
   "execution_count": null,
   "id": "35e66689",
   "metadata": {},
   "outputs": [],
   "source": []
  },
  {
   "cell_type": "code",
   "execution_count": null,
   "id": "031348ef",
   "metadata": {},
   "outputs": [],
   "source": []
  }
 ],
 "metadata": {
  "kernelspec": {
   "display_name": "Python 3 (ipykernel)",
   "language": "python",
   "name": "python3"
  },
  "language_info": {
   "codemirror_mode": {
    "name": "ipython",
    "version": 3
   },
   "file_extension": ".py",
   "mimetype": "text/x-python",
   "name": "python",
   "nbconvert_exporter": "python",
   "pygments_lexer": "ipython3",
   "version": "3.8.10"
  }
 },
 "nbformat": 4,
 "nbformat_minor": 5
}
