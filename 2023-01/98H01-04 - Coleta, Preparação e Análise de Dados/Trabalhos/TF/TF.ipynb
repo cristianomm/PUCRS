{
 "cells": [
  {
   "cell_type": "code",
   "execution_count": 11,
   "metadata": {},
   "outputs": [],
   "source": [
    "import os, warnings, sys\n",
    "import pandas as pd\n",
    "import pyarrow.parquet as pq\n",
    "import dask.dataframe as dd\n",
    "\n",
    "sys.path.insert(1, 'C:/Users/crist/GitHub/work/gestao/Library/mongodb')\n",
    "\n",
    "import MongoUtils\n",
    "\n",
    "warnings.filterwarnings('ignore')"
   ]
  },
  {
   "cell_type": "code",
   "execution_count": 12,
   "metadata": {},
   "outputs": [],
   "source": [
    "path = 'D:/Disco/Data/datasus'\n"
   ]
  },
  {
   "cell_type": "code",
   "execution_count": 17,
   "metadata": {},
   "outputs": [],
   "source": [
    "datasus = MongoUtils.MongoUtils()\n",
    "datasus.connect('mongodb://localhost:27017', 'datasus')\n",
    "datasus.initCollection('sim')\n",
    "datasus.initCollection('sinan')\n",
    "datasus.initCollection('sinasc')\n"
   ]
  },
  {
   "cell_type": "code",
   "execution_count": 15,
   "metadata": {},
   "outputs": [],
   "source": [
    "sim = pq.ParquetDataset(f'{path}/SIM', use_legacy_dataset=False)\n",
    "sinan = pq.ParquetDataset(f'{path}/SINAN', validate_schema=False)\n",
    "sinasc = pq.ParquetDataset(f'{path}/SINASC', use_legacy_dataset=False)"
   ]
  },
  {
   "cell_type": "code",
   "execution_count": null,
   "metadata": {},
   "outputs": [],
   "source": [
    "# le 20% do total de registros para criar um dataset exploratorio\n",
    "df_sim = sim.read().to_pandas().sample(frac=0.20)\n",
    "df_sim.to_csv(f'{path}/SIM_20.csv', index=False)\n",
    "del df_sim"
   ]
  },
  {
   "cell_type": "code",
   "execution_count": null,
   "metadata": {},
   "outputs": [],
   "source": [
    "df_sinasc = sinasc.read().to_pandas().sample(frac=0.20)\n",
    "df_sinasc.to_csv(f'{path}/SINASC_20.csv', index=False)\n",
    "del df_sinasc"
   ]
  },
  {
   "cell_type": "code",
   "execution_count": null,
   "metadata": {},
   "outputs": [],
   "source": [
    "df_sim = pd.read_csv(f'{path}/SIM_20.csv')\n",
    "#df_sinasc = pd.read_csv(f'{path}/SINASC_20.csv')"
   ]
  },
  {
   "cell_type": "code",
   "execution_count": 16,
   "metadata": {},
   "outputs": [],
   "source": [
    "def insert_to_mongo(file, collection):\n",
    "    print(file)\n",
    "    records = pd.read_parquet(file).to_dict('records')\n",
    "    datasus.insert_many(collection, records)"
   ]
  },
  {
   "cell_type": "code",
   "execution_count": 18,
   "metadata": {},
   "outputs": [
    {
     "name": "stdout",
     "output_type": "stream",
     "text": [
      "D:/Disco/Data/datasus/SIM/SIM_AC_1994-2021.parquet\n",
      "D:/Disco/Data/datasus/SIM/SIM_AL_1994-2021.parquet\n",
      "D:/Disco/Data/datasus/SIM/SIM_AM_1994-2021.parquet\n",
      "D:/Disco/Data/datasus/SIM/SIM_AP_1994-2021.parquet\n",
      "D:/Disco/Data/datasus/SIM/SIM_BA_1994-2021.parquet\n",
      "D:/Disco/Data/datasus/SIM/SIM_CE_1994-2021.parquet\n",
      "D:/Disco/Data/datasus/SIM/SIM_DF_1994-2021.parquet\n",
      "D:/Disco/Data/datasus/SIM/SIM_ES_1994-2021.parquet\n",
      "D:/Disco/Data/datasus/SIM/SIM_GO_1994-2021.parquet\n",
      "D:/Disco/Data/datasus/SIM/SIM_MA_1994-2021.parquet\n",
      "D:/Disco/Data/datasus/SIM/SIM_MG_1994-2021.parquet\n",
      "D:/Disco/Data/datasus/SIM/SIM_MS_1994-2021.parquet\n",
      "D:/Disco/Data/datasus/SIM/SIM_MT_1994-2021.parquet\n",
      "D:/Disco/Data/datasus/SIM/SIM_PA_1994-2021.parquet\n",
      "D:/Disco/Data/datasus/SIM/SIM_PB_1994-2021.parquet\n",
      "D:/Disco/Data/datasus/SIM/SIM_PE_1994-2021.parquet\n",
      "D:/Disco/Data/datasus/SIM/SIM_PI_1994-2021.parquet\n",
      "D:/Disco/Data/datasus/SIM/SIM_PR_1994-2021.parquet\n",
      "D:/Disco/Data/datasus/SIM/SIM_RJ_1994-2021.parquet\n",
      "D:/Disco/Data/datasus/SIM/SIM_RN_1994-2021.parquet\n",
      "D:/Disco/Data/datasus/SIM/SIM_RO_1994-2021.parquet\n",
      "D:/Disco/Data/datasus/SIM/SIM_RR_1994-2021.parquet\n",
      "D:/Disco/Data/datasus/SIM/SIM_RS_1994-2021.parquet\n",
      "D:/Disco/Data/datasus/SIM/SIM_SC_1994-2021.parquet\n",
      "D:/Disco/Data/datasus/SIM/SIM_SE_1994-2021.parquet\n",
      "D:/Disco/Data/datasus/SIM/SIM_SP_1994-1994.parquet\n",
      "D:/Disco/Data/datasus/SIM/SIM_SP_1994-1995.parquet\n",
      "D:/Disco/Data/datasus/SIM/SIM_SP_1994-1996.parquet\n",
      "D:/Disco/Data/datasus/SIM/SIM_SP_1994-1997.parquet\n",
      "D:/Disco/Data/datasus/SIM/SIM_SP_1994-1998.parquet\n",
      "D:/Disco/Data/datasus/SIM/SIM_SP_1994-1999.parquet\n"
     ]
    },
    {
     "ename": "ArrowInvalid",
     "evalue": "Could not open Parquet input source '<Buffer>': Parquet magic bytes not found in footer. Either the file is corrupted or this is not a parquet file.",
     "output_type": "error",
     "traceback": [
      "\u001b[1;31m---------------------------------------------------------------------------\u001b[0m",
      "\u001b[1;31mArrowInvalid\u001b[0m                              Traceback (most recent call last)",
      "\u001b[1;32mc:\\Users\\crist\\GitHub\\PUCRS\\2023-01\\98H01-04 - Coleta, Preparação e Análise de Dados\\Trabalhos\\TF\\TF.ipynb Cell 9\u001b[0m in \u001b[0;36m2\n\u001b[0;32m      <a href='vscode-notebook-cell:/c%3A/Users/crist/GitHub/PUCRS/2023-01/98H01-04%20-%20Coleta%2C%20Prepara%C3%A7%C3%A3o%20e%20An%C3%A1lise%20de%20Dados/Trabalhos/TF/TF.ipynb#X10sZmlsZQ%3D%3D?line=0'>1</a>\u001b[0m \u001b[39mfor\u001b[39;00m file \u001b[39min\u001b[39;00m sim\u001b[39m.\u001b[39mfiles:\n\u001b[1;32m----> <a href='vscode-notebook-cell:/c%3A/Users/crist/GitHub/PUCRS/2023-01/98H01-04%20-%20Coleta%2C%20Prepara%C3%A7%C3%A3o%20e%20An%C3%A1lise%20de%20Dados/Trabalhos/TF/TF.ipynb#X10sZmlsZQ%3D%3D?line=1'>2</a>\u001b[0m     insert_to_mongo(file, \u001b[39m'\u001b[39;49m\u001b[39msim\u001b[39;49m\u001b[39m'\u001b[39;49m)\n",
      "\u001b[1;32mc:\\Users\\crist\\GitHub\\PUCRS\\2023-01\\98H01-04 - Coleta, Preparação e Análise de Dados\\Trabalhos\\TF\\TF.ipynb Cell 9\u001b[0m in \u001b[0;36m3\n\u001b[0;32m      <a href='vscode-notebook-cell:/c%3A/Users/crist/GitHub/PUCRS/2023-01/98H01-04%20-%20Coleta%2C%20Prepara%C3%A7%C3%A3o%20e%20An%C3%A1lise%20de%20Dados/Trabalhos/TF/TF.ipynb#X10sZmlsZQ%3D%3D?line=0'>1</a>\u001b[0m \u001b[39mdef\u001b[39;00m \u001b[39minsert_to_mongo\u001b[39m(file, collection):\n\u001b[0;32m      <a href='vscode-notebook-cell:/c%3A/Users/crist/GitHub/PUCRS/2023-01/98H01-04%20-%20Coleta%2C%20Prepara%C3%A7%C3%A3o%20e%20An%C3%A1lise%20de%20Dados/Trabalhos/TF/TF.ipynb#X10sZmlsZQ%3D%3D?line=1'>2</a>\u001b[0m     \u001b[39mprint\u001b[39m(file)\n\u001b[1;32m----> <a href='vscode-notebook-cell:/c%3A/Users/crist/GitHub/PUCRS/2023-01/98H01-04%20-%20Coleta%2C%20Prepara%C3%A7%C3%A3o%20e%20An%C3%A1lise%20de%20Dados/Trabalhos/TF/TF.ipynb#X10sZmlsZQ%3D%3D?line=2'>3</a>\u001b[0m     records \u001b[39m=\u001b[39m pd\u001b[39m.\u001b[39;49mread_parquet(file)\u001b[39m.\u001b[39mto_dict(\u001b[39m'\u001b[39m\u001b[39mrecords\u001b[39m\u001b[39m'\u001b[39m)\n\u001b[0;32m      <a href='vscode-notebook-cell:/c%3A/Users/crist/GitHub/PUCRS/2023-01/98H01-04%20-%20Coleta%2C%20Prepara%C3%A7%C3%A3o%20e%20An%C3%A1lise%20de%20Dados/Trabalhos/TF/TF.ipynb#X10sZmlsZQ%3D%3D?line=3'>4</a>\u001b[0m     datasus\u001b[39m.\u001b[39minsert_many(collection, records)\n",
      "File \u001b[1;32mc:\\Users\\crist\\.conda\\envs\\data-analysis\\lib\\site-packages\\pandas\\io\\parquet.py:503\u001b[0m, in \u001b[0;36mread_parquet\u001b[1;34m(path, engine, columns, storage_options, use_nullable_dtypes, **kwargs)\u001b[0m\n\u001b[0;32m    456\u001b[0m \u001b[39m\"\"\"\u001b[39;00m\n\u001b[0;32m    457\u001b[0m \u001b[39mLoad a parquet object from the file path, returning a DataFrame.\u001b[39;00m\n\u001b[0;32m    458\u001b[0m \n\u001b[1;32m   (...)\u001b[0m\n\u001b[0;32m    499\u001b[0m \u001b[39mDataFrame\u001b[39;00m\n\u001b[0;32m    500\u001b[0m \u001b[39m\"\"\"\u001b[39;00m\n\u001b[0;32m    501\u001b[0m impl \u001b[39m=\u001b[39m get_engine(engine)\n\u001b[1;32m--> 503\u001b[0m \u001b[39mreturn\u001b[39;00m impl\u001b[39m.\u001b[39mread(\n\u001b[0;32m    504\u001b[0m     path,\n\u001b[0;32m    505\u001b[0m     columns\u001b[39m=\u001b[39mcolumns,\n\u001b[0;32m    506\u001b[0m     storage_options\u001b[39m=\u001b[39mstorage_options,\n\u001b[0;32m    507\u001b[0m     use_nullable_dtypes\u001b[39m=\u001b[39muse_nullable_dtypes,\n\u001b[0;32m    508\u001b[0m     \u001b[39m*\u001b[39m\u001b[39m*\u001b[39mkwargs,\n\u001b[0;32m    509\u001b[0m )\n",
      "File \u001b[1;32mc:\\Users\\crist\\.conda\\envs\\data-analysis\\lib\\site-packages\\pandas\\io\\parquet.py:251\u001b[0m, in \u001b[0;36mPyArrowImpl.read\u001b[1;34m(self, path, columns, use_nullable_dtypes, storage_options, **kwargs)\u001b[0m\n\u001b[0;32m    244\u001b[0m path_or_handle, handles, kwargs[\u001b[39m\"\u001b[39m\u001b[39mfilesystem\u001b[39m\u001b[39m\"\u001b[39m] \u001b[39m=\u001b[39m _get_path_or_handle(\n\u001b[0;32m    245\u001b[0m     path,\n\u001b[0;32m    246\u001b[0m     kwargs\u001b[39m.\u001b[39mpop(\u001b[39m\"\u001b[39m\u001b[39mfilesystem\u001b[39m\u001b[39m\"\u001b[39m, \u001b[39mNone\u001b[39;00m),\n\u001b[0;32m    247\u001b[0m     storage_options\u001b[39m=\u001b[39mstorage_options,\n\u001b[0;32m    248\u001b[0m     mode\u001b[39m=\u001b[39m\u001b[39m\"\u001b[39m\u001b[39mrb\u001b[39m\u001b[39m\"\u001b[39m,\n\u001b[0;32m    249\u001b[0m )\n\u001b[0;32m    250\u001b[0m \u001b[39mtry\u001b[39;00m:\n\u001b[1;32m--> 251\u001b[0m     result \u001b[39m=\u001b[39m \u001b[39mself\u001b[39m\u001b[39m.\u001b[39mapi\u001b[39m.\u001b[39mparquet\u001b[39m.\u001b[39mread_table(\n\u001b[0;32m    252\u001b[0m         path_or_handle, columns\u001b[39m=\u001b[39mcolumns, \u001b[39m*\u001b[39m\u001b[39m*\u001b[39mkwargs\n\u001b[0;32m    253\u001b[0m     )\u001b[39m.\u001b[39mto_pandas(\u001b[39m*\u001b[39m\u001b[39m*\u001b[39mto_pandas_kwargs)\n\u001b[0;32m    254\u001b[0m     \u001b[39mif\u001b[39;00m manager \u001b[39m==\u001b[39m \u001b[39m\"\u001b[39m\u001b[39marray\u001b[39m\u001b[39m\"\u001b[39m:\n\u001b[0;32m    255\u001b[0m         result \u001b[39m=\u001b[39m result\u001b[39m.\u001b[39m_as_manager(\u001b[39m\"\u001b[39m\u001b[39marray\u001b[39m\u001b[39m\"\u001b[39m, copy\u001b[39m=\u001b[39m\u001b[39mFalse\u001b[39;00m)\n",
      "File \u001b[1;32mc:\\Users\\crist\\.conda\\envs\\data-analysis\\lib\\site-packages\\pyarrow\\parquet\\__init__.py:2737\u001b[0m, in \u001b[0;36mread_table\u001b[1;34m(source, columns, use_threads, metadata, schema, use_pandas_metadata, memory_map, read_dictionary, filesystem, filters, buffer_size, partitioning, use_legacy_dataset, ignore_prefixes, pre_buffer, coerce_int96_timestamp_unit, decryption_properties)\u001b[0m\n\u001b[0;32m   2730\u001b[0m     \u001b[39mraise\u001b[39;00m \u001b[39mValueError\u001b[39;00m(\n\u001b[0;32m   2731\u001b[0m         \u001b[39m\"\u001b[39m\u001b[39mThe \u001b[39m\u001b[39m'\u001b[39m\u001b[39mmetadata\u001b[39m\u001b[39m'\u001b[39m\u001b[39m keyword is no longer supported with the new \u001b[39m\u001b[39m\"\u001b[39m\n\u001b[0;32m   2732\u001b[0m         \u001b[39m\"\u001b[39m\u001b[39mdatasets-based implementation. Specify \u001b[39m\u001b[39m\"\u001b[39m\n\u001b[0;32m   2733\u001b[0m         \u001b[39m\"\u001b[39m\u001b[39m'\u001b[39m\u001b[39muse_legacy_dataset=True\u001b[39m\u001b[39m'\u001b[39m\u001b[39m to temporarily recover the old \u001b[39m\u001b[39m\"\u001b[39m\n\u001b[0;32m   2734\u001b[0m         \u001b[39m\"\u001b[39m\u001b[39mbehaviour.\u001b[39m\u001b[39m\"\u001b[39m\n\u001b[0;32m   2735\u001b[0m     )\n\u001b[0;32m   2736\u001b[0m \u001b[39mtry\u001b[39;00m:\n\u001b[1;32m-> 2737\u001b[0m     dataset \u001b[39m=\u001b[39m _ParquetDatasetV2(\n\u001b[0;32m   2738\u001b[0m         source,\n\u001b[0;32m   2739\u001b[0m         schema\u001b[39m=\u001b[39;49mschema,\n\u001b[0;32m   2740\u001b[0m         filesystem\u001b[39m=\u001b[39;49mfilesystem,\n\u001b[0;32m   2741\u001b[0m         partitioning\u001b[39m=\u001b[39;49mpartitioning,\n\u001b[0;32m   2742\u001b[0m         memory_map\u001b[39m=\u001b[39;49mmemory_map,\n\u001b[0;32m   2743\u001b[0m         read_dictionary\u001b[39m=\u001b[39;49mread_dictionary,\n\u001b[0;32m   2744\u001b[0m         buffer_size\u001b[39m=\u001b[39;49mbuffer_size,\n\u001b[0;32m   2745\u001b[0m         filters\u001b[39m=\u001b[39;49mfilters,\n\u001b[0;32m   2746\u001b[0m         ignore_prefixes\u001b[39m=\u001b[39;49mignore_prefixes,\n\u001b[0;32m   2747\u001b[0m         pre_buffer\u001b[39m=\u001b[39;49mpre_buffer,\n\u001b[0;32m   2748\u001b[0m         coerce_int96_timestamp_unit\u001b[39m=\u001b[39;49mcoerce_int96_timestamp_unit\n\u001b[0;32m   2749\u001b[0m     )\n\u001b[0;32m   2750\u001b[0m \u001b[39mexcept\u001b[39;00m \u001b[39mImportError\u001b[39;00m:\n\u001b[0;32m   2751\u001b[0m     \u001b[39m# fall back on ParquetFile for simple cases when pyarrow.dataset\u001b[39;00m\n\u001b[0;32m   2752\u001b[0m     \u001b[39m# module is not available\u001b[39;00m\n\u001b[0;32m   2753\u001b[0m     \u001b[39mif\u001b[39;00m filters \u001b[39mis\u001b[39;00m \u001b[39mnot\u001b[39;00m \u001b[39mNone\u001b[39;00m:\n",
      "File \u001b[1;32mc:\\Users\\crist\\.conda\\envs\\data-analysis\\lib\\site-packages\\pyarrow\\parquet\\__init__.py:2340\u001b[0m, in \u001b[0;36m_ParquetDatasetV2.__init__\u001b[1;34m(self, path_or_paths, filesystem, filters, partitioning, read_dictionary, buffer_size, memory_map, ignore_prefixes, pre_buffer, coerce_int96_timestamp_unit, schema, decryption_properties, **kwargs)\u001b[0m\n\u001b[0;32m   2336\u001b[0m \u001b[39mif\u001b[39;00m single_file \u001b[39mis\u001b[39;00m \u001b[39mnot\u001b[39;00m \u001b[39mNone\u001b[39;00m:\n\u001b[0;32m   2337\u001b[0m     fragment \u001b[39m=\u001b[39m parquet_format\u001b[39m.\u001b[39mmake_fragment(single_file, filesystem)\n\u001b[0;32m   2339\u001b[0m     \u001b[39mself\u001b[39m\u001b[39m.\u001b[39m_dataset \u001b[39m=\u001b[39m ds\u001b[39m.\u001b[39mFileSystemDataset(\n\u001b[1;32m-> 2340\u001b[0m         [fragment], schema\u001b[39m=\u001b[39mschema \u001b[39mor\u001b[39;00m fragment\u001b[39m.\u001b[39;49mphysical_schema,\n\u001b[0;32m   2341\u001b[0m         \u001b[39mformat\u001b[39m\u001b[39m=\u001b[39mparquet_format,\n\u001b[0;32m   2342\u001b[0m         filesystem\u001b[39m=\u001b[39mfragment\u001b[39m.\u001b[39mfilesystem\n\u001b[0;32m   2343\u001b[0m     )\n\u001b[0;32m   2344\u001b[0m     \u001b[39mreturn\u001b[39;00m\n\u001b[0;32m   2346\u001b[0m \u001b[39m# check partitioning to enable dictionary encoding\u001b[39;00m\n",
      "File \u001b[1;32mc:\\Users\\crist\\.conda\\envs\\data-analysis\\lib\\site-packages\\pyarrow\\_dataset.pyx:870\u001b[0m, in \u001b[0;36mpyarrow._dataset.Fragment.physical_schema.__get__\u001b[1;34m()\u001b[0m\n",
      "File \u001b[1;32mc:\\Users\\crist\\.conda\\envs\\data-analysis\\lib\\site-packages\\pyarrow\\error.pxi:144\u001b[0m, in \u001b[0;36mpyarrow.lib.pyarrow_internal_check_status\u001b[1;34m()\u001b[0m\n",
      "File \u001b[1;32mc:\\Users\\crist\\.conda\\envs\\data-analysis\\lib\\site-packages\\pyarrow\\error.pxi:100\u001b[0m, in \u001b[0;36mpyarrow.lib.check_status\u001b[1;34m()\u001b[0m\n",
      "\u001b[1;31mArrowInvalid\u001b[0m: Could not open Parquet input source '<Buffer>': Parquet magic bytes not found in footer. Either the file is corrupted or this is not a parquet file."
     ]
    }
   ],
   "source": [
    "for file in sim.files:\n",
    "    insert_to_mongo(file, 'sim')\n"
   ]
  },
  {
   "cell_type": "code",
   "execution_count": null,
   "metadata": {},
   "outputs": [],
   "source": [
    "\n",
    "for file in sinan.files:\n",
    "    insert_to_mongo(file, 'sinan')\n",
    "\n",
    "for file in sinasc.files:\n",
    "    insert_to_mongo(file, 'sinasc')"
   ]
  },
  {
   "cell_type": "code",
   "execution_count": null,
   "metadata": {},
   "outputs": [],
   "source": []
  },
  {
   "cell_type": "code",
   "execution_count": null,
   "metadata": {},
   "outputs": [],
   "source": [
    "#transforma um conjunto de arquivos em apenas um arquivo\n",
    "data = pd.DataFrame()\n",
    "\n",
    "for file in os.listdir(f'{path}'):\n",
    "    data = data.append(pd.read_parquet(f'{path}{file}'))\n",
    "\n",
    "data.to_parquet(f'{path}SINASC_BR_1994-2021.parquet')"
   ]
  },
  {
   "cell_type": "code",
   "execution_count": null,
   "metadata": {},
   "outputs": [],
   "source": []
  },
  {
   "cell_type": "code",
   "execution_count": null,
   "metadata": {},
   "outputs": [],
   "source": [
    "# dados adicionais\n",
    "ocupacoes = pd.read_csv('https://raw.githubusercontent.com/daltonbc96/python/master/CBO.csv')\n",
    "municipios = pd.read_csv('https://raw.githubusercontent.com/kelvins/Municipios-Brasileiros/main/csv/municipios.csv')\n",
    "#pd.read_csv('http://blog.mds.gov.br/redesuas/wp-content/uploads/2018/06/Lista_Munic%C3%ADpios_com_IBGE_Brasil_Versao_CSV.csv', sep=';', encoding='latin-1')"
   ]
  },
  {
   "cell_type": "code",
   "execution_count": null,
   "metadata": {},
   "outputs": [],
   "source": [
    "df_sim[df_sim[['DATANASC']].notna()]"
   ]
  },
  {
   "cell_type": "code",
   "execution_count": null,
   "metadata": {},
   "outputs": [],
   "source": [
    "df_sim = sim.read().to_pandas()#.sample(frac=0.20)\n",
    "#df_sim.to_csv(f'{path}/SIM_20.csv', index=False)\n",
    "#del df_sim"
   ]
  },
  {
   "cell_type": "code",
   "execution_count": null,
   "metadata": {},
   "outputs": [],
   "source": [
    "df_sim_rs = df_sim[df_sim['STATE'] == 'RS']"
   ]
  },
  {
   "cell_type": "code",
   "execution_count": null,
   "metadata": {},
   "outputs": [],
   "source": [
    "df_sim_rs.to_csv(f'{path}/SIM_RS.csv', index=False)"
   ]
  },
  {
   "cell_type": "code",
   "execution_count": null,
   "metadata": {},
   "outputs": [],
   "source": [
    "df_sim_rs = df_sim_rs[['DATAREG', 'DATAOBITO', 'DATANASC', 'IDADE', 'TIPOBITO', 'ESTCIVIL', 'SEXO', 'RACACOR', 'CODMUNRES', 'LOCOCOR', 'CODMUNOCOR', 'OCUP', 'CODMUNNATU', ]]\n"
   ]
  },
  {
   "cell_type": "code",
   "execution_count": null,
   "metadata": {},
   "outputs": [],
   "source": [
    "# sava dados do SIM\n",
    "for year in range(1993, 2022):\n",
    "    print(year)\n",
    "    data = pd.read_csv(f'https://diaad.s3.sa-east-1.amazonaws.com/sim/Mortalidade_Geral_{year}.csv', sep=';', encoding='latin-1')\n",
    "    data.to_csv(f'{path}/SIM/SIM_{year}.csv', index=False)\n",
    "\n",
    "    data = data.to_dict('records')\n",
    "    datasus.insert_many('sim', data)\n",
    "    print('ok')\n"
   ]
  }
 ],
 "metadata": {
  "kernelspec": {
   "display_name": "Python 3 (ipykernel)",
   "language": "python",
   "name": "python3"
  },
  "language_info": {
   "codemirror_mode": {
    "name": "ipython",
    "version": 3
   },
   "file_extension": ".py",
   "mimetype": "text/x-python",
   "name": "python",
   "nbconvert_exporter": "python",
   "pygments_lexer": "ipython3",
   "version": "3.9.13"
  },
  "orig_nbformat": 4
 },
 "nbformat": 4,
 "nbformat_minor": 2
}
