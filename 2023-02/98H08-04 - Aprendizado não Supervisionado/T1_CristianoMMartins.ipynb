{
 "cells": [
  {
   "cell_type": "code",
   "execution_count": 1,
   "metadata": {},
   "outputs": [],
   "source": [
    "import numpy as np\n",
    "import matplotlib.pyplot as plt\n",
    "\n",
    "from sklearn.cluster import DBSCAN\n",
    "from sklearn.datasets import load_iris\n",
    "from sklearn.metrics.pairwise import euclidean_distances\n",
    "\n"
   ]
  },
  {
   "cell_type": "code",
   "execution_count": 7,
   "metadata": {},
   "outputs": [],
   "source": [
    "def load_data():\n",
    "    # Load data\n",
    "    iris = load_iris()\n",
    "    print(iris.DESCR)\n",
    "    X = iris.data\n",
    "    y = iris.target\n",
    "    return X, y"
   ]
  },
  {
   "cell_type": "code",
   "execution_count": 2,
   "metadata": {},
   "outputs": [],
   "source": [
    "\n",
    "\n",
    "def dbscan(data, eps, minPts):\n",
    "    NOISE = -1\n",
    "    UNASSIGNED = 0\n",
    "    cluster_id = 1\n",
    "    \n",
    "    n_points = data.shape[0]\n",
    "    labels = np.zeros(n_points, dtype=int)\n",
    "    \n",
    "    for p in range(n_points):\n",
    "        if labels[p] != UNASSIGNED:\n",
    "            continue\n",
    "        \n",
    "        neighbors = region_query(data, p, eps)\n",
    "        \n",
    "        if len(neighbors) < minPts:\n",
    "            labels[p] = NOISE\n",
    "            continue\n",
    "        \n",
    "        labels[p] = cluster_id\n",
    "        \n",
    "        seed_set = neighbors - {p}\n",
    "        \n",
    "        for q in seed_set:\n",
    "            if labels[q] == NOISE:\n",
    "                labels[q] = cluster_id\n",
    "            \n",
    "            if labels[q] != UNASSIGNED:\n",
    "                continue\n",
    "            \n",
    "            labels[q] = cluster_id\n",
    "            \n",
    "            neighbors = region_query(data, q, eps)\n",
    "            \n",
    "            if len(neighbors) >= minPts:\n",
    "                seed_set.update(neighbors)\n",
    "        \n",
    "        cluster_id += 1\n",
    "    \n",
    "    return labels\n",
    "\n",
    "def region_query(data, point_id, eps):\n",
    "    distances = euclidean_distances(data[point_id].reshape(1, -1), data)[0]\n",
    "    neighbors = set(np.where(distances < eps)[0])\n",
    "    return neighbors\n"
   ]
  },
  {
   "cell_type": "code",
   "execution_count": null,
   "metadata": {},
   "outputs": [],
   "source": []
  },
  {
   "cell_type": "code",
   "execution_count": 10,
   "metadata": {},
   "outputs": [
    {
     "name": "stdout",
     "output_type": "stream",
     "text": [
      ".. _iris_dataset:\n",
      "\n",
      "Iris plants dataset\n",
      "--------------------\n",
      "\n",
      "**Data Set Characteristics:**\n",
      "\n",
      "    :Number of Instances: 150 (50 in each of three classes)\n",
      "    :Number of Attributes: 4 numeric, predictive attributes and the class\n",
      "    :Attribute Information:\n",
      "        - sepal length in cm\n",
      "        - sepal width in cm\n",
      "        - petal length in cm\n",
      "        - petal width in cm\n",
      "        - class:\n",
      "                - Iris-Setosa\n",
      "                - Iris-Versicolour\n",
      "                - Iris-Virginica\n",
      "                \n",
      "    :Summary Statistics:\n",
      "\n",
      "    ============== ==== ==== ======= ===== ====================\n",
      "                    Min  Max   Mean    SD   Class Correlation\n",
      "    ============== ==== ==== ======= ===== ====================\n",
      "    sepal length:   4.3  7.9   5.84   0.83    0.7826\n",
      "    sepal width:    2.0  4.4   3.05   0.43   -0.4194\n",
      "    petal length:   1.0  6.9   3.76   1.76    0.9490  (high!)\n",
      "    petal width:    0.1  2.5   1.20   0.76    0.9565  (high!)\n",
      "    ============== ==== ==== ======= ===== ====================\n",
      "\n",
      "    :Missing Attribute Values: None\n",
      "    :Class Distribution: 33.3% for each of 3 classes.\n",
      "    :Creator: R.A. Fisher\n",
      "    :Donor: Michael Marshall (MARSHALL%PLU@io.arc.nasa.gov)\n",
      "    :Date: July, 1988\n",
      "\n",
      "The famous Iris database, first used by Sir R.A. Fisher. The dataset is taken\n",
      "from Fisher's paper. Note that it's the same as in R, but not as in the UCI\n",
      "Machine Learning Repository, which has two wrong data points.\n",
      "\n",
      "This is perhaps the best known database to be found in the\n",
      "pattern recognition literature.  Fisher's paper is a classic in the field and\n",
      "is referenced frequently to this day.  (See Duda & Hart, for example.)  The\n",
      "data set contains 3 classes of 50 instances each, where each class refers to a\n",
      "type of iris plant.  One class is linearly separable from the other 2; the\n",
      "latter are NOT linearly separable from each other.\n",
      "\n",
      ".. topic:: References\n",
      "\n",
      "   - Fisher, R.A. \"The use of multiple measurements in taxonomic problems\"\n",
      "     Annual Eugenics, 7, Part II, 179-188 (1936); also in \"Contributions to\n",
      "     Mathematical Statistics\" (John Wiley, NY, 1950).\n",
      "   - Duda, R.O., & Hart, P.E. (1973) Pattern Classification and Scene Analysis.\n",
      "     (Q327.D83) John Wiley & Sons.  ISBN 0-471-22361-1.  See page 218.\n",
      "   - Dasarathy, B.V. (1980) \"Nosing Around the Neighborhood: A New System\n",
      "     Structure and Classification Rule for Recognition in Partially Exposed\n",
      "     Environments\".  IEEE Transactions on Pattern Analysis and Machine\n",
      "     Intelligence, Vol. PAMI-2, No. 1, 67-71.\n",
      "   - Gates, G.W. (1972) \"The Reduced Nearest Neighbor Rule\".  IEEE Transactions\n",
      "     on Information Theory, May 1972, 431-433.\n",
      "   - See also: 1988 MLC Proceedings, 54-64.  Cheeseman et al\"s AUTOCLASS II\n",
      "     conceptual clustering system finds 3 classes in the data.\n",
      "   - Many, many more ...\n"
     ]
    },
    {
     "ename": "RuntimeError",
     "evalue": "Set changed size during iteration",
     "output_type": "error",
     "traceback": [
      "\u001b[1;31m---------------------------------------------------------------------------\u001b[0m",
      "\u001b[1;31mRuntimeError\u001b[0m                              Traceback (most recent call last)",
      "\u001b[1;32mc:\\Users\\crist\\GitHub\\PUCRS\\2023-02\\98H08-04 - Aprendizado não Supervisionado\\T1_CristianoMMartins.ipynb Cell 5\u001b[0m in \u001b[0;36m6\n\u001b[0;32m      <a href='vscode-notebook-cell:/c%3A/Users/crist/GitHub/PUCRS/2023-02/98H08-04%20-%20Aprendizado%20n%C3%A3o%20Supervisionado/T1_CristianoMMartins.ipynb#W4sZmlsZQ%3D%3D?line=2'>3</a>\u001b[0m X \u001b[39m=\u001b[39m iris[\u001b[39m0\u001b[39m][:, :\u001b[39m2\u001b[39m]\n\u001b[0;32m      <a href='vscode-notebook-cell:/c%3A/Users/crist/GitHub/PUCRS/2023-02/98H08-04%20-%20Aprendizado%20n%C3%A3o%20Supervisionado/T1_CristianoMMartins.ipynb#W4sZmlsZQ%3D%3D?line=4'>5</a>\u001b[0m \u001b[39m# Aplicar DBSCAN\u001b[39;00m\n\u001b[1;32m----> <a href='vscode-notebook-cell:/c%3A/Users/crist/GitHub/PUCRS/2023-02/98H08-04%20-%20Aprendizado%20n%C3%A3o%20Supervisionado/T1_CristianoMMartins.ipynb#W4sZmlsZQ%3D%3D?line=5'>6</a>\u001b[0m labels \u001b[39m=\u001b[39m dbscan(X, eps\u001b[39m=\u001b[39;49m\u001b[39m0.5\u001b[39;49m, minPts\u001b[39m=\u001b[39;49m\u001b[39m5\u001b[39;49m)\n\u001b[0;32m      <a href='vscode-notebook-cell:/c%3A/Users/crist/GitHub/PUCRS/2023-02/98H08-04%20-%20Aprendizado%20n%C3%A3o%20Supervisionado/T1_CristianoMMartins.ipynb#W4sZmlsZQ%3D%3D?line=7'>8</a>\u001b[0m \u001b[39m# Plotar resultados\u001b[39;00m\n\u001b[0;32m      <a href='vscode-notebook-cell:/c%3A/Users/crist/GitHub/PUCRS/2023-02/98H08-04%20-%20Aprendizado%20n%C3%A3o%20Supervisionado/T1_CristianoMMartins.ipynb#W4sZmlsZQ%3D%3D?line=8'>9</a>\u001b[0m plt\u001b[39m.\u001b[39mscatter(X[:, \u001b[39m0\u001b[39m], X[:, \u001b[39m1\u001b[39m], c\u001b[39m=\u001b[39mlabels)\n",
      "\u001b[1;32mc:\\Users\\crist\\GitHub\\PUCRS\\2023-02\\98H08-04 - Aprendizado não Supervisionado\\T1_CristianoMMartins.ipynb Cell 5\u001b[0m in \u001b[0;36m2\n\u001b[0;32m     <a href='vscode-notebook-cell:/c%3A/Users/crist/GitHub/PUCRS/2023-02/98H08-04%20-%20Aprendizado%20n%C3%A3o%20Supervisionado/T1_CristianoMMartins.ipynb#W4sZmlsZQ%3D%3D?line=18'>19</a>\u001b[0m labels[p] \u001b[39m=\u001b[39m cluster_id\n\u001b[0;32m     <a href='vscode-notebook-cell:/c%3A/Users/crist/GitHub/PUCRS/2023-02/98H08-04%20-%20Aprendizado%20n%C3%A3o%20Supervisionado/T1_CristianoMMartins.ipynb#W4sZmlsZQ%3D%3D?line=20'>21</a>\u001b[0m seed_set \u001b[39m=\u001b[39m neighbors \u001b[39m-\u001b[39m {p}\n\u001b[1;32m---> <a href='vscode-notebook-cell:/c%3A/Users/crist/GitHub/PUCRS/2023-02/98H08-04%20-%20Aprendizado%20n%C3%A3o%20Supervisionado/T1_CristianoMMartins.ipynb#W4sZmlsZQ%3D%3D?line=22'>23</a>\u001b[0m \u001b[39mfor\u001b[39;00m q \u001b[39min\u001b[39;00m seed_set:\n\u001b[0;32m     <a href='vscode-notebook-cell:/c%3A/Users/crist/GitHub/PUCRS/2023-02/98H08-04%20-%20Aprendizado%20n%C3%A3o%20Supervisionado/T1_CristianoMMartins.ipynb#W4sZmlsZQ%3D%3D?line=23'>24</a>\u001b[0m     \u001b[39mif\u001b[39;00m labels[q] \u001b[39m==\u001b[39m NOISE:\n\u001b[0;32m     <a href='vscode-notebook-cell:/c%3A/Users/crist/GitHub/PUCRS/2023-02/98H08-04%20-%20Aprendizado%20n%C3%A3o%20Supervisionado/T1_CristianoMMartins.ipynb#W4sZmlsZQ%3D%3D?line=24'>25</a>\u001b[0m         labels[q] \u001b[39m=\u001b[39m cluster_id\n",
      "\u001b[1;31mRuntimeError\u001b[0m: Set changed size during iteration"
     ]
    }
   ],
   "source": [
    "# Carregar dados\n",
    "iris = load_data()\n",
    "X = iris[0][:, :2]\n",
    "\n",
    "# Aplicar DBSCAN\n",
    "labels = dbscan(X, eps=0.5, minPts=5)\n",
    "\n",
    "# Plotar resultados\n",
    "plt.scatter(X[:, 0], X[:, 1], c=labels)\n",
    "plt.show()\n"
   ]
  },
  {
   "cell_type": "code",
   "execution_count": 4,
   "metadata": {},
   "outputs": [
    {
     "data": {
      "image/png": "[encoded data removed]",
      "text/plain": [
       "<Figure size 640x480 with 1 Axes>"
      ]
     },
     "metadata": {},
     "output_type": "display_data"
    }
   ],
   "source": [
    "# Aplicar DBSCAN do scikit-learn\n",
    "dbscan_sklearn = DBSCAN(eps=0.5, min_samples=5)\n",
    "labels_sklearn = dbscan_sklearn.fit_predict(X)\n",
    "\n",
    "# Plotar resultados\n",
    "plt.scatter(X[:, 0], X[:, 1], c=labels_sklearn)\n",
    "plt.show()\n"
   ]
  }
 ],
 "metadata": {
  "kernelspec": {
   "display_name": "data-analysis",
   "language": "python",
   "name": "python3"
  },
  "language_info": {
   "codemirror_mode": {
    "name": "ipython",
    "version": 3
   },
   "file_extension": ".py",
   "mimetype": "text/x-python",
   "name": "python",
   "nbconvert_exporter": "python",
   "pygments_lexer": "ipython3",
   "version": "3.9.13"
  },
  "orig_nbformat": 4
 },
 "nbformat": 4,
 "nbformat_minor": 2
}
