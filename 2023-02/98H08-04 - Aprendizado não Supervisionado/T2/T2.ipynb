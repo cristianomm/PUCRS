{
 "cells": [
  {
   "cell_type": "code",
   "execution_count": null,
   "metadata": {},
   "outputs": [],
   "source": [
    "import warnings\n",
    "\n",
    "import pandas as pd\n",
    "import numpy as np\n",
    "import seaborn as sns\n",
    "import matplotlib.pyplot as plt\n",
    "\n",
    "import scipy.cluster.hierarchy as sch\n",
    "from statsmodels.graphics.mosaicplot import mosaic\n",
    "\n",
    "from sklearn.manifold import TSNE\n",
    "from sklearn.cluster import DBSCAN\n",
    "from sklearn.decomposition import PCA\n",
    "from sklearn.cluster import AgglomerativeClustering, KMeans\n",
    "from sklearn.metrics import silhouette_score\n",
    "from sklearn.preprocessing import StandardScaler, LabelEncoder\n",
    "\n",
    "warnings.filterwarnings('ignore')\n"
   ]
  },
  {
   "cell_type": "code",
   "execution_count": null,
   "metadata": {},
   "outputs": [],
   "source": [
    "\n",
    "def plot_tsne_results(tsne_results, n_components, state, labels=None):\n",
    "    \"\"\"\n",
    "    Plots the 2D t-SNE results.\n",
    "    \n",
    "    Parameters:\n",
    "    - tsne_results: A 2D array or DataFrame containing the t-SNE results.\n",
    "    - n_components: Number of components used in the t-SNE algorithm.\n",
    "    - state: Random state used in the t-SNE algorithm.\n",
    "    - labels: Labels for each data point for coloring. If None, all points are colored with the same color.\n",
    "    \"\"\"\n",
    "    \n",
    "    # Extracting the two dimensions from the results\n",
    "    x = tsne_results[:, 0]\n",
    "    y = tsne_results[:, 1]\n",
    "    \n",
    "    plt.figure(figsize=(8, 6))\n",
    "    \n",
    "    # If labels are provided, plot using different colors for each label\n",
    "    if labels is not None:\n",
    "        unique_labels = list(set(labels))\n",
    "        for label in unique_labels:\n",
    "            idx = labels == label\n",
    "            plt.scatter(x[idx], y[idx], label=label, alpha=0.7)\n",
    "        plt.legend()\n",
    "    else:\n",
    "        plt.scatter(x, y, alpha=0.7)\n",
    "    \n",
    "    plt.xlabel('t-SNE Dimension 1')\n",
    "    plt.ylabel('t-SNE Dimension 2')\n",
    "    plt.title(f't-SNE {n_components} Components - Random State {state}')\n",
    "    plt.grid(True)\n",
    "    plt.show()\n",
    "\n"
   ]
  },
  {
   "cell_type": "code",
   "execution_count": null,
   "metadata": {},
   "outputs": [],
   "source": [
    "sinasc_df = pd.read_csv('D:/Disco/Data/datasus/SINASC/sinasc_nascimentos/sinasc_nascimentos.csv', sep=';')"
   ]
  },
  {
   "cell_type": "markdown",
   "metadata": {},
   "source": [
    "### Explorando os dados..."
   ]
  },
  {
   "cell_type": "code",
   "execution_count": null,
   "metadata": {},
   "outputs": [],
   "source": [
    "sinasc_df.sample(frac=.25, random_state=18).head(10)"
   ]
  },
  {
   "cell_type": "code",
   "execution_count": null,
   "metadata": {},
   "outputs": [],
   "source": [
    "sinasc_df.info()"
   ]
  },
  {
   "cell_type": "markdown",
   "metadata": {},
   "source": [
    "### Pré processamento\n",
    "- Verifica todas as colunas e preenche com o valor padrao quando possivel\n",
    "- Ajusta o tipo de dados"
   ]
  },
  {
   "cell_type": "code",
   "execution_count": null,
   "metadata": {},
   "outputs": [],
   "source": [
    "cols = [\n",
    "    'escolaridade_mae', 'raca_mae', 'estado_civil_mae', 'nascimento_mae', \n",
    "    'ocupacao', 'nro_consultas_prenatal', 'cesaria_antes_parto', \n",
    "    'duracao_gestacao', 'gravidez', 'local_nascimento', 'parto', \n",
    "    'trabalho_parto', 'apresentacao_crianca', 'possui_anomalia', 'sexo', 'raca'\n",
    "]"
   ]
  },
  {
   "cell_type": "code",
   "execution_count": null,
   "metadata": {},
   "outputs": [],
   "source": [
    "sinasc_df['data_nascimento'] = pd.to_datetime(sinasc_df['data_nascimento'], format='%m/%Y')\n",
    "sinasc_df['idade_mae'] = (pd.to_datetime(sinasc_df['data_extracao']) - sinasc_df['data_nascimento']).dt.days / 365.25\n"
   ]
  },
  {
   "cell_type": "code",
   "execution_count": null,
   "metadata": {},
   "outputs": [],
   "source": [
    "#ajusta o tipo de dado para categoria em cada coluna selecionada e também cria uma coluna numerica correspondente\n",
    "colsv = []\n",
    "for col in cols:\n",
    "    sinasc_df[col].fillna('IGNORADO', inplace=True)\n",
    "    sinasc_df[col] = sinasc_df[col].astype('category')\n",
    "    le = LabelEncoder()\n",
    "    sinasc_df[col + '_v'] = le.fit_transform(sinasc_df[col])\n",
    "    colsv.append(col + '_v')\n",
    "\n",
    "sinasc_df['cbo_mae'].fillna('IGNORADO', inplace=True)\n"
   ]
  },
  {
   "cell_type": "markdown",
   "metadata": {},
   "source": [
    "#### Plot de alguns graficos para visualizar os dados"
   ]
  },
  {
   "cell_type": "code",
   "execution_count": null,
   "metadata": {},
   "outputs": [],
   "source": [
    "plt.figure(figsize=(8, 3))\n",
    "plt.hist(sinasc_df['idade_mae'], bins=20, edgecolor='black', color='lightblue')\n",
    "plt.xlabel('Idade da mãe')\n",
    "plt.ylabel('Frequência')\n",
    "plt.show()"
   ]
  },
  {
   "cell_type": "code",
   "execution_count": null,
   "metadata": {},
   "outputs": [],
   "source": [
    "escolaridade_counts = sinasc_df['escolaridade_mae'].value_counts()\n",
    "\n",
    "plt.figure(figsize=(6, 3))\n",
    "sns.barplot(x=escolaridade_counts.index, y=escolaridade_counts.values)\n",
    "plt.xticks(rotation=45)\n",
    "plt.title('Distribuição de Escolaridade das Mães')\n",
    "plt.xlabel('Escolaridade')\n",
    "plt.ylabel('Contagem')\n",
    "plt.show()"
   ]
  },
  {
   "cell_type": "code",
   "execution_count": null,
   "metadata": {},
   "outputs": [],
   "source": [
    "parto_counts = sinasc_df['parto'].value_counts()\n",
    "\n",
    "plt.figure(figsize=(8, 3))\n",
    "sns.barplot(x=parto_counts.index, y=parto_counts.values)\n",
    "plt.title('Tipos de Parto')\n",
    "plt.xlabel('Tipo de Parto')\n",
    "plt.ylabel('Contagem')\n",
    "plt.show()"
   ]
  },
  {
   "cell_type": "code",
   "execution_count": null,
   "metadata": {},
   "outputs": [],
   "source": [
    "# tenta encontrar variaveis relacionadas\n",
    "corr_matrix = sinasc_df.select_dtypes(include=[np.number]).corr()\n",
    "\n",
    "plt.figure(figsize=(19, 7))\n",
    "sns.heatmap(corr_matrix, annot=True, cmap='Blues')\n",
    "plt.show()"
   ]
  },
  {
   "cell_type": "markdown",
   "metadata": {},
   "source": [
    "- Na matriz de correlação é possível verificar algumas variáveis que podem ter relação, o que pode ajudar na clusterização\n",
    "    - peso: duracao_gestacao, gravidez\n",
    "    - escolaridade_mae: raca_mae, estado_civil_mae, nro_consultas_prenatal, parto\n",
    "    - estado_civil_mae: nro_consultas_prenatal, cesaria_antes_parto, parto\n",
    "    - nro_consultas_prenatal: cesaria_antes_parto, duracao_gestacao, parto\n",
    "    - duracao_gestacao: gravidez, apresentacao_crianca"
   ]
  },
  {
   "cell_type": "code",
   "execution_count": null,
   "metadata": {},
   "outputs": [],
   "source": [
    "threshold = 0.15  # Define o limiar de alta correlação\n",
    "high_corr_pairs = []\n",
    "\n",
    "for i in range(len(corr_matrix.columns)):\n",
    "    for j in range(i):\n",
    "        if abs(corr_matrix.iloc[i, j]) > threshold:\n",
    "            col_pair = (corr_matrix.columns[i], corr_matrix.columns[j])\n",
    "            high_corr_pairs.append(col_pair)\n",
    "\n",
    "#print(high_corr_pairs)\n",
    "\n",
    "corr_cols = set()\n",
    "for pair in high_corr_pairs:\n",
    "    corr_cols.add(pair[0])\n",
    "    corr_cols.add(pair[1])\n",
    "\n",
    "corr_cols = list(corr_cols)\n",
    "print(corr_cols)"
   ]
  },
  {
   "cell_type": "markdown",
   "metadata": {},
   "source": [
    "### Clusterização"
   ]
  },
  {
   "cell_type": "code",
   "execution_count": null,
   "metadata": {},
   "outputs": [],
   "source": [
    "pca = PCA(n_components=2)  # Ou outro número de componentes\n",
    "\n",
    "scaler = StandardScaler()\n",
    "data_numeric = sinasc_df[corr_cols]#.select_dtypes(include=[np.number])\n",
    "scaled_data = scaler.fit_transform(data_numeric)\n",
    "pca_result = pca.fit_transform(scaled_data)\n",
    "\n",
    "# Adiciona os componentes principais ao DataFrame original para visualização\n",
    "sinasc_df['PCA1'] = pca_result[:, 0]\n",
    "sinasc_df['PCA2'] = pca_result[:, 1]\n",
    "\n",
    "#print components column names\n",
    "print(sinasc_df.columns[-2:])\n",
    "#print components values\n",
    "print(pca.components_)"
   ]
  },
  {
   "cell_type": "code",
   "execution_count": null,
   "metadata": {},
   "outputs": [],
   "source": [
    "plt.figure(figsize=(8, 6))\n",
    "plt.scatter(sinasc_df['PCA1'], sinasc_df['PCA2'], c=sinasc_df['PCA2'], cmap='plasma')\n",
    "plt.xlabel('Primeiro Componente Principal')\n",
    "plt.ylabel('Segundo Componente Principal')\n",
    "plt.show()"
   ]
  },
  {
   "cell_type": "code",
   "execution_count": null,
   "metadata": {},
   "outputs": [],
   "source": [
    "print(f'Variância explicada por cada componente: {pca.explained_variance_ratio_}')\n"
   ]
  },
  {
   "cell_type": "code",
   "execution_count": null,
   "metadata": {},
   "outputs": [],
   "source": [
    "tsne = TSNE(n_components=3, init='pca', method='exact', random_state=18)\n",
    "tsne_result = tsne.fit_transform(pd.DataFrame(scaled_data, columns=corr_cols).sample(frac=.25, random_state=18))\n",
    "\n",
    "sinasc_df['TSNE1'] = tsne_result[:, 0]\n",
    "sinasc_df['TSNE2'] = tsne_result[:, 1]\n"
   ]
  },
  {
   "cell_type": "code",
   "execution_count": null,
   "metadata": {},
   "outputs": [],
   "source": [
    "plot_tsne_results(tsne_result, 3, 18)"
   ]
  },
  {
   "cell_type": "code",
   "execution_count": null,
   "metadata": {},
   "outputs": [],
   "source": [
    "plt.figure(figsize=(8, 6))\n",
    "plt.scatter(sinasc_df['TSNE1'], sinasc_df['TSNE2'], cmap='plasma')\n",
    "plt.xlabel('Primeiro Componente TSNE')\n",
    "plt.ylabel('Segundo Componente TSNE')\n",
    "plt.show()"
   ]
  },
  {
   "cell_type": "markdown",
   "metadata": {},
   "source": [
    "- KMEANS"
   ]
  },
  {
   "cell_type": "code",
   "execution_count": null,
   "metadata": {},
   "outputs": [],
   "source": [
    "wcss = []\n",
    "interval = range(1, 30)\n",
    "for i in interval:  # Teste um intervalo de valores de K\n",
    "    kmeans = KMeans(n_clusters=i, init='k-means++', random_state=42)\n",
    "    kmeans.fit(scaled_data)\n",
    "    wcss.append(kmeans.inertia_)\n",
    "\n",
    "plt.plot(interval, wcss)\n",
    "plt.title('Método do Cotovelo')\n",
    "plt.xlabel('Número de Clusters')\n",
    "plt.ylabel('WCSS')\n",
    "plt.show()"
   ]
  },
  {
   "cell_type": "code",
   "execution_count": null,
   "metadata": {},
   "outputs": [],
   "source": [
    "kmeans = KMeans(n_clusters=10, init='k-means++', random_state=42)\n",
    "cluster_labels = kmeans.fit_predict(scaled_data)\n",
    "sinasc_df['Cluster_KMeans'] = cluster_labels"
   ]
  },
  {
   "cell_type": "code",
   "execution_count": null,
   "metadata": {},
   "outputs": [],
   "source": [
    "dbscan = DBSCAN(eps=0.5, min_samples=30)  \n",
    "cluster_labels = dbscan.fit_predict(scaled_data)\n",
    "sinasc_df['Cluster_DBSCAN'] = cluster_labels"
   ]
  },
  {
   "cell_type": "code",
   "execution_count": null,
   "metadata": {},
   "outputs": [],
   "source": [
    "score = silhouette_score(scaled_data, cluster_labels)\n",
    "print(f'Silhouette Score: {score}')"
   ]
  }
 ],
 "metadata": {
  "kernelspec": {
   "display_name": "data-analysis",
   "language": "python",
   "name": "python3"
  },
  "language_info": {
   "codemirror_mode": {
    "name": "ipython",
    "version": 3
   },
   "file_extension": ".py",
   "mimetype": "text/x-python",
   "name": "python",
   "nbconvert_exporter": "python",
   "pygments_lexer": "ipython3",
   "version": "3.9.13"
  }
 },
 "nbformat": 4,
 "nbformat_minor": 2
}
