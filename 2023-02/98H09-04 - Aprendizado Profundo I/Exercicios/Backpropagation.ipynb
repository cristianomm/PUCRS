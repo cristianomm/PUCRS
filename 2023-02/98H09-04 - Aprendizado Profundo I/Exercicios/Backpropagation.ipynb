{
 "cells": [
  {
   "cell_type": "code",
   "execution_count": 1,
   "metadata": {},
   "outputs": [],
   "source": [
    "import numpy as np"
   ]
  },
  {
   "cell_type": "code",
   "execution_count": 52,
   "metadata": {},
   "outputs": [],
   "source": [
    "X = np.asarray([[.5, .2], [.1, .6]])\n",
    "y = np.asarray([.7, .8])\n",
    "w1 = np.asarray([[.5, .2], [.6, -.1],[-.4, -.3]])\n",
    "w2 = np.asarray([[.7, -.1, .2]])"
   ]
  },
  {
   "cell_type": "code",
   "execution_count": 72,
   "metadata": {},
   "outputs": [],
   "source": [
    "def sigmoid(x):\n",
    "    return 1/(1 + pow(np.e, -x))\n",
    "\n",
    "def loss(yh, y):\n",
    "    return (1/2) * sum(pow(yh - y, 2).flatten())"
   ]
  },
  {
   "cell_type": "code",
   "execution_count": 58,
   "metadata": {},
   "outputs": [
    {
     "name": "stdout",
     "output_type": "stream",
     "text": [
      "[[ 0.27]\n",
      " [ 0.29]\n",
      " [-0.23]]\n",
      "[[0.5670929 ]\n",
      " [0.57199613]\n",
      " [0.44275215]]\n"
     ]
    }
   ],
   "source": [
    "#Layer 1\n",
    "s1 = np.dot(w1, X[:,[0]])\n",
    "print(s1)\n",
    "s1 = sigmoid(s1)\n",
    "print(s1)"
   ]
  },
  {
   "cell_type": "code",
   "execution_count": 60,
   "metadata": {},
   "outputs": [
    {
     "name": "stdout",
     "output_type": "stream",
     "text": [
      "[[0.42831585]]\n",
      "[[0.60547144]]\n"
     ]
    }
   ],
   "source": [
    "#Layer 2\n",
    "s2 = np.dot(w2, s1)\n",
    "print(s2)\n",
    "s2 = sigmoid(s2)\n",
    "print(s2)"
   ]
  },
  {
   "cell_type": "code",
   "execution_count": 76,
   "metadata": {},
   "outputs": [
    {
     "name": "stdout",
     "output_type": "stream",
     "text": [
      "0.004467824596205634\n"
     ]
    }
   ],
   "source": [
    "#Loss \n",
    "J = loss(s2, y[0])\n",
    "print(J)"
   ]
  },
  {
   "cell_type": "code",
   "execution_count": 70,
   "metadata": {},
   "outputs": [
    {
     "data": {
      "text/plain": [
       "array([0.7, 0.8])"
      ]
     },
     "execution_count": 70,
     "metadata": {},
     "output_type": "execute_result"
    }
   ],
   "source": []
  }
 ],
 "metadata": {
  "kernelspec": {
   "display_name": "ivc",
   "language": "python",
   "name": "python3"
  },
  "language_info": {
   "codemirror_mode": {
    "name": "ipython",
    "version": 3
   },
   "file_extension": ".py",
   "mimetype": "text/x-python",
   "name": "python",
   "nbconvert_exporter": "python",
   "pygments_lexer": "ipython3",
   "version": "3.10.10"
  },
  "orig_nbformat": 4
 },
 "nbformat": 4,
 "nbformat_minor": 2
}
