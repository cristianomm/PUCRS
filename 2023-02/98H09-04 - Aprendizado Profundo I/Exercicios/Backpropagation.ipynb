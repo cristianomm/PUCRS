{
 "cells": [
  {
   "cell_type": "code",
   "execution_count": 2,
   "metadata": {},
   "outputs": [],
   "source": [
    "import numpy as np"
   ]
  },
  {
   "cell_type": "code",
   "execution_count": 3,
   "metadata": {},
   "outputs": [],
   "source": [
    "X = np.asarray([[.5, .2], [.1, .6]])\n",
    "y = np.asarray([.7, .8])\n",
    "w1 = np.asarray([[.5, .2], [.6, -.1],[-.4, -.3]])\n",
    "w2 = np.asarray([[.7, -.1, .2]])"
   ]
  },
  {
   "cell_type": "code",
   "execution_count": 23,
   "metadata": {},
   "outputs": [],
   "source": [
    "def sigmoid(x):\n",
    "    return 1/(1 + pow(np.e, -x))\n",
    "\n",
    "def sigmoid_derivative(x):\n",
    "    return sigmoid(x) * (1 - sigmoid(x))\n",
    "\n",
    "def loss(yh, y):\n",
    "    return (1/2) * sum(pow(yh - y, 2).flatten())"
   ]
  },
  {
   "cell_type": "code",
   "execution_count": 5,
   "metadata": {},
   "outputs": [
    {
     "name": "stdout",
     "output_type": "stream",
     "text": [
      "[[ 0.27]\n",
      " [ 0.29]\n",
      " [-0.23]]\n",
      "[[0.5670929 ]\n",
      " [0.57199613]\n",
      " [0.44275215]]\n"
     ]
    }
   ],
   "source": [
    "#Layer 1\n",
    "s1 = np.dot(w1, X[:,[0]])\n",
    "print(s1)\n",
    "s1 = sigmoid(s1)\n",
    "print(s1)"
   ]
  },
  {
   "cell_type": "code",
   "execution_count": 8,
   "metadata": {},
   "outputs": [
    {
     "name": "stdout",
     "output_type": "stream",
     "text": [
      "[[0.42831585]]\n",
      "sigmoid: [[0.60547144]]\n"
     ]
    }
   ],
   "source": [
    "#Layer 2\n",
    "s2 = np.dot(w2, s1)\n",
    "print(s2)\n",
    "s2 = sigmoid(s2)\n",
    "print(f'sigmoid: {s2}')"
   ]
  },
  {
   "cell_type": "code",
   "execution_count": 7,
   "metadata": {},
   "outputs": [
    {
     "name": "stdout",
     "output_type": "stream",
     "text": [
      "0.004467824596205634\n"
     ]
    }
   ],
   "source": [
    "#Loss \n",
    "J = loss(s2, y[0])\n",
    "print(J)"
   ]
  },
  {
   "cell_type": "code",
   "execution_count": 10,
   "metadata": {},
   "outputs": [
    {
     "data": {
      "text/plain": [
       "array([[-0.09452856]])"
      ]
     },
     "execution_count": 10,
     "metadata": {},
     "output_type": "execute_result"
    }
   ],
   "source": [
    "#Backwarpass DJ/DO\n",
    "s2 - y[0]"
   ]
  },
  {
   "cell_type": "code",
   "execution_count": 11,
   "metadata": {},
   "outputs": [
    {
     "data": {
      "text/plain": [
       "array([[0.23887578]])"
      ]
     },
     "execution_count": 11,
     "metadata": {},
     "output_type": "execute_result"
    }
   ],
   "source": [
    "#Backwarpass DO/DS\n",
    "s2 * (1 - s2)"
   ]
  },
  {
   "cell_type": "code",
   "execution_count": 42,
   "metadata": {},
   "outputs": [
    {
     "data": {
      "text/plain": [
       "array([[-0.02258058]])"
      ]
     },
     "execution_count": 42,
     "metadata": {},
     "output_type": "execute_result"
    }
   ],
   "source": [
    "dt2 = s2 * (1 - s2) * (s2 - y[0])\n",
    "dt2"
   ]
  },
  {
   "cell_type": "code",
   "execution_count": 43,
   "metadata": {},
   "outputs": [
    {
     "name": "stdout",
     "output_type": "stream",
     "text": [
      "backwardpass1:  [[-0.00361047  0.00051578 -0.00103156]]\n"
     ]
    },
    {
     "data": {
      "text/plain": [
       "array([[-0.01280529],\n",
       "       [-0.01291601],\n",
       "       [-0.0099976 ]])"
      ]
     },
     "execution_count": 43,
     "metadata": {},
     "output_type": "execute_result"
    }
   ],
   "source": [
    "bp1 = np.dot(sigmoid_derivative(s2), s2 * (1 - s2) * (s2 - y[0])* w2)\n",
    "print('backwardpass1: ', bp1)\n",
    "\n",
    "X[:,0] * bp1.T\n",
    "\n",
    "s1 * dt2"
   ]
  },
  {
   "cell_type": "code",
   "execution_count": 34,
   "metadata": {},
   "outputs": [
    {
     "data": {
      "text/plain": [
       "array([[-0.00361047,  0.00051578, -0.00103156]])"
      ]
     },
     "execution_count": 34,
     "metadata": {},
     "output_type": "execute_result"
    }
   ],
   "source": [
    "bp1"
   ]
  },
  {
   "cell_type": "code",
   "execution_count": 24,
   "metadata": {},
   "outputs": [
    {
     "data": {
      "text/plain": [
       "array([[0.23093057],\n",
       "       [0.23061678],\n",
       "       [0.23813761]])"
      ]
     },
     "execution_count": 24,
     "metadata": {},
     "output_type": "execute_result"
    }
   ],
   "source": [
    "sigmoid_derivative(s1)"
   ]
  },
  {
   "cell_type": "code",
   "execution_count": null,
   "metadata": {},
   "outputs": [],
   "source": []
  },
  {
   "cell_type": "code",
   "execution_count": null,
   "metadata": {},
   "outputs": [],
   "source": []
  },
  {
   "cell_type": "code",
   "execution_count": null,
   "metadata": {},
   "outputs": [],
   "source": []
  },
  {
   "cell_type": "code",
   "execution_count": null,
   "metadata": {},
   "outputs": [],
   "source": []
  },
  {
   "cell_type": "code",
   "execution_count": null,
   "metadata": {},
   "outputs": [],
   "source": []
  }
 ],
 "metadata": {
  "kernelspec": {
   "display_name": "ivc",
   "language": "python",
   "name": "python3"
  },
  "language_info": {
   "codemirror_mode": {
    "name": "ipython",
    "version": 3
   },
   "file_extension": ".py",
   "mimetype": "text/x-python",
   "name": "python",
   "nbconvert_exporter": "python",
   "pygments_lexer": "ipython3",
   "version": "3.10.10"
  },
  "orig_nbformat": 4
 },
 "nbformat": 4,
 "nbformat_minor": 2
}
