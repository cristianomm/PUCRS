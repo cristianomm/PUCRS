{
 "cells": [
  {
   "cell_type": "code",
   "execution_count": null,
   "metadata": {},
   "outputs": [],
   "source": [
    "#!pip install bokeh\n",
    "!pip install dash"
   ]
  },
  {
   "cell_type": "code",
   "execution_count": 1,
   "metadata": {},
   "outputs": [],
   "source": [
    "import dash, os\n",
    "from dash import dcc, html\n",
    "import plotly.express as px\n",
    "import pandas as pd"
   ]
  },
  {
   "cell_type": "code",
   "execution_count": 2,
   "metadata": {},
   "outputs": [],
   "source": [
    "\n",
    "\n",
    "# Carregar os dados\n",
    "path = 'D:/Disco/Data/PUCRS/RANDON'\n",
    "estoque = pd.read_csv(f'{path}/f_estoque.csv')\n",
    "entrada = pd.read_csv(f'{path}/f_entrada.csv')\n",
    "\n",
    "files = [f for f in os.listdir(f'{path}/f_demanda') if f.endswith('.csv')]\n",
    "demanda = pd.concat([pd.read_csv(os.path.join(f'{path}/f_demanda', f)) for f in files])\n",
    "\n",
    "material = pd.read_csv(f'{path}/d_material.csv')\n",
    "fornecedor = pd.read_csv(f'{path}/d_fornecedor.csv')\n",
    "\n",
    "# Preparação dos dados\n",
    "estoque['cod_material'] = estoque['cod_material'].astype(str)\n",
    "entrada['cod_material'] = entrada['cod_material'].astype(str)\n",
    "entrada['dt_data_remessa'] = pd.to_datetime(entrada['dt_data_remessa'])\n",
    "demanda['dt_necessidade'] = pd.to_datetime(demanda['dt_necessidade'])\n",
    "material['cod_material'] = material['cod_material'].astype(str)\n",
    "fornecedor['cod_fornecedor'] = fornecedor['cod_fornecedor'].astype(str)\n",
    "\n",
    "# Merge para análise\n",
    "entrada_fornecedor = entrada.merge(fornecedor, on='cod_fornecedor')\n",
    "demanda_material = demanda.merge(material, on='cod_material')\n",
    "entrada_estoque = entrada.merge(estoque, on='cod_material')\n",
    "fornecedor_material = entrada.merge(fornecedor, on='cod_fornecedor').merge(material, on='cod_material')"
   ]
  },
  {
   "cell_type": "code",
   "execution_count": null,
   "metadata": {},
   "outputs": [],
   "source": [
    "entrada_fornecedor"
   ]
  },
  {
   "cell_type": "code",
   "execution_count": null,
   "metadata": {},
   "outputs": [],
   "source": [
    "fornecedor_material"
   ]
  },
  {
   "cell_type": "code",
   "execution_count": null,
   "metadata": {},
   "outputs": [],
   "source": [
    "estoque"
   ]
  },
  {
   "cell_type": "code",
   "execution_count": null,
   "metadata": {},
   "outputs": [],
   "source": [
    "demanda"
   ]
  },
  {
   "cell_type": "code",
   "execution_count": 3,
   "metadata": {},
   "outputs": [
    {
     "ename": "ValueError",
     "evalue": "Value of 'x' is not the name of a column in 'data_frame'. Expected one of ['cod_documento_compras', 'cod_item_documento_compras', 'cod_divisao_remessa', 'cod_material', 'cod_incoterm_01', 'cod_fornecedor', 'dt_data_remessa', 'nr_qtd_necessidade', 'data'] but received: fornecedor_id",
     "output_type": "error",
     "traceback": [
      "\u001b[1;31m---------------------------------------------------------------------------\u001b[0m",
      "\u001b[1;31mValueError\u001b[0m                                Traceback (most recent call last)",
      "Cell \u001b[1;32mIn [3], line 33\u001b[0m\n\u001b[0;32m     11\u001b[0m app \u001b[38;5;241m=\u001b[39m dash\u001b[38;5;241m.\u001b[39mDash(\u001b[38;5;18m__name__\u001b[39m)\n\u001b[0;32m     13\u001b[0m \u001b[38;5;66;03m# Layout do Dashboard\u001b[39;00m\n\u001b[0;32m     14\u001b[0m app\u001b[38;5;241m.\u001b[39mlayout \u001b[38;5;241m=\u001b[39m html\u001b[38;5;241m.\u001b[39mDiv([\n\u001b[0;32m     15\u001b[0m     html\u001b[38;5;241m.\u001b[39mH1(\u001b[38;5;124m\"\u001b[39m\u001b[38;5;124mDashboard de Fornecedores\u001b[39m\u001b[38;5;124m\"\u001b[39m),\n\u001b[0;32m     16\u001b[0m     \n\u001b[0;32m     17\u001b[0m     \u001b[38;5;66;03m# Visão Geral dos Fornecedores\u001b[39;00m\n\u001b[0;32m     18\u001b[0m     html\u001b[38;5;241m.\u001b[39mDiv([\n\u001b[0;32m     19\u001b[0m         html\u001b[38;5;241m.\u001b[39mH2(\u001b[38;5;124m\"\u001b[39m\u001b[38;5;124mVisão Geral dos Fornecedores\u001b[39m\u001b[38;5;124m\"\u001b[39m),\n\u001b[0;32m     20\u001b[0m         dcc\u001b[38;5;241m.\u001b[39mGraph(\n\u001b[0;32m     21\u001b[0m             \u001b[38;5;28mid\u001b[39m\u001b[38;5;241m=\u001b[39m\u001b[38;5;124m'\u001b[39m\u001b[38;5;124mtotal-fornecedores\u001b[39m\u001b[38;5;124m'\u001b[39m,\n\u001b[0;32m     22\u001b[0m             figure\u001b[38;5;241m=\u001b[39m{\n\u001b[0;32m     23\u001b[0m                 \u001b[38;5;124m'\u001b[39m\u001b[38;5;124mdata\u001b[39m\u001b[38;5;124m'\u001b[39m: [{\u001b[38;5;124m'\u001b[39m\u001b[38;5;124mx\u001b[39m\u001b[38;5;124m'\u001b[39m: [\u001b[38;5;124m'\u001b[39m\u001b[38;5;124mTotal\u001b[39m\u001b[38;5;124m'\u001b[39m], \u001b[38;5;124m'\u001b[39m\u001b[38;5;124my\u001b[39m\u001b[38;5;124m'\u001b[39m: [\u001b[38;5;28mlen\u001b[39m(fornecedores)], \u001b[38;5;124m'\u001b[39m\u001b[38;5;124mtype\u001b[39m\u001b[38;5;124m'\u001b[39m: \u001b[38;5;124m'\u001b[39m\u001b[38;5;124mbar\u001b[39m\u001b[38;5;124m'\u001b[39m}],\n\u001b[0;32m     24\u001b[0m                 \u001b[38;5;124m'\u001b[39m\u001b[38;5;124mlayout\u001b[39m\u001b[38;5;124m'\u001b[39m: {\u001b[38;5;124m'\u001b[39m\u001b[38;5;124mtitle\u001b[39m\u001b[38;5;124m'\u001b[39m: \u001b[38;5;124m'\u001b[39m\u001b[38;5;124mNúmero Total de Fornecedores\u001b[39m\u001b[38;5;124m'\u001b[39m}\n\u001b[0;32m     25\u001b[0m             }\n\u001b[0;32m     26\u001b[0m         ),\n\u001b[0;32m     27\u001b[0m         dcc\u001b[38;5;241m.\u001b[39mGraph(\n\u001b[0;32m     28\u001b[0m             \u001b[38;5;28mid\u001b[39m\u001b[38;5;241m=\u001b[39m\u001b[38;5;124m'\u001b[39m\u001b[38;5;124mdistribuicao-categoria\u001b[39m\u001b[38;5;124m'\u001b[39m,\n\u001b[0;32m     29\u001b[0m             figure\u001b[38;5;241m=\u001b[39mpx\u001b[38;5;241m.\u001b[39mpie(fornecedores, names\u001b[38;5;241m=\u001b[39m\u001b[38;5;124m'\u001b[39m\u001b[38;5;124mnm_regiao\u001b[39m\u001b[38;5;124m'\u001b[39m, title\u001b[38;5;241m=\u001b[39m\u001b[38;5;124m'\u001b[39m\u001b[38;5;124mDistribuição por Região\u001b[39m\u001b[38;5;124m'\u001b[39m)\n\u001b[0;32m     30\u001b[0m         ),\n\u001b[0;32m     31\u001b[0m         dcc\u001b[38;5;241m.\u001b[39mGraph(\n\u001b[0;32m     32\u001b[0m             \u001b[38;5;28mid\u001b[39m\u001b[38;5;241m=\u001b[39m\u001b[38;5;124m'\u001b[39m\u001b[38;5;124mmateriais-fornecidos\u001b[39m\u001b[38;5;124m'\u001b[39m,\n\u001b[1;32m---> 33\u001b[0m             figure\u001b[38;5;241m=\u001b[39m\u001b[43mpx\u001b[49m\u001b[38;5;241;43m.\u001b[39;49m\u001b[43mbar\u001b[49m\u001b[43m(\u001b[49m\u001b[43mtransacoes\u001b[49m\u001b[43m,\u001b[49m\u001b[43m \u001b[49m\u001b[43mx\u001b[49m\u001b[38;5;241;43m=\u001b[39;49m\u001b[38;5;124;43m'\u001b[39;49m\u001b[38;5;124;43mfornecedor_id\u001b[39;49m\u001b[38;5;124;43m'\u001b[39;49m\u001b[43m,\u001b[49m\u001b[43m \u001b[49m\u001b[43my\u001b[49m\u001b[38;5;241;43m=\u001b[39;49m\u001b[38;5;124;43m'\u001b[39;49m\u001b[38;5;124;43mquantidade\u001b[39;49m\u001b[38;5;124;43m'\u001b[39;49m\u001b[43m,\u001b[49m\u001b[43m \u001b[49m\u001b[43mtitle\u001b[49m\u001b[38;5;241;43m=\u001b[39;49m\u001b[38;5;124;43m'\u001b[39;49m\u001b[38;5;124;43mQuantidade de Materiais Fornecidos\u001b[39;49m\u001b[38;5;124;43m'\u001b[39;49m\u001b[43m)\u001b[49m\n\u001b[0;32m     34\u001b[0m         )\n\u001b[0;32m     35\u001b[0m     ]),\n\u001b[0;32m     36\u001b[0m \n\u001b[0;32m     37\u001b[0m     \u001b[38;5;66;03m# Análise de Transações\u001b[39;00m\n\u001b[0;32m     38\u001b[0m     html\u001b[38;5;241m.\u001b[39mDiv([\n\u001b[0;32m     39\u001b[0m         html\u001b[38;5;241m.\u001b[39mH2(\u001b[38;5;124m\"\u001b[39m\u001b[38;5;124mAnálise de Transações\u001b[39m\u001b[38;5;124m\"\u001b[39m),\n\u001b[0;32m     40\u001b[0m         dcc\u001b[38;5;241m.\u001b[39mGraph(\n\u001b[0;32m     41\u001b[0m             \u001b[38;5;28mid\u001b[39m\u001b[38;5;241m=\u001b[39m\u001b[38;5;124m'\u001b[39m\u001b[38;5;124mtransacoes-tempo\u001b[39m\u001b[38;5;124m'\u001b[39m,\n\u001b[0;32m     42\u001b[0m             figure\u001b[38;5;241m=\u001b[39mpx\u001b[38;5;241m.\u001b[39mline(transacoes, x\u001b[38;5;241m=\u001b[39m\u001b[38;5;124m'\u001b[39m\u001b[38;5;124mdata\u001b[39m\u001b[38;5;124m'\u001b[39m, y\u001b[38;5;241m=\u001b[39m\u001b[38;5;124m'\u001b[39m\u001b[38;5;124mquantidade\u001b[39m\u001b[38;5;124m'\u001b[39m, title\u001b[38;5;241m=\u001b[39m\u001b[38;5;124m'\u001b[39m\u001b[38;5;124mTransações ao Longo do Tempo\u001b[39m\u001b[38;5;124m'\u001b[39m)\n\u001b[0;32m     43\u001b[0m         ),\n\u001b[0;32m     44\u001b[0m         dcc\u001b[38;5;241m.\u001b[39mGraph(\n\u001b[0;32m     45\u001b[0m             \u001b[38;5;28mid\u001b[39m\u001b[38;5;241m=\u001b[39m\u001b[38;5;124m'\u001b[39m\u001b[38;5;124mtransacoes-categoria\u001b[39m\u001b[38;5;124m'\u001b[39m,\n\u001b[0;32m     46\u001b[0m             figure\u001b[38;5;241m=\u001b[39mpx\u001b[38;5;241m.\u001b[39mbar(transacoes, x\u001b[38;5;241m=\u001b[39m\u001b[38;5;124m'\u001b[39m\u001b[38;5;124mdata\u001b[39m\u001b[38;5;124m'\u001b[39m, y\u001b[38;5;241m=\u001b[39m\u001b[38;5;124m'\u001b[39m\u001b[38;5;124mquantidade\u001b[39m\u001b[38;5;124m'\u001b[39m, title\u001b[38;5;241m=\u001b[39m\u001b[38;5;124m'\u001b[39m\u001b[38;5;124mTransações por Categoria\u001b[39m\u001b[38;5;124m'\u001b[39m)\n\u001b[0;32m     47\u001b[0m         )\n\u001b[0;32m     48\u001b[0m     ]),\n\u001b[0;32m     49\u001b[0m \n\u001b[0;32m     50\u001b[0m     \u001b[38;5;66;03m# Desempenho por Fornecedor\u001b[39;00m\n\u001b[0;32m     51\u001b[0m     html\u001b[38;5;241m.\u001b[39mDiv([\n\u001b[0;32m     52\u001b[0m         html\u001b[38;5;241m.\u001b[39mH2(\u001b[38;5;124m\"\u001b[39m\u001b[38;5;124mDesempenho por Fornecedor\u001b[39m\u001b[38;5;124m\"\u001b[39m),\n\u001b[0;32m     53\u001b[0m         dcc\u001b[38;5;241m.\u001b[39mGraph(\n\u001b[0;32m     54\u001b[0m             \u001b[38;5;28mid\u001b[39m\u001b[38;5;241m=\u001b[39m\u001b[38;5;124m'\u001b[39m\u001b[38;5;124mtop-fornecedores\u001b[39m\u001b[38;5;124m'\u001b[39m,\n\u001b[0;32m     55\u001b[0m             figure\u001b[38;5;241m=\u001b[39mpx\u001b[38;5;241m.\u001b[39mbar(transacoes\u001b[38;5;241m.\u001b[39mgroupby(\u001b[38;5;124m'\u001b[39m\u001b[38;5;124mfornecedor_id\u001b[39m\u001b[38;5;124m'\u001b[39m)[\u001b[38;5;124m'\u001b[39m\u001b[38;5;124mquantidade\u001b[39m\u001b[38;5;124m'\u001b[39m]\u001b[38;5;241m.\u001b[39msum()\u001b[38;5;241m.\u001b[39mreset_index(), x\u001b[38;5;241m=\u001b[39m\u001b[38;5;124m'\u001b[39m\u001b[38;5;124mfornecedor_id\u001b[39m\u001b[38;5;124m'\u001b[39m, y\u001b[38;5;241m=\u001b[39m\u001b[38;5;124m'\u001b[39m\u001b[38;5;124mquantidade\u001b[39m\u001b[38;5;124m'\u001b[39m, title\u001b[38;5;241m=\u001b[39m\u001b[38;5;124m'\u001b[39m\u001b[38;5;124mTop Fornecedores\u001b[39m\u001b[38;5;124m'\u001b[39m)\n\u001b[0;32m     56\u001b[0m         ),\n\u001b[0;32m     57\u001b[0m         dcc\u001b[38;5;241m.\u001b[39mGraph(\n\u001b[0;32m     58\u001b[0m             \u001b[38;5;28mid\u001b[39m\u001b[38;5;241m=\u001b[39m\u001b[38;5;124m'\u001b[39m\u001b[38;5;124mfrequencia-transacoes\u001b[39m\u001b[38;5;124m'\u001b[39m,\n\u001b[0;32m     59\u001b[0m             figure\u001b[38;5;241m=\u001b[39mpx\u001b[38;5;241m.\u001b[39mscatter(transacoes, x\u001b[38;5;241m=\u001b[39m\u001b[38;5;124m'\u001b[39m\u001b[38;5;124mfornecedor_id\u001b[39m\u001b[38;5;124m'\u001b[39m, y\u001b[38;5;241m=\u001b[39m\u001b[38;5;124m'\u001b[39m\u001b[38;5;124mquantidade\u001b[39m\u001b[38;5;124m'\u001b[39m, title\u001b[38;5;241m=\u001b[39m\u001b[38;5;124m'\u001b[39m\u001b[38;5;124mFrequência de Transações\u001b[39m\u001b[38;5;124m'\u001b[39m)\n\u001b[0;32m     60\u001b[0m         )\n\u001b[0;32m     61\u001b[0m     ]),\n\u001b[0;32m     62\u001b[0m \n\u001b[0;32m     63\u001b[0m     \u001b[38;5;66;03m# Mapeamento Geográfico dos Fornecedores\u001b[39;00m\n\u001b[0;32m     64\u001b[0m     html\u001b[38;5;241m.\u001b[39mDiv([\n\u001b[0;32m     65\u001b[0m         html\u001b[38;5;241m.\u001b[39mH2(\u001b[38;5;124m\"\u001b[39m\u001b[38;5;124mMapeamento Geográfico dos Fornecedores\u001b[39m\u001b[38;5;124m\"\u001b[39m),\n\u001b[0;32m     66\u001b[0m         dcc\u001b[38;5;241m.\u001b[39mGraph(\n\u001b[0;32m     67\u001b[0m             \u001b[38;5;28mid\u001b[39m\u001b[38;5;241m=\u001b[39m\u001b[38;5;124m'\u001b[39m\u001b[38;5;124mmapa-fornecedores\u001b[39m\u001b[38;5;124m'\u001b[39m,\n\u001b[0;32m     68\u001b[0m             figure\u001b[38;5;241m=\u001b[39mpx\u001b[38;5;241m.\u001b[39mscatter_mapbox(fornecedores, lat\u001b[38;5;241m=\u001b[39m\u001b[38;5;124m'\u001b[39m\u001b[38;5;124mnr_media_delivery_days\u001b[39m\u001b[38;5;124m'\u001b[39m, lon\u001b[38;5;241m=\u001b[39m\u001b[38;5;124m'\u001b[39m\u001b[38;5;124mnr_delivery_days_FOB\u001b[39m\u001b[38;5;124m'\u001b[39m, hover_name\u001b[38;5;241m=\u001b[39m\u001b[38;5;124m'\u001b[39m\u001b[38;5;124mnm_local\u001b[39m\u001b[38;5;124m'\u001b[39m, mapbox_style\u001b[38;5;241m=\u001b[39m\u001b[38;5;124m\"\u001b[39m\u001b[38;5;124mcarto-positron\u001b[39m\u001b[38;5;124m\"\u001b[39m, title\u001b[38;5;241m=\u001b[39m\u001b[38;5;124m'\u001b[39m\u001b[38;5;124mMapa de Fornecedores\u001b[39m\u001b[38;5;124m'\u001b[39m)\n\u001b[0;32m     69\u001b[0m         )\n\u001b[0;32m     70\u001b[0m     ])\n\u001b[0;32m     71\u001b[0m ])\n",
      "File \u001b[1;32mc:\\Users\\crist\\.conda\\envs\\data-analysis\\lib\\site-packages\\plotly\\express\\_chart_types.py:373\u001b[0m, in \u001b[0;36mbar\u001b[1;34m(data_frame, x, y, color, pattern_shape, facet_row, facet_col, facet_col_wrap, facet_row_spacing, facet_col_spacing, hover_name, hover_data, custom_data, text, base, error_x, error_x_minus, error_y, error_y_minus, animation_frame, animation_group, category_orders, labels, color_discrete_sequence, color_discrete_map, color_continuous_scale, pattern_shape_sequence, pattern_shape_map, range_color, color_continuous_midpoint, opacity, orientation, barmode, log_x, log_y, range_x, range_y, text_auto, title, template, width, height)\u001b[0m\n\u001b[0;32m    325\u001b[0m \u001b[38;5;28;01mdef\u001b[39;00m \u001b[38;5;21mbar\u001b[39m(\n\u001b[0;32m    326\u001b[0m     data_frame\u001b[38;5;241m=\u001b[39m\u001b[38;5;28;01mNone\u001b[39;00m,\n\u001b[0;32m    327\u001b[0m     x\u001b[38;5;241m=\u001b[39m\u001b[38;5;28;01mNone\u001b[39;00m,\n\u001b[1;32m   (...)\u001b[0m\n\u001b[0;32m    367\u001b[0m     height\u001b[38;5;241m=\u001b[39m\u001b[38;5;28;01mNone\u001b[39;00m,\n\u001b[0;32m    368\u001b[0m ) \u001b[38;5;241m-\u001b[39m\u001b[38;5;241m>\u001b[39m go\u001b[38;5;241m.\u001b[39mFigure:\n\u001b[0;32m    369\u001b[0m     \u001b[38;5;124;03m\"\"\"\u001b[39;00m\n\u001b[0;32m    370\u001b[0m \u001b[38;5;124;03m    In a bar plot, each row of `data_frame` is represented as a rectangular\u001b[39;00m\n\u001b[0;32m    371\u001b[0m \u001b[38;5;124;03m    mark.\u001b[39;00m\n\u001b[0;32m    372\u001b[0m \u001b[38;5;124;03m    \"\"\"\u001b[39;00m\n\u001b[1;32m--> 373\u001b[0m     \u001b[38;5;28;01mreturn\u001b[39;00m \u001b[43mmake_figure\u001b[49m\u001b[43m(\u001b[49m\n\u001b[0;32m    374\u001b[0m \u001b[43m        \u001b[49m\u001b[43margs\u001b[49m\u001b[38;5;241;43m=\u001b[39;49m\u001b[38;5;28;43mlocals\u001b[39;49m\u001b[43m(\u001b[49m\u001b[43m)\u001b[49m\u001b[43m,\u001b[49m\n\u001b[0;32m    375\u001b[0m \u001b[43m        \u001b[49m\u001b[43mconstructor\u001b[49m\u001b[38;5;241;43m=\u001b[39;49m\u001b[43mgo\u001b[49m\u001b[38;5;241;43m.\u001b[39;49m\u001b[43mBar\u001b[49m\u001b[43m,\u001b[49m\n\u001b[0;32m    376\u001b[0m \u001b[43m        \u001b[49m\u001b[43mtrace_patch\u001b[49m\u001b[38;5;241;43m=\u001b[39;49m\u001b[38;5;28;43mdict\u001b[39;49m\u001b[43m(\u001b[49m\u001b[43mtextposition\u001b[49m\u001b[38;5;241;43m=\u001b[39;49m\u001b[38;5;124;43m\"\u001b[39;49m\u001b[38;5;124;43mauto\u001b[39;49m\u001b[38;5;124;43m\"\u001b[39;49m\u001b[43m)\u001b[49m\u001b[43m,\u001b[49m\n\u001b[0;32m    377\u001b[0m \u001b[43m        \u001b[49m\u001b[43mlayout_patch\u001b[49m\u001b[38;5;241;43m=\u001b[39;49m\u001b[38;5;28;43mdict\u001b[39;49m\u001b[43m(\u001b[49m\u001b[43mbarmode\u001b[49m\u001b[38;5;241;43m=\u001b[39;49m\u001b[43mbarmode\u001b[49m\u001b[43m)\u001b[49m\u001b[43m,\u001b[49m\n\u001b[0;32m    378\u001b[0m \u001b[43m    \u001b[49m\u001b[43m)\u001b[49m\n",
      "File \u001b[1;32mc:\\Users\\crist\\.conda\\envs\\data-analysis\\lib\\site-packages\\plotly\\express\\_core.py:1991\u001b[0m, in \u001b[0;36mmake_figure\u001b[1;34m(args, constructor, trace_patch, layout_patch)\u001b[0m\n\u001b[0;32m   1988\u001b[0m layout_patch \u001b[38;5;241m=\u001b[39m layout_patch \u001b[38;5;129;01mor\u001b[39;00m {}\n\u001b[0;32m   1989\u001b[0m apply_default_cascade(args)\n\u001b[1;32m-> 1991\u001b[0m args \u001b[38;5;241m=\u001b[39m \u001b[43mbuild_dataframe\u001b[49m\u001b[43m(\u001b[49m\u001b[43margs\u001b[49m\u001b[43m,\u001b[49m\u001b[43m \u001b[49m\u001b[43mconstructor\u001b[49m\u001b[43m)\u001b[49m\n\u001b[0;32m   1992\u001b[0m \u001b[38;5;28;01mif\u001b[39;00m constructor \u001b[38;5;129;01min\u001b[39;00m [go\u001b[38;5;241m.\u001b[39mTreemap, go\u001b[38;5;241m.\u001b[39mSunburst, go\u001b[38;5;241m.\u001b[39mIcicle] \u001b[38;5;129;01mand\u001b[39;00m args[\u001b[38;5;124m\"\u001b[39m\u001b[38;5;124mpath\u001b[39m\u001b[38;5;124m\"\u001b[39m] \u001b[38;5;129;01mis\u001b[39;00m \u001b[38;5;129;01mnot\u001b[39;00m \u001b[38;5;28;01mNone\u001b[39;00m:\n\u001b[0;32m   1993\u001b[0m     args \u001b[38;5;241m=\u001b[39m process_dataframe_hierarchy(args)\n",
      "File \u001b[1;32mc:\\Users\\crist\\.conda\\envs\\data-analysis\\lib\\site-packages\\plotly\\express\\_core.py:1406\u001b[0m, in \u001b[0;36mbuild_dataframe\u001b[1;34m(args, constructor)\u001b[0m\n\u001b[0;32m   1403\u001b[0m     args[\u001b[38;5;124m\"\u001b[39m\u001b[38;5;124mcolor\u001b[39m\u001b[38;5;124m\"\u001b[39m] \u001b[38;5;241m=\u001b[39m \u001b[38;5;28;01mNone\u001b[39;00m\n\u001b[0;32m   1404\u001b[0m \u001b[38;5;66;03m# now that things have been prepped, we do the systematic rewriting of `args`\u001b[39;00m\n\u001b[1;32m-> 1406\u001b[0m df_output, wide_id_vars \u001b[38;5;241m=\u001b[39m \u001b[43mprocess_args_into_dataframe\u001b[49m\u001b[43m(\u001b[49m\n\u001b[0;32m   1407\u001b[0m \u001b[43m    \u001b[49m\u001b[43margs\u001b[49m\u001b[43m,\u001b[49m\u001b[43m \u001b[49m\u001b[43mwide_mode\u001b[49m\u001b[43m,\u001b[49m\u001b[43m \u001b[49m\u001b[43mvar_name\u001b[49m\u001b[43m,\u001b[49m\u001b[43m \u001b[49m\u001b[43mvalue_name\u001b[49m\n\u001b[0;32m   1408\u001b[0m \u001b[43m\u001b[49m\u001b[43m)\u001b[49m\n\u001b[0;32m   1410\u001b[0m \u001b[38;5;66;03m# now that `df_output` exists and `args` contains only references, we complete\u001b[39;00m\n\u001b[0;32m   1411\u001b[0m \u001b[38;5;66;03m# the special-case and wide-mode handling by further rewriting args and/or mutating\u001b[39;00m\n\u001b[0;32m   1412\u001b[0m \u001b[38;5;66;03m# df_output\u001b[39;00m\n\u001b[0;32m   1414\u001b[0m count_name \u001b[38;5;241m=\u001b[39m _escape_col_name(df_output, \u001b[38;5;124m\"\u001b[39m\u001b[38;5;124mcount\u001b[39m\u001b[38;5;124m\"\u001b[39m, [var_name, value_name])\n",
      "File \u001b[1;32mc:\\Users\\crist\\.conda\\envs\\data-analysis\\lib\\site-packages\\plotly\\express\\_core.py:1208\u001b[0m, in \u001b[0;36mprocess_args_into_dataframe\u001b[1;34m(args, wide_mode, var_name, value_name)\u001b[0m\n\u001b[0;32m   1206\u001b[0m         \u001b[38;5;28;01mif\u001b[39;00m argument \u001b[38;5;241m==\u001b[39m \u001b[38;5;124m\"\u001b[39m\u001b[38;5;124mindex\u001b[39m\u001b[38;5;124m\"\u001b[39m:\n\u001b[0;32m   1207\u001b[0m             err_msg \u001b[38;5;241m+\u001b[39m\u001b[38;5;241m=\u001b[39m \u001b[38;5;124m\"\u001b[39m\u001b[38;5;130;01m\\n\u001b[39;00m\u001b[38;5;124m To use the index, pass it in directly as `df.index`.\u001b[39m\u001b[38;5;124m\"\u001b[39m\n\u001b[1;32m-> 1208\u001b[0m         \u001b[38;5;28;01mraise\u001b[39;00m \u001b[38;5;167;01mValueError\u001b[39;00m(err_msg)\n\u001b[0;32m   1209\u001b[0m \u001b[38;5;28;01melif\u001b[39;00m length \u001b[38;5;129;01mand\u001b[39;00m \u001b[38;5;28mlen\u001b[39m(df_input[argument]) \u001b[38;5;241m!=\u001b[39m length:\n\u001b[0;32m   1210\u001b[0m     \u001b[38;5;28;01mraise\u001b[39;00m \u001b[38;5;167;01mValueError\u001b[39;00m(\n\u001b[0;32m   1211\u001b[0m         \u001b[38;5;124m\"\u001b[39m\u001b[38;5;124mAll arguments should have the same length. \u001b[39m\u001b[38;5;124m\"\u001b[39m\n\u001b[0;32m   1212\u001b[0m         \u001b[38;5;124m\"\u001b[39m\u001b[38;5;124mThe length of column argument `df[\u001b[39m\u001b[38;5;132;01m%s\u001b[39;00m\u001b[38;5;124m]` is \u001b[39m\u001b[38;5;132;01m%d\u001b[39;00m\u001b[38;5;124m, whereas the \u001b[39m\u001b[38;5;124m\"\u001b[39m\n\u001b[1;32m   (...)\u001b[0m\n\u001b[0;32m   1219\u001b[0m         )\n\u001b[0;32m   1220\u001b[0m     )\n",
      "\u001b[1;31mValueError\u001b[0m: Value of 'x' is not the name of a column in 'data_frame'. Expected one of ['cod_documento_compras', 'cod_item_documento_compras', 'cod_divisao_remessa', 'cod_material', 'cod_incoterm_01', 'cod_fornecedor', 'dt_data_remessa', 'nr_qtd_necessidade', 'data'] but received: fornecedor_id"
     ]
    }
   ],
   "source": [
    "\n",
    "\n",
    "# Leitura dos dados\n",
    "path = 'D:/Disco/Data/PUCRS/RANDON'\n",
    "fornecedores = pd.read_csv(f'{path}/d_fornecedor.csv')\n",
    "transacoes = pd.read_csv(f'{path}/f_entrada.csv')\n",
    "estoque = pd.read_csv(f'{path}/f_estoque.csv')\n",
    "\n",
    "# Conversão de datas\n",
    "transacoes['data'] = pd.to_datetime(transacoes['dt_data_remessa'])\n",
    "\n",
    "# Inicializando o aplicativo Dash\n",
    "app = dash.Dash(__name__)\n",
    "\n",
    "# Layout do Dashboard\n",
    "app.layout = html.Div([\n",
    "    html.H1(\"Dashboard de Fornecedores\"),\n",
    "    \n",
    "    # Visão Geral dos Fornecedores\n",
    "    html.Div([\n",
    "        html.H2(\"Visão Geral dos Fornecedores\"),\n",
    "        dcc.Graph(\n",
    "            id='total-fornecedores',\n",
    "            figure={\n",
    "                'data': [{'x': ['Total'], 'y': [len(fornecedores)], 'type': 'bar'}],\n",
    "                'layout': {'title': 'Número Total de Fornecedores'}\n",
    "            }\n",
    "        ),\n",
    "        dcc.Graph(\n",
    "            id='distribuicao-categoria',\n",
    "            figure=px.pie(fornecedores, names='nm_regiao', title='Distribuição por Região')\n",
    "        ),\n",
    "        dcc.Graph(\n",
    "            id='materiais-fornecidos',\n",
    "            figure=px.bar(transacoes, x='fornecedor_id', y='quantidade', title='Quantidade de Materiais Fornecidos')\n",
    "        )\n",
    "    ]),\n",
    "\n",
    "    # Análise de Transações\n",
    "    html.Div([\n",
    "        html.H2(\"Análise de Transações\"),\n",
    "        dcc.Graph(\n",
    "            id='transacoes-tempo',\n",
    "            figure=px.line(transacoes, x='data', y='quantidade', title='Transações ao Longo do Tempo')\n",
    "        ),\n",
    "        dcc.Graph(\n",
    "            id='transacoes-categoria',\n",
    "            figure=px.bar(transacoes, x='data', y='quantidade', title='Transações por Categoria')\n",
    "        )\n",
    "    ]),\n",
    "\n",
    "    # Desempenho por Fornecedor\n",
    "    html.Div([\n",
    "        html.H2(\"Desempenho por Fornecedor\"),\n",
    "        dcc.Graph(\n",
    "            id='top-fornecedores',\n",
    "            figure=px.bar(transacoes.groupby('fornecedor_id')['quantidade'].sum().reset_index(), x='fornecedor_id', y='quantidade', title='Top Fornecedores')\n",
    "        ),\n",
    "        dcc.Graph(\n",
    "            id='frequencia-transacoes',\n",
    "            figure=px.scatter(transacoes, x='fornecedor_id', y='quantidade', title='Frequência de Transações')\n",
    "        )\n",
    "    ]),\n",
    "\n",
    "    # Mapeamento Geográfico dos Fornecedores\n",
    "    html.Div([\n",
    "        html.H2(\"Mapeamento Geográfico dos Fornecedores\"),\n",
    "        dcc.Graph(\n",
    "            id='mapa-fornecedores',\n",
    "            figure=px.scatter_mapbox(fornecedores, lat='nr_media_delivery_days', lon='nr_delivery_days_FOB', hover_name='nm_local', mapbox_style=\"carto-positron\", title='Mapa de Fornecedores')\n",
    "        )\n",
    "    ])\n",
    "])\n"
   ]
  }
 ],
 "metadata": {
  "kernelspec": {
   "display_name": "llm",
   "language": "python",
   "name": "python3"
  },
  "language_info": {
   "codemirror_mode": {
    "name": "ipython",
    "version": 3
   },
   "file_extension": ".py",
   "mimetype": "text/x-python",
   "name": "python",
   "nbconvert_exporter": "python",
   "pygments_lexer": "ipython3",
   "version": "3.9.13"
  }
 },
 "nbformat": 4,
 "nbformat_minor": 2
}
