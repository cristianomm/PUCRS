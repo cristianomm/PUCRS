{
  "cells": [
    {
      "cell_type": "markdown",
      "metadata": {
        "id": "mvKaUHNDuDK7"
      },
      "source": [
        "Carregando as bibliotecas"
      ]
    },
    {
      "cell_type": "code",
      "execution_count": 1,
      "metadata": {
        "id": "ci8gZrattEBc"
      },
      "outputs": [],
      "source": [
        "import numpy as np\n",
        "import pandas as pd\n",
        "import matplotlib.pyplot as plt\n",
        "%matplotlib inline\n",
        "\n",
        "import re #biblioteca para manipulação de strings\n",
        "\n",
        "from sklearn.feature_extraction.text import TfidfVectorizer #Pacote para extração de tokens\n",
        "from sklearn.metrics.pairwise import linear_kernel #Pacote para calcular a similaridade via cosseno"
      ]
    },
    {
      "cell_type": "markdown",
      "metadata": {
        "id": "tWlUv-4iFoA0"
      },
      "source": [
        "Importando o arquivo de vendas \"movies_ratings.csv\""
      ]
    },
    {
      "cell_type": "code",
      "execution_count": 3,
      "metadata": {
        "colab": {
          "base_uri": "https://localhost:8080/"
        },
        "id": "PfhCg7DjbS67",
        "outputId": "e08774a0-78c3-4add-e78a-9739c2433f1d"
      },
      "outputs": [
        {
          "name": "stdout",
          "output_type": "stream",
          "text": [
            "Mounted at /content/drive\n"
          ]
        }
      ],
      "source": [
        "from google.colab import drive\n",
        "drive.mount('/content/drive')"
      ]
    },
    {
      "cell_type": "code",
      "execution_count": 4,
      "metadata": {
        "colab": {
          "base_uri": "https://localhost:8080/",
          "height": 677
        },
        "id": "mC6rwxBay2UC",
        "outputId": "dbe6a15c-06a7-4595-d88b-35b25180deb4"
      },
      "outputs": [
        {
          "data": {
            "text/html": [
              "<div>\n",
              "<style scoped>\n",
              "    .dataframe tbody tr th:only-of-type {\n",
              "        vertical-align: middle;\n",
              "    }\n",
              "\n",
              "    .dataframe tbody tr th {\n",
              "        vertical-align: top;\n",
              "    }\n",
              "\n",
              "    .dataframe thead th {\n",
              "        text-align: right;\n",
              "    }\n",
              "</style>\n",
              "<table border=\"1\" class=\"dataframe\">\n",
              "  <thead>\n",
              "    <tr style=\"text-align: right;\">\n",
              "      <th></th>\n",
              "      <th>show_id</th>\n",
              "      <th>type</th>\n",
              "      <th>title</th>\n",
              "      <th>director</th>\n",
              "      <th>cast</th>\n",
              "      <th>country</th>\n",
              "      <th>date_added</th>\n",
              "      <th>release_year</th>\n",
              "      <th>rating</th>\n",
              "      <th>duration</th>\n",
              "      <th>listed_in</th>\n",
              "      <th>description</th>\n",
              "    </tr>\n",
              "  </thead>\n",
              "  <tbody>\n",
              "    <tr>\n",
              "      <th>0</th>\n",
              "      <td>81145628</td>\n",
              "      <td>Movie</td>\n",
              "      <td>Norm of the North: King Sized Adventure</td>\n",
              "      <td>Richard Finn, Tim Maltby</td>\n",
              "      <td>Alan Marriott, Andrew Toth, Brian Dobson, Cole...</td>\n",
              "      <td>United States, India, South Korea, China</td>\n",
              "      <td>September 9, 2019</td>\n",
              "      <td>2019</td>\n",
              "      <td>TV-PG</td>\n",
              "      <td>90 min</td>\n",
              "      <td>Children &amp; Family Movies, Comedies</td>\n",
              "      <td>Before planning an awesome wedding for his gra...</td>\n",
              "    </tr>\n",
              "    <tr>\n",
              "      <th>1</th>\n",
              "      <td>80117401</td>\n",
              "      <td>Movie</td>\n",
              "      <td>Jandino: Whatever it Takes</td>\n",
              "      <td>NaN</td>\n",
              "      <td>Jandino Asporaat</td>\n",
              "      <td>United Kingdom</td>\n",
              "      <td>September 9, 2016</td>\n",
              "      <td>2016</td>\n",
              "      <td>TV-MA</td>\n",
              "      <td>94 min</td>\n",
              "      <td>Stand-Up Comedy</td>\n",
              "      <td>Jandino Asporaat riffs on the challenges of ra...</td>\n",
              "    </tr>\n",
              "    <tr>\n",
              "      <th>2</th>\n",
              "      <td>70234439</td>\n",
              "      <td>TV Show</td>\n",
              "      <td>Transformers Prime</td>\n",
              "      <td>NaN</td>\n",
              "      <td>Peter Cullen, Sumalee Montano, Frank Welker, J...</td>\n",
              "      <td>United States</td>\n",
              "      <td>September 8, 2018</td>\n",
              "      <td>2013</td>\n",
              "      <td>TV-Y7-FV</td>\n",
              "      <td>1 Season</td>\n",
              "      <td>Kids' TV</td>\n",
              "      <td>With the help of three human allies, the Autob...</td>\n",
              "    </tr>\n",
              "    <tr>\n",
              "      <th>3</th>\n",
              "      <td>80058654</td>\n",
              "      <td>TV Show</td>\n",
              "      <td>Transformers: Robots in Disguise</td>\n",
              "      <td>NaN</td>\n",
              "      <td>Will Friedle, Darren Criss, Constance Zimmer, ...</td>\n",
              "      <td>United States</td>\n",
              "      <td>September 8, 2018</td>\n",
              "      <td>2016</td>\n",
              "      <td>TV-Y7</td>\n",
              "      <td>1 Season</td>\n",
              "      <td>Kids' TV</td>\n",
              "      <td>When a prison ship crash unleashes hundreds of...</td>\n",
              "    </tr>\n",
              "    <tr>\n",
              "      <th>4</th>\n",
              "      <td>80125979</td>\n",
              "      <td>Movie</td>\n",
              "      <td>#realityhigh</td>\n",
              "      <td>Fernando Lebrija</td>\n",
              "      <td>Nesta Cooper, Kate Walsh, John Michael Higgins...</td>\n",
              "      <td>United States</td>\n",
              "      <td>September 8, 2017</td>\n",
              "      <td>2017</td>\n",
              "      <td>TV-14</td>\n",
              "      <td>99 min</td>\n",
              "      <td>Comedies</td>\n",
              "      <td>When nerdy high schooler Dani finally attracts...</td>\n",
              "    </tr>\n",
              "  </tbody>\n",
              "</table>\n",
              "</div>"
            ],
            "text/plain": [
              "    show_id     type                                    title  \\\n",
              "0  81145628    Movie  Norm of the North: King Sized Adventure   \n",
              "1  80117401    Movie               Jandino: Whatever it Takes   \n",
              "2  70234439  TV Show                       Transformers Prime   \n",
              "3  80058654  TV Show         Transformers: Robots in Disguise   \n",
              "4  80125979    Movie                             #realityhigh   \n",
              "\n",
              "                   director  \\\n",
              "0  Richard Finn, Tim Maltby   \n",
              "1                       NaN   \n",
              "2                       NaN   \n",
              "3                       NaN   \n",
              "4          Fernando Lebrija   \n",
              "\n",
              "                                                cast  \\\n",
              "0  Alan Marriott, Andrew Toth, Brian Dobson, Cole...   \n",
              "1                                   Jandino Asporaat   \n",
              "2  Peter Cullen, Sumalee Montano, Frank Welker, J...   \n",
              "3  Will Friedle, Darren Criss, Constance Zimmer, ...   \n",
              "4  Nesta Cooper, Kate Walsh, John Michael Higgins...   \n",
              "\n",
              "                                    country         date_added  release_year  \\\n",
              "0  United States, India, South Korea, China  September 9, 2019          2019   \n",
              "1                            United Kingdom  September 9, 2016          2016   \n",
              "2                             United States  September 8, 2018          2013   \n",
              "3                             United States  September 8, 2018          2016   \n",
              "4                             United States  September 8, 2017          2017   \n",
              "\n",
              "     rating  duration                           listed_in  \\\n",
              "0     TV-PG    90 min  Children & Family Movies, Comedies   \n",
              "1     TV-MA    94 min                     Stand-Up Comedy   \n",
              "2  TV-Y7-FV  1 Season                            Kids' TV   \n",
              "3     TV-Y7  1 Season                            Kids' TV   \n",
              "4     TV-14    99 min                            Comedies   \n",
              "\n",
              "                                         description  \n",
              "0  Before planning an awesome wedding for his gra...  \n",
              "1  Jandino Asporaat riffs on the challenges of ra...  \n",
              "2  With the help of three human allies, the Autob...  \n",
              "3  When a prison ship crash unleashes hundreds of...  \n",
              "4  When nerdy high schooler Dani finally attracts...  "
            ]
          },
          "execution_count": 4,
          "metadata": {},
          "output_type": "execute_result"
        }
      ],
      "source": [
        "path = './netflix_titles.csv'\n",
        "#path = '/content/drive/MyDrive/Data/netflix_titles.csv'\n",
        "dataRaw = pd.read_csv(path)\n",
        "dataRaw.head()"
      ]
    },
    {
      "cell_type": "code",
      "execution_count": 5,
      "metadata": {
        "colab": {
          "base_uri": "https://localhost:8080/"
        },
        "id": "-W0PQY7v1gLV",
        "outputId": "2d5fabac-ab1c-4e19-e104-cfe75d520323"
      },
      "outputs": [
        {
          "name": "stdout",
          "output_type": "stream",
          "text": [
            "<class 'pandas.core.frame.DataFrame'>\n",
            "RangeIndex: 6234 entries, 0 to 6233\n",
            "Data columns (total 12 columns):\n",
            " #   Column        Non-Null Count  Dtype \n",
            "---  ------        --------------  ----- \n",
            " 0   show_id       6234 non-null   int64 \n",
            " 1   type          6234 non-null   object\n",
            " 2   title         6234 non-null   object\n",
            " 3   director      4265 non-null   object\n",
            " 4   cast          5664 non-null   object\n",
            " 5   country       5758 non-null   object\n",
            " 6   date_added    6223 non-null   object\n",
            " 7   release_year  6234 non-null   int64 \n",
            " 8   rating        6224 non-null   object\n",
            " 9   duration      6234 non-null   object\n",
            " 10  listed_in     6234 non-null   object\n",
            " 11  description   6234 non-null   object\n",
            "dtypes: int64(2), object(10)\n",
            "memory usage: 584.6+ KB\n"
          ]
        }
      ],
      "source": [
        "dataRaw.info()"
      ]
    },
    {
      "cell_type": "markdown",
      "metadata": {
        "id": "cyusttQ7I09U"
      },
      "source": [
        "Remover todos os NAN's das colunas."
      ]
    },
    {
      "cell_type": "code",
      "execution_count": 6,
      "metadata": {
        "colab": {
          "base_uri": "https://localhost:8080/"
        },
        "id": "qq6a7IhSI6cq",
        "outputId": "51325a6e-96a6-4873-ecd1-c6eb559dbf5f"
      },
      "outputs": [
        {
          "name": "stdout",
          "output_type": "stream",
          "text": [
            "<class 'pandas.core.frame.DataFrame'>\n",
            "RangeIndex: 5664 entries, 0 to 5663\n",
            "Data columns (total 12 columns):\n",
            " #   Column        Non-Null Count  Dtype \n",
            "---  ------        --------------  ----- \n",
            " 0   show_id       5664 non-null   int64 \n",
            " 1   type          5664 non-null   object\n",
            " 2   title         5664 non-null   object\n",
            " 3   director      3909 non-null   object\n",
            " 4   cast          5664 non-null   object\n",
            " 5   country       5271 non-null   object\n",
            " 6   date_added    5654 non-null   object\n",
            " 7   release_year  5664 non-null   int64 \n",
            " 8   rating        5657 non-null   object\n",
            " 9   duration      5664 non-null   object\n",
            " 10  listed_in     5664 non-null   object\n",
            " 11  description   5664 non-null   object\n",
            "dtypes: int64(2), object(10)\n",
            "memory usage: 531.1+ KB\n"
          ]
        }
      ],
      "source": [
        "dataRaw.dropna(subset=['cast','title','description','listed_in'],inplace=True,axis=0)\n",
        "dataRaw = dataRaw.reset_index(drop=True)\n",
        "\n",
        "dataRaw.info()"
      ]
    },
    {
      "cell_type": "markdown",
      "metadata": {
        "id": "mOOvFMGCJHRW"
      },
      "source": [
        "Neste exercícios iremos utilizar os seguintes campos para busca de similaridade:\n",
        "\n",
        "- type: tipo de mídia (filme, tv show, etc.)\n",
        "- título: nome da mídia\n",
        "- listed_in: categoria onde é apresentado.\n",
        "- description: informação texto livre sobre a mídia.\n",
        "\n",
        "Para aplicar o modelo de recomendação vamos limpar os textos e combiná-los."
      ]
    },
    {
      "cell_type": "code",
      "execution_count": 7,
      "metadata": {
        "id": "Qjn1XmiDJ3AY"
      },
      "outputs": [],
      "source": [
        "dataRaw['listed_in'] = [re.sub(r'[^\\w\\s]', '', t) for t in dataRaw['listed_in']]\n",
        "dataRaw['cast'] = [re.sub(',',' ',re.sub(' ','',t)) for t in dataRaw['cast']]\n",
        "dataRaw['description'] = [re.sub(r'[^\\w\\s]', '', t) for t in dataRaw['description']]\n",
        "dataRaw['title'] = [re.sub(r'[^\\w\\s]', '', t) for t in dataRaw['title']]"
      ]
    },
    {
      "cell_type": "markdown",
      "metadata": {
        "id": "ZmIGfPP8KH59"
      },
      "source": [
        "Agora vamos combinar os campos textuais numa única coluna chamanda \"combined\"."
      ]
    },
    {
      "cell_type": "code",
      "execution_count": 8,
      "metadata": {
        "colab": {
          "base_uri": "https://localhost:8080/",
          "height": 466
        },
        "id": "7ti6KlKuKFVd",
        "outputId": "4820e911-a6b2-4a2c-ab0d-85f3c2a89f2b"
      },
      "outputs": [
        {
          "data": {
            "text/html": [
              "<div>\n",
              "<style scoped>\n",
              "    .dataframe tbody tr th:only-of-type {\n",
              "        vertical-align: middle;\n",
              "    }\n",
              "\n",
              "    .dataframe tbody tr th {\n",
              "        vertical-align: top;\n",
              "    }\n",
              "\n",
              "    .dataframe thead th {\n",
              "        text-align: right;\n",
              "    }\n",
              "</style>\n",
              "<table border=\"1\" class=\"dataframe\">\n",
              "  <thead>\n",
              "    <tr style=\"text-align: right;\">\n",
              "      <th></th>\n",
              "      <th>show_id</th>\n",
              "      <th>type</th>\n",
              "      <th>title</th>\n",
              "      <th>director</th>\n",
              "      <th>country</th>\n",
              "      <th>date_added</th>\n",
              "      <th>release_year</th>\n",
              "      <th>rating</th>\n",
              "      <th>duration</th>\n",
              "      <th>combined</th>\n",
              "    </tr>\n",
              "  </thead>\n",
              "  <tbody>\n",
              "    <tr>\n",
              "      <th>0</th>\n",
              "      <td>81145628</td>\n",
              "      <td>Movie</td>\n",
              "      <td>Norm of the North King Sized Adventure</td>\n",
              "      <td>Richard Finn, Tim Maltby</td>\n",
              "      <td>United States, India, South Korea, China</td>\n",
              "      <td>September 9, 2019</td>\n",
              "      <td>2019</td>\n",
              "      <td>TV-PG</td>\n",
              "      <td>90 min</td>\n",
              "      <td>Children  Family Movies Comedies  AlanMarriott...</td>\n",
              "    </tr>\n",
              "    <tr>\n",
              "      <th>1</th>\n",
              "      <td>80117401</td>\n",
              "      <td>Movie</td>\n",
              "      <td>Jandino Whatever it Takes</td>\n",
              "      <td>NaN</td>\n",
              "      <td>United Kingdom</td>\n",
              "      <td>September 9, 2016</td>\n",
              "      <td>2016</td>\n",
              "      <td>TV-MA</td>\n",
              "      <td>94 min</td>\n",
              "      <td>StandUp Comedy  JandinoAsporaat Jandino Whatev...</td>\n",
              "    </tr>\n",
              "    <tr>\n",
              "      <th>2</th>\n",
              "      <td>70234439</td>\n",
              "      <td>TV Show</td>\n",
              "      <td>Transformers Prime</td>\n",
              "      <td>NaN</td>\n",
              "      <td>United States</td>\n",
              "      <td>September 8, 2018</td>\n",
              "      <td>2013</td>\n",
              "      <td>TV-Y7-FV</td>\n",
              "      <td>1 Season</td>\n",
              "      <td>Kids TV  PeterCullen SumaleeMontano FrankWelke...</td>\n",
              "    </tr>\n",
              "    <tr>\n",
              "      <th>3</th>\n",
              "      <td>80058654</td>\n",
              "      <td>TV Show</td>\n",
              "      <td>Transformers Robots in Disguise</td>\n",
              "      <td>NaN</td>\n",
              "      <td>United States</td>\n",
              "      <td>September 8, 2018</td>\n",
              "      <td>2016</td>\n",
              "      <td>TV-Y7</td>\n",
              "      <td>1 Season</td>\n",
              "      <td>Kids TV  WillFriedle DarrenCriss ConstanceZimm...</td>\n",
              "    </tr>\n",
              "    <tr>\n",
              "      <th>4</th>\n",
              "      <td>80125979</td>\n",
              "      <td>Movie</td>\n",
              "      <td>realityhigh</td>\n",
              "      <td>Fernando Lebrija</td>\n",
              "      <td>United States</td>\n",
              "      <td>September 8, 2017</td>\n",
              "      <td>2017</td>\n",
              "      <td>TV-14</td>\n",
              "      <td>99 min</td>\n",
              "      <td>Comedies  NestaCooper KateWalsh JohnMichaelHig...</td>\n",
              "    </tr>\n",
              "  </tbody>\n",
              "</table>\n",
              "</div>"
            ],
            "text/plain": [
              "    show_id     type                                   title  \\\n",
              "0  81145628    Movie  Norm of the North King Sized Adventure   \n",
              "1  80117401    Movie               Jandino Whatever it Takes   \n",
              "2  70234439  TV Show                      Transformers Prime   \n",
              "3  80058654  TV Show         Transformers Robots in Disguise   \n",
              "4  80125979    Movie                             realityhigh   \n",
              "\n",
              "                   director                                   country  \\\n",
              "0  Richard Finn, Tim Maltby  United States, India, South Korea, China   \n",
              "1                       NaN                            United Kingdom   \n",
              "2                       NaN                             United States   \n",
              "3                       NaN                             United States   \n",
              "4          Fernando Lebrija                             United States   \n",
              "\n",
              "          date_added  release_year    rating  duration  \\\n",
              "0  September 9, 2019          2019     TV-PG    90 min   \n",
              "1  September 9, 2016          2016     TV-MA    94 min   \n",
              "2  September 8, 2018          2013  TV-Y7-FV  1 Season   \n",
              "3  September 8, 2018          2016     TV-Y7  1 Season   \n",
              "4  September 8, 2017          2017     TV-14    99 min   \n",
              "\n",
              "                                            combined  \n",
              "0  Children  Family Movies Comedies  AlanMarriott...  \n",
              "1  StandUp Comedy  JandinoAsporaat Jandino Whatev...  \n",
              "2  Kids TV  PeterCullen SumaleeMontano FrankWelke...  \n",
              "3  Kids TV  WillFriedle DarrenCriss ConstanceZimm...  \n",
              "4  Comedies  NestaCooper KateWalsh JohnMichaelHig...  "
            ]
          },
          "execution_count": 8,
          "metadata": {},
          "output_type": "execute_result"
        }
      ],
      "source": [
        "dataRaw[\"combined\"] = dataRaw['listed_in'] + '  ' + dataRaw['cast'] + ' ' + dataRaw['title'] + ' ' + dataRaw['description']\n",
        "dataRaw.drop(['listed_in','cast','description'],axis=1,inplace=True)\n",
        "dataRaw.head()"
      ]
    },
    {
      "cell_type": "markdown",
      "metadata": {
        "id": "6LeORYenKcJM"
      },
      "source": [
        "Tokenizaremos a coluna \"combined\" utilizando o método TF-IDF."
      ]
    },
    {
      "cell_type": "code",
      "execution_count": 10,
      "metadata": {
        "colab": {
          "base_uri": "https://localhost:8080/"
        },
        "id": "CBGLFln1KpjU",
        "outputId": "cbf6a564-4214-49b6-f3e3-18d5f2887f6f"
      },
      "outputs": [
        {
          "data": {
            "text/plain": [
              "(5664, 46919)"
            ]
          },
          "execution_count": 10,
          "metadata": {},
          "output_type": "execute_result"
        }
      ],
      "source": [
        "vectorizer = TfidfVectorizer(stop_words='english')\n",
        "matrix = vectorizer.fit_transform(dataRaw[\"combined\"])\n",
        "matrix.shape"
      ]
    },
    {
      "cell_type": "markdown",
      "metadata": {
        "id": "a5VfQWlGLRfu"
      },
      "source": [
        "Calcular a similaridade por cosseno."
      ]
    },
    {
      "cell_type": "code",
      "execution_count": 11,
      "metadata": {
        "colab": {
          "base_uri": "https://localhost:8080/"
        },
        "id": "GwAbuXueLc5w",
        "outputId": "dc718dac-2883-471b-8c11-33c34ab7a5f3"
      },
      "outputs": [
        {
          "data": {
            "text/plain": [
              "(5664, 5664)"
            ]
          },
          "execution_count": 11,
          "metadata": {},
          "output_type": "execute_result"
        }
      ],
      "source": [
        "cosine_similarities = linear_kernel(matrix,matrix)\n",
        "cosine_similarities.shape"
      ]
    },
    {
      "cell_type": "markdown",
      "metadata": {
        "id": "UElxC8VrMBcY"
      },
      "source": [
        "Criar um índice para os filmes."
      ]
    },
    {
      "cell_type": "code",
      "execution_count": 13,
      "metadata": {
        "colab": {
          "base_uri": "https://localhost:8080/"
        },
        "id": "Xcuv0qs2MEsX",
        "outputId": "7c939993-dacb-4c95-c9a3-b88ea011cdcc"
      },
      "outputs": [
        {
          "data": {
            "text/plain": [
              "title\n",
              "Norm of the North King Sized Adventure           0\n",
              "Jandino Whatever it Takes                        1\n",
              "Transformers Prime                               2\n",
              "Transformers Robots in Disguise                  3\n",
              "realityhigh                                      4\n",
              "                                              ... \n",
              "Kikoriki                                      5659\n",
              "Red vs Blue                                   5660\n",
              "Maron                                         5661\n",
              "A Young Doctors Notebook and Other Stories    5662\n",
              "Friends                                       5663\n",
              "Length: 5664, dtype: int64"
            ]
          },
          "execution_count": 13,
          "metadata": {},
          "output_type": "execute_result"
        }
      ],
      "source": [
        "indices = pd.Series(dataRaw.index, index=dataRaw['title']).drop_duplicates()\n",
        "indices"
      ]
    },
    {
      "cell_type": "markdown",
      "metadata": {
        "id": "DpB-opmEMwUA"
      },
      "source": [
        "Criar uma função para retornar itens semelhantes."
      ]
    },
    {
      "cell_type": "code",
      "execution_count": 14,
      "metadata": {
        "id": "cCNu6bRPMz5f"
      },
      "outputs": [],
      "source": [
        "def get_similar(title, indices, cosine_sim, num_recommend = 10):\n",
        "\n",
        "  idx = indices[title]\n",
        "\n",
        "  # Obtem todas os pares de scores de similaridade de todos os filmes com o filme alvo\n",
        "  sim_scores = list(enumerate(cosine_sim[idx]))\n",
        "\n",
        "  # Ordena os filmes com base no score de similaridade\n",
        "  sim_scores = sorted(sim_scores, key=lambda x: x[1], reverse=True)\n",
        "\n",
        "  # Obtem o score dos num_recommend filmes mais proximos\n",
        "  top_similar = sim_scores[1:num_recommend+1]\n",
        "\n",
        "  # Obtem o indice dos filmes\n",
        "  movie_indices = [i[0] for i in top_similar]\n",
        "\n",
        "  # Retorna os num_recommend filmes mais proximos\n",
        "  return movie_indices"
      ]
    },
    {
      "cell_type": "code",
      "execution_count": 15,
      "metadata": {
        "id": "6qhQygRINXcW"
      },
      "outputs": [],
      "source": [
        "idx = get_similar(\"Naruto\", indices, cosine_similarities, 10)"
      ]
    },
    {
      "cell_type": "code",
      "execution_count": 16,
      "metadata": {
        "colab": {
          "base_uri": "https://localhost:8080/"
        },
        "id": "r1KSK3UlO2GN",
        "outputId": "ea9ac073-0ff1-4420-8cb6-3fadac38ccc9"
      },
      "outputs": [
        {
          "data": {
            "text/plain": [
              "title\n",
              "Naruto Shippûden the Movie Bonds                              643\n",
              "Naruto Shippuden The Movie                                    644\n",
              "Naruto Shippuden  Blood Prison                                335\n",
              "Naruto the Movie 2 Legend of the Stone of Gelel               338\n",
              "Naruto Shippûden the Movie The Will of Fire                   336\n",
              "Naruto the Movie 3 Guardians of the Crescent Moon Kingdom     339\n",
              "Naruto Shippuden The Movie The Lost Tower                     337\n",
              "Naruto the Movie Ninja Clash in the Land of Snow              340\n",
              "Saint Seiya The Lost Canvas                                  1600\n",
              "Beyblade Metal Fusion                                        4112\n",
              "dtype: int64"
            ]
          },
          "execution_count": 16,
          "metadata": {},
          "output_type": "execute_result"
        }
      ],
      "source": [
        "indices[idx]"
      ]
    },
    {
      "cell_type": "code",
      "execution_count": 19,
      "metadata": {},
      "outputs": [],
      "source": [
        "def RecommendMovies(user_ratings):\n",
        "    # Carregar os dados e pré-processar\n",
        "    dataRaw = pd.read_csv('./netflix_titles.csv')\n",
        "    dataRaw['description'] = dataRaw['description'].fillna('') # Preencher valores nulos com string vazia\n",
        "    \n",
        "    # Criar a matriz TF-IDF\n",
        "    tfidf = TfidfVectorizer(stop_words='english')\n",
        "    tfidf_matrix = tfidf.fit_transform(dataRaw['description'])\n",
        "    \n",
        "    # Calcular a similaridade de cosseno\n",
        "    cosine_sim = linear_kernel(tfidf_matrix, tfidf_matrix)\n",
        "    \n",
        "    # Criar uma série mapeando o título dos filmes para seus índices\n",
        "    indices = pd.Series(dataRaw.index, index=dataRaw['title']).drop_duplicates()\n",
        "    \n",
        "    # Função para obter recomendações com base na similaridade\n",
        "    def get_recommendations(title, cosine_sim=cosine_sim):\n",
        "        idx = indices[title]\n",
        "        sim_scores = list(enumerate(cosine_sim[idx]))\n",
        "        sim_scores = sorted(sim_scores, key=lambda x: x[1], reverse=True)\n",
        "        sim_scores = sim_scores[1:11]\n",
        "        movie_indices = [i[0] for i in sim_scores]\n",
        "        return dataRaw['title'].iloc[movie_indices]\n",
        "\n",
        "    # Obter recomendações para cada filme avaliado pelo usuário\n",
        "    all_recommendations = []\n",
        "    for movie, rating in zip(user_ratings['movie'], user_ratings['rating']):\n",
        "        recommendations = get_recommendations(movie)\n",
        "        for rec in recommendations:\n",
        "            all_recommendations.append((rec, rating))\n",
        "\n",
        "    # Ordenar as recomendações por rating\n",
        "    all_recommendations = sorted(all_recommendations, key=lambda x: x[1], reverse=True)\n",
        "\n",
        "    # Selecionar os top 10\n",
        "    top_10_recommendations = [rec for rec, rating in all_recommendations[:10]]\n",
        "    \n",
        "    return top_10_recommendations"
      ]
    },
    {
      "cell_type": "code",
      "execution_count": 20,
      "metadata": {},
      "outputs": [
        {
          "ename": "KeyError",
          "evalue": "'Star Wars'",
          "output_type": "error",
          "traceback": [
            "\u001b[1;31m---------------------------------------------------------------------------\u001b[0m",
            "\u001b[1;31mKeyError\u001b[0m                                  Traceback (most recent call last)",
            "File \u001b[1;32mc:\\Users\\crist\\.conda\\envs\\data-analysis\\lib\\site-packages\\pandas\\core\\indexes\\base.py:3803\u001b[0m, in \u001b[0;36mIndex.get_loc\u001b[1;34m(self, key, method, tolerance)\u001b[0m\n\u001b[0;32m   3802\u001b[0m \u001b[38;5;28;01mtry\u001b[39;00m:\n\u001b[1;32m-> 3803\u001b[0m     \u001b[38;5;28;01mreturn\u001b[39;00m \u001b[38;5;28;43mself\u001b[39;49m\u001b[38;5;241;43m.\u001b[39;49m\u001b[43m_engine\u001b[49m\u001b[38;5;241;43m.\u001b[39;49m\u001b[43mget_loc\u001b[49m\u001b[43m(\u001b[49m\u001b[43mcasted_key\u001b[49m\u001b[43m)\u001b[49m\n\u001b[0;32m   3804\u001b[0m \u001b[38;5;28;01mexcept\u001b[39;00m \u001b[38;5;167;01mKeyError\u001b[39;00m \u001b[38;5;28;01mas\u001b[39;00m err:\n",
            "File \u001b[1;32mc:\\Users\\crist\\.conda\\envs\\data-analysis\\lib\\site-packages\\pandas\\_libs\\index.pyx:138\u001b[0m, in \u001b[0;36mpandas._libs.index.IndexEngine.get_loc\u001b[1;34m()\u001b[0m\n",
            "File \u001b[1;32mc:\\Users\\crist\\.conda\\envs\\data-analysis\\lib\\site-packages\\pandas\\_libs\\index.pyx:162\u001b[0m, in \u001b[0;36mpandas._libs.index.IndexEngine.get_loc\u001b[1;34m()\u001b[0m\n",
            "File \u001b[1;32mc:\\Users\\crist\\.conda\\envs\\data-analysis\\lib\\site-packages\\pandas\\_libs\\index.pyx:203\u001b[0m, in \u001b[0;36mpandas._libs.index.IndexEngine._get_loc_duplicates\u001b[1;34m()\u001b[0m\n",
            "File \u001b[1;32mc:\\Users\\crist\\.conda\\envs\\data-analysis\\lib\\site-packages\\pandas\\_libs\\index.pyx:211\u001b[0m, in \u001b[0;36mpandas._libs.index.IndexEngine._maybe_get_bool_indexer\u001b[1;34m()\u001b[0m\n",
            "File \u001b[1;32mc:\\Users\\crist\\.conda\\envs\\data-analysis\\lib\\site-packages\\pandas\\_libs\\index.pyx:107\u001b[0m, in \u001b[0;36mpandas._libs.index._unpack_bool_indexer\u001b[1;34m()\u001b[0m\n",
            "\u001b[1;31mKeyError\u001b[0m: 'Star Wars'",
            "\nThe above exception was the direct cause of the following exception:\n",
            "\u001b[1;31mKeyError\u001b[0m                                  Traceback (most recent call last)",
            "Cell \u001b[1;32mIn [20], line 7\u001b[0m\n\u001b[0;32m      1\u001b[0m \u001b[38;5;66;03m# Exemplo de uso\u001b[39;00m\n\u001b[0;32m      2\u001b[0m usr1 \u001b[38;5;241m=\u001b[39m {\n\u001b[0;32m      3\u001b[0m     \u001b[38;5;124m\"\u001b[39m\u001b[38;5;124mmovie\u001b[39m\u001b[38;5;124m\"\u001b[39m: [\u001b[38;5;124m\"\u001b[39m\u001b[38;5;124mStar Wars\u001b[39m\u001b[38;5;124m\"\u001b[39m, \u001b[38;5;124m\"\u001b[39m\u001b[38;5;124mThe Matrix\u001b[39m\u001b[38;5;124m\"\u001b[39m, \u001b[38;5;124m\"\u001b[39m\u001b[38;5;124mAlien\u001b[39m\u001b[38;5;124m\"\u001b[39m],\n\u001b[0;32m      4\u001b[0m     \u001b[38;5;124m\"\u001b[39m\u001b[38;5;124mrating\u001b[39m\u001b[38;5;124m\"\u001b[39m: [\u001b[38;5;241m1\u001b[39m, \u001b[38;5;241m4\u001b[39m, \u001b[38;5;241m5\u001b[39m]\n\u001b[0;32m      5\u001b[0m }\n\u001b[1;32m----> 7\u001b[0m recommendations \u001b[38;5;241m=\u001b[39m \u001b[43mRecommendMovies\u001b[49m\u001b[43m(\u001b[49m\u001b[43musr1\u001b[49m\u001b[43m)\u001b[49m\n\u001b[0;32m      8\u001b[0m \u001b[38;5;28mprint\u001b[39m(\u001b[38;5;124m\"\u001b[39m\u001b[38;5;124mTop 10 Recommendations:\u001b[39m\u001b[38;5;124m\"\u001b[39m, recommendations)\n",
            "Cell \u001b[1;32mIn [19], line 28\u001b[0m, in \u001b[0;36mRecommendMovies\u001b[1;34m(user_ratings)\u001b[0m\n\u001b[0;32m     26\u001b[0m all_recommendations \u001b[38;5;241m=\u001b[39m []\n\u001b[0;32m     27\u001b[0m \u001b[38;5;28;01mfor\u001b[39;00m movie, rating \u001b[38;5;129;01min\u001b[39;00m \u001b[38;5;28mzip\u001b[39m(user_ratings[\u001b[38;5;124m'\u001b[39m\u001b[38;5;124mmovie\u001b[39m\u001b[38;5;124m'\u001b[39m], user_ratings[\u001b[38;5;124m'\u001b[39m\u001b[38;5;124mrating\u001b[39m\u001b[38;5;124m'\u001b[39m]):\n\u001b[1;32m---> 28\u001b[0m     recommendations \u001b[38;5;241m=\u001b[39m \u001b[43mget_recommendations\u001b[49m\u001b[43m(\u001b[49m\u001b[43mmovie\u001b[49m\u001b[43m)\u001b[49m\n\u001b[0;32m     29\u001b[0m     \u001b[38;5;28;01mfor\u001b[39;00m rec \u001b[38;5;129;01min\u001b[39;00m recommendations:\n\u001b[0;32m     30\u001b[0m         all_recommendations\u001b[38;5;241m.\u001b[39mappend((rec, rating))\n",
            "Cell \u001b[1;32mIn [19], line 18\u001b[0m, in \u001b[0;36mRecommendMovies.<locals>.get_recommendations\u001b[1;34m(title, cosine_sim)\u001b[0m\n\u001b[0;32m     17\u001b[0m \u001b[38;5;28;01mdef\u001b[39;00m \u001b[38;5;21mget_recommendations\u001b[39m(title, cosine_sim\u001b[38;5;241m=\u001b[39mcosine_sim):\n\u001b[1;32m---> 18\u001b[0m     idx \u001b[38;5;241m=\u001b[39m \u001b[43mindices\u001b[49m\u001b[43m[\u001b[49m\u001b[43mtitle\u001b[49m\u001b[43m]\u001b[49m\n\u001b[0;32m     19\u001b[0m     sim_scores \u001b[38;5;241m=\u001b[39m \u001b[38;5;28mlist\u001b[39m(\u001b[38;5;28menumerate\u001b[39m(cosine_sim[idx]))\n\u001b[0;32m     20\u001b[0m     sim_scores \u001b[38;5;241m=\u001b[39m \u001b[38;5;28msorted\u001b[39m(sim_scores, key\u001b[38;5;241m=\u001b[39m\u001b[38;5;28;01mlambda\u001b[39;00m x: x[\u001b[38;5;241m1\u001b[39m], reverse\u001b[38;5;241m=\u001b[39m\u001b[38;5;28;01mTrue\u001b[39;00m)\n",
            "File \u001b[1;32mc:\\Users\\crist\\.conda\\envs\\data-analysis\\lib\\site-packages\\pandas\\core\\series.py:981\u001b[0m, in \u001b[0;36mSeries.__getitem__\u001b[1;34m(self, key)\u001b[0m\n\u001b[0;32m    978\u001b[0m     \u001b[38;5;28;01mreturn\u001b[39;00m \u001b[38;5;28mself\u001b[39m\u001b[38;5;241m.\u001b[39m_values[key]\n\u001b[0;32m    980\u001b[0m \u001b[38;5;28;01melif\u001b[39;00m key_is_scalar:\n\u001b[1;32m--> 981\u001b[0m     \u001b[38;5;28;01mreturn\u001b[39;00m \u001b[38;5;28;43mself\u001b[39;49m\u001b[38;5;241;43m.\u001b[39;49m\u001b[43m_get_value\u001b[49m\u001b[43m(\u001b[49m\u001b[43mkey\u001b[49m\u001b[43m)\u001b[49m\n\u001b[0;32m    983\u001b[0m \u001b[38;5;28;01mif\u001b[39;00m is_hashable(key):\n\u001b[0;32m    984\u001b[0m     \u001b[38;5;66;03m# Otherwise index.get_value will raise InvalidIndexError\u001b[39;00m\n\u001b[0;32m    985\u001b[0m     \u001b[38;5;28;01mtry\u001b[39;00m:\n\u001b[0;32m    986\u001b[0m         \u001b[38;5;66;03m# For labels that don't resolve as scalars like tuples and frozensets\u001b[39;00m\n",
            "File \u001b[1;32mc:\\Users\\crist\\.conda\\envs\\data-analysis\\lib\\site-packages\\pandas\\core\\series.py:1089\u001b[0m, in \u001b[0;36mSeries._get_value\u001b[1;34m(self, label, takeable)\u001b[0m\n\u001b[0;32m   1086\u001b[0m     \u001b[38;5;28;01mreturn\u001b[39;00m \u001b[38;5;28mself\u001b[39m\u001b[38;5;241m.\u001b[39m_values[label]\n\u001b[0;32m   1088\u001b[0m \u001b[38;5;66;03m# Similar to Index.get_value, but we do not fall back to positional\u001b[39;00m\n\u001b[1;32m-> 1089\u001b[0m loc \u001b[38;5;241m=\u001b[39m \u001b[38;5;28;43mself\u001b[39;49m\u001b[38;5;241;43m.\u001b[39;49m\u001b[43mindex\u001b[49m\u001b[38;5;241;43m.\u001b[39;49m\u001b[43mget_loc\u001b[49m\u001b[43m(\u001b[49m\u001b[43mlabel\u001b[49m\u001b[43m)\u001b[49m\n\u001b[0;32m   1090\u001b[0m \u001b[38;5;28;01mreturn\u001b[39;00m \u001b[38;5;28mself\u001b[39m\u001b[38;5;241m.\u001b[39mindex\u001b[38;5;241m.\u001b[39m_get_values_for_loc(\u001b[38;5;28mself\u001b[39m, loc, label)\n",
            "File \u001b[1;32mc:\\Users\\crist\\.conda\\envs\\data-analysis\\lib\\site-packages\\pandas\\core\\indexes\\base.py:3805\u001b[0m, in \u001b[0;36mIndex.get_loc\u001b[1;34m(self, key, method, tolerance)\u001b[0m\n\u001b[0;32m   3803\u001b[0m     \u001b[38;5;28;01mreturn\u001b[39;00m \u001b[38;5;28mself\u001b[39m\u001b[38;5;241m.\u001b[39m_engine\u001b[38;5;241m.\u001b[39mget_loc(casted_key)\n\u001b[0;32m   3804\u001b[0m \u001b[38;5;28;01mexcept\u001b[39;00m \u001b[38;5;167;01mKeyError\u001b[39;00m \u001b[38;5;28;01mas\u001b[39;00m err:\n\u001b[1;32m-> 3805\u001b[0m     \u001b[38;5;28;01mraise\u001b[39;00m \u001b[38;5;167;01mKeyError\u001b[39;00m(key) \u001b[38;5;28;01mfrom\u001b[39;00m \u001b[38;5;21;01merr\u001b[39;00m\n\u001b[0;32m   3806\u001b[0m \u001b[38;5;28;01mexcept\u001b[39;00m \u001b[38;5;167;01mTypeError\u001b[39;00m:\n\u001b[0;32m   3807\u001b[0m     \u001b[38;5;66;03m# If we have a listlike key, _check_indexing_error will raise\u001b[39;00m\n\u001b[0;32m   3808\u001b[0m     \u001b[38;5;66;03m#  InvalidIndexError. Otherwise we fall through and re-raise\u001b[39;00m\n\u001b[0;32m   3809\u001b[0m     \u001b[38;5;66;03m#  the TypeError.\u001b[39;00m\n\u001b[0;32m   3810\u001b[0m     \u001b[38;5;28mself\u001b[39m\u001b[38;5;241m.\u001b[39m_check_indexing_error(key)\n",
            "\u001b[1;31mKeyError\u001b[0m: 'Star Wars'"
          ]
        }
      ],
      "source": [
        "# Exemplo de uso\n",
        "usr1 = {\n",
        "    \"movie\": [\"Star Wars\", \"The Matrix\", \"Alien\"],\n",
        "    \"rating\": [1, 4, 5]\n",
        "}\n",
        "\n",
        "recommendations = RecommendMovies(usr1)\n",
        "print(\"Top 10 Recommendations:\", recommendations)"
      ]
    }
  ],
  "metadata": {
    "colab": {
      "collapsed_sections": [
        "X3-8GHOt1UXv",
        "4tYcGrVz0ufk",
        "nbtkQg1h1CY_",
        "yhTCMkMovsDt",
        "Qbk0VxfEwT7E"
      ],
      "provenance": []
    },
    "kernelspec": {
      "display_name": "Python 3",
      "name": "python3"
    },
    "language_info": {
      "codemirror_mode": {
        "name": "ipython",
        "version": 3
      },
      "file_extension": ".py",
      "mimetype": "text/x-python",
      "name": "python",
      "nbconvert_exporter": "python",
      "pygments_lexer": "ipython3",
      "version": "3.9.13"
    }
  },
  "nbformat": 4,
  "nbformat_minor": 0
}
