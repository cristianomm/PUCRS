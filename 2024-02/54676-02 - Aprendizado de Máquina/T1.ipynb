{
 "cells": [
  {
   "cell_type": "markdown",
   "metadata": {},
   "source": [
    "### Aprendizado de máquina - Trabalho prático 1\n",
    "- Nome: Cristiano Moreira Martins \n",
    "- Matrícula: 11111871-7"
   ]
  },
  {
   "cell_type": "markdown",
   "metadata": {},
   "source": [
    "# Conjunto de dados\n",
    "- O conjunto de dados selecionado é referente as informações cadastrais e cotações de fundos de investimento no intervalo 2018-2021 disponobilizado no portal de dados abertos:\n",
    "- <li>https://dados.cvm.gov.br/dataset/fi-cad</li> \n",
    "- <li>https://dados.cvm.gov.br/dataset/fi-doc-inf_diario</li>\n",
    "\n",
    "##### O objetivo é verificar se algumas métricas como retornos e volatilidade podem ser utilizadas para classificar os fundos conforme o comportamento do histórico de preços. Com isso, poderia-se planejar recomendações mais acertadas conforme o risco que os investidores estão dispostos a aceitar.\n"
   ]
  },
  {
   "cell_type": "markdown",
   "metadata": {},
   "source": [
    "# Análise"
   ]
  },
  {
   "cell_type": "code",
   "execution_count": 1,
   "metadata": {},
   "outputs": [],
   "source": [
    "import zipfile\n",
    "import io\n",
    "import datetime\n",
    "\n",
    "import pandas as pd\n",
    "import numpy as np\n",
    "import empyrical as ep\n",
    "import matplotlib.pyplot as plt\n",
    "\n",
    "from urllib.request import urlopen\n",
    "from sklearn.model_selection import train_test_split, GridSearchCV\n",
    "from sklearn.preprocessing import LabelEncoder, StandardScaler\n",
    "from sklearn.neighbors import KNeighborsClassifier\n",
    "from sklearn.naive_bayes import GaussianNB\n",
    "from sklearn.tree import DecisionTreeClassifier\n",
    "from sklearn.metrics import classification_report, accuracy_score"
   ]
  },
  {
   "cell_type": "code",
   "execution_count": 2,
   "metadata": {},
   "outputs": [],
   "source": [
    "class Tools:\n",
    "    def load_informe_diario(self, start_year, end_year, to_csv_file_name=False, sep=','):\n",
    "\n",
    "        years = np.arange(start_year, end_year + 1, 1)\n",
    "        months = ['01', '02', '03', '04', '05', '06', '07', '08', '09', '10', '11', '12']\n",
    "\n",
    "        # Part 1: Import and read most recent CVM data.\n",
    "        data = pd.DataFrame()\n",
    "        url_base = 'http://dados.cvm.gov.br/dados/FI/DOC/INF_DIARIO/DADOS'\n",
    "        for year in years:\n",
    "            url = f'{url_base}/HIST/inf_diario_fi_{year}.zip'\n",
    "            \n",
    "            df_temp = self.read_remote_zipfile(url)\n",
    "            if len(df_temp) > 0:\n",
    "                data = pd.concat([data, df_temp], axis=0)\n",
    "                print(f'...imported {year} - {len(df_temp)} regs ✓ (in HIST)')\n",
    "            else:\n",
    "                for month in months:\n",
    "                    url = f'{url_base}/inf_diario_fi_{year}{month}.zip'\n",
    "                    df_temp = self.read_remote_zipfile(url)\n",
    "                    if len(df_temp) > 0:\n",
    "                        data = pd.concat([data, df_temp], axis=0)\n",
    "                        print(f'...imported {year}/{month} - {len(df_temp)} regs ✓')\n",
    "\n",
    "        data = data.set_index('DT_COMPTC').sort_index()\n",
    "        print(f'loaded {len(data)} registers')\n",
    "\n",
    "        if to_csv_file_name is False:\n",
    "            return data\n",
    "\n",
    "        else:\n",
    "            if isinstance(to_csv_file_name, str):\n",
    "                if to_csv_file_name[-4:] == '.csv':\n",
    "                    data.to_csv(to_csv_file_name, sep=sep)\n",
    "                    return None\n",
    "                else:\n",
    "                    data.to_csv(to_csv_file_name+'.csv', sep=sep)\n",
    "                    return None\n",
    "            else:\n",
    "                raise Exception('Error: \"to_csv_file_name\" must be a string')\n",
    "            \n",
    "    def read_remote_zipfile(self, url):\n",
    "        \n",
    "        data = pd.DataFrame()\n",
    "        try:\n",
    "            remotezip = urlopen(url)\n",
    "            zipinmemory = io.BytesIO(remotezip.read())\n",
    "            zip = zipfile.ZipFile(zipinmemory)\n",
    "            for fn in zip.namelist():\n",
    "                if fn.endswith(\".csv\"):\n",
    "                    file = (zip.open(fn))\n",
    "                    cvm_data = pd.read_csv(file, sep=';')\n",
    "                    data = pd.concat([data, cvm_data], axis=0)\n",
    "        except Exception:\n",
    "            pass\n",
    "        return data"
   ]
  },
  {
   "cell_type": "markdown",
   "metadata": {},
   "source": [
    "### Data preparation\n",
    "- select data\n",
    "- clean data\n",
    "- construct data\n",
    "- dataset"
   ]
  },
  {
   "cell_type": "code",
   "execution_count": 3,
   "metadata": {},
   "outputs": [
    {
     "name": "stderr",
     "output_type": "stream",
     "text": [
      "C:\\Users\\crist\\AppData\\Local\\Temp\\ipykernel_63832\\2412428167.py:7: DtypeWarning: Columns (14,17,18,20,22,24,27,37,38,39,40) have mixed types. Specify dtype option on import or set low_memory=False.\n",
      "  info_cad_df = pd.read_csv(info_cadastral, encoding='cp1252', sep=';')\n"
     ]
    },
    {
     "name": "stdout",
     "output_type": "stream",
     "text": [
      "...imported 2018 - 3589065 regs ✓ (in HIST)\n",
      "...imported 2019 - 3936054 regs ✓ (in HIST)\n",
      "...imported 2020 - 4491389 regs ✓ (in HIST)\n",
      "...imported 2021/01 - 389625 regs ✓\n",
      "...imported 2021/02 - 355168 regs ✓\n",
      "...imported 2021/03 - 460407 regs ✓\n",
      "...imported 2021/04 - 407176 regs ✓\n",
      "...imported 2021/05 - 434213 regs ✓\n",
      "...imported 2021/06 - 441178 regs ✓\n",
      "...imported 2021/07 - 469766 regs ✓\n",
      "...imported 2021/08 - 476411 regs ✓\n",
      "...imported 2021/09 - 460276 regs ✓\n",
      "...imported 2021/10 - 443413 regs ✓\n",
      "...imported 2021/11 - 448543 regs ✓\n",
      "...imported 2021/12 - 522539 regs ✓\n",
      "...imported 2022/01 - 480909 regs ✓\n",
      "...imported 2022/02 - 437388 regs ✓\n",
      "...imported 2022/03 - 509156 regs ✓\n",
      "...imported 2022/04 - 442702 regs ✓\n",
      "...imported 2022/05 - 515505 regs ✓\n",
      "...imported 2022/06 - 496430 regs ✓\n",
      "...imported 2022/07 - 500546 regs ✓\n",
      "...imported 2022/08 - 551185 regs ✓\n",
      "...imported 2022/09 - 506331 regs ✓\n",
      "...imported 2022/10 - 485486 regs ✓\n",
      "...imported 2022/11 - 488756 regs ✓\n",
      "...imported 2022/12 - 539894 regs ✓\n",
      "...imported 2023/01 - 542278 regs ✓\n",
      "...imported 2023/02 - 444372 regs ✓\n",
      "...imported 2023/03 - 568942 regs ✓\n",
      "...imported 2023/04 - 447645 regs ✓\n",
      "...imported 2023/05 - 548579 regs ✓\n",
      "...imported 2023/06 - 525127 regs ✓\n",
      "...imported 2023/07 - 526682 regs ✓\n",
      "...imported 2023/08 - 578756 regs ✓\n",
      "...imported 2023/09 - 505652 regs ✓\n",
      "...imported 2023/10 - 537581 regs ✓\n",
      "...imported 2023/11 - 511235 regs ✓\n",
      "...imported 2023/12 - 514292 regs ✓\n",
      "...imported 2024/01 - 567812 regs ✓\n",
      "...imported 2024/02 - 491187 regs ✓\n",
      "...imported 2024/03 - 517225 regs ✓\n",
      "...imported 2024/04 - 569477 regs ✓\n",
      "...imported 2024/05 - 543568 regs ✓\n",
      "...imported 2024/06 - 517068 regs ✓\n",
      "...imported 2024/07 - 593709 regs ✓\n",
      "...imported 2024/08 - 565845 regs ✓\n",
      "...imported 2024/09 - 543787 regs ✓\n",
      "...imported 2024/10 - 73781 regs ✓\n",
      "loaded 34514111 registers\n",
      "80651 34514111\n"
     ]
    }
   ],
   "source": [
    "# load data\n",
    "tools = Tools()\n",
    "path = 'D:/Disco/Data/CVM/'\n",
    "\n",
    "info_cadastral = 'https://dados.cvm.gov.br/dados/FI/CAD/DADOS/cad_fi.csv'\n",
    "\n",
    "info_cad_df = pd.read_csv(info_cadastral, encoding='cp1252', sep=';')\n",
    "quotes_df = tools.load_informe_diario(start_year=2018, end_year=datetime.date.today().year)\n",
    "#quotes_df = pd.read_csv(f'{path}inf_diario_all.csv', encoding='cp1252', converters={'CNPJ_FUNDO':str}, parse_dates=['DT_COMPTC'])\n",
    "#quotes_df = quotes_df[quotes_df['DT_COMPTC'].dt.year >= 2018]\n",
    "\n",
    "print(len(info_cad_df), len(quotes_df))"
   ]
  },
  {
   "cell_type": "code",
   "execution_count": 4,
   "metadata": {},
   "outputs": [
    {
     "data": {
      "text/html": [
       "<div>\n",
       "<style scoped>\n",
       "    .dataframe tbody tr th:only-of-type {\n",
       "        vertical-align: middle;\n",
       "    }\n",
       "\n",
       "    .dataframe tbody tr th {\n",
       "        vertical-align: top;\n",
       "    }\n",
       "\n",
       "    .dataframe thead th {\n",
       "        text-align: right;\n",
       "    }\n",
       "</style>\n",
       "<table border=\"1\" class=\"dataframe\">\n",
       "  <thead>\n",
       "    <tr style=\"text-align: right;\">\n",
       "      <th></th>\n",
       "      <th>TP_FUNDO</th>\n",
       "      <th>CNPJ_FUNDO</th>\n",
       "      <th>DENOM_SOCIAL</th>\n",
       "      <th>DT_REG</th>\n",
       "      <th>DT_CONST</th>\n",
       "      <th>CD_CVM</th>\n",
       "      <th>DT_CANCEL</th>\n",
       "      <th>SIT</th>\n",
       "      <th>DT_INI_SIT</th>\n",
       "      <th>DT_INI_ATIV</th>\n",
       "      <th>...</th>\n",
       "      <th>CPF_CNPJ_GESTOR</th>\n",
       "      <th>GESTOR</th>\n",
       "      <th>CNPJ_AUDITOR</th>\n",
       "      <th>AUDITOR</th>\n",
       "      <th>CNPJ_CUSTODIANTE</th>\n",
       "      <th>CUSTODIANTE</th>\n",
       "      <th>CNPJ_CONTROLADOR</th>\n",
       "      <th>CONTROLADOR</th>\n",
       "      <th>INVEST_CEMPR_EXTER</th>\n",
       "      <th>CLASSE_ANBIMA</th>\n",
       "    </tr>\n",
       "  </thead>\n",
       "  <tbody>\n",
       "    <tr>\n",
       "      <th>0</th>\n",
       "      <td>FACFIF</td>\n",
       "      <td>00.000.684/0001-21</td>\n",
       "      <td>DEUTSCHE BANK FDO APLIC QUOTAS FDO INV FINANCE...</td>\n",
       "      <td>2003-04-30</td>\n",
       "      <td>1994-12-20</td>\n",
       "      <td>19.0</td>\n",
       "      <td>2000-08-01</td>\n",
       "      <td>CANCELADA</td>\n",
       "      <td>2000-08-01</td>\n",
       "      <td>NaN</td>\n",
       "      <td>...</td>\n",
       "      <td>NaN</td>\n",
       "      <td>NaN</td>\n",
       "      <td>NaN</td>\n",
       "      <td>NaN</td>\n",
       "      <td>NaN</td>\n",
       "      <td>NaN</td>\n",
       "      <td>NaN</td>\n",
       "      <td>NaN</td>\n",
       "      <td>NaN</td>\n",
       "      <td>NaN</td>\n",
       "    </tr>\n",
       "    <tr>\n",
       "      <th>1</th>\n",
       "      <td>FACFIF</td>\n",
       "      <td>00.000.731/0001-37</td>\n",
       "      <td>ITAMARITI CASH FUNDO APLICACAO QUOTAS FDOS INV...</td>\n",
       "      <td>2003-04-30</td>\n",
       "      <td>1994-05-18</td>\n",
       "      <td>40681.0</td>\n",
       "      <td>1996-01-26</td>\n",
       "      <td>CANCELADA</td>\n",
       "      <td>1996-01-26</td>\n",
       "      <td>NaN</td>\n",
       "      <td>...</td>\n",
       "      <td>NaN</td>\n",
       "      <td>NaN</td>\n",
       "      <td>NaN</td>\n",
       "      <td>NaN</td>\n",
       "      <td>NaN</td>\n",
       "      <td>NaN</td>\n",
       "      <td>NaN</td>\n",
       "      <td>NaN</td>\n",
       "      <td>NaN</td>\n",
       "      <td>NaN</td>\n",
       "    </tr>\n",
       "    <tr>\n",
       "      <th>2</th>\n",
       "      <td>FACFIF</td>\n",
       "      <td>00.000.732/0001-81</td>\n",
       "      <td>FUNDO APLIC. QUOTAS DE F.I. SANTANDER CURTO PRAZO</td>\n",
       "      <td>2003-04-30</td>\n",
       "      <td>1994-05-24</td>\n",
       "      <td>27.0</td>\n",
       "      <td>1999-09-03</td>\n",
       "      <td>CANCELADA</td>\n",
       "      <td>1999-09-03</td>\n",
       "      <td>NaN</td>\n",
       "      <td>...</td>\n",
       "      <td>NaN</td>\n",
       "      <td>NaN</td>\n",
       "      <td>NaN</td>\n",
       "      <td>NaN</td>\n",
       "      <td>NaN</td>\n",
       "      <td>NaN</td>\n",
       "      <td>NaN</td>\n",
       "      <td>NaN</td>\n",
       "      <td>NaN</td>\n",
       "      <td>NaN</td>\n",
       "    </tr>\n",
       "    <tr>\n",
       "      <th>3</th>\n",
       "      <td>FACFIF</td>\n",
       "      <td>00.000.740/0001-28</td>\n",
       "      <td>FUNDO DE APLIC EM QUOTAS DE FUNDOS DE INV BMC ...</td>\n",
       "      <td>2003-04-30</td>\n",
       "      <td>1994-05-23</td>\n",
       "      <td>40690.0</td>\n",
       "      <td>1996-06-10</td>\n",
       "      <td>CANCELADA</td>\n",
       "      <td>1996-06-10</td>\n",
       "      <td>NaN</td>\n",
       "      <td>...</td>\n",
       "      <td>NaN</td>\n",
       "      <td>NaN</td>\n",
       "      <td>NaN</td>\n",
       "      <td>NaN</td>\n",
       "      <td>NaN</td>\n",
       "      <td>NaN</td>\n",
       "      <td>NaN</td>\n",
       "      <td>NaN</td>\n",
       "      <td>NaN</td>\n",
       "      <td>NaN</td>\n",
       "    </tr>\n",
       "    <tr>\n",
       "      <th>4</th>\n",
       "      <td>FACFIF</td>\n",
       "      <td>00.000.749/0001-39</td>\n",
       "      <td>BALANCE FUNDO APLICACAO QUOTAS FUNDO INVESTIME...</td>\n",
       "      <td>2003-04-30</td>\n",
       "      <td>1994-05-12</td>\n",
       "      <td>35.0</td>\n",
       "      <td>2000-06-26</td>\n",
       "      <td>CANCELADA</td>\n",
       "      <td>2000-06-26</td>\n",
       "      <td>NaN</td>\n",
       "      <td>...</td>\n",
       "      <td>NaN</td>\n",
       "      <td>NaN</td>\n",
       "      <td>NaN</td>\n",
       "      <td>NaN</td>\n",
       "      <td>NaN</td>\n",
       "      <td>NaN</td>\n",
       "      <td>NaN</td>\n",
       "      <td>NaN</td>\n",
       "      <td>NaN</td>\n",
       "      <td>NaN</td>\n",
       "    </tr>\n",
       "  </tbody>\n",
       "</table>\n",
       "<p>5 rows × 41 columns</p>\n",
       "</div>"
      ],
      "text/plain": [
       "  TP_FUNDO          CNPJ_FUNDO  \\\n",
       "0   FACFIF  00.000.684/0001-21   \n",
       "1   FACFIF  00.000.731/0001-37   \n",
       "2   FACFIF  00.000.732/0001-81   \n",
       "3   FACFIF  00.000.740/0001-28   \n",
       "4   FACFIF  00.000.749/0001-39   \n",
       "\n",
       "                                        DENOM_SOCIAL      DT_REG    DT_CONST  \\\n",
       "0  DEUTSCHE BANK FDO APLIC QUOTAS FDO INV FINANCE...  2003-04-30  1994-12-20   \n",
       "1  ITAMARITI CASH FUNDO APLICACAO QUOTAS FDOS INV...  2003-04-30  1994-05-18   \n",
       "2  FUNDO APLIC. QUOTAS DE F.I. SANTANDER CURTO PRAZO  2003-04-30  1994-05-24   \n",
       "3  FUNDO DE APLIC EM QUOTAS DE FUNDOS DE INV BMC ...  2003-04-30  1994-05-23   \n",
       "4  BALANCE FUNDO APLICACAO QUOTAS FUNDO INVESTIME...  2003-04-30  1994-05-12   \n",
       "\n",
       "    CD_CVM   DT_CANCEL        SIT  DT_INI_SIT DT_INI_ATIV  ...  \\\n",
       "0     19.0  2000-08-01  CANCELADA  2000-08-01         NaN  ...   \n",
       "1  40681.0  1996-01-26  CANCELADA  1996-01-26         NaN  ...   \n",
       "2     27.0  1999-09-03  CANCELADA  1999-09-03         NaN  ...   \n",
       "3  40690.0  1996-06-10  CANCELADA  1996-06-10         NaN  ...   \n",
       "4     35.0  2000-06-26  CANCELADA  2000-06-26         NaN  ...   \n",
       "\n",
       "  CPF_CNPJ_GESTOR GESTOR CNPJ_AUDITOR AUDITOR CNPJ_CUSTODIANTE CUSTODIANTE  \\\n",
       "0             NaN    NaN          NaN     NaN              NaN         NaN   \n",
       "1             NaN    NaN          NaN     NaN              NaN         NaN   \n",
       "2             NaN    NaN          NaN     NaN              NaN         NaN   \n",
       "3             NaN    NaN          NaN     NaN              NaN         NaN   \n",
       "4             NaN    NaN          NaN     NaN              NaN         NaN   \n",
       "\n",
       "  CNPJ_CONTROLADOR CONTROLADOR INVEST_CEMPR_EXTER CLASSE_ANBIMA  \n",
       "0              NaN         NaN                NaN           NaN  \n",
       "1              NaN         NaN                NaN           NaN  \n",
       "2              NaN         NaN                NaN           NaN  \n",
       "3              NaN         NaN                NaN           NaN  \n",
       "4              NaN         NaN                NaN           NaN  \n",
       "\n",
       "[5 rows x 41 columns]"
      ]
     },
     "execution_count": 4,
     "metadata": {},
     "output_type": "execute_result"
    }
   ],
   "source": [
    "info_cad_df.head()"
   ]
  },
  {
   "cell_type": "code",
   "execution_count": 5,
   "metadata": {},
   "outputs": [
    {
     "data": {
      "text/html": [
       "<div>\n",
       "<style scoped>\n",
       "    .dataframe tbody tr th:only-of-type {\n",
       "        vertical-align: middle;\n",
       "    }\n",
       "\n",
       "    .dataframe tbody tr th {\n",
       "        vertical-align: top;\n",
       "    }\n",
       "\n",
       "    .dataframe thead th {\n",
       "        text-align: right;\n",
       "    }\n",
       "</style>\n",
       "<table border=\"1\" class=\"dataframe\">\n",
       "  <thead>\n",
       "    <tr style=\"text-align: right;\">\n",
       "      <th></th>\n",
       "      <th>CNPJ_FUNDO</th>\n",
       "      <th>VL_TOTAL</th>\n",
       "      <th>VL_QUOTA</th>\n",
       "      <th>VL_PATRIM_LIQ</th>\n",
       "      <th>CAPTC_DIA</th>\n",
       "      <th>RESG_DIA</th>\n",
       "      <th>NR_COTST</th>\n",
       "      <th>TP_FUNDO</th>\n",
       "    </tr>\n",
       "    <tr>\n",
       "      <th>DT_COMPTC</th>\n",
       "      <th></th>\n",
       "      <th></th>\n",
       "      <th></th>\n",
       "      <th></th>\n",
       "      <th></th>\n",
       "      <th></th>\n",
       "      <th></th>\n",
       "      <th></th>\n",
       "    </tr>\n",
       "  </thead>\n",
       "  <tbody>\n",
       "    <tr>\n",
       "      <th>2018-01-02</th>\n",
       "      <td>00.017.024/0001-53</td>\n",
       "      <td>1130197.89</td>\n",
       "      <td>25.968274</td>\n",
       "      <td>1130221.60</td>\n",
       "      <td>0.0</td>\n",
       "      <td>0.00</td>\n",
       "      <td>1</td>\n",
       "      <td>NaN</td>\n",
       "    </tr>\n",
       "    <tr>\n",
       "      <th>2018-01-02</th>\n",
       "      <td>26.695.465/0001-06</td>\n",
       "      <td>56742090.83</td>\n",
       "      <td>1.100419</td>\n",
       "      <td>56726368.69</td>\n",
       "      <td>0.0</td>\n",
       "      <td>0.00</td>\n",
       "      <td>1</td>\n",
       "      <td>NaN</td>\n",
       "    </tr>\n",
       "    <tr>\n",
       "      <th>2018-01-02</th>\n",
       "      <td>09.643.664/0001-43</td>\n",
       "      <td>52005419.59</td>\n",
       "      <td>2.659632</td>\n",
       "      <td>51809479.80</td>\n",
       "      <td>26000.0</td>\n",
       "      <td>282592.35</td>\n",
       "      <td>10</td>\n",
       "      <td>NaN</td>\n",
       "    </tr>\n",
       "    <tr>\n",
       "      <th>2018-01-02</th>\n",
       "      <td>09.643.616/0001-55</td>\n",
       "      <td>3468900.40</td>\n",
       "      <td>2.702850</td>\n",
       "      <td>3468256.21</td>\n",
       "      <td>0.0</td>\n",
       "      <td>0.00</td>\n",
       "      <td>2</td>\n",
       "      <td>NaN</td>\n",
       "    </tr>\n",
       "    <tr>\n",
       "      <th>2018-01-02</th>\n",
       "      <td>09.643.547/0001-80</td>\n",
       "      <td>21060214.21</td>\n",
       "      <td>2.328973</td>\n",
       "      <td>21043005.37</td>\n",
       "      <td>0.0</td>\n",
       "      <td>0.00</td>\n",
       "      <td>5</td>\n",
       "      <td>NaN</td>\n",
       "    </tr>\n",
       "  </tbody>\n",
       "</table>\n",
       "</div>"
      ],
      "text/plain": [
       "                    CNPJ_FUNDO     VL_TOTAL   VL_QUOTA  VL_PATRIM_LIQ  \\\n",
       "DT_COMPTC                                                               \n",
       "2018-01-02  00.017.024/0001-53   1130197.89  25.968274     1130221.60   \n",
       "2018-01-02  26.695.465/0001-06  56742090.83   1.100419    56726368.69   \n",
       "2018-01-02  09.643.664/0001-43  52005419.59   2.659632    51809479.80   \n",
       "2018-01-02  09.643.616/0001-55   3468900.40   2.702850     3468256.21   \n",
       "2018-01-02  09.643.547/0001-80  21060214.21   2.328973    21043005.37   \n",
       "\n",
       "            CAPTC_DIA   RESG_DIA  NR_COTST TP_FUNDO  \n",
       "DT_COMPTC                                            \n",
       "2018-01-02        0.0       0.00         1      NaN  \n",
       "2018-01-02        0.0       0.00         1      NaN  \n",
       "2018-01-02    26000.0  282592.35        10      NaN  \n",
       "2018-01-02        0.0       0.00         2      NaN  \n",
       "2018-01-02        0.0       0.00         5      NaN  "
      ]
     },
     "execution_count": 5,
     "metadata": {},
     "output_type": "execute_result"
    }
   ],
   "source": [
    "quotes_df.head()"
   ]
  },
  {
   "cell_type": "markdown",
   "metadata": {},
   "source": [
    "### select & clean\n",
    "- Serão selecionados os fundos que estão em funcionamento (SIT == EM FUNCIONAMENTO NORMAL)\n",
    "- fundos que não são exclusivos (FUNDO_EXCLUSIVO == N)\n",
    "  - pois geralmente são fundos fechados para investidores em geral ou são fundos relacionados ao patrimônio de alguma pessoa ou família\n",
    "- fundos pertencentes as classes Renda Fixa, Ações, Multimercado\n"
   ]
  },
  {
   "cell_type": "code",
   "execution_count": 6,
   "metadata": {},
   "outputs": [
    {
     "name": "stderr",
     "output_type": "stream",
     "text": [
      "C:\\Users\\crist\\AppData\\Local\\Temp\\ipykernel_63832\\2131514232.py:2: FutureWarning: The default value of regex will change from True to False in a future version. In addition, single character regular expressions will *not* be treated as literal strings when regex=True.\n",
      "  info_cad_df['CNPJ_FUNDO'] = info_cad_df['CNPJ_FUNDO'].str.replace('.', '').str.replace('-', '').str.replace('/', '')\n",
      "C:\\Users\\crist\\AppData\\Local\\Temp\\ipykernel_63832\\2131514232.py:3: FutureWarning: The default value of regex will change from True to False in a future version. In addition, single character regular expressions will *not* be treated as literal strings when regex=True.\n",
      "  quotes_df['CNPJ_FUNDO'] = quotes_df['CNPJ_FUNDO'].str.replace('.', '').str.replace('-', '').str.replace('/', '')\n"
     ]
    },
    {
     "name": "stdout",
     "output_type": "stream",
     "text": [
      "17986 19427906\n"
     ]
    }
   ],
   "source": [
    "# select and clean\n",
    "info_cad_df['CNPJ_FUNDO'] = info_cad_df['CNPJ_FUNDO'].str.replace('.', '').str.replace('-', '').str.replace('/', '')\n",
    "quotes_df['CNPJ_FUNDO'] = quotes_df['CNPJ_FUNDO'].str.replace('.', '').str.replace('-', '').str.replace('/', '')\n",
    "\n",
    "info_cad_df = info_cad_df[\n",
    "    (info_cad_df['SIT'] == 'EM FUNCIONAMENTO NORMAL') \n",
    "    & (info_cad_df['FUNDO_EXCLUSIVO'] == 'N' )\n",
    "    & (info_cad_df['CLASSE'].isin(['Renda Fixa', 'Ações', 'Multimercado']))]\n",
    "\n",
    "#filtra as cotações, permanecendo apenas os que estao ativos\n",
    "#quotes_df[]\n",
    "\n",
    "info_cad_df.set_index('CNPJ_FUNDO', inplace=True)\n",
    "\n",
    "quotes_df.reset_index(inplace=True)\n",
    "quotes_df.set_index('CNPJ_FUNDO', inplace=True)\n",
    "\n",
    "quotes_df, _ = quotes_df.align(info_cad_df, axis=0, join='inner')\n",
    "\n",
    "#seleciona as colunas\n",
    "info_cad_df = info_cad_df[['TP_FUNDO', 'DENOM_SOCIAL', 'CLASSE']]\n",
    "quotes_df = quotes_df[['DT_COMPTC', 'VL_TOTAL', 'VL_QUOTA', 'VL_PATRIM_LIQ']]\n",
    "\n",
    "print(len(info_cad_df), len(quotes_df))"
   ]
  },
  {
   "cell_type": "code",
   "execution_count": 7,
   "metadata": {},
   "outputs": [
    {
     "data": {
      "image/png": "[encoded data removed]",
      "text/plain": [
       "<Figure size 600x400 with 1 Axes>"
      ]
     },
     "metadata": {},
     "output_type": "display_data"
    }
   ],
   "source": [
    "class_counts = info_cad_df['CLASSE'].value_counts()\n",
    "plt.figure(figsize=(6, 4))\n",
    "plt.bar(class_counts.index, class_counts.values)\n",
    "plt.show()"
   ]
  },
  {
   "cell_type": "code",
   "execution_count": 8,
   "metadata": {},
   "outputs": [],
   "source": [
    "# ajusta a quantidade de classes pois a classe multimercado possui mais elementos\n",
    "renda_fixa_df = info_cad_df[info_cad_df['CLASSE'] == 'Renda Fixa']\n",
    "acoes_df = info_cad_df[info_cad_df['CLASSE'] == 'Ações']\n",
    "multimercado_df = info_cad_df[info_cad_df['CLASSE'] == 'Multimercado']\n",
    "\n",
    "min_class_count = min(len(renda_fixa_df), len(acoes_df))\n",
    "\n",
    "multimercado_df = multimercado_df.sample(n=min_class_count, random_state=42)\n",
    "\n",
    "balanced_df = pd.concat([renda_fixa_df, acoes_df, multimercado_df])\n",
    "info_cad_df = balanced_df.sample(frac=1, random_state=42)\n",
    "\n",
    "del renda_fixa_df, acoes_df, multimercado_df\n"
   ]
  },
  {
   "cell_type": "code",
   "execution_count": 9,
   "metadata": {},
   "outputs": [
    {
     "data": {
      "image/png": "[encoded data removed]",
      "text/plain": [
       "<Figure size 600x400 with 1 Axes>"
      ]
     },
     "metadata": {},
     "output_type": "display_data"
    }
   ],
   "source": [
    "class_counts = balanced_df['CLASSE'].value_counts()\n",
    "plt.figure(figsize=(6, 4))\n",
    "plt.bar(class_counts.index, class_counts.values)\n",
    "plt.show()"
   ]
  },
  {
   "cell_type": "code",
   "execution_count": 10,
   "metadata": {},
   "outputs": [
    {
     "name": "stdout",
     "output_type": "stream",
     "text": [
      "11634 13261900\n"
     ]
    }
   ],
   "source": [
    "#filtra novamente \n",
    "quotes_df, _ = quotes_df.align(info_cad_df, axis=0, join='inner')\n",
    "\n",
    "print(len(info_cad_df), len(quotes_df))"
   ]
  },
  {
   "cell_type": "markdown",
   "metadata": {},
   "source": [
    "### construct\n",
    "- Criação de features para serem utilizadas nos modelos\n",
    "- será calculada a volatilidade e os retornos totais nos períodos de 1,2 e 3 anos"
   ]
  },
  {
   "cell_type": "code",
   "execution_count": 11,
   "metadata": {},
   "outputs": [],
   "source": [
    "\n",
    "# o cálculo demora, recomenda-se pegar uma amostra dos dados\n",
    "#info_cad_df = info_cad_df.sample(frac=.25)\n",
    "\n",
    "y1 = 252\n",
    "y2 = 504\n",
    "y3 = 756\n",
    "\n",
    "for cnpj in pd.unique(info_cad_df.index):\n",
    "    data = quotes_df[quotes_df.index == cnpj][['DT_COMPTC','VL_QUOTA']].set_index('DT_COMPTC')\n",
    "    data = ep.stats.simple_returns(data[['VL_QUOTA']])\n",
    "    if len(data) >= y3:\n",
    "        info_cad_df.loc[cnpj, 'std'] = ep.annual_volatility(data)[0]\n",
    "        info_cad_df.loc[cnpj, 'std_1y'] = ep.annual_volatility(data.tail(y1))[0]\n",
    "        info_cad_df.loc[cnpj, 'std_2y'] = ep.annual_volatility(data.tail(y2))[0]\n",
    "        info_cad_df.loc[cnpj, 'std_3y'] = ep.annual_volatility(data.tail(y3))[0]\n",
    "        info_cad_df.loc[cnpj, 'ret'] = ep.annual_return(data)[0]\n",
    "        info_cad_df.loc[cnpj, 'ret_1y'] = ep.annual_return(data.tail(y1))[0]\n",
    "        info_cad_df.loc[cnpj, 'ret_2y'] = ep.annual_return(data.tail(y2))[0]\n",
    "        info_cad_df.loc[cnpj, 'ret_3y'] = ep.annual_return(data.tail(y3))[0]\n",
    "\n",
    "info_cad_df.dropna(inplace=True)"
   ]
  },
  {
   "cell_type": "code",
   "execution_count": 12,
   "metadata": {},
   "outputs": [],
   "source": [
    "info_cad_df.to_csv(f'{path}info_bkp.csv')\n",
    "quotes_df.to_csv(f'{path}quotes_bkp.csv')\n",
    "#info_cad_df = pd.read_csv(f'{path}bkp.csv')\n",
    "#info_cad_df.dropna(inplace=True)"
   ]
  },
  {
   "cell_type": "markdown",
   "metadata": {},
   "source": [
    "### Modeling\n",
    "- select modeling techniques\n",
    "- generate test design\n",
    "- build model\n",
    "- asses model"
   ]
  },
  {
   "cell_type": "markdown",
   "metadata": {},
   "source": [
    "###\n",
    "- Serão utilizados K-nn, Naive Bayes e Decision Tree para avaliar se os modelos conseguem classificar cada fundo conforme a sua classe especificada em relação a métricas de volatilidade e retorno"
   ]
  },
  {
   "cell_type": "markdown",
   "metadata": {},
   "source": [
    "#### build model"
   ]
  },
  {
   "cell_type": "code",
   "execution_count": 17,
   "metadata": {},
   "outputs": [],
   "source": [
    "X = info_cad_df[['std', 'std_1y', 'std_2y', 'std_3y', 'ret', 'ret_1y', 'ret_2y', 'ret_3y']]\n",
    "y = info_cad_df['CLASSE']\n",
    "\n",
    "label_encoder = LabelEncoder()\n",
    "y_encoded = label_encoder.fit_transform(y)\n",
    "\n",
    "X_train, X_test, y_train, y_test = train_test_split(X, y_encoded, test_size=0.2, random_state=42)\n",
    "\n",
    "\n",
    "scaler = StandardScaler()\n",
    "X_train_scaled = scaler.fit_transform(X_train)\n",
    "X_test_scaled = scaler.transform(X_test)"
   ]
  },
  {
   "cell_type": "markdown",
   "metadata": {},
   "source": [
    "##### KNN"
   ]
  },
  {
   "cell_type": "code",
   "execution_count": 18,
   "metadata": {},
   "outputs": [
    {
     "name": "stdout",
     "output_type": "stream",
     "text": [
      "Melhor Configuração k-NN: {'n_neighbors': 7, 'weights': 'distance'}\n",
      "Acurácia: 0.8596463149654638\n"
     ]
    }
   ],
   "source": [
    "knn_params = {'n_neighbors': [2, 3, 5, 7, 9], 'weights': ['uniform', 'distance']}\n",
    "knn = KNeighborsClassifier()\n",
    "grid_knn = GridSearchCV(knn, knn_params, cv=5, scoring='accuracy')\n",
    "grid_knn.fit(X_train_scaled, y_train)\n",
    "best_knn = grid_knn.best_estimator_\n",
    "print(\"Melhor Configuração k-NN:\", grid_knn.best_params_)\n",
    "print(\"Acurácia:\", grid_knn.best_score_)"
   ]
  },
  {
   "cell_type": "markdown",
   "metadata": {},
   "source": [
    "##### Naive Bayes"
   ]
  },
  {
   "cell_type": "code",
   "execution_count": 15,
   "metadata": {},
   "outputs": [
    {
     "name": "stdout",
     "output_type": "stream",
     "text": [
      "\n",
      "Naive Bayes Classification Report:\n",
      "              precision    recall  f1-score   support\n",
      "\n",
      "       Ações       0.76      0.93      0.84       522\n",
      "Multimercado       0.56      0.05      0.08       510\n",
      "  Renda Fixa       0.56      0.97      0.71       495\n",
      "\n",
      "    accuracy                           0.65      1527\n",
      "   macro avg       0.63      0.65      0.55      1527\n",
      "weighted avg       0.63      0.65      0.55      1527\n",
      "\n"
     ]
    }
   ],
   "source": [
    "nb = GaussianNB()\n",
    "nb.fit(X_train_scaled, y_train)\n",
    "y_pred_nb = nb.predict(X_test_scaled)\n",
    "print(\"\\nNaive Bayes Classification Report:\")\n",
    "print(classification_report(y_test, y_pred_nb, target_names=label_encoder.classes_))"
   ]
  },
  {
   "cell_type": "markdown",
   "metadata": {},
   "source": [
    "##### Decision Tree"
   ]
  },
  {
   "cell_type": "code",
   "execution_count": 16,
   "metadata": {},
   "outputs": [
    {
     "name": "stdout",
     "output_type": "stream",
     "text": [
      "\n",
      "Melhor Configuração Decision Tree: {'max_depth': 10, 'min_samples_split': 5}\n",
      "Acurácia: 0.8452347154474815\n"
     ]
    }
   ],
   "source": [
    "dt_params = {'max_depth': [2, 3, 5, 7, 10], 'min_samples_split': [2, 5, 10]}\n",
    "dt = DecisionTreeClassifier(random_state=42)\n",
    "grid_dt = GridSearchCV(dt, dt_params, cv=5, scoring='accuracy')\n",
    "grid_dt.fit(X_train_scaled, y_train)\n",
    "best_dt = grid_dt.best_estimator_\n",
    "print(\"\\nMelhor Configuração Decision Tree:\", grid_dt.best_params_)\n",
    "print(\"Acurácia:\", grid_dt.best_score_)"
   ]
  },
  {
   "cell_type": "markdown",
   "metadata": {},
   "source": [
    "### Evaluation\n",
    "- evaluate results"
   ]
  },
  {
   "cell_type": "markdown",
   "metadata": {},
   "source": [
    "- O modelo que apresentou o melhor resultado foi o KNN, com a acurácia de 0,84. Decision Tree performou de forma semelhante, mas um pouco abaixo quando comparada a acurácia e o Naive Bayes não performou bem.\n",
    "- Naive Bayes apresentou problemas para classificar corretamente as classes Renda Fixa e Multimercado. O problema aqui é pelo seguinte motivo: Os fundos multimercado podem ter a composição da carteira semelhante a fundos classificados como Renda Fixa ou Ações, o que difere esses fundos, para fins de classificação é os tipos de ativos que podem ser incorporados na carteira dos fundos multimercado em que existe, por exemplo, maior liberdade de escolha de ativos quando comparado a um fundo de Renda Fixa que é obrigado a ter em seu portfófio somente ativos classificados como tal \n",
    "\n",
    "\n"
   ]
  },
  {
   "cell_type": "code",
   "execution_count": null,
   "metadata": {},
   "outputs": [],
   "source": []
  }
 ],
 "metadata": {
  "kernelspec": {
   "display_name": "data-analysis",
   "language": "python",
   "name": "python3"
  },
  "language_info": {
   "codemirror_mode": {
    "name": "ipython",
    "version": 3
   },
   "file_extension": ".py",
   "mimetype": "text/x-python",
   "name": "python",
   "nbconvert_exporter": "python",
   "pygments_lexer": "ipython3",
   "version": "3.9.13"
  }
 },
 "nbformat": 4,
 "nbformat_minor": 2
}
