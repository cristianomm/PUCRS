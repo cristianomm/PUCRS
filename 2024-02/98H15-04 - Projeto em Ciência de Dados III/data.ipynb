{
 "cells": [
  {
   "cell_type": "code",
   "execution_count": null,
   "metadata": {},
   "outputs": [],
   "source": [
    "!pip install missingno"
   ]
  },
  {
   "cell_type": "code",
   "execution_count": 1,
   "metadata": {},
   "outputs": [],
   "source": [
    "import pandas as pd\n",
    "import pyarrow.parquet as pq\n",
    "import matplotlib.pyplot as plt\n",
    "import seaborn as sns\n",
    "import missingno as msno"
   ]
  },
  {
   "cell_type": "code",
   "execution_count": 2,
   "metadata": {},
   "outputs": [],
   "source": [
    "path = 'D:/Disco/Data/PUCRS/proj CDIA III/'\n",
    "\n",
    "tables = ['PUC_VENDAS', 'PUC_CAMPANHAS']"
   ]
  },
  {
   "cell_type": "code",
   "execution_count": 3,
   "metadata": {},
   "outputs": [],
   "source": [
    "vendas_dataset = pq.ParquetDataset(f'{path}/dataset/{tables[0]}')\n",
    "campanhas_dataset = pq.ParquetDataset(f'{path}/dataset/{tables[1]}')"
   ]
  },
  {
   "cell_type": "code",
   "execution_count": 4,
   "metadata": {},
   "outputs": [],
   "source": [
    "vendas = vendas_dataset.read_pandas()\n",
    "campanhas = campanhas_dataset.read_pandas()"
   ]
  },
  {
   "cell_type": "code",
   "execution_count": 6,
   "metadata": {},
   "outputs": [],
   "source": [
    "vendas = vendas.to_pandas()"
   ]
  },
  {
   "cell_type": "code",
   "execution_count": null,
   "metadata": {},
   "outputs": [],
   "source": [
    "vendas"
   ]
  },
  {
   "cell_type": "code",
   "execution_count": null,
   "metadata": {},
   "outputs": [],
   "source": []
  },
  {
   "cell_type": "code",
   "execution_count": null,
   "metadata": {},
   "outputs": [],
   "source": [
    "print(f'Registros na tabela VENDAS: {vendas.shape}')\n",
    "print(f'COD_CUPOM: {len(vendas.COD_CUPOM.unique())}') \n",
    "print(f'COD_CLIENTE: {len(vendas.COD_CLIENTE.unique())}') "
   ]
  },
  {
   "cell_type": "code",
   "execution_count": 21,
   "metadata": {},
   "outputs": [],
   "source": [
    "vendas_spl = vendas.sample(frac=.05,random_state=652)"
   ]
  },
  {
   "cell_type": "code",
   "execution_count": 22,
   "metadata": {},
   "outputs": [],
   "source": [
    "vendas_spl.to_csv(f'{path}vandas_sample.csv')"
   ]
  },
  {
   "cell_type": "code",
   "execution_count": null,
   "metadata": {},
   "outputs": [],
   "source": [
    "data = vendas_spl\n",
    "# 1. Verificação de valores ausentes\n",
    "missing_values = data.isnull().sum()\n",
    "\n",
    "# Gráfico de barras com os valores ausentes por coluna\n",
    "plt.figure(figsize=(12,6))\n",
    "msno.bar(data, figsize=(10,5), color='skyblue')\n",
    "plt.title('Valores Ausentes por Coluna')\n",
    "plt.show()\n",
    "\n",
    "# 2. Distribuição do sexo dos clientes\n",
    "plt.figure(figsize=(6,4))\n",
    "sns.countplot(data=data, x='SEXO_CLIENTE', palette='Set2')\n",
    "plt.title('Distribuição por Sexo dos Clientes')\n",
    "plt.xlabel('Sexo')\n",
    "plt.ylabel('Contagem')\n",
    "plt.show()\n",
    "\n",
    "# 3. Distribuição de clientes por faixa etária\n",
    "# Convertendo a coluna de data de nascimento para datetime e calculando a idade\n",
    "data['DTNASCIMENTO_CLIENTE'] = pd.to_datetime(data['DTNASCIMENTO_CLIENTE'], errors='coerce')\n",
    "#data['IDADE_CLIENTE'] = 2024 - data['DTNASCIMENTO_CLIENTE'].dt.year\n",
    "\n",
    "plt.figure(figsize=(8,5))\n",
    "sns.histplot(data['IDADE_CLIENTE'].dropna(), bins=20, kde=True)\n",
    "plt.title('Distribuição da Idade dos Clientes')\n",
    "plt.xlabel('Idade')\n",
    "plt.ylabel('Frequência')\n",
    "plt.show()\n",
    "\n",
    "# 4. Análise das categorias de produtos mais vendidas\n",
    "plt.figure(figsize=(10,6))\n",
    "sns.countplot(y='CATEGORIA_SKU', data=data, order=data['CATEGORIA_SKU'].value_counts().index, palette='coolwarm')\n",
    "plt.title('Categorias de Produtos Mais Vendidas')\n",
    "plt.xlabel('Número de Vendas')\n",
    "plt.ylabel('Categoria')\n",
    "plt.show()\n",
    "\n",
    "# 5. Distribuição de descontos aplicados\n",
    "plt.figure(figsize=(8,5))\n",
    "sns.histplot(data['TOTAL_DESCONTO'], bins=30, kde=True)\n",
    "plt.title('Distribuição de Descontos Aplicados')\n",
    "plt.xlabel('Desconto Total')\n",
    "plt.ylabel('Frequência')\n",
    "plt.show()\n",
    "\n",
    "# 6. Distribuição das vendas por cidade\n",
    "plt.figure(figsize=(12,6))\n",
    "sns.countplot(y='NOME_CIDADE', data=data, order=data['NOME_CIDADE'].value_counts().index[:10], palette='viridis')\n",
    "plt.title('Distribuição das Vendas por Cidade (Top 10)')\n",
    "plt.xlabel('Número de Vendas')\n",
    "plt.ylabel('Cidade')\n",
    "plt.show()\n",
    "\n",
    "# 7. Distribuição das vendas por loja\n",
    "plt.figure(figsize=(10,6))\n",
    "sns.histplot(data['COD_LOJA'], bins=50, kde=False, color='darkorange')\n",
    "plt.title('Distribuição das Vendas por Loja')\n",
    "plt.xlabel('Código da Loja')\n",
    "plt.ylabel('Número de Vendas')\n",
    "plt.show()\n",
    "\n",
    "# 8. Distribuição de preços regulares dos produtos\n",
    "plt.figure(figsize=(8,5))\n",
    "sns.histplot(data['PRECO_REGULAR'], bins=40, kde=True, color='blue')\n",
    "plt.title('Distribuição de Preços Regulares dos Produtos')\n",
    "plt.xlabel('Preço Regular')\n",
    "plt.ylabel('Frequência')\n",
    "plt.show()\n",
    "\n",
    "# 9. Distribuição de vendas ao longo do tempo\n",
    "data['DATA_CUPOM'] = pd.to_datetime(data['DATA_CUPOM'], errors='coerce')\n",
    "data['DATA_CUPOM_DATE'] = data['DATA_CUPOM'].dt.date\n",
    "\n",
    "vendas_por_dia = data.groupby('DATA_CUPOM_DATE').size()\n",
    "\n",
    "plt.figure(figsize=(10,6))\n",
    "plt.plot(vendas_por_dia.index, vendas_por_dia.values, color='green')\n",
    "plt.title('Distribuição de Vendas ao Longo do Tempo')\n",
    "plt.xlabel('Data')\n",
    "plt.ylabel('Número de Vendas')\n",
    "plt.xticks(rotation=45)\n",
    "plt.show()\n",
    "\n",
    "# 10. Análise de vendas por quantidade de unidades vendidas\n",
    "plt.figure(figsize=(8,5))\n",
    "sns.histplot(data['UNIDADES'], bins=20, kde=True, color='purple')\n",
    "plt.title('Distribuição de Vendas por Quantidade de Unidades')\n",
    "plt.xlabel('Unidades Vendidas')\n",
    "plt.ylabel('Frequência')\n",
    "plt.show()\n",
    "\n",
    "# Exibir o resultado da verificação de valores ausentes\n",
    "missing_values\n",
    "\n"
   ]
  },
  {
   "cell_type": "code",
   "execution_count": 52,
   "metadata": {},
   "outputs": [],
   "source": [
    "# Refazendo a análise sem a biblioteca 'missingno', utilizando apenas gráficos nativos de matplotlib e seaborn\n",
    "data = vendas_spl\n",
    "# 1. Verificação de valores ausentes (usando gráfico de barras)\n",
    "missing_values = data.isnull().sum() + data.isna().sum()\n",
    "missing_values = missing_values[missing_values > 0]\n"
   ]
  },
  {
   "cell_type": "code",
   "execution_count": null,
   "metadata": {},
   "outputs": [],
   "source": [
    "\n",
    "plt.figure(figsize=(6,4))\n",
    "missing_values.plot(kind='bar', color='skyblue')\n",
    "plt.title('Valores Ausentes por Coluna')\n",
    "plt.ylabel('Número de Valores Ausentes')\n",
    "plt.show()\n"
   ]
  },
  {
   "cell_type": "code",
   "execution_count": null,
   "metadata": {},
   "outputs": [],
   "source": [
    "\n",
    "# 2. Distribuição do sexo dos clientes\n",
    "plt.figure(figsize=(6,4))\n",
    "sns.countplot(data=data, x='SEXO_CLIENTE', palette='Set2')\n",
    "plt.title('Distribuição por Sexo dos Clientes')\n",
    "plt.xlabel('Sexo')\n",
    "plt.ylabel('Contagem')\n",
    "plt.show()\n"
   ]
  },
  {
   "cell_type": "code",
   "execution_count": null,
   "metadata": {},
   "outputs": [],
   "source": [
    "\n",
    "# 3. Distribuição de clientes por faixa etária\n",
    "# Convertendo a coluna de data de nascimento para datetime e calculando a idade\n",
    "data['DTNASCIMENTO_CLIENTE'] = pd.to_datetime(data['DTNASCIMENTO_CLIENTE'], errors='coerce')\n",
    "data['IDADE_CLIENTE'] = 2024 - data['DTNASCIMENTO_CLIENTE'].dt.year\n",
    "\n",
    "plt.figure(figsize=(6,4))\n",
    "sns.histplot(data['IDADE_CLIENTE'].dropna(), bins=20, kde=True)\n",
    "plt.title('Distribuição da Idade dos Clientes')\n",
    "plt.xlabel('Idade')\n",
    "plt.ylabel('Frequência')\n",
    "plt.show()\n"
   ]
  },
  {
   "cell_type": "code",
   "execution_count": null,
   "metadata": {},
   "outputs": [],
   "source": [
    "data['CATEGORIA_SKU'].value_counts().index"
   ]
  },
  {
   "cell_type": "code",
   "execution_count": null,
   "metadata": {},
   "outputs": [],
   "source": [
    "\n",
    "# 4. Análise das categorias de produtos mais vendidas\n",
    "plt.figure(figsize=(8,4))\n",
    "sns.countplot(y='CATEGORIA_SKU', data=data, order=data['CATEGORIA_SKU'].value_counts().index, palette='rocket')\n",
    "plt.title('Categorias de Produtos Mais Vendidas')\n",
    "plt.xlabel('Número de Vendas')\n",
    "plt.ylabel('Categoria')\n",
    "plt.show()\n"
   ]
  },
  {
   "cell_type": "code",
   "execution_count": null,
   "metadata": {},
   "outputs": [],
   "source": [
    "\n",
    "# 5. Distribuição de descontos aplicados\n",
    "plt.figure(figsize=(8,4))\n",
    "sns.histplot(data['TOTAL_DESCONTO'], bins=30, kde=True)\n",
    "plt.title('Distribuição de Descontos Aplicados')\n",
    "plt.xlabel('Desconto Total')\n",
    "plt.ylabel('Frequência')\n",
    "plt.show()\n"
   ]
  },
  {
   "cell_type": "code",
   "execution_count": null,
   "metadata": {},
   "outputs": [],
   "source": [
    "data.groupby(['COD_LOJA', '']).size()"
   ]
  },
  {
   "cell_type": "code",
   "execution_count": null,
   "metadata": {},
   "outputs": [],
   "source": [
    "vendas_por_loja = data.groupby('COD_LOJA').size().reset_index(name='vendas')\n",
    "\n",
    "#plt.figure(figsize=(10,6))\n",
    "sns.scatterplot(data=vendas_por_loja, x='COD_LOJA', y='vendas', size='vendas', hue='vendas', palette='rocket')\n",
    "plt.title('Vendas por Loja')\n",
    "plt.xlabel('Código da Loja')\n",
    "plt.ylabel('Número de Vendas')\n",
    "#plt.grid(True)\n",
    "plt.show()"
   ]
  },
  {
   "cell_type": "code",
   "execution_count": null,
   "metadata": {},
   "outputs": [],
   "source": [
    "\n",
    "# 7. Distribuição das vendas por loja\n",
    "plt.figure(figsize=(16,6))\n",
    "sns.catplot(data=vendas_por_loja, kind='box')\n",
    "plt.title('Distribuição das Vendas por Loja', )\n",
    "plt.xlabel('Código da Loja')\n",
    "plt.ylabel('Número de Vendas')\n",
    "plt.show()\n"
   ]
  },
  {
   "cell_type": "code",
   "execution_count": null,
   "metadata": {},
   "outputs": [],
   "source": [
    "\n",
    "# 8. Distribuição de preços regulares dos produtos\n",
    "plt.figure(figsize=(8,5))\n",
    "sns.histplot(data['PRECO_REGULAR'], bins=40, kde=True, color='blue')\n",
    "plt.title('Distribuição de Preços Regulares dos Produtos')\n",
    "plt.xlabel('Preço Regular')\n",
    "plt.ylabel('Frequência')\n",
    "plt.show()\n"
   ]
  },
  {
   "cell_type": "code",
   "execution_count": null,
   "metadata": {},
   "outputs": [],
   "source": [
    "\n",
    "# 9. Distribuição de vendas ao longo do tempo\n",
    "data['DATA_CUPOM'] = pd.to_datetime(data['DATA_CUPOM'], errors='coerce')\n",
    "data['DATA_CUPOM_DATE'] = data['DATA_CUPOM'].dt.date\n",
    "\n",
    "vendas_por_dia = data.groupby('DATA_CUPOM_DATE').size()\n",
    "\n",
    "plt.figure(figsize=(10,6))\n",
    "plt.plot(vendas_por_dia.index, vendas_por_dia.values, color='green')\n",
    "plt.title('Distribuição de Vendas ao Longo do Tempo')\n",
    "plt.xlabel('Data')\n",
    "plt.ylabel('Número de Vendas')\n",
    "plt.xticks(rotation=45)\n",
    "plt.show()\n",
    "\n",
    "# 10. Análise de vendas por quantidade de unidades vendidas\n",
    "plt.figure(figsize=(8,5))\n",
    "sns.histplot(data['UNIDADES'], bins=20, kde=True, color='purple')\n",
    "plt.title('Distribuição de Vendas por Quantidade de Unidades')\n",
    "plt.xlabel('Unidades Vendidas')\n",
    "plt.ylabel('Frequência')\n",
    "plt.show()\n",
    "\n",
    "\n",
    "\n",
    "# Exibir o resultado da verificação de valores ausentes\n",
    "missing_values\n"
   ]
  },
  {
   "cell_type": "code",
   "execution_count": null,
   "metadata": {},
   "outputs": [],
   "source": [
    "missing_values = missing_values[['COD_CLIENTE', 'CLIENTE_FISICO_JURIDICO', 'SEXO_CLIENTE','DTNASCIMENTO_CLIENTE', 'IDENTIFICADOR_PROMOCIONAL', 'TOTAL_DESCONTO']]\n",
    "\n",
    "plt.figure(figsize=(10,6))\n",
    "missing_values.plot(kind='bar', color='skyblue')\n",
    "plt.title('Valores Ausentes por Coluna')\n",
    "plt.ylabel('Número de Valores Ausentes')\n",
    "plt.xticks(rotation=45)\n",
    "\n",
    "# Adicionar contagem nas barras\n",
    "for index, value in enumerate(missing_values[['COD_CLIENTE', 'CLIENTE_FISICO_JURIDICO', 'SEXO_CLIENTE','DTNASCIMENTO_CLIENTE', 'IDENTIFICADOR_PROMOCIONAL', 'TOTAL_DESCONTO']]):\n",
    "    plt.text(index, value + 1000, str(value), ha='center')\n",
    "\n",
    "plt.show()"
   ]
  },
  {
   "cell_type": "code",
   "execution_count": null,
   "metadata": {},
   "outputs": [],
   "source": [
    "missing_values.index"
   ]
  },
  {
   "cell_type": "code",
   "execution_count": null,
   "metadata": {},
   "outputs": [],
   "source": [
    "duplicados = data.duplicated().sum()\n",
    "print(f\"Número de registros duplicados: {duplicados}\")"
   ]
  },
  {
   "cell_type": "code",
   "execution_count": null,
   "metadata": {},
   "outputs": [],
   "source": [
    "data[data.duplicated()].head(20)"
   ]
  },
  {
   "cell_type": "markdown",
   "metadata": {},
   "source": [
    "## CAMPANHAS"
   ]
  },
  {
   "cell_type": "code",
   "execution_count": null,
   "metadata": {},
   "outputs": [],
   "source": [
    "campanhas[campanhas['IDENTIFICADOR'] == '100301419-62576-1001'].to_pandas()\n"
   ]
  }
 ],
 "metadata": {
  "kernelspec": {
   "display_name": "data-analysis",
   "language": "python",
   "name": "python3"
  },
  "language_info": {
   "codemirror_mode": {
    "name": "ipython",
    "version": 3
   },
   "file_extension": ".py",
   "mimetype": "text/x-python",
   "name": "python",
   "nbconvert_exporter": "python",
   "pygments_lexer": "ipython3",
   "version": "3.9.13"
  }
 },
 "nbformat": 4,
 "nbformat_minor": 2
}
