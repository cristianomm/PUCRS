{
 "cells": [
  {
   "cell_type": "markdown",
   "metadata": {},
   "source": [
    "# [Prof. Dalvan Griebler](mailto:dalvan.griebler@pucrs.br)\n",
    "\n",
    "## Programação Orientada a Dados (POD) - Turma 10 (POD_98H04-06)\n",
    "\n",
    "**Atualizado**: 17/11/2022\n",
    "\n",
    "**Descrição**: Trabalho Individual: Manipulação, Análise e Visualização Vetorial e Tabular de Dados\n",
    "\n",
    "**Copyright &copy;**: Este documento está sob a licensa da Criative Commons [BY-NC-ND 4.0](https://creativecommons.org/licenses/by-nc-nd/4.0/legalcode)"
   ]
  },
  {
   "cell_type": "markdown",
   "metadata": {},
   "source": [
    "**_Atenção: Pontuação extra para quem explicar como funcionam as partes dos códigos para resolver cada questão através de comentário do Python (`#`)._**\n",
    "\n",
    "**_Atenção: O resultado deverá ser igual ao resultado esperado._**"
   ]
  },
  {
   "cell_type": "markdown",
   "metadata": {},
   "source": [
    "### Trabalho realizado por:"
   ]
  },
  {
   "cell_type": "markdown",
   "metadata": {},
   "source": [
    "Cristiano Moreira Martins"
   ]
  },
  {
   "cell_type": "markdown",
   "metadata": {},
   "source": [
    "# Bibliotecas Autorizadas\n",
    "\n",
    "Não importe outras bibliotecas além destas, pois não estão autorizadas para o uso."
   ]
  },
  {
   "cell_type": "code",
   "execution_count": 1,
   "metadata": {},
   "outputs": [],
   "source": [
    "import numpy as np\n",
    "import pandas as pd\n",
    "from matplotlib import pyplot as plt\n",
    "from PIL import Image"
   ]
  },
  {
   "cell_type": "markdown",
   "metadata": {},
   "source": [
    "# Parte-1: Manipulação de Dados Vetorial e Geração de Gráficos Simples\n",
    "\n",
    "_Atenção: não será permitido o uso de laços nesta parte do trabalho sobre manipulação vetorial._"
   ]
  },
  {
   "cell_type": "markdown",
   "metadata": {},
   "source": [
    "## 1. Crie um array 2D `shape(10,10)`  e realize operações de indexação e fatiamento para obter o seguinte resultado.\n",
    "\n",
    "```bash\n",
    "   [[ 1.,  2.,  3.,  5.,  5.,  5.,  5.,  5.,  5.,  5.],\n",
    "    [ 2.,  1.,  2.,  3., 10., 10., 10., 10., 10., 10.],\n",
    "    [ 3.,  2.,  1.,  2.,  3., 15., 15., 15., 15., 15.],\n",
    "    [ 5.,  3.,  2.,  1.,  2.,  3., 20., 20., 20., 20.],\n",
    "    [ 5., 10.,  3.,  2.,  1.,  2.,  3., 25., 25., 25.],\n",
    "    [ 5., 10., 15.,  3.,  2.,  3.,  2.,  3., 30., 30.],\n",
    "    [ 5., 10., 15., 20.,  3.,  2.,  3.,  2.,  3., 35.],\n",
    "    [ 5., 10., 15., 20., 25.,  3.,  2.,  3.,  2.,  3.],\n",
    "    [ 5., 10., 15., 20., 25., 30.,  3.,  2.,  3.,  2.],\n",
    "    [ 5., 10., 15., 20., 25., 30., 35.,  3.,  2.,  3.]]\n",
    "    \n",
    "```"
   ]
  },
  {
   "cell_type": "code",
   "execution_count": 48,
   "metadata": {},
   "outputs": [
    {
     "name": "stdout",
     "output_type": "stream",
     "text": [
      "[[ 1.  2.  3.  5.  5.  5.  5.  5.  5.  5.]\n",
      " [ 2.  1.  2.  3. 10. 10. 10. 10. 10. 10.]\n",
      " [ 3.  2.  1.  2.  3. 15. 15. 15. 15. 15.]\n",
      " [ 5.  3.  2.  1.  2.  3. 20. 20. 20. 20.]\n",
      " [ 5. 10.  3.  2.  1.  2.  3. 25. 25. 25.]\n",
      " [ 5. 10. 15.  3.  2.  3.  2.  3. 30. 30.]\n",
      " [ 5. 10. 15. 20.  3.  2.  3.  2.  3. 35.]\n",
      " [ 5. 10. 15. 20. 25.  3.  2.  3.  2.  3.]\n",
      " [ 5. 10. 15. 20. 25. 30.  3.  2.  3.  2.]\n",
      " [ 5. 10. 15. 20. 25. 30. 35.  3.  2.  3.]]\n"
     ]
    }
   ],
   "source": [
    "matrix = np.ones(100).reshape(10, 10)\n",
    "matrix[0, 3:] = 5\n",
    "matrix[1, 4:] = 10\n",
    "matrix[2, 5:] = 15\n",
    "matrix[3, 6:] = 20\n",
    "matrix[4, 7:] = 25\n",
    "matrix[5, 8:] = 30\n",
    "matrix[6, 9:] = 35\n",
    "\n",
    "matrix[3:, 0] = 5\n",
    "matrix[4:, 1] = 10\n",
    "matrix[5:, 2] = 15\n",
    "matrix[6:, 3] = 20\n",
    "matrix[7:, 4] = 25\n",
    "matrix[8:, 5] = 30\n",
    "matrix[9:, 6] = 35\n",
    "\n",
    "#altera os valores nas diagonais\n",
    "np.fill_diagonal(matrix[1:], 2)\n",
    "np.fill_diagonal(matrix[:, 1:], 2)\n",
    "np.fill_diagonal(matrix[2:], 3)\n",
    "np.fill_diagonal(matrix[:, 2:], 3)\n",
    "np.fill_diagonal(matrix[5:, 5:], 3)\n",
    "\n",
    "print(matrix)\n"
   ]
  },
  {
   "cell_type": "markdown",
   "metadata": {},
   "source": [
    "## 2. Para o seguinte array, calcule: \n",
    "- Médias das diagonais principal e secundária.\n",
    "- Média das linhas e coluna para posteriomente plotar um gráfico de linhas.\n",
    "\n",
    "```python\n",
    " np.array([[ 44,  70,  98,  63,  30,  96,  26,  94,  20,  67],\n",
    "       [ 22,  79,  53,  16,  46,  63,  45,  61,  66,  10],\n",
    "       [ 71,  96,  68,  14,  86,  99,   1,  44,  66,  20],\n",
    "       [ 92,  40,   0,  12,  91,   1,   9,  19,  60,   5],\n",
    "       [ 53,  46,  65,  73,  29,   0,  89, 100,  13,  78],\n",
    "       [ 81,  16,  21, 100,  36,  51,  38,  85,  90,  35],\n",
    "       [ 91,  70,   8,  20,  60,  40,  14,  16,   0,  19],\n",
    "       [ 87,  10,  24,  40,  62,   5,  32,  28,  69,  29],\n",
    "       [ 94,  88,  40,   4,  85,  61,  30,  68,  63,  61],\n",
    "       [ 74, 100,  34,  88,   0,  12,  61,  32,  10,  46]])\n",
    "```\n",
    "\n",
    "**Resultado esperado:**\n",
    "\n",
    "Média diagonal principal:  43.4\n",
    "\n",
    "Média diagonal secundária:  42.8\n",
    "\n",
    "\n",
    "![](fig-ti2-ex2.png)"
   ]
  },
  {
   "cell_type": "code",
   "execution_count": null,
   "metadata": {},
   "outputs": [],
   "source": [
    "mtx_2 = np.array([\n",
    "    [ 44,  70,  98,  63,  30,  96,  26,  94,  20,  67],\n",
    "    [ 22,  79,  53,  16,  46,  63,  45,  61,  66,  10],\n",
    "    [ 71,  96,  68,  14,  86,  99,   1,  44,  66,  20],\n",
    "    [ 92,  40,   0,  12,  91,   1,   9,  19,  60,   5],\n",
    "    [ 53,  46,  65,  73,  29,   0,  89, 100,  13,  78],\n",
    "    [ 81,  16,  21, 100,  36,  51,  38,  85,  90,  35],\n",
    "    [ 91,  70,   8,  20,  60,  40,  14,  16,   0,  19],\n",
    "    [ 87,  10,  24,  40,  62,   5,  32,  28,  69,  29],\n",
    "    [ 94,  88,  40,   4,  85,  61,  30,  68,  63,  61],\n",
    "    [ 74, 100,  34,  88,   0,  12,  61,  32,  10,  46]])\n",
    "\n",
    "\n",
    "#media da diagonal principal\n",
    "print(f'Média diagonal principal: {mtx_2.diagonal().mean()}')\n",
    "\n",
    "#media da diagonal secundária\n",
    "print(f'Média diagonal secundária: {mtx_2[::-1].diagonal().mean()}')\n",
    "\n",
    "#media de cada linha\n",
    "mtx_2_lm = mtx_2.mean(axis=0)\n",
    "\n",
    "#media de cada coluna\n",
    "mtx_2_cm = mtx_2.mean(axis=1)\n",
    "\n",
    "\n",
    "#plot linhas e colunas\n",
    "plt.plot(mtx_2_lm, label='linhas', marker='^', color='chocolate')\n",
    "plt.plot(mtx_2_cm, label='colunas', marker='o', color='blue')\n",
    "plt.legend()\n",
    "plt.xlabel('Colunas')\n",
    "plt.ylabel('Médias')\n",
    "plt.title('Resultados')\n",
    "plt.show()\n"
   ]
  },
  {
   "cell_type": "markdown",
   "metadata": {},
   "source": [
    "# Parte-2: Manipulação de Dados Tabular"
   ]
  },
  {
   "cell_type": "markdown",
   "metadata": {},
   "source": [
    "## 3. Forneça um único DataFrame a partir dos dados contidos em `cars_info.csv` e `cars_valores.csv`. Depois salve o DataFrame em um arquivo chamado `cars.csv` para reusar nas próximas questões.\n",
    "\n",
    "_Obs: Para quem usar laços nesta questão, terá um desconto de 25% na nota._\n",
    "\n",
    "\n",
    "**Resultado Esperado do DataFrame:**\n",
    "```bash\n",
    "<class 'pandas.core.frame.DataFrame'>\n",
    "Int64Index: 4340 entries, 0 to 4339\n",
    "Data columns (total 9 columns):\n",
    " #   Column         Non-Null Count  Dtype \n",
    "---  ------         --------------  ----- \n",
    " 0   ID             4340 non-null   int64 \n",
    " 1   name           4340 non-null   object\n",
    " 2   fuel           4340 non-null   object\n",
    " 3   seller_type    4340 non-null   object\n",
    " 4   transmission   4340 non-null   object\n",
    " 5   owner          4340 non-null   object\n",
    " 6   year           4340 non-null   int64 \n",
    " 7   selling_price  4340 non-null   object\n",
    " 8   km_driven      4340 non-null   int64 \n",
    "dtypes: int64(3), object(6)\n",
    "```"
   ]
  },
  {
   "cell_type": "code",
   "execution_count": 3,
   "metadata": {},
   "outputs": [],
   "source": [
    "#realiza a leitura dos arquivos\n",
    "car_info = pd.read_csv('CAR_INFO.csv').set_index('ID')\n",
    "car_values = pd.read_csv('CAR_VALUES.csv').set_index('ID')\n",
    "\n",
    "#remove a coluna name de car_values para nao ter que remover após o merge\n",
    "car_values.drop('name', axis=1, inplace=True)\n",
    "\n",
    "#realiza o merge dos dois dataframes\n",
    "cars = pd.concat([car_info, car_values], axis=1, join='inner')\n",
    "\n",
    "#salva o csv com o merge dos arquivos\n",
    "cars.to_csv('cars.csv')\n"
   ]
  },
  {
   "cell_type": "markdown",
   "metadata": {},
   "source": [
    "## 4 - Adicione o campo `marca` no `cars.csv` e corrija os dados.\n",
    "\n",
    "_Obs: o valor do campo marca deve ser extraído de uma coluna do próprio dataset_\n",
    "\n",
    "_Obs: Atente-se aos dados faltantes no campo selling-price, eles devem ser preenchidos com a média de preço dos carros da mesma marca_\n",
    "\n",
    "**Resultado Esperado do DataFrame:**\n",
    "\n",
    "\n",
    "```bash\n",
    "<class 'pandas.core.frame.DataFrame'>\n",
    "RangeIndex: 4340 entries, 0 to 4339\n",
    "Data columns (total 10 columns):\n",
    " #   Column         Non-Null Count  Dtype \n",
    "---  ------         --------------  ----- \n",
    " 0   ID             4340 non-null   int64 \n",
    " 1   name           4340 non-null   object\n",
    " 2   fuel           4340 non-null   object\n",
    " 3   seller_type    4340 non-null   object\n",
    " 4   transmission   4340 non-null   object\n",
    " 5   owner          4340 non-null   object\n",
    " 6   year           4340 non-null   int64 \n",
    " 7   selling_price  4340 non-null   int64 \n",
    " 8   km_driven      4340 non-null   int64 \n",
    " 9   marca          4340 non-null   object\n",
    "dtypes: int64(4), object(6)\n",
    "```"
   ]
  },
  {
   "cell_type": "code",
   "execution_count": 4,
   "metadata": {},
   "outputs": [],
   "source": [
    "#realiza a leitura do arquivo\n",
    "cars = pd.read_csv('cars.csv').set_index('ID')\n",
    "\n",
    "#adiciona o nome da marca, realizando um split no campo name e extraindo o primeiro valor da lista resultante\n",
    "cars['marca'] = cars['name'].str.split(' ')[:].str[0]\n",
    "\n",
    "#para cada marca...\n",
    "for m in cars['marca'].unique():\n",
    "    #calcula a média de preço de venda para a marca\n",
    "    marca_avg = round(cars[cars['marca'] == m]['selling_price'].str.split(' ').str[1].astype('int').mean())\n",
    "    \n",
    "    #ajusta o campo selling_price que tem o valor zero para o valor da média calculada conforme a marca\n",
    "    cars.loc[(cars['selling_price'] == '€ 0') & (cars['marca'] == m), 'selling_price'] = f'€ {marca_avg}'\n",
    "\n",
    "\n",
    "#sava o arquivo com os valores ajustados\n",
    "cars.to_csv('cars.csv')"
   ]
  },
  {
   "cell_type": "markdown",
   "metadata": {},
   "source": [
    "## 5- Mostre a diferença de preço de venda entre `First Owner` e `Second Owner` dos top 5 marcas mais caras pelo preço médio em gráfico de barras do dataset `cars.csv`.\n",
    "\n",
    "**Resultado Esperado**\n",
    "\n",
    "![](fig-ti2-ex5.png)\n"
   ]
  },
  {
   "cell_type": "code",
   "execution_count": null,
   "metadata": {},
   "outputs": [],
   "source": [
    "cars = pd.read_csv('cars.csv').set_index('ID')\n",
    "\n",
    "#ajusta o tipo do preço de venda para número\n",
    "cars['selling_price'] = cars['selling_price'].str.split(' ').str[1].astype('float')\n",
    "\n",
    "#filtra as cinco marcas com maior média de preço de venda\n",
    "marcas_avg = cars.groupby(by='marca')[['selling_price']].mean().reset_index()\\\n",
    "    .sort_values(by=['selling_price'], ascending=False).head(5)\\\n",
    "    .sort_values(by=['marca'])\n",
    "\n",
    "#calcula a média de preço das cinco marcas para o first owner\n",
    "first_owner = cars[(cars['owner'] == 'First Owner') & (cars['marca'].isin(marcas_avg['marca']))]\\\n",
    "    [['selling_price', 'marca']].groupby('marca').mean().sort_values(by='marca', ascending=True)\n",
    "\n",
    "#calcula a média de preço das cinco marcas para o second owner\n",
    "second_owner = cars[(cars['owner'] == 'Second Owner') & (cars['marca'].isin(marcas_avg['marca']))]\\\n",
    "    [['selling_price', 'marca']].groupby('marca').mean().sort_values(by='marca', ascending=True)\n",
    "\n",
    "#ajusta o nome da coluna de preço conforme o owner\n",
    "first_owner.rename(columns={'selling_price': 'first_owner'}, inplace=True)\n",
    "second_owner.rename(columns={'selling_price': 'second_owner'}, inplace=True)\n",
    "\n",
    "#cria um dataframe com os dados consolidados e ajusta o formato dos valores\n",
    "owners = pd.concat([first_owner, second_owner], axis=1).fillna(0).applymap(lambda x: round(x, 2))\n",
    "\n",
    "#remove os dataframes auxiliares\n",
    "del(first_owner, second_owner, marcas_avg)"
   ]
  },
  {
   "cell_type": "code",
   "execution_count": null,
   "metadata": {},
   "outputs": [],
   "source": [
    "#plota o grafico\n",
    "width = .35\n",
    "position = np.arange(len(owners['first_owner']))\n",
    "\n",
    "plt.subplots(figsize=(10, 4))\n",
    "fo_bars = plt.bar(position, owners['first_owner'], label='First Owner', color='red', width=width)\n",
    "so_bars = plt.bar(position + width + .02, owners['second_owner'], label='Second Owner', color='blue', width=width)\n",
    "\n",
    "plt.xticks(position + width / 2, owners.index)\n",
    "for bar in fo_bars:\n",
    "    bh = bar.get_height()\n",
    "    plt.text(bar.get_x() - .08, bh, '{:.2f}'.format(bh), va='bottom')\n",
    "\n",
    "for bar in so_bars:\n",
    "    bh = bar.get_height()\n",
    "    plt.text(bar.get_x()- .08, bh, '{:.2f}'.format(bh), va='bottom')\n",
    "\n",
    "\n",
    "plt.xlabel('Marcas')\n",
    "plt.ylabel('Preço médio (em milhões)')\n",
    "plt.title('Preço médio das 5 marcas com preço médio mais alto')\n",
    "plt.legend()\n",
    "plt.show()"
   ]
  },
  {
   "cell_type": "markdown",
   "metadata": {},
   "source": [
    "## 6- Mostre em gráfico de pizza (`Axes(1,2)`) com os 5 anos de maior número de vendas de carros usados (`Second Owner`) e maior número de vendas de carros novos (`First Owner`).\n",
    "\n",
    "**Resultado Esperado**\n",
    "\n",
    "![](fig-ti2-ex6.png)"
   ]
  },
  {
   "cell_type": "code",
   "execution_count": null,
   "metadata": {},
   "outputs": [],
   "source": [
    "cars = pd.read_csv('cars.csv').set_index('ID')\n",
    "\n",
    "#calcula a quantidade de vendas por ano como first owner e second owner\n",
    "first_owner = cars[cars['owner'] == 'First Owner'][['selling_price', 'year']].groupby('year').count().reset_index()\n",
    "second_owner = cars[cars['owner'] == 'Second Owner'][['selling_price', 'year']].groupby('year').count().reset_index()\n",
    "\n",
    "#captura os anos com maior percentual de vendas para first owner e second owner\n",
    "first_owner = first_owner.sort_values(by='selling_price', ascending=False).head(5)\n",
    "second_owner = second_owner.sort_values(by='selling_price', ascending=False).head(5)\n",
    "\n",
    "#calcula o percentual de vendas relativo aos cinco primeiros anos de first owner e second owner\n",
    "first_owner['percent'] = round(first_owner['selling_price'] / first_owner['selling_price'].sum() * 100, 2)\n",
    "second_owner['percent'] = round(second_owner['selling_price'] / second_owner['selling_price'].sum() * 100, 2)\n",
    "\n",
    "#plota os graficos de pizza para first owner e second owner\n",
    "fig, ax = plt.subplots(1, 2, figsize=(10, 4))\n",
    "plt.subplot(1, 2, 1)\n",
    "plt.pie(second_owner['percent'], labels=second_owner['year'], autopct='%.2f%%', explode=[0.15, 0, 0, 0, 0])\n",
    "plt.title('Vendas como second owner')\n",
    "\n",
    "plt.subplot(1, 2, 2)\n",
    "plt.pie(first_owner['percent'], labels=first_owner['year'], autopct='%.2f%%', explode=[0.15, 0, 0, 0, 0])\n",
    "plt.title('Vendas como first owner')\n",
    "\n",
    "plt.show()"
   ]
  },
  {
   "cell_type": "markdown",
   "metadata": {},
   "source": [
    "## 7. Para a base de dados `cars.csv`, apresente dois gráficos `boxplot`  (`Axes(1,2)`) do valor de `km_driven`, sendo um para os 5 mais vendidos como `First Owner` e outro para os 5 mais vendidos como `Second Owner`.\n",
    "\n",
    "**Resultado Esperado**\n",
    "\n",
    "![](fig-ti2-ex7.png)"
   ]
  },
  {
   "cell_type": "code",
   "execution_count": 5,
   "metadata": {},
   "outputs": [],
   "source": [
    "cars = pd.read_csv('cars.csv').set_index('ID')\n",
    "\n",
    "#captura os 5 mais vendidos para first owner e second owner\n",
    "top_first_owner = cars[cars['owner'] == 'First Owner'][['km_driven', 'name']].groupby('name').count().reset_index()\\\n",
    "    .sort_values(by='km_driven', ascending=False).head(5)\n",
    "\n",
    "top_second_owner = cars[cars['owner'] == 'Second Owner'][['km_driven', 'name']].groupby('name').count().reset_index()\\\n",
    "    .sort_values(by='km_driven', ascending=False).head(5)\n",
    "\n",
    "first_owner = cars[cars['name'].isin(top_first_owner['name']) & (cars['owner'] == 'First Owner')][['km_driven', 'name']]\n",
    "second_owner = cars[cars['name'].isin(top_second_owner['name']) & (cars['owner'] == 'Second Owner')][['km_driven', 'name']]\n",
    "\n"
   ]
  },
  {
   "cell_type": "code",
   "execution_count": null,
   "metadata": {},
   "outputs": [],
   "source": [
    "#plota os graficos boxplot de km_driven e name para first owner e second owner\n",
    "\n",
    "#https://matplotlib.org/stable/gallery/statistics/boxplot_color.html\n",
    "\n",
    "fig, ax = plt.subplots(1, 2, figsize=(10, 4))\n",
    "\n",
    "\n",
    "\n",
    "\n",
    "plt.subplot(1, 2, 1)\n",
    "plt.boxplot(first_owner['km_driven'])\n",
    "plt.title('Mais vendidos como first owner')\n",
    "\n",
    "#plt.subplot(1, 2, 2)\n",
    "#plt.boxplot(second_owner)\n",
    "#plt.title('Mais vendidos como second owner')\n",
    "\n",
    "\n",
    "plt.show()\n",
    "\n"
   ]
  },
  {
   "cell_type": "code",
   "execution_count": null,
   "metadata": {},
   "outputs": [],
   "source": [
    "#cars.loc[(cars['selling_price'] == '€ 0') & (cars['marca'] == m), 'selling_price'] = f'€ {marca_avg}'\n",
    "name = 'Maruti Alto LXi'\n",
    "top_first_owner.loc[top_first_owner['name'] == name , 'values'] = first_owner[first_owner['name'] == name]['km_driven']\n"
   ]
  },
  {
   "cell_type": "code",
   "execution_count": null,
   "metadata": {},
   "outputs": [],
   "source": [
    "data = pd.DataFrame()\n",
    "for name in top_first_owner['name'].values:\n",
    "    temp = {\n",
    "        'name': name,\n",
    "        'km_driven': list(first_owner[first_owner['name'] == name]['km_driven'].values)\n",
    "    }\n",
    "\n",
    "    temp = pd.DataFrame(temp)\n",
    "    data = pd.concat([data, temp], axis=0)\n",
    "\n",
    "data"
   ]
  },
  {
   "cell_type": "code",
   "execution_count": null,
   "metadata": {},
   "outputs": [],
   "source": [
    "# Pandas dataframe\n",
    "data = pd.DataFrame({\"Box1\": np.random.rand(10), \"Box2\": np.random.rand(10)})\n",
    "\n",
    "# Plot the dataframe\n",
    "ax = data[['Box1', 'Box2']].plot(kind='box', title='boxplot')\n",
    "\n",
    "# Display the plot\n",
    "plt.show()"
   ]
  }
 ],
 "metadata": {
  "kernelspec": {
   "display_name": "Python 3.8.8 ('base')",
   "language": "python",
   "name": "python3"
  },
  "language_info": {
   "codemirror_mode": {
    "name": "ipython",
    "version": 3
   },
   "file_extension": ".py",
   "mimetype": "text/x-python",
   "name": "python",
   "nbconvert_exporter": "python",
   "pygments_lexer": "ipython3",
   "version": "3.8.8"
  },
  "vscode": {
   "interpreter": {
    "hash": "f537f9c21165c7935e03bfae5be5274269b6258f52c06218383ed7c44dd706d9"
   }
  }
 },
 "nbformat": 4,
 "nbformat_minor": 2
}
