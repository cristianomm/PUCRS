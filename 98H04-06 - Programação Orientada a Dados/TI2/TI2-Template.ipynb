{
 "cells": [
  {
   "cell_type": "markdown",
   "metadata": {},
   "source": [
    "# [Prof. Dalvan Griebler](mailto:dalvan.griebler@pucrs.br)\n",
    "\n",
    "## Programação Orientada a Dados (POD) - Turma 10 (POD_98H04-06)\n",
    "\n",
    "**Atualizado**: 17/11/2022\n",
    "\n",
    "**Descrição**: Trabalho Individual: Manipulação, Análise e Visualização Vetorial e Tabular de Dados\n",
    "\n",
    "**Copyright &copy;**: Este documento está sob a licensa da Criative Commons [BY-NC-ND 4.0](https://creativecommons.org/licenses/by-nc-nd/4.0/legalcode)"
   ]
  },
  {
   "cell_type": "markdown",
   "metadata": {},
   "source": [
    "**_Atenção: Pontuação extra para quem explicar como funcionam as partes dos códigos para resolver cada questão através de comentário do Python (`#`)._**\n",
    "\n",
    "**_Atenção: O resultado deverá ser igual ao resultado esperado._**"
   ]
  },
  {
   "cell_type": "markdown",
   "metadata": {},
   "source": [
    "### Trabalho realizado por:"
   ]
  },
  {
   "cell_type": "markdown",
   "metadata": {},
   "source": [
    "Cristiano Moreira Martins"
   ]
  },
  {
   "cell_type": "markdown",
   "metadata": {},
   "source": [
    "# Bibliotecas Autorizadas\n",
    "\n",
    "Não importe outras bibliotecas além destas, pois não estão autorizadas para o uso."
   ]
  },
  {
   "cell_type": "code",
   "execution_count": 1,
   "metadata": {},
   "outputs": [],
   "source": [
    "import numpy as np\n",
    "import pandas as pd\n",
    "from matplotlib import pyplot as plt\n",
    "from PIL import Image"
   ]
  },
  {
   "cell_type": "markdown",
   "metadata": {},
   "source": [
    "# Parte-1: Manipulação de Dados Vetorial e Geração de Gráficos Simples\n",
    "\n",
    "_Atenção: não será permitido o uso de laços nesta parte do trabalho sobre manipulação vetorial._"
   ]
  },
  {
   "cell_type": "markdown",
   "metadata": {},
   "source": [
    "## 1. Crie um array 2D `shape(10,10)`  e realize operações de indexação e fatiamento para obter o seguinte resultado.\n",
    "\n",
    "```bash\n",
    "   [[ 1.,  2.,  3.,  5.,  5.,  5.,  5.,  5.,  5.,  5.],\n",
    "    [ 2.,  1.,  2.,  3., 10., 10., 10., 10., 10., 10.],\n",
    "    [ 3.,  2.,  1.,  2.,  3., 15., 15., 15., 15., 15.],\n",
    "    [ 5.,  3.,  2.,  1.,  2.,  3., 20., 20., 20., 20.],\n",
    "    [ 5., 10.,  3.,  2.,  1.,  2.,  3., 25., 25., 25.],\n",
    "    [ 5., 10., 15.,  3.,  2.,  3.,  2.,  3., 30., 30.],\n",
    "    [ 5., 10., 15., 20.,  3.,  2.,  3.,  2.,  3., 35.],\n",
    "    [ 5., 10., 15., 20., 25.,  3.,  2.,  3.,  2.,  3.],\n",
    "    [ 5., 10., 15., 20., 25., 30.,  3.,  2.,  3.,  2.],\n",
    "    [ 5., 10., 15., 20., 25., 30., 35.,  3.,  2.,  3.]]\n",
    "    \n",
    "```"
   ]
  },
  {
   "cell_type": "code",
   "execution_count": 8,
   "metadata": {},
   "outputs": [
    {
     "data": {
      "text/plain": [
       "array([[1., 1., 1., 5., 5., 5., 5., 5., 5., 5.],\n",
       "       [1., 1., 1., 1., 1., 1., 1., 1., 1., 1.],\n",
       "       [1., 1., 1., 1., 1., 1., 1., 1., 1., 1.],\n",
       "       [1., 1., 1., 1., 1., 1., 1., 1., 1., 1.],\n",
       "       [1., 1., 1., 1., 1., 1., 1., 1., 1., 1.],\n",
       "       [1., 1., 1., 1., 1., 1., 1., 1., 1., 1.],\n",
       "       [1., 1., 1., 1., 1., 1., 1., 1., 1., 1.],\n",
       "       [1., 1., 1., 1., 1., 1., 1., 1., 1., 1.],\n",
       "       [1., 1., 1., 1., 1., 1., 1., 1., 1., 1.],\n",
       "       [1., 1., 1., 1., 1., 1., 1., 1., 1., 1.]])"
      ]
     },
     "execution_count": 8,
     "metadata": {},
     "output_type": "execute_result"
    }
   ],
   "source": [
    "matrix = np.ones(100).reshape(10, 10)\n",
    "matrix[0, 3:] = 5\n",
    "\n",
    "\n",
    "matrix"
   ]
  },
  {
   "cell_type": "markdown",
   "metadata": {},
   "source": [
    "## 2. Para o seguinte array, calcule: \n",
    "- Médias das diagonais principal e secundária.\n",
    "- Média das linhas e coluna para posteriomente plotar um gráfico de linhas.\n",
    "\n",
    "```python\n",
    " np.array([[ 44,  70,  98,  63,  30,  96,  26,  94,  20,  67],\n",
    "       [ 22,  79,  53,  16,  46,  63,  45,  61,  66,  10],\n",
    "       [ 71,  96,  68,  14,  86,  99,   1,  44,  66,  20],\n",
    "       [ 92,  40,   0,  12,  91,   1,   9,  19,  60,   5],\n",
    "       [ 53,  46,  65,  73,  29,   0,  89, 100,  13,  78],\n",
    "       [ 81,  16,  21, 100,  36,  51,  38,  85,  90,  35],\n",
    "       [ 91,  70,   8,  20,  60,  40,  14,  16,   0,  19],\n",
    "       [ 87,  10,  24,  40,  62,   5,  32,  28,  69,  29],\n",
    "       [ 94,  88,  40,   4,  85,  61,  30,  68,  63,  61],\n",
    "       [ 74, 100,  34,  88,   0,  12,  61,  32,  10,  46]])\n",
    "```\n",
    "\n",
    "**Resultado esperado:**\n",
    "\n",
    "Média diagonal principal:  43.4\n",
    "\n",
    "Média diagonal secundária:  42.8\n",
    "\n",
    "\n",
    "![](fig-ti2-ex2.png)"
   ]
  },
  {
   "cell_type": "code",
   "execution_count": null,
   "metadata": {},
   "outputs": [],
   "source": []
  },
  {
   "cell_type": "markdown",
   "metadata": {},
   "source": [
    "# Parte-2: Manipulação de Dados Tabular"
   ]
  },
  {
   "cell_type": "markdown",
   "metadata": {},
   "source": [
    "## 3. Forneça um único DataFrame a partir dos dados contidos em `cars_info.csv` e `cars_valores.csv`. Depois salve o DataFrame em um arquivo chamado `cars.csv` para reusar nas próximas questões.\n",
    "\n",
    "_Obs: Para quem usar laços nesta questão, terá um desconto de 25% na nota._\n",
    "\n",
    "\n",
    "**Resultado Esperado do DataFrame:**\n",
    "```bash\n",
    "<class 'pandas.core.frame.DataFrame'>\n",
    "Int64Index: 4340 entries, 0 to 4339\n",
    "Data columns (total 9 columns):\n",
    " #   Column         Non-Null Count  Dtype \n",
    "---  ------         --------------  ----- \n",
    " 0   ID             4340 non-null   int64 \n",
    " 1   name           4340 non-null   object\n",
    " 2   fuel           4340 non-null   object\n",
    " 3   seller_type    4340 non-null   object\n",
    " 4   transmission   4340 non-null   object\n",
    " 5   owner          4340 non-null   object\n",
    " 6   year           4340 non-null   int64 \n",
    " 7   selling_price  4340 non-null   object\n",
    " 8   km_driven      4340 non-null   int64 \n",
    "dtypes: int64(3), object(6)\n",
    "```"
   ]
  },
  {
   "cell_type": "code",
   "execution_count": null,
   "metadata": {},
   "outputs": [],
   "source": []
  },
  {
   "cell_type": "markdown",
   "metadata": {},
   "source": [
    "## 4 - Adicione o campo `marca` no `cars.csv` e corrija os dados.\n",
    "\n",
    "_Obs: o valor do campo marca deve ser extraído de uma coluna do próprio dataset_\n",
    "\n",
    "_Obs: Atente-se aos dados faltantes no campo selling-price, eles devem ser preenchidos com a média de preço dos carros da mesma marca_\n",
    "\n",
    "**Resultado Esperado do DataFrame:**\n",
    "\n",
    "\n",
    "```bash\n",
    "<class 'pandas.core.frame.DataFrame'>\n",
    "RangeIndex: 4340 entries, 0 to 4339\n",
    "Data columns (total 10 columns):\n",
    " #   Column         Non-Null Count  Dtype \n",
    "---  ------         --------------  ----- \n",
    " 0   ID             4340 non-null   int64 \n",
    " 1   name           4340 non-null   object\n",
    " 2   fuel           4340 non-null   object\n",
    " 3   seller_type    4340 non-null   object\n",
    " 4   transmission   4340 non-null   object\n",
    " 5   owner          4340 non-null   object\n",
    " 6   year           4340 non-null   int64 \n",
    " 7   selling_price  4340 non-null   int64 \n",
    " 8   km_driven      4340 non-null   int64 \n",
    " 9   marca          4340 non-null   object\n",
    "dtypes: int64(4), object(6)\n",
    "```"
   ]
  },
  {
   "cell_type": "code",
   "execution_count": null,
   "metadata": {},
   "outputs": [],
   "source": []
  },
  {
   "cell_type": "markdown",
   "metadata": {},
   "source": [
    "## 5- Mostre a diferença de preço de venda entre `First Owner` e `Second Owner` dos top 5 marcas mais caras pelo preço médio em gráfico de barras do dataset `cars.csv`.\n",
    "\n",
    "**Resultado Esperado**\n",
    "\n",
    "![](fig-ti2-ex5.png)\n"
   ]
  },
  {
   "cell_type": "code",
   "execution_count": null,
   "metadata": {},
   "outputs": [],
   "source": []
  },
  {
   "cell_type": "markdown",
   "metadata": {},
   "source": [
    "## 6- Mostre em gráfico de pizza (`Axes(1,2)`) com os 5 anos de maior número de vendas de carros usados (`Second Owner`) e maior número de vendas de carros novos (`First Owner`).\n",
    "\n",
    "**Resultado Esperado**\n",
    "\n",
    "![](fig-ti2-ex6.png)"
   ]
  },
  {
   "cell_type": "code",
   "execution_count": null,
   "metadata": {},
   "outputs": [],
   "source": []
  },
  {
   "cell_type": "markdown",
   "metadata": {},
   "source": [
    "## 7. Para a base de dados `cars.csv`, apresente dois gráficos `boxplot`  (`Axes(1,2)`) do valor de `km_driven`, sendo um para os 5 mais vendidos como `First Owner` e outro para os 5 mais vendidos como `Second Owner`.\n",
    "\n",
    "**Resultado Esperado**\n",
    "\n",
    "![](fig-ti2-ex7.png)"
   ]
  },
  {
   "cell_type": "code",
   "execution_count": null,
   "metadata": {},
   "outputs": [],
   "source": []
  }
 ],
 "metadata": {
  "kernelspec": {
   "display_name": "Python 3.8.8 ('base')",
   "language": "python",
   "name": "python3"
  },
  "language_info": {
   "codemirror_mode": {
    "name": "ipython",
    "version": 3
   },
   "file_extension": ".py",
   "mimetype": "text/x-python",
   "name": "python",
   "nbconvert_exporter": "python",
   "pygments_lexer": "ipython3",
   "version": "3.8.8"
  },
  "vscode": {
   "interpreter": {
    "hash": "f537f9c21165c7935e03bfae5be5274269b6258f52c06218383ed7c44dd706d9"
   }
  }
 },
 "nbformat": 4,
 "nbformat_minor": 2
}
