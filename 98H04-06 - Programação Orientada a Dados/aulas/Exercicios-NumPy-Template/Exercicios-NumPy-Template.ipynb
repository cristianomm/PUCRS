{
 "cells": [
  {
   "cell_type": "markdown",
   "id": "76d22082",
   "metadata": {},
   "source": [
    "# [Prof. Dalvan Griebler](mailto:dalvan.griebler@pucrs.br)\n",
    "\n",
    "## Programação Orientada a Dados (POD) - Turma 10 (POD_98H04-06)\n",
    "\n",
    "**Atualizado**: 28/10/2021\n",
    "\n",
    "**Descrição**: Exercícios com NumPy para POD.\n",
    "\n",
    "**Copyright &copy;**: Este documento está sob a licensa da Criative Commons [BY-NC-ND 4.0](https://creativecommons.org/licenses/by-nc-nd/4.0/legalcode)"
   ]
  },
  {
   "cell_type": "markdown",
   "id": "702a8eba",
   "metadata": {},
   "source": [
    "**Resolvido por:**"
   ]
  },
  {
   "cell_type": "markdown",
   "id": "efff9ca2",
   "metadata": {},
   "source": []
  },
  {
   "cell_type": "code",
   "execution_count": 2,
   "id": "cffbe53a",
   "metadata": {},
   "outputs": [],
   "source": [
    "import numpy as np"
   ]
  },
  {
   "cell_type": "markdown",
   "id": "3c7815e1",
   "metadata": {},
   "source": [
    "**1. Crie um `ndarray` a partir da lista e depois altere para booleano. Ao final, conte quantos elementos são verdadeiros e quantos são falsos.**\n",
    "\n",
    "```python\n",
    "lista = [[1, 2, 3], [0, 5, 0], [10, -1, -3], [0, 50, 0]]\n",
    "```"
   ]
  },
  {
   "cell_type": "code",
   "execution_count": 11,
   "id": "ef9f6456",
   "metadata": {},
   "outputs": [
    {
     "data": {
      "text/plain": [
       "array([[ True,  True,  True],\n",
       "       [False,  True, False],\n",
       "       [ True,  True,  True],\n",
       "       [False,  True, False]])"
      ]
     },
     "execution_count": 11,
     "metadata": {},
     "output_type": "execute_result"
    }
   ],
   "source": [
    "lista = [[1, 2, 3], [0, 5, 0], [10, -1, -3], [0, 50, 0]]\n",
    "\n",
    "arr = np.array(lista, dtype=bool)\n",
    "\n",
    "arr"
   ]
  },
  {
   "cell_type": "markdown",
   "id": "b69957b7",
   "metadata": {},
   "source": [
    "**2. Crie um `ndarray` com tamanho 5x5 contendo apenas zeros. Em seguida, realize operações de indexação/slicing para obter o seguinte array:**\n",
    "\n",
    "```python\n",
    "[[0. 8. 0. 0. 0.]\n",
    " [0. 8. 0. 2. 2.]\n",
    " [5. 5. 5. 5. 0.]\n",
    " [0. 8. 0. 2. 2.]\n",
    " [0. 8. 0. 0. 0.]]\n",
    " ```"
   ]
  },
  {
   "cell_type": "code",
   "execution_count": 10,
   "id": "7f61b8ad",
   "metadata": {},
   "outputs": [
    {
     "data": {
      "text/plain": [
       "array([[0., 8., 0., 0., 0.],\n",
       "       [0., 8., 0., 2., 2.],\n",
       "       [5., 5., 5., 5., 0.],\n",
       "       [0., 8., 0., 2., 2.],\n",
       "       [0., 8., 0., 0., 0.]])"
      ]
     },
     "execution_count": 10,
     "metadata": {},
     "output_type": "execute_result"
    }
   ],
   "source": [
    "mtx = np.zeros(25).reshape(5,5)\n",
    "mtx[:,1] = 8\n",
    "mtx[2,:4] = 5\n",
    "mtx[1,3:] = 2\n",
    "mtx[3, 3:] = 2\n",
    "\n",
    "mtx"
   ]
  },
  {
   "cell_type": "markdown",
   "id": "6a5da518",
   "metadata": {},
   "source": [
    "**3. Dado o array `a`, some 10 em todos os elementos de sua Penúltima coluna e linha.**"
   ]
  },
  {
   "cell_type": "code",
   "execution_count": null,
   "id": "0a60fbf1",
   "metadata": {},
   "outputs": [],
   "source": []
  },
  {
   "cell_type": "markdown",
   "id": "a5637679",
   "metadata": {},
   "source": [
    "**4. Dado o array `a`, realize as seguintes operações:**\n",
    "  - Crie um array `b` de mesmo tamanho que `a`, onde todos os valores são 10\n",
    "  - Realize a soma de `a` e `b`.\n",
    "  - Multiplique todos os elementos do array resultante por 100\n",
    "  \n",
    "  ```python\n",
    "    a = np.arange(10, 70, 3).reshape(4, 5)\n",
    "  ```"
   ]
  },
  {
   "cell_type": "code",
   "execution_count": null,
   "id": "a33ad305",
   "metadata": {},
   "outputs": [],
   "source": []
  },
  {
   "cell_type": "markdown",
   "id": "967c4b3c",
   "metadata": {},
   "source": [
    "**5. Crie um array 2D com a sequência de números ímpares no intervalo 0 a 100 e faça as seguintes operações:**\n",
    "- Média das linhas\n",
    "- Média das colunas\n",
    "- Soma dos elementos da última linha\n",
    "- Soma dos elementos da última coluna"
   ]
  },
  {
   "cell_type": "code",
   "execution_count": null,
   "id": "46f9fbbb",
   "metadata": {},
   "outputs": [],
   "source": []
  },
  {
   "cell_type": "markdown",
   "id": "8be5a18b",
   "metadata": {},
   "source": [
    "**6. Crie um array com a seguinte estrutura:**\n",
    "\n",
    "```bash\n",
    "[[ 1 11 21 31 41]\n",
    " [ 2 12 22 32 42]\n",
    " [ 3 13 23 33 43]\n",
    " [ 4 14 24 34 44]\n",
    " [ 5 15 25 35 45]\n",
    " [ 6 16 26 36 46]\n",
    " [ 7 17 27 37 47]\n",
    " [ 8 18 28 38 48]\n",
    " [ 9 19 29 39 49]\n",
    " [10 20 30 40 50]]\n",
    "```"
   ]
  },
  {
   "cell_type": "code",
   "execution_count": null,
   "id": "91e35178",
   "metadata": {},
   "outputs": [],
   "source": []
  },
  {
   "cell_type": "markdown",
   "id": "c5b6de8d",
   "metadata": {},
   "source": [
    "**7. Crie uma array com a seguinte estrutura:**\n",
    "\n",
    "```bash\n",
    "[[ 1  1  1  1  1  1  1  1  1  1]\n",
    " [ 1  0  0  0  0  0  0  0  0  1]\n",
    " [ 1  0  0  0  0  0  0  0  0  1]\n",
    " [ 1  0  0  0  0  0  0  0  0  1]\n",
    " [ 1  0  0  0  0  0  0  0  0  1]\n",
    " [ 1  0  0  0  0 -1  0  0  0  1]\n",
    " [ 1  0  0  0  0  0  0  0  0  1]\n",
    " [ 1  0  0  0  0  0  0  0  0  1]\n",
    " [ 1  0  0  0  0  0  0  0  0  1]\n",
    " [ 1  1  1  1  1  1  1  1  1  1]]\n",
    "```"
   ]
  },
  {
   "cell_type": "code",
   "execution_count": null,
   "id": "b3966c0e",
   "metadata": {},
   "outputs": [],
   "source": []
  },
  {
   "cell_type": "markdown",
   "id": "ab6d811d",
   "metadata": {},
   "source": [
    "**8. Crie um array 2D `shape(8,8)` com os seguintes valores.**\n",
    "```bash\n",
    "[[ 0. -1.  0.  0. -1.  0.  0. -1.]\n",
    " [-1.  0.  0. -1.  0.  0. -1.  0.]\n",
    " [ 0.  0.  0.  0.  0.  0.  0.  0.]\n",
    " [ 0. -1.  0.  0. -1.  0.  0. -1.]\n",
    " [-1.  0.  0. -1.  0.  0. -1.  0.]\n",
    " [ 0.  0.  0.  0.  0.  0.  0.  0.]\n",
    " [ 0. -1.  0.  0. -1.  0.  0. -1.]\n",
    " [-1.  0.  0. -1.  0.  0. -1.  0.]]\n",
    "```"
   ]
  },
  {
   "cell_type": "code",
   "execution_count": null,
   "id": "77ddf509",
   "metadata": {},
   "outputs": [],
   "source": []
  },
  {
   "cell_type": "markdown",
   "id": "9400e1ab",
   "metadata": {},
   "source": [
    "**9. Dados um array `a`, realize operações de slicing para obter os arrays `b,c,d,e`.**\n",
    "```python\n",
    "a = np.arange(1, 51).reshape(5, 10)\n",
    "```\n",
    "\n",
    "```bash\n",
    "b: \n",
    " [12 13 14 15]\n",
    "c: \n",
    " [ 4 14 24 34 44]\n",
    "d: \n",
    " [[32 33 34 35 36 37]\n",
    " [42 43 44 45 46 47]]\n",
    "e: \n",
    " [[30 28 26 24 22]\n",
    " [50 48 46 44 42]]\n",
    "```"
   ]
  },
  {
   "cell_type": "code",
   "execution_count": null,
   "id": "469cb017",
   "metadata": {},
   "outputs": [],
   "source": []
  },
  {
   "cell_type": "markdown",
   "id": "3cf4ae76",
   "metadata": {},
   "source": [
    "**10. Crie um array 2D em que a soma da quinta e décima colunas produzem o resultado `340` e a média a partir da terceira linha até o fim produz o resultado `53`.**"
   ]
  },
  {
   "cell_type": "code",
   "execution_count": null,
   "id": "df5fbea4",
   "metadata": {},
   "outputs": [],
   "source": []
  },
  {
   "cell_type": "markdown",
   "id": "0ccc61f1",
   "metadata": {},
   "source": [
    "**11. Dado um array `a`:**\n",
    "  - Imprima os elementos de cada coluna de maneira crescente.\n",
    "  - Imprima os elementos de cada linha de maneira decrescente.\n",
    "  ```python\n",
    "a = np.array([[1, 22, 8, 9, 12, 33],\n",
    "                [11, 51, 13, 8, 13, 2],\n",
    "                [10, 0, 1, 8, 8, 5],\n",
    "                [0, 12, 23, 14, 2, 16],\n",
    "                [1, 13, 17, 8, 10, 1]])\n",
    "  ```"
   ]
  },
  {
   "cell_type": "code",
   "execution_count": null,
   "id": "1cb3a5bc",
   "metadata": {},
   "outputs": [],
   "source": []
  },
  {
   "cell_type": "markdown",
   "id": "f0d73e95",
   "metadata": {},
   "source": [
    "**12. Dado um array `a`:**\n",
    "  - Imprima o menor valor do array\n",
    "  - Imprima o maior valor da coluna 2\n",
    "  - Imprima os menores valores para cada linha\n",
    "  - Imprima a posição (em 2D) do maior valor\n",
    "  \n",
    "    ```python\n",
    "a = np.array([[1, 22, 8, 9, 12, 33],\n",
    "                [11, 51, 13, 8, 13, 2],\n",
    "                [10, 0, 1, 8, 8, 5],\n",
    "                [0, 12, 23, 14, 2, 16],\n",
    "                [1, 13, 17, 8, 10, 1]])\n",
    "  ```"
   ]
  },
  {
   "cell_type": "code",
   "execution_count": null,
   "id": "2c228329",
   "metadata": {},
   "outputs": [],
   "source": []
  },
  {
   "cell_type": "markdown",
   "id": "d4cef062",
   "metadata": {},
   "source": [
    "**13. Particione verticalmente ao meio o array `a`, armazenando a parte superior em `b` e inferior em `c`. Depois, tranforme os números negativos em positivos do array `c` e atribua `0` para os valores negativos do array `b`. Ao final das transformações, concatene `b` com `c` e forneça a matriz transposta.**\n",
    "```python\n",
    "a=np.random.randn(6, 6)\n",
    "```"
   ]
  },
  {
   "cell_type": "code",
   "execution_count": null,
   "id": "edcbbcef",
   "metadata": {},
   "outputs": [],
   "source": []
  },
  {
   "cell_type": "markdown",
   "id": "482b9e7a",
   "metadata": {},
   "source": [
    "**14. Crie um programa que gera números pseudo aleatorios com semente `3000` para um array `a` de `shape(10,10)` e outro array `b` de `shape(10,5)` usando semente `1234` e depois escreva o resultado em um arquivo `.npz`. Então, leia do arquivo os dois arrays `a` e `b`. Para realizar as sequintes operações, no `b` selecione apenas a terceira coluna. Ao final do programa, salve em um arquivo comprimido o resultado das operações.**\n",
    "- a * b\n",
    "- a / b\n",
    "- a - b\n",
    "- a + b"
   ]
  },
  {
   "cell_type": "code",
   "execution_count": null,
   "id": "3710297c",
   "metadata": {},
   "outputs": [],
   "source": []
  }
 ],
 "metadata": {
  "kernelspec": {
   "display_name": "Python 3.9.13 ('base')",
   "language": "python",
   "name": "python3"
  },
  "language_info": {
   "codemirror_mode": {
    "name": "ipython",
    "version": 3
   },
   "file_extension": ".py",
   "mimetype": "text/x-python",
   "name": "python",
   "nbconvert_exporter": "python",
   "pygments_lexer": "ipython3",
   "version": "3.9.13"
  },
  "vscode": {
   "interpreter": {
    "hash": "f537f9c21165c7935e03bfae5be5274269b6258f52c06218383ed7c44dd706d9"
   }
  }
 },
 "nbformat": 4,
 "nbformat_minor": 5
}
