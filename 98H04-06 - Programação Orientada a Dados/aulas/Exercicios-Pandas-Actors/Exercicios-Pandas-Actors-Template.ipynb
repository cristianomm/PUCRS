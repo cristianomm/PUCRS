{
 "cells": [
  {
   "cell_type": "markdown",
   "id": "ecb135b5",
   "metadata": {},
   "source": [
    "# [Prof. Dalvan Griebler](mailto:dalvan.griebler@pucrs.br)\n",
    "\n",
    "## Programação Orientada a Dados (POD) - Turma 10 (POD_98H04-06)\n",
    "\n",
    "**Atualizado**: 10/11/2021\n",
    "\n",
    "**Descrição**: Exercícios com Pandas para POD.\n",
    "\n",
    "**Copyright &copy;**: Este documento está sob a licensa da Criative Commons [BY-NC-ND 4.0](https://creativecommons.org/licenses/by-nc-nd/4.0/legalcode)"
   ]
  },
  {
   "cell_type": "markdown",
   "id": "c605be15",
   "metadata": {},
   "source": [
    "**Resolvido por:**"
   ]
  },
  {
   "cell_type": "code",
   "execution_count": null,
   "id": "adba3f84",
   "metadata": {},
   "outputs": [],
   "source": []
  },
  {
   "cell_type": "code",
   "execution_count": 1,
   "id": "935c8a5a",
   "metadata": {},
   "outputs": [],
   "source": [
    "import numpy as np\n",
    "import pandas as pd"
   ]
  },
  {
   "cell_type": "markdown",
   "id": "ad2521fe",
   "metadata": {},
   "source": [
    "# Atividade com DataSet `actors_data.csv`"
   ]
  },
  {
   "cell_type": "markdown",
   "id": "01fcb0d3",
   "metadata": {},
   "source": [
    "Leia o arquivo `actors_data.csv` e faça as seguintes operações sobre o conjunto de dados, utilizando Pandas:\n",
    "1. Imprima as cinco primeiras linhas do conjunto de dados\n",
    "2. O ator/atriz com maior número de filmes e o respectivo número de filmes.\n",
    "3. A média do número de filmes por ator/atriz.\n",
    "4. O ator/atriz com a maior média por filme.\n",
    "5. O número de atores/atrizes com uma renda total entre `[2.500, 3.000]`.\n",
    "6. Os nomes dos três filmes mais frequentes, e sua respectiva frequência (dica: `value_counts()`).\n",
    "7. Faça um gráfico de histograma para os valores de número de filmes. Utilize 5 `bins`."
   ]
  },
  {
   "cell_type": "code",
   "execution_count": 8,
   "id": "e99778c9",
   "metadata": {},
   "outputs": [
    {
     "data": {
      "text/html": [
       "<div>\n",
       "<style scoped>\n",
       "    .dataframe tbody tr th:only-of-type {\n",
       "        vertical-align: middle;\n",
       "    }\n",
       "\n",
       "    .dataframe tbody tr th {\n",
       "        vertical-align: top;\n",
       "    }\n",
       "\n",
       "    .dataframe thead th {\n",
       "        text-align: right;\n",
       "    }\n",
       "</style>\n",
       "<table border=\"1\" class=\"dataframe\">\n",
       "  <thead>\n",
       "    <tr style=\"text-align: right;\">\n",
       "      <th></th>\n",
       "      <th>Actor</th>\n",
       "      <th>Total Gross</th>\n",
       "      <th>Number of Movies</th>\n",
       "      <th>Average per Movie</th>\n",
       "      <th>#1 Movie</th>\n",
       "      <th>Gross</th>\n",
       "    </tr>\n",
       "  </thead>\n",
       "  <tbody>\n",
       "    <tr>\n",
       "      <th>19</th>\n",
       "      <td>Robert DeNiro</td>\n",
       "      <td>3081.3</td>\n",
       "      <td>79</td>\n",
       "      <td>39.0</td>\n",
       "      <td>Meet the Fockers</td>\n",
       "      <td>279.3</td>\n",
       "    </tr>\n",
       "  </tbody>\n",
       "</table>\n",
       "</div>"
      ],
      "text/plain": [
       "            Actor  Total Gross  Number of Movies  Average per Movie  \\\n",
       "19  Robert DeNiro       3081.3                79               39.0   \n",
       "\n",
       "            #1 Movie  Gross  \n",
       "19  Meet the Fockers  279.3  "
      ]
     },
     "execution_count": 8,
     "metadata": {},
     "output_type": "execute_result"
    }
   ],
   "source": [
    "data = pd.read_csv('actors_data.csv')\n",
    "\n",
    "\n",
    "data.sort_values(by='Number of Movies', ascending=False).head(1)"
   ]
  }
 ],
 "metadata": {
  "kernelspec": {
   "display_name": "Python 3.8.8 ('base')",
   "language": "python",
   "name": "python3"
  },
  "language_info": {
   "codemirror_mode": {
    "name": "ipython",
    "version": 3
   },
   "file_extension": ".py",
   "mimetype": "text/x-python",
   "name": "python",
   "nbconvert_exporter": "python",
   "pygments_lexer": "ipython3",
   "version": "3.8.8"
  },
  "vscode": {
   "interpreter": {
    "hash": "f537f9c21165c7935e03bfae5be5274269b6258f52c06218383ed7c44dd706d9"
   }
  }
 },
 "nbformat": 4,
 "nbformat_minor": 5
}
