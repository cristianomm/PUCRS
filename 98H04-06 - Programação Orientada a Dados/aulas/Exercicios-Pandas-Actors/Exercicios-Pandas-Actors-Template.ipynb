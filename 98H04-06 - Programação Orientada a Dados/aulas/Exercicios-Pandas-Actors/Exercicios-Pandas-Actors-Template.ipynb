{
 "cells": [
  {
   "cell_type": "markdown",
   "id": "ecb135b5",
   "metadata": {},
   "source": [
    "# [Prof. Dalvan Griebler](mailto:dalvan.griebler@pucrs.br)\n",
    "\n",
    "## Programação Orientada a Dados (POD) - Turma 10 (POD_98H04-06)\n",
    "\n",
    "**Atualizado**: 10/11/2021\n",
    "\n",
    "**Descrição**: Exercícios com Pandas para POD.\n",
    "\n",
    "**Copyright &copy;**: Este documento está sob a licensa da Criative Commons [BY-NC-ND 4.0](https://creativecommons.org/licenses/by-nc-nd/4.0/legalcode)"
   ]
  },
  {
   "cell_type": "markdown",
   "id": "c605be15",
   "metadata": {},
   "source": [
    "**Resolvido por:**"
   ]
  },
  {
   "cell_type": "code",
   "execution_count": null,
   "id": "adba3f84",
   "metadata": {},
   "outputs": [],
   "source": []
  },
  {
   "cell_type": "code",
   "execution_count": null,
   "id": "935c8a5a",
   "metadata": {},
   "outputs": [],
   "source": [
    "import numpy as np\n",
    "import pandas as pd"
   ]
  },
  {
   "cell_type": "markdown",
   "id": "ad2521fe",
   "metadata": {},
   "source": [
    "# Atividade com DataSet `actors_data.csv`"
   ]
  },
  {
   "cell_type": "markdown",
   "id": "01fcb0d3",
   "metadata": {},
   "source": [
    "Leia o arquivo `actors_data.csv` e faça as seguintes operações sobre o conjunto de dados, utilizando Pandas:\n",
    "1. Imprima as cinco primeiras linhas do conjunto de dados\n",
    "2. O ator/atriz com maior número de filmes e o respectivo número de filmes.\n",
    "3. A média do número de filmes por ator/atriz.\n",
    "4. O ator/atriz com a maior média por filme.\n",
    "5. O número de atores/atrizes com uma renda total entre `[2.500, 3.000]`.\n",
    "6. Os nomes dos três filmes mais frequentes, e sua respectiva frequência (dica: `value_counts()`).\n",
    "7. Faça um gráfico de histograma para os valores de número de filmes. Utilize 5 `bins`."
   ]
  },
  {
   "cell_type": "code",
   "execution_count": null,
   "id": "e99778c9",
   "metadata": {},
   "outputs": [],
   "source": []
  }
 ],
 "metadata": {
  "kernelspec": {
   "display_name": "Python 3",
   "language": "python",
   "name": "python3"
  },
  "language_info": {
   "codemirror_mode": {
    "name": "ipython",
    "version": 3
   },
   "file_extension": ".py",
   "mimetype": "text/x-python",
   "name": "python",
   "nbconvert_exporter": "python",
   "pygments_lexer": "ipython3",
   "version": "3.8.8"
  }
 },
 "nbformat": 4,
 "nbformat_minor": 5
}
