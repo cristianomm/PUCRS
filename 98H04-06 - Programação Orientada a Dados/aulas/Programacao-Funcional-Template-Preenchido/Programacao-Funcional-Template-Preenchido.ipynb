{
 "cells": [
  {
   "cell_type": "markdown",
   "id": "7ad659a7",
   "metadata": {},
   "source": [
    "# [Prof. Dalvan Griebler](mailto:dalvan.griebler@pucrs.br)\n",
    "\n",
    "## Programação Orientada a Dados (POD) - Turma 10 (POD_98H04-06)\n",
    "\n",
    "**Atualizado**: 10/10/2021\n",
    "\n",
    "**Descrição**: Material de apoio as aulas sobre Python para POD\n",
    "\n",
    "**Copyright &copy;**: Este documento está sob a licensa da Criative Commons [BY-NC-ND 4.0](https://creativecommons.org/licenses/by-nc-nd/4.0/legalcode)"
   ]
  },
  {
   "cell_type": "markdown",
   "id": "984bdfb1",
   "metadata": {},
   "source": [
    "# Programação Funcional em Python"
   ]
  },
  {
   "cell_type": "markdown",
   "id": "1eccf698",
   "metadata": {},
   "source": [
    "## Modelo de Re-escrita de Texto"
   ]
  },
  {
   "cell_type": "code",
   "execution_count": 5,
   "id": "43e91685",
   "metadata": {},
   "outputs": [
    {
     "name": "stdout",
     "output_type": "stream",
     "text": [
      "3  * factFun( 2 )\n",
      "2  * factFun( 1 )\n",
      "1\n",
      "6\n"
     ]
    }
   ],
   "source": [
    "def factFun(n):\n",
    "    if n > 1:\n",
    "        print(n, \" * factFun(\", n-1, \")\")\n",
    "        return n * factFun(n-1)\n",
    "    else:\n",
    "        print(n)\n",
    "        return n\n",
    "    \n",
    "print(factFun(3))"
   ]
  },
  {
   "cell_type": "markdown",
   "id": "50055cf1",
   "metadata": {},
   "source": [
    "## Conceito de Programação Declarativa"
   ]
  },
  {
   "cell_type": "code",
   "execution_count": 6,
   "id": "6c4a8542",
   "metadata": {},
   "outputs": [
    {
     "name": "stdout",
     "output_type": "stream",
     "text": [
      "[2, 4, 6, 8, 10, 12, 14, 16, 18, 20]\n"
     ]
    }
   ],
   "source": [
    "#imperativo\n",
    "L = []\n",
    "for i in range(1, 11):\n",
    "    L.append(i*2)\n",
    "print(L)"
   ]
  },
  {
   "cell_type": "code",
   "execution_count": 8,
   "id": "ef306fe8",
   "metadata": {},
   "outputs": [
    {
     "name": "stdout",
     "output_type": "stream",
     "text": [
      "[2, 4, 6, 8, 10, 12, 14, 16, 18, 20]\n"
     ]
    }
   ],
   "source": [
    "L = [ i*2 for i in range(1, 11)]\n",
    "print(L)"
   ]
  },
  {
   "cell_type": "code",
   "execution_count": 11,
   "id": "c111b882",
   "metadata": {},
   "outputs": [
    {
     "name": "stdout",
     "output_type": "stream",
     "text": [
      "[6, 12, 18, 24, 30, 36, 42, 48, 54, 60]\n"
     ]
    }
   ],
   "source": [
    "L2 = [ i*3 for i in L]\n",
    "print(L2)"
   ]
  },
  {
   "cell_type": "markdown",
   "id": "96c339b0",
   "metadata": {},
   "source": [
    "## Conceito de Funções Puras"
   ]
  },
  {
   "cell_type": "code",
   "execution_count": 13,
   "id": "7a884b81",
   "metadata": {},
   "outputs": [
    {
     "name": "stdout",
     "output_type": "stream",
     "text": [
      "[1, 2, 3]\n",
      "[4, 5, 6]\n",
      "[1, 2, 3, 4, 5, 6]\n",
      "[4, 5, 6]\n"
     ]
    }
   ],
   "source": [
    "def appendImpuro(L1,L2):\n",
    "    L1+=L2\n",
    "    \n",
    "A=[1,2,3]\n",
    "B=[4,5,6]\n",
    "print(A)\n",
    "print(B)\n",
    "appendImpuro(A,B)\n",
    "print(A)\n",
    "print(B)"
   ]
  },
  {
   "cell_type": "code",
   "execution_count": 16,
   "id": "7b2e2ca6",
   "metadata": {},
   "outputs": [
    {
     "name": "stdout",
     "output_type": "stream",
     "text": [
      "[1, 2, 3]\n",
      "[4, 5, 6]\n",
      "[1, 2, 3]\n",
      "[4, 5, 6]\n",
      "[1, 2, 3, 4, 5, 6]\n"
     ]
    }
   ],
   "source": [
    "def appendPuro(L1,L2):\n",
    "    return L1+L2\n",
    "    \n",
    "A=[1,2,3]\n",
    "B=[4,5,6]\n",
    "print(A)\n",
    "print(B)\n",
    "C=appendPuro(A,B)\n",
    "print(A)\n",
    "print(B)\n",
    "print(C)"
   ]
  },
  {
   "cell_type": "markdown",
   "id": "0e341b3e",
   "metadata": {},
   "source": [
    "## Conceito de Transparência Referencial"
   ]
  },
  {
   "cell_type": "code",
   "execution_count": 18,
   "id": "941ecc16",
   "metadata": {},
   "outputs": [
    {
     "name": "stdout",
     "output_type": "stream",
     "text": [
      "11\n",
      "13\n"
     ]
    }
   ],
   "source": [
    "valor=1\n",
    "def incre(num):\n",
    "    return num+valor\n",
    "\n",
    "print(incre(10))\n",
    "valor=3\n",
    "print(incre(10))"
   ]
  },
  {
   "cell_type": "code",
   "execution_count": 19,
   "id": "181a2218",
   "metadata": {},
   "outputs": [
    {
     "name": "stdout",
     "output_type": "stream",
     "text": [
      "11\n",
      "13\n",
      "13\n"
     ]
    }
   ],
   "source": [
    "def incre(num):\n",
    "    return num+1\n",
    "\n",
    "def incre3(num):\n",
    "    return num+3\n",
    "\n",
    "print(incre(10))\n",
    "print(incre(incre(incre(10))))\n",
    "print(incre3(10))"
   ]
  },
  {
   "cell_type": "markdown",
   "id": "19deab22",
   "metadata": {},
   "source": [
    "## Exemplo: Listas Encadeadas"
   ]
  },
  {
   "cell_type": "code",
   "execution_count": 4,
   "id": "e926e3ee",
   "metadata": {},
   "outputs": [
    {
     "name": "stdout",
     "output_type": "stream",
     "text": [
      "(None,)\n",
      "(0, (1, (2, (3, None))))\n",
      "<class 'tuple'>\n"
     ]
    }
   ],
   "source": [
    "LL1 = (None,)\n",
    "print(LL1)\n",
    "LL1 = (0,(1,(2,(3,None))))\n",
    "print(LL1)\n",
    "print(type(LL1))"
   ]
  },
  {
   "cell_type": "code",
   "execution_count": 2,
   "id": "0b51d291",
   "metadata": {},
   "outputs": [],
   "source": [
    "def head(LL):\n",
    "    return LL[0]\n",
    "\n",
    "def tail(LL):\n",
    "    return LL[1]"
   ]
  },
  {
   "cell_type": "code",
   "execution_count": 5,
   "id": "01e5c6bf",
   "metadata": {},
   "outputs": [
    {
     "name": "stdout",
     "output_type": "stream",
     "text": [
      "(-1, (0, (1, (2, (3, None)))))\n"
     ]
    }
   ],
   "source": [
    "LL2 = (-1, LL1)\n",
    "print(LL2)"
   ]
  },
  {
   "cell_type": "markdown",
   "id": "17fd8daf",
   "metadata": {},
   "source": [
    "## Exercício de Fixação: Programação Funcional"
   ]
  },
  {
   "cell_type": "markdown",
   "id": "37609e73",
   "metadata": {},
   "source": [
    "1. Crie uma função pura que transforma uma lista normal em uma lista encadeada\n",
    "2. Crie uma função pura que transforma uma lista encadeada em uma lista normal\n",
    "3. Crie uma função pura que retorne a quantidade de elementos de uma lista encadeada\n",
    "4. Desenvolva o algoritmo Merge Sort com lista encadeada imutável. \n",
    "    1. Crie uma função pura `split(L)`, que retorna duas listas (`L1`, `L2`)\n",
    "    2. Crie uma função pura `sorted(L)`, que retorna `True` se estiver ordenado, caso contrário `False`\n",
    "    3. Crie uma função pura `merge(L1, L2)`, que recebe duas listas e retorne uma lista `L`\n",
    "    4. Crie a função pura `mergeSort(L)`, que rebe uma lista `L` desordenada e retorna a lista `LS` ordenada. (Aproveite o conhecimento e as funções puras criadas anteriormente)"
   ]
  },
  {
   "cell_type": "markdown",
   "id": "a2c30335",
   "metadata": {},
   "source": [
    "### 1. Transformando uma lista em uma lista encadeada (linked)"
   ]
  },
  {
   "cell_type": "code",
   "execution_count": 9,
   "id": "97cde5c3",
   "metadata": {},
   "outputs": [
    {
     "name": "stdout",
     "output_type": "stream",
     "text": [
      "2\n",
      "4\n"
     ]
    }
   ],
   "source": [
    "print(len(LL1))\n",
    "\n",
    "def llSize(LL):\n",
    "    if not LL:\n",
    "        return 0\n",
    "    else:\n",
    "        return 1 + llSize(tail(LL))\n",
    "    \n",
    "print(llSize(LL1))"
   ]
  },
  {
   "cell_type": "code",
   "execution_count": 10,
   "id": "8b3f1321",
   "metadata": {},
   "outputs": [
    {
     "name": "stdout",
     "output_type": "stream",
     "text": [
      "0 [1, 2, 3]\n",
      "1 [2, 3]\n",
      "2 [3]\n",
      "3 []\n",
      "(0, (1, (2, (3, None))))\n"
     ]
    }
   ],
   "source": [
    "def l2ll(L):\n",
    "    if not L:\n",
    "        return None\n",
    "    else:\n",
    "        # 0,[1,2,3]\n",
    "        # 1, [2,3]\n",
    "        # 2, [3]\n",
    "        # 3, None\n",
    "        print(L[0], L[1:])\n",
    "        return (L[0], l2ll(L[1:]))  \n",
    "\n",
    "L=[0,1,2,3]\n",
    "print(l2ll(L))"
   ]
  },
  {
   "cell_type": "markdown",
   "id": "824107e2",
   "metadata": {},
   "source": [
    "### 2. Transformando uma lista encadeada (linked) em lista"
   ]
  },
  {
   "cell_type": "code",
   "execution_count": 16,
   "id": "d162074b",
   "metadata": {},
   "outputs": [
    {
     "name": "stdout",
     "output_type": "stream",
     "text": [
      "[0, 1, 2, 3]\n"
     ]
    }
   ],
   "source": [
    "def ll2l(LL):\n",
    "    if not LL:\n",
    "        return []\n",
    "    else:\n",
    "        H = head(LL)\n",
    "        T = tail(LL)\n",
    "        return [H] + ll2l(T)\n",
    "\n",
    "# Versão com uma chamada a menos da função\n",
    "def ll2l(LL):\n",
    "    if not tail(LL):\n",
    "        return [head(LL)]\n",
    "    else:\n",
    "        H = head(LL)\n",
    "        T = tail(LL)\n",
    "        return [H] + ll2l(T)\n",
    "    \n",
    "print(ll2l(LL1))"
   ]
  },
  {
   "cell_type": "markdown",
   "id": "d6e9ee56",
   "metadata": {},
   "source": [
    "### 3. Função que retorna a quantidade de elementos"
   ]
  },
  {
   "cell_type": "code",
   "execution_count": 12,
   "id": "b166d2e1",
   "metadata": {},
   "outputs": [],
   "source": [
    "def llSize(LL):\n",
    "    if not LL:\n",
    "        return 0\n",
    "    else:\n",
    "        return 1 + llSize(tail(LL))"
   ]
  },
  {
   "cell_type": "markdown",
   "id": "6ccca4dd",
   "metadata": {},
   "source": [
    "### 4. MergeSort para Lista Encadeadas"
   ]
  },
  {
   "cell_type": "markdown",
   "id": "5501c0c7",
   "metadata": {},
   "source": [
    "#### A. Função Split\n",
    "\n",
    "Escreva uma função pura `split`, que receba uma lista `L` e retorne duas listas (`L1` e `L2`) tal que as seguinte propriedades sejam verdadeiras.\n",
    "- $elem$ in `L` $->$  $elem$ in `L1` $||$ `L2`\n",
    "- `size(L)` $==$ `size(L1)` $+$ `size(L2)`  (não pode ter duplicação)\n",
    "- `abs(size(L1)` - `size(L2))` $<=$ `1`"
   ]
  },
  {
   "cell_type": "code",
   "execution_count": null,
   "id": "7728f962",
   "metadata": {},
   "outputs": [],
   "source": []
  },
  {
   "cell_type": "markdown",
   "id": "f689e3b1",
   "metadata": {},
   "source": [
    "#### B. Função sorted em ascendente\n",
    "\n",
    "Escrever uma função pura `sorted`, que retorne `True` quando `L` for uma lista ordenada em ordem ascendente e `False` caso contrário."
   ]
  },
  {
   "cell_type": "code",
   "execution_count": null,
   "id": "610f4393",
   "metadata": {},
   "outputs": [],
   "source": []
  },
  {
   "cell_type": "markdown",
   "id": "df145e12",
   "metadata": {},
   "source": [
    "#### C. Função merge\n",
    " Escreva uma função pura `merge`, que receba duas listas (`L1`, `L2`) e retorne uma lista `L`, tal que as seguintes proprieades sejam verdadeiras.\n",
    " \n",
    "- $elem$ in `L1` $||$ `L2` $->$ $elem$ in `L` \n",
    "- `size(L1)` $+$ `size(L2)` $==$ `size(L)` \n",
    "- `sorted(L1)` $&&$ `sorted(L2))` $->$ `L`"
   ]
  },
  {
   "cell_type": "code",
   "execution_count": null,
   "id": "b474a57e",
   "metadata": {},
   "outputs": [],
   "source": []
  },
  {
   "cell_type": "markdown",
   "id": "ac78cef7",
   "metadata": {},
   "source": [
    "#### D. Função mergeSort\n",
    "\n",
    "Escreva uma função pura `mergeSort`, que receba uma lista `L` e retorne uma lista ordenada `LS`, tal que as seguintes propriedades sejam verdadeiras\n",
    "\n",
    "- $elem$ in `L` $<->$ $elem$ in `LL` (preserva os elementos)\n",
    "- `sorted(LL)`\n"
   ]
  },
  {
   "cell_type": "code",
   "execution_count": null,
   "id": "df4f3025",
   "metadata": {},
   "outputs": [],
   "source": [
    "  "
   ]
  }
 ],
 "metadata": {
  "kernelspec": {
   "display_name": "Python 3.10.4 64-bit",
   "language": "python",
   "name": "python3"
  },
  "language_info": {
   "codemirror_mode": {
    "name": "ipython",
    "version": 3
   },
   "file_extension": ".py",
   "mimetype": "text/x-python",
   "name": "python",
   "nbconvert_exporter": "python",
   "pygments_lexer": "ipython3",
   "version": "3.10.4"
  },
  "vscode": {
   "interpreter": {
    "hash": "369f2c481f4da34e4445cda3fffd2e751bd1c4d706f27375911949ba6bb62e1c"
   }
  }
 },
 "nbformat": 4,
 "nbformat_minor": 5
}
