{
  "cells": [
    {
      "cell_type": "code",
      "execution_count": 61,
      "metadata": {
        "id": "DOEJVh2cR6Bb"
      },
      "outputs": [],
      "source": [
        "import numpy as np\n",
        "import pandas as pd\n",
        "import statsmodels.api as sm\n",
        "\n",
        "import seaborn as sns\n",
        "import matplotlib.pyplot as plt\n",
        "\n",
        "from datetime import datetime\n",
        "from xgboost import XGBRegressor\n",
        "from sklearn.preprocessing import MinMaxScaler, StandardScaler\n",
        "from sklearn.decomposition import PCA\n"
      ]
    },
    {
      "cell_type": "markdown",
      "metadata": {
        "id": "xFUIieYrT-Tr"
      },
      "source": [
        "##Data Augmentation\n",
        "- Dia das mães\n",
        "- Nome da loja\n",
        "- Feriado\n",
        "\n",
        "##Algoritmos\n",
        "- ANN\n",
        "- XGBoost\n",
        "- TSAI\n",
        "- SARIMA\n",
        "\n"
      ]
    },
    {
      "cell_type": "markdown",
      "metadata": {},
      "source": [
        "- entrega dia 17/11\n",
        "- csv com as predicoes\n",
        "- codigo\n",
        "- relatorio\n",
        "    - arquitetura da solução\n",
        "    - medidas de avaliacao\n",
        "    - achados e dificuldades\n",
        "    - licoes aprendidas"
      ]
    },
    {
      "cell_type": "code",
      "execution_count": 40,
      "metadata": {
        "id": "m10f3nF0VrjS"
      },
      "outputs": [],
      "source": [
        "def split_data(df):\n",
        "  web = df[df['tipo_loja'] == 'web']\n",
        "  fisica = df[df['tipo_loja'] == 'física']\n",
        "\n",
        "  return fisica, web\n",
        "\n",
        "def adjust_data(df):\n",
        "  df['ds'] = pd.to_datetime(df['ds'], format='%Y-%m-%dT%H:%M:%S.%fZ')\n",
        "  df = df.pivot(index='ds', columns='loja', values='venda').fillna(0).rename_axis(None, axis=1)\n",
        "\n",
        "  return df\n",
        "\n",
        "def scale_data(df):\n",
        "  for c in df.columns:\n",
        "    df[c] = MinMaxScaler().fit_transform(df[c].values.reshape(-1, 1)).reshape(1, -1)[0]\n",
        "\n",
        "  return df\n"
      ]
    },
    {
      "cell_type": "code",
      "execution_count": 41,
      "metadata": {
        "id": "eZnDN9inVrmS"
      },
      "outputs": [],
      "source": [
        "class TSData:\n",
        "    def __init__(self, column, df):\n",
        "        self.name = column\n",
        "        self.data = df[[column]]\n",
        "        self.data[column + '_scaled'] = self.__scale_data()\n",
        "        self.features = self.create_features()\n",
        "\n",
        "    def __str__(self):\n",
        "        return f'{self.name} - data:{self.data.shape} - features:{self.features.shape}'\n",
        "\n",
        "    def __scale_data(self):\n",
        "        scaler = MinMaxScaler()\n",
        "        data = scaler.fit_transform(self.data[self.name].values.reshape(-1,1))\n",
        "        return data.reshape(1, -1)[0]\n",
        "\n",
        "    def create_features(self):\n",
        "        features = pd.DataFrame()\n",
        "        \n",
        "        features['MA_3'] = self.data[self.name].rolling(3).mean()\n",
        "        features['MA_7'] = self.data[self.name].rolling(7).mean()\n",
        "        features['MA_14'] = self.data[self.name].rolling(14).mean()\n",
        "        features['MA_21'] = self.data[self.name].rolling(21).mean()\n",
        "\n",
        "        features['STD_3'] = self.data[self.name].rolling(3).std()\n",
        "        features['STD_7'] = self.data[self.name].rolling(7).std()\n",
        "        features['STD_14'] = self.data[self.name].rolling(14).std()\n",
        "        features['STD_21'] = self.data[self.name].rolling(21).std()\n",
        "\n",
        "        return features.fillna(0)"
      ]
    },
    {
      "cell_type": "code",
      "execution_count": 42,
      "metadata": {
        "id": "CxVcQdEsSpfK"
      },
      "outputs": [],
      "source": [
        "#test_file = '/content/drive/MyDrive/PUC/Ciência de Dados e Inteligência Artificial/2022-02/98H05-04 - Aprendizado Supervisionado/TF/data/renner_sales_sample_test.csv'\n",
        "#train_file = '/content/drive/MyDrive/PUC/Ciência de Dados e Inteligência Artificial/2022-02/98H05-04 - Aprendizado Supervisionado/TF/data/renner_sales_sample_train.csv'\n",
        "\n",
        "test_file = '../TF/data/renner_sales_sample_test.csv'\n",
        "train_file = '../TF/data/renner_sales_sample_train.csv'\n",
        "\n",
        "test = pd.read_csv(test_file)\n",
        "train = pd.read_csv(train_file)\n",
        "\n",
        "test = adjust_data(test)\n",
        "train = adjust_data(train)\n",
        "\n",
        "train_scaled = scale_data(train.copy(deep=True))\n",
        "test_scaled = scale_data(test.copy(deep=True))"
      ]
    },
    {
      "cell_type": "code",
      "execution_count": null,
      "metadata": {
        "colab": {
          "base_uri": "https://localhost:8080/",
          "height": 206
        },
        "id": "QxWUHae3YGNe",
        "outputId": "41789e81-5200-410c-ad31-07dd306abda0"
      },
      "outputs": [],
      "source": [
        "for k in dataDict.keys():\n",
        "    fig = sm.tsa.seasonal_decompose(dataDict[k].data[k]).plot()\n",
        "    fig.set_figheight(8)\n",
        "    fig.set_figwidth(15)\n",
        "    fig.savefig(f'plot/decompose_{k}.png')\n",
        "    plt.close(fig)"
      ]
    },
    {
      "cell_type": "code",
      "execution_count": null,
      "metadata": {},
      "outputs": [],
      "source": [
        "sns.heatmap(data.iloc[236:243].corr())"
      ]
    },
    {
      "cell_type": "code",
      "execution_count": null,
      "metadata": {},
      "outputs": [],
      "source": [
        "sns.scatterplot(data.iloc[210])"
      ]
    },
    {
      "cell_type": "code",
      "execution_count": 49,
      "metadata": {},
      "outputs": [],
      "source": [
        "def series_to_supervised(data, n_in=1, n_out=1, dropnan=True):\n",
        "\tn_vars = 1 if type(data) is list else data.shape[1]\n",
        "\tdf = pd.DataFrame(data)\n",
        "\tcols = list()\n",
        "\t# input sequence (t-n, ... t-1)\n",
        "\tfor i in range(n_in, 0, -1):\n",
        "\t\tcols.append(df.shift(i))\n",
        "\t# forecast sequence (t, t+1, ... t+n)\n",
        "\tfor i in range(0, n_out):\n",
        "\t\tcols.append(df.shift(-i))\n",
        "\t# put it all together\n",
        "\tagg = pd.concat(cols, axis=1)\n",
        "\t# drop rows with NaN values\n",
        "\tif dropnan:\n",
        "\t\tagg.dropna(inplace=True)\n",
        "\treturn agg.values"
      ]
    },
    {
      "cell_type": "code",
      "execution_count": null,
      "metadata": {},
      "outputs": [],
      "source": [
        "#tenta prever a venda de uma loja específica criando estimativas para cada semana\n",
        "#as estimativas devem ser classificadas conforme o range de vendas da loja\n",
        "#pex:\n",
        "#range 1: 0-10\n",
        "#range 2: 10-20\n",
        "#range 3: 20-30\n",
        "#e assim por diante\n",
        "#desse modo o classificador pode ser treinado para prever o range de vendas da loja\n",
        "#utilizar indicadores de tendência e sazonalidade para estimar o range de vendas\n",
        "#utilizar o modelo de regressão linear para estimar o range de vendas\n",
        "#utilizar o modelo de regressão logística para estimar o range de vendas\n",
        "#utilizar indicadores financeiros para estimar o range de vendas, como por exemplo, \n",
        "# média móvel, média ponderada, média exponencial, bandas de bollinger e etc\n",
        "\n"
      ]
    },
    {
      "cell_type": "code",
      "execution_count": 55,
      "metadata": {},
      "outputs": [
        {
          "data": {
            "text/plain": [
              "XGBRegressor(base_score=0.5, booster='gbtree', colsample_bylevel=1,\n",
              "             colsample_bynode=1, colsample_bytree=1, enable_categorical=False,\n",
              "             gamma=0, gpu_id=-1, importance_type=None,\n",
              "             interaction_constraints='', learning_rate=0.300000012,\n",
              "             max_delta_step=0, max_depth=6, min_child_weight=1, missing=nan,\n",
              "             monotone_constraints='()', n_estimators=1000, n_jobs=8,\n",
              "             num_parallel_tree=1, predictor='auto', random_state=0, reg_alpha=0,\n",
              "             reg_lambda=1, scale_pos_weight=1, subsample=1, tree_method='exact',\n",
              "             validate_parameters=1, verbosity=None)"
            ]
          },
          "execution_count": 55,
          "metadata": {},
          "output_type": "execute_result"
        }
      ],
      "source": [
        "#https://machinelearningmastery.com/xgboost-for-time-series-forecasting/\n",
        "#X = train_scaled['renner_ar_ex_1'].values\n",
        "#y = train_scaled['renner_ar_ex_1'].shift(1).values\n",
        "train_data = series_to_supervised(train_scaled[['renner_ar_ex_1']])\n",
        "test_data = series_to_supervised(test_scaled[['renner_ar_ex_1']])\n",
        "\n",
        "X = train_data[:, :-1]\n",
        "y = train_data[:, -1]\n",
        "\n",
        "X_test = test_data[:, :-1]\n",
        "y_test = test_data[:, -1]\n",
        "\n",
        "model = XGBRegressor(objective='reg:squarederror', n_estimators=1000)\n",
        "model.fit(X, y)\n"
      ]
    },
    {
      "cell_type": "code",
      "execution_count": 93,
      "metadata": {},
      "outputs": [
        {
          "data": {
            "image/png": "[encoded data removed]",
            "text/plain": [
              "<Figure size 1080x576 with 1 Axes>"
            ]
          },
          "metadata": {
            "needs_background": "light"
          },
          "output_type": "display_data"
        }
      ],
      "source": [
        "\n",
        "test_data = series_to_supervised(train_scaled[['renner_br_al_25']])\n",
        "X_test = test_data[:, :-1]\n",
        "\n",
        "row = X_test[:].flatten()\n",
        "# make a one-step prediction\n",
        "yhat = model.predict(np.asarray(row))\n",
        "#print(f'Input: {row}, Predicted: {yhat}')\n",
        "\n",
        "#plot results\n",
        "fig = plt.figure(figsize=(15,8))\n",
        "plt.plot(X_test, label='y_test')\n",
        "plt.plot(yhat, label='yhat')\n",
        "plt.legend()\n",
        "plt.show()"
      ]
    },
    {
      "cell_type": "code",
      "execution_count": 92,
      "metadata": {},
      "outputs": [
        {
          "data": {
            "text/html": [
              "<div>\n",
              "<style scoped>\n",
              "    .dataframe tbody tr th:only-of-type {\n",
              "        vertical-align: middle;\n",
              "    }\n",
              "\n",
              "    .dataframe tbody tr th {\n",
              "        vertical-align: top;\n",
              "    }\n",
              "\n",
              "    .dataframe thead th {\n",
              "        text-align: right;\n",
              "    }\n",
              "</style>\n",
              "<table border=\"1\" class=\"dataframe\">\n",
              "  <thead>\n",
              "    <tr style=\"text-align: right;\">\n",
              "      <th></th>\n",
              "      <th>renner_ar_ex_1</th>\n",
              "      <th>renner_ar_ex_2</th>\n",
              "      <th>renner_ar_ex_3</th>\n",
              "      <th>renner_ar_ex_4</th>\n",
              "      <th>renner_br_ac_1</th>\n",
              "      <th>renner_br_al_21</th>\n",
              "      <th>renner_br_al_25</th>\n",
              "      <th>renner_br_al_34</th>\n",
              "      <th>renner_br_al_60</th>\n",
              "      <th>renner_br_am_1</th>\n",
              "      <th>...</th>\n",
              "      <th>renner_br_to_11</th>\n",
              "      <th>renner_uy_ex_1</th>\n",
              "      <th>renner_uy_ex_2</th>\n",
              "      <th>renner_uy_ex_3</th>\n",
              "      <th>renner_uy_ex_4</th>\n",
              "      <th>renner_uy_ex_5</th>\n",
              "      <th>renner_uy_ex_6</th>\n",
              "      <th>renner_uy_ex_7</th>\n",
              "      <th>renner_uy_ex_8</th>\n",
              "      <th>renner_uy_ex_9</th>\n",
              "    </tr>\n",
              "    <tr>\n",
              "      <th>ds</th>\n",
              "      <th></th>\n",
              "      <th></th>\n",
              "      <th></th>\n",
              "      <th></th>\n",
              "      <th></th>\n",
              "      <th></th>\n",
              "      <th></th>\n",
              "      <th></th>\n",
              "      <th></th>\n",
              "      <th></th>\n",
              "      <th></th>\n",
              "      <th></th>\n",
              "      <th></th>\n",
              "      <th></th>\n",
              "      <th></th>\n",
              "      <th></th>\n",
              "      <th></th>\n",
              "      <th></th>\n",
              "      <th></th>\n",
              "      <th></th>\n",
              "      <th></th>\n",
              "    </tr>\n",
              "  </thead>\n",
              "  <tbody>\n",
              "    <tr>\n",
              "      <th>2017-01-01</th>\n",
              "      <td>0.000000</td>\n",
              "      <td>0.000000</td>\n",
              "      <td>0.000000</td>\n",
              "      <td>0.000000</td>\n",
              "      <td>0.398760</td>\n",
              "      <td>0.515654</td>\n",
              "      <td>0.269417</td>\n",
              "      <td>0.184486</td>\n",
              "      <td>0.407080</td>\n",
              "      <td>0.387578</td>\n",
              "      <td>...</td>\n",
              "      <td>0.275492</td>\n",
              "      <td>0.000000</td>\n",
              "      <td>0.000000</td>\n",
              "      <td>0.000000</td>\n",
              "      <td>0.0</td>\n",
              "      <td>0.000000</td>\n",
              "      <td>0.000000</td>\n",
              "      <td>0.000000</td>\n",
              "      <td>0.000000</td>\n",
              "      <td>0.000000</td>\n",
              "    </tr>\n",
              "    <tr>\n",
              "      <th>2017-01-08</th>\n",
              "      <td>0.000000</td>\n",
              "      <td>0.000000</td>\n",
              "      <td>0.000000</td>\n",
              "      <td>0.000000</td>\n",
              "      <td>0.326446</td>\n",
              "      <td>0.372007</td>\n",
              "      <td>0.223301</td>\n",
              "      <td>0.238994</td>\n",
              "      <td>0.294690</td>\n",
              "      <td>0.257143</td>\n",
              "      <td>...</td>\n",
              "      <td>0.257603</td>\n",
              "      <td>0.000000</td>\n",
              "      <td>0.000000</td>\n",
              "      <td>0.000000</td>\n",
              "      <td>0.0</td>\n",
              "      <td>0.000000</td>\n",
              "      <td>0.000000</td>\n",
              "      <td>0.000000</td>\n",
              "      <td>0.000000</td>\n",
              "      <td>0.000000</td>\n",
              "    </tr>\n",
              "    <tr>\n",
              "      <th>2017-01-15</th>\n",
              "      <td>0.000000</td>\n",
              "      <td>0.000000</td>\n",
              "      <td>0.000000</td>\n",
              "      <td>0.000000</td>\n",
              "      <td>0.219008</td>\n",
              "      <td>0.401473</td>\n",
              "      <td>0.179612</td>\n",
              "      <td>0.218029</td>\n",
              "      <td>0.271681</td>\n",
              "      <td>0.255901</td>\n",
              "      <td>...</td>\n",
              "      <td>0.168157</td>\n",
              "      <td>0.000000</td>\n",
              "      <td>0.000000</td>\n",
              "      <td>0.000000</td>\n",
              "      <td>0.0</td>\n",
              "      <td>0.000000</td>\n",
              "      <td>0.000000</td>\n",
              "      <td>0.000000</td>\n",
              "      <td>0.000000</td>\n",
              "      <td>0.000000</td>\n",
              "    </tr>\n",
              "    <tr>\n",
              "      <th>2017-01-22</th>\n",
              "      <td>0.000000</td>\n",
              "      <td>0.000000</td>\n",
              "      <td>0.000000</td>\n",
              "      <td>0.000000</td>\n",
              "      <td>0.194215</td>\n",
              "      <td>0.254144</td>\n",
              "      <td>0.111650</td>\n",
              "      <td>0.167715</td>\n",
              "      <td>0.213274</td>\n",
              "      <td>0.345342</td>\n",
              "      <td>...</td>\n",
              "      <td>0.130590</td>\n",
              "      <td>0.000000</td>\n",
              "      <td>0.000000</td>\n",
              "      <td>0.000000</td>\n",
              "      <td>0.0</td>\n",
              "      <td>0.000000</td>\n",
              "      <td>0.000000</td>\n",
              "      <td>0.000000</td>\n",
              "      <td>0.000000</td>\n",
              "      <td>0.000000</td>\n",
              "    </tr>\n",
              "    <tr>\n",
              "      <th>2017-01-29</th>\n",
              "      <td>0.000000</td>\n",
              "      <td>0.000000</td>\n",
              "      <td>0.000000</td>\n",
              "      <td>0.000000</td>\n",
              "      <td>0.250000</td>\n",
              "      <td>0.270718</td>\n",
              "      <td>0.111650</td>\n",
              "      <td>0.180294</td>\n",
              "      <td>0.201770</td>\n",
              "      <td>0.526708</td>\n",
              "      <td>...</td>\n",
              "      <td>0.114490</td>\n",
              "      <td>0.000000</td>\n",
              "      <td>0.000000</td>\n",
              "      <td>0.000000</td>\n",
              "      <td>0.0</td>\n",
              "      <td>0.000000</td>\n",
              "      <td>0.000000</td>\n",
              "      <td>0.000000</td>\n",
              "      <td>0.000000</td>\n",
              "      <td>0.000000</td>\n",
              "    </tr>\n",
              "    <tr>\n",
              "      <th>...</th>\n",
              "      <td>...</td>\n",
              "      <td>...</td>\n",
              "      <td>...</td>\n",
              "      <td>...</td>\n",
              "      <td>...</td>\n",
              "      <td>...</td>\n",
              "      <td>...</td>\n",
              "      <td>...</td>\n",
              "      <td>...</td>\n",
              "      <td>...</td>\n",
              "      <td>...</td>\n",
              "      <td>...</td>\n",
              "      <td>...</td>\n",
              "      <td>...</td>\n",
              "      <td>...</td>\n",
              "      <td>...</td>\n",
              "      <td>...</td>\n",
              "      <td>...</td>\n",
              "      <td>...</td>\n",
              "      <td>...</td>\n",
              "      <td>...</td>\n",
              "    </tr>\n",
              "    <tr>\n",
              "      <th>2022-03-06</th>\n",
              "      <td>0.042553</td>\n",
              "      <td>0.057416</td>\n",
              "      <td>0.058824</td>\n",
              "      <td>0.043568</td>\n",
              "      <td>0.330579</td>\n",
              "      <td>0.342541</td>\n",
              "      <td>0.199029</td>\n",
              "      <td>0.264151</td>\n",
              "      <td>0.278761</td>\n",
              "      <td>0.198758</td>\n",
              "      <td>...</td>\n",
              "      <td>0.314848</td>\n",
              "      <td>0.022951</td>\n",
              "      <td>0.031187</td>\n",
              "      <td>0.013959</td>\n",
              "      <td>0.0</td>\n",
              "      <td>0.008108</td>\n",
              "      <td>0.009424</td>\n",
              "      <td>0.005666</td>\n",
              "      <td>0.016282</td>\n",
              "      <td>0.015437</td>\n",
              "    </tr>\n",
              "    <tr>\n",
              "      <th>2022-03-13</th>\n",
              "      <td>0.037234</td>\n",
              "      <td>0.064593</td>\n",
              "      <td>0.025735</td>\n",
              "      <td>0.045643</td>\n",
              "      <td>0.367769</td>\n",
              "      <td>0.331492</td>\n",
              "      <td>0.236650</td>\n",
              "      <td>0.278826</td>\n",
              "      <td>0.234513</td>\n",
              "      <td>0.228571</td>\n",
              "      <td>...</td>\n",
              "      <td>0.314848</td>\n",
              "      <td>0.017213</td>\n",
              "      <td>0.024145</td>\n",
              "      <td>0.012056</td>\n",
              "      <td>0.0</td>\n",
              "      <td>0.008108</td>\n",
              "      <td>0.014660</td>\n",
              "      <td>0.002833</td>\n",
              "      <td>0.009498</td>\n",
              "      <td>0.010292</td>\n",
              "    </tr>\n",
              "    <tr>\n",
              "      <th>2022-03-20</th>\n",
              "      <td>0.021277</td>\n",
              "      <td>0.016746</td>\n",
              "      <td>0.011029</td>\n",
              "      <td>0.006224</td>\n",
              "      <td>0.299587</td>\n",
              "      <td>0.246777</td>\n",
              "      <td>0.168689</td>\n",
              "      <td>0.293501</td>\n",
              "      <td>0.220354</td>\n",
              "      <td>0.187578</td>\n",
              "      <td>...</td>\n",
              "      <td>0.194991</td>\n",
              "      <td>0.013115</td>\n",
              "      <td>0.009054</td>\n",
              "      <td>0.003807</td>\n",
              "      <td>0.0</td>\n",
              "      <td>0.006306</td>\n",
              "      <td>0.004188</td>\n",
              "      <td>0.000000</td>\n",
              "      <td>0.004071</td>\n",
              "      <td>0.011149</td>\n",
              "    </tr>\n",
              "    <tr>\n",
              "      <th>2022-03-27</th>\n",
              "      <td>0.021277</td>\n",
              "      <td>0.019139</td>\n",
              "      <td>0.014706</td>\n",
              "      <td>0.004149</td>\n",
              "      <td>0.190083</td>\n",
              "      <td>0.226519</td>\n",
              "      <td>0.171117</td>\n",
              "      <td>0.259958</td>\n",
              "      <td>0.262832</td>\n",
              "      <td>0.221118</td>\n",
              "      <td>...</td>\n",
              "      <td>0.250447</td>\n",
              "      <td>0.003279</td>\n",
              "      <td>0.002012</td>\n",
              "      <td>0.000000</td>\n",
              "      <td>0.0</td>\n",
              "      <td>0.006306</td>\n",
              "      <td>0.010471</td>\n",
              "      <td>0.000000</td>\n",
              "      <td>0.008141</td>\n",
              "      <td>0.005146</td>\n",
              "    </tr>\n",
              "    <tr>\n",
              "      <th>2022-04-03</th>\n",
              "      <td>0.007979</td>\n",
              "      <td>0.021531</td>\n",
              "      <td>0.011029</td>\n",
              "      <td>0.014523</td>\n",
              "      <td>0.250000</td>\n",
              "      <td>0.265193</td>\n",
              "      <td>0.203883</td>\n",
              "      <td>0.293501</td>\n",
              "      <td>0.201770</td>\n",
              "      <td>0.247205</td>\n",
              "      <td>...</td>\n",
              "      <td>0.284436</td>\n",
              "      <td>0.010656</td>\n",
              "      <td>0.012072</td>\n",
              "      <td>0.000000</td>\n",
              "      <td>0.0</td>\n",
              "      <td>0.005405</td>\n",
              "      <td>0.002094</td>\n",
              "      <td>0.000000</td>\n",
              "      <td>0.002035</td>\n",
              "      <td>0.023156</td>\n",
              "    </tr>\n",
              "  </tbody>\n",
              "</table>\n",
              "<p>275 rows × 406 columns</p>\n",
              "</div>"
            ],
            "text/plain": [
              "            renner_ar_ex_1  renner_ar_ex_2  renner_ar_ex_3  renner_ar_ex_4  \\\n",
              "ds                                                                           \n",
              "2017-01-01        0.000000        0.000000        0.000000        0.000000   \n",
              "2017-01-08        0.000000        0.000000        0.000000        0.000000   \n",
              "2017-01-15        0.000000        0.000000        0.000000        0.000000   \n",
              "2017-01-22        0.000000        0.000000        0.000000        0.000000   \n",
              "2017-01-29        0.000000        0.000000        0.000000        0.000000   \n",
              "...                    ...             ...             ...             ...   \n",
              "2022-03-06        0.042553        0.057416        0.058824        0.043568   \n",
              "2022-03-13        0.037234        0.064593        0.025735        0.045643   \n",
              "2022-03-20        0.021277        0.016746        0.011029        0.006224   \n",
              "2022-03-27        0.021277        0.019139        0.014706        0.004149   \n",
              "2022-04-03        0.007979        0.021531        0.011029        0.014523   \n",
              "\n",
              "            renner_br_ac_1  renner_br_al_21  renner_br_al_25  renner_br_al_34  \\\n",
              "ds                                                                              \n",
              "2017-01-01        0.398760         0.515654         0.269417         0.184486   \n",
              "2017-01-08        0.326446         0.372007         0.223301         0.238994   \n",
              "2017-01-15        0.219008         0.401473         0.179612         0.218029   \n",
              "2017-01-22        0.194215         0.254144         0.111650         0.167715   \n",
              "2017-01-29        0.250000         0.270718         0.111650         0.180294   \n",
              "...                    ...              ...              ...              ...   \n",
              "2022-03-06        0.330579         0.342541         0.199029         0.264151   \n",
              "2022-03-13        0.367769         0.331492         0.236650         0.278826   \n",
              "2022-03-20        0.299587         0.246777         0.168689         0.293501   \n",
              "2022-03-27        0.190083         0.226519         0.171117         0.259958   \n",
              "2022-04-03        0.250000         0.265193         0.203883         0.293501   \n",
              "\n",
              "            renner_br_al_60  renner_br_am_1  ...  renner_br_to_11  \\\n",
              "ds                                           ...                    \n",
              "2017-01-01         0.407080        0.387578  ...         0.275492   \n",
              "2017-01-08         0.294690        0.257143  ...         0.257603   \n",
              "2017-01-15         0.271681        0.255901  ...         0.168157   \n",
              "2017-01-22         0.213274        0.345342  ...         0.130590   \n",
              "2017-01-29         0.201770        0.526708  ...         0.114490   \n",
              "...                     ...             ...  ...              ...   \n",
              "2022-03-06         0.278761        0.198758  ...         0.314848   \n",
              "2022-03-13         0.234513        0.228571  ...         0.314848   \n",
              "2022-03-20         0.220354        0.187578  ...         0.194991   \n",
              "2022-03-27         0.262832        0.221118  ...         0.250447   \n",
              "2022-04-03         0.201770        0.247205  ...         0.284436   \n",
              "\n",
              "            renner_uy_ex_1  renner_uy_ex_2  renner_uy_ex_3  renner_uy_ex_4  \\\n",
              "ds                                                                           \n",
              "2017-01-01        0.000000        0.000000        0.000000             0.0   \n",
              "2017-01-08        0.000000        0.000000        0.000000             0.0   \n",
              "2017-01-15        0.000000        0.000000        0.000000             0.0   \n",
              "2017-01-22        0.000000        0.000000        0.000000             0.0   \n",
              "2017-01-29        0.000000        0.000000        0.000000             0.0   \n",
              "...                    ...             ...             ...             ...   \n",
              "2022-03-06        0.022951        0.031187        0.013959             0.0   \n",
              "2022-03-13        0.017213        0.024145        0.012056             0.0   \n",
              "2022-03-20        0.013115        0.009054        0.003807             0.0   \n",
              "2022-03-27        0.003279        0.002012        0.000000             0.0   \n",
              "2022-04-03        0.010656        0.012072        0.000000             0.0   \n",
              "\n",
              "            renner_uy_ex_5  renner_uy_ex_6  renner_uy_ex_7  renner_uy_ex_8  \\\n",
              "ds                                                                           \n",
              "2017-01-01        0.000000        0.000000        0.000000        0.000000   \n",
              "2017-01-08        0.000000        0.000000        0.000000        0.000000   \n",
              "2017-01-15        0.000000        0.000000        0.000000        0.000000   \n",
              "2017-01-22        0.000000        0.000000        0.000000        0.000000   \n",
              "2017-01-29        0.000000        0.000000        0.000000        0.000000   \n",
              "...                    ...             ...             ...             ...   \n",
              "2022-03-06        0.008108        0.009424        0.005666        0.016282   \n",
              "2022-03-13        0.008108        0.014660        0.002833        0.009498   \n",
              "2022-03-20        0.006306        0.004188        0.000000        0.004071   \n",
              "2022-03-27        0.006306        0.010471        0.000000        0.008141   \n",
              "2022-04-03        0.005405        0.002094        0.000000        0.002035   \n",
              "\n",
              "            renner_uy_ex_9  \n",
              "ds                          \n",
              "2017-01-01        0.000000  \n",
              "2017-01-08        0.000000  \n",
              "2017-01-15        0.000000  \n",
              "2017-01-22        0.000000  \n",
              "2017-01-29        0.000000  \n",
              "...                    ...  \n",
              "2022-03-06        0.015437  \n",
              "2022-03-13        0.010292  \n",
              "2022-03-20        0.011149  \n",
              "2022-03-27        0.005146  \n",
              "2022-04-03        0.023156  \n",
              "\n",
              "[275 rows x 406 columns]"
            ]
          },
          "execution_count": 92,
          "metadata": {},
          "output_type": "execute_result"
        }
      ],
      "source": [
        "train_scaled"
      ]
    },
    {
      "cell_type": "code",
      "execution_count": null,
      "metadata": {},
      "outputs": [],
      "source": []
    },
    {
      "cell_type": "code",
      "execution_count": null,
      "metadata": {},
      "outputs": [],
      "source": []
    },
    {
      "cell_type": "code",
      "execution_count": 46,
      "metadata": {},
      "outputs": [
        {
          "data": {
            "text/plain": [
              "array([0.        , 0.        , 0.        , 0.        , 0.        ,\n",
              "       0.        , 0.        , 0.        , 0.        , 0.        ,\n",
              "       0.        , 0.        , 0.        , 0.        , 0.        ,\n",
              "       0.        , 0.        , 0.        , 0.        , 0.        ,\n",
              "       0.        , 0.        , 0.        , 0.        , 0.        ,\n",
              "       0.        , 0.        , 0.        , 0.        , 0.        ,\n",
              "       0.        , 0.        , 0.        , 0.        , 0.        ,\n",
              "       0.        , 0.        , 0.        , 0.        , 0.        ,\n",
              "       0.        , 0.        , 0.        , 0.        , 0.        ,\n",
              "       0.        , 0.        , 0.        , 0.        , 0.        ,\n",
              "       0.        , 0.        , 0.        , 0.        , 0.        ,\n",
              "       0.        , 0.        , 0.        , 0.        , 0.        ,\n",
              "       0.        , 0.        , 0.        , 0.        , 0.        ,\n",
              "       0.        , 0.        , 0.        , 0.        , 0.        ,\n",
              "       0.        , 0.        , 0.        , 0.        , 0.        ,\n",
              "       0.        , 0.        , 0.        , 0.        , 0.        ,\n",
              "       0.        , 0.        , 0.        , 0.        , 0.        ,\n",
              "       0.        , 0.        , 0.        , 0.        , 0.        ,\n",
              "       0.        , 0.        , 0.        , 0.        , 0.        ,\n",
              "       0.        , 0.        , 0.        , 0.        , 0.        ,\n",
              "       0.        , 0.        , 0.        , 0.        , 0.        ,\n",
              "       0.        , 0.        , 0.        , 0.        , 0.        ,\n",
              "       0.        , 0.        , 0.        , 0.        , 0.        ,\n",
              "       0.        , 0.        , 0.        , 0.        , 0.        ,\n",
              "       0.        , 0.        , 0.        , 0.        , 0.        ,\n",
              "       0.        , 0.        , 0.        , 0.        , 0.        ,\n",
              "       0.        , 0.        , 0.        , 0.        , 0.        ,\n",
              "       0.        , 0.        , 0.        , 0.        , 0.        ,\n",
              "       0.        , 0.        , 0.        , 0.        , 0.        ,\n",
              "       0.        , 0.        , 0.        , 0.        , 0.        ,\n",
              "       0.        , 0.        , 0.        , 0.        , 0.87132353,\n",
              "       0.9375    , 0.77573529, 0.73529412, 0.5625    , 0.44485294,\n",
              "       0.40441176, 0.36764706, 0.30882353, 0.14338235, 0.08088235,\n",
              "       0.14705882, 0.08088235, 0.01470588, 0.        , 0.        ,\n",
              "       0.        , 0.        , 0.        , 0.        , 0.        ,\n",
              "       0.        , 0.        , 0.        , 0.        , 0.        ,\n",
              "       0.        , 0.        , 0.        , 0.        , 0.        ,\n",
              "       0.        , 0.        , 0.02205882, 0.01102941, 0.06617647,\n",
              "       0.08823529, 0.05882353, 0.14338235, 0.13235294, 0.18382353,\n",
              "       0.19117647, 0.20955882, 0.22058824, 0.22794118, 0.20588235,\n",
              "       0.26838235, 0.18382353, 0.14705882, 0.14338235, 0.15808824,\n",
              "       0.15441176, 0.22426471, 0.16544118, 0.03676471, 0.02205882,\n",
              "       0.08088235, 0.24264706, 0.13235294, 0.08088235, 0.05147059,\n",
              "       0.11029412, 0.04779412, 0.03676471, 0.05147059, 0.01470588,\n",
              "       0.00735294, 0.02205882, 0.00367647, 0.00735294, 0.02205882,\n",
              "       0.        , 0.00735294, 0.        , 0.        , 0.        ,\n",
              "       0.00367647, 0.00367647, 0.00367647, 0.02573529, 0.01102941,\n",
              "       0.00735294, 0.02573529, 0.05882353, 0.02573529, 0.03308824,\n",
              "       0.02573529, 0.04411765, 0.04411765, 0.04779412, 0.09926471,\n",
              "       0.11764706, 0.08823529, 0.04779412, 0.09926471, 0.23529412,\n",
              "       0.125     , 0.20955882, 0.13970588, 0.20588235, 0.20220588,\n",
              "       0.26470588, 0.34191176, 0.44117647, 0.69117647, 1.        ,\n",
              "       0.58823529, 0.36397059, 0.29044118, 0.18382353, 0.25735294,\n",
              "       0.10294118, 0.16176471, 0.09926471, 0.04779412, 0.11397059,\n",
              "       0.05882353, 0.02573529, 0.01102941, 0.01470588, 0.01102941])"
            ]
          },
          "execution_count": 46,
          "metadata": {},
          "output_type": "execute_result"
        }
      ],
      "source": [
        "train_scaled['renner_ar_ex_3'].values"
      ]
    },
    {
      "cell_type": "code",
      "execution_count": null,
      "metadata": {},
      "outputs": [],
      "source": [
        "train.plot(legend=False, figsize=(15,8))"
      ]
    },
    {
      "cell_type": "code",
      "execution_count": null,
      "metadata": {
        "colab": {
          "base_uri": "https://localhost:8080/",
          "height": 282
        },
        "id": "aW4oXo-WSpaD",
        "outputId": "8713deac-1973-438c-f884-d6cc30d877ca"
      },
      "outputs": [],
      "source": [
        "data = train.copy(deep=True)\n",
        "data.set_index('ds', inplace=True)\n",
        "data[(data['tipo_loja'] == 'física') & (data['loja'] == 'renner_ar_ex_1')][['venda']].plot()"
      ]
    },
    {
      "cell_type": "code",
      "execution_count": null,
      "metadata": {
        "colab": {
          "base_uri": "https://localhost:8080/",
          "height": 455
        },
        "id": "RSmhul08Wgz9",
        "outputId": "ba0cf8e5-3489-45dc-f545-7b2dd14aac26"
      },
      "outputs": [],
      "source": [
        "train.groupby(by='loja').sum()"
      ]
    },
    {
      "cell_type": "code",
      "execution_count": null,
      "metadata": {
        "colab": {
          "base_uri": "https://localhost:8080/"
        },
        "id": "QheEXPetWgxM",
        "outputId": "278ccfc5-9fc9-456a-d415-0e99b46cd006"
      },
      "outputs": [],
      "source": [
        "train.pivot(index='ds', columns='loja', values='venda').fillna(0)"
      ]
    },
    {
      "cell_type": "code",
      "execution_count": null,
      "metadata": {},
      "outputs": [],
      "source": [
        "temp = adjust_data(train)\n",
        "temp"
      ]
    },
    {
      "cell_type": "code",
      "execution_count": null,
      "metadata": {},
      "outputs": [],
      "source": [
        "column = 'renner_ar_ex_1'\n",
        "tsData = TSData(column, temp)\n",
        "tsData.features\n"
      ]
    },
    {
      "cell_type": "code",
      "execution_count": null,
      "metadata": {},
      "outputs": [],
      "source": [
        "print(tsData)"
      ]
    },
    {
      "cell_type": "code",
      "execution_count": null,
      "metadata": {},
      "outputs": [],
      "source": [
        "javascript:__doPostBack('ViewerControl1$TreeViewFiles','sR28324\\\\F2222850')"
      ]
    },
    {
      "cell_type": "code",
      "execution_count": null,
      "metadata": {},
      "outputs": [],
      "source": []
    },
    {
      "cell_type": "code",
      "execution_count": null,
      "metadata": {
        "colab": {
          "base_uri": "https://localhost:8080/",
          "height": 1000
        },
        "id": "4zD5sbuUSpXb",
        "outputId": "1675ed62-6368-44ed-ab25-332e5b159847"
      },
      "outputs": [],
      "source": [
        "temp = adjust_data(test)\n",
        "\n",
        "scaler = MinMaxScaler()\n",
        "data = scaler.fit_transform(temp['renner_br_rj_81'].values.reshape(-1,1))\n",
        "data.reshape(1, -1)[0]"
      ]
    },
    {
      "cell_type": "code",
      "execution_count": null,
      "metadata": {},
      "outputs": [],
      "source": [
        "temp[['renner_br_rj_81']].rolling(21).mean()"
      ]
    },
    {
      "cell_type": "code",
      "execution_count": null,
      "metadata": {},
      "outputs": [],
      "source": [
        "temp = adjust_data(train)\n",
        "temp['renner_br_rj_81']\n",
        "\n",
        "tsData = TSData('renner_br_rj_81', temp)"
      ]
    },
    {
      "cell_type": "code",
      "execution_count": null,
      "metadata": {},
      "outputs": [],
      "source": [
        "tsData.create_features(temp, 'renner_br_rj_81')"
      ]
    },
    {
      "cell_type": "code",
      "execution_count": null,
      "metadata": {},
      "outputs": [],
      "source": [
        "#construir rede neural que recebe como entrada o conjunto de k dias anteriores e retorna o valor previsto para o dia seguinte\n",
        "def build_model():\n",
        "    model = Sequential()\n",
        "    model.add(LSTM(64, activation='relu', input_shape=(train_X.shape[1], train_X.shape[2])))\n",
        "    model.add(Dense(1))\n",
        "    model.compile(optimizer='adam', loss='mse')\n",
        "    \n",
        "    return model"
      ]
    },
    {
      "cell_type": "code",
      "execution_count": null,
      "metadata": {},
      "outputs": [],
      "source": [
        "############################################################################################################"
      ]
    },
    {
      "cell_type": "code",
      "execution_count": null,
      "metadata": {
        "id": "yLS_1sqCVqiq"
      },
      "outputs": [],
      "source": [
        "temp = adjust_data(test)\n",
        "#transform_data(temp, 'renner_ar_ex_2')\n",
        "#temp = test.pivot(index='ds', columns='loja', values='venda').fillna(0).rename_axis(None, axis=1)"
      ]
    },
    {
      "cell_type": "code",
      "execution_count": null,
      "metadata": {},
      "outputs": [],
      "source": [
        "fisica, web = split_data(train)"
      ]
    },
    {
      "cell_type": "code",
      "execution_count": null,
      "metadata": {},
      "outputs": [],
      "source": [
        "web['loja'].unique()"
      ]
    },
    {
      "cell_type": "code",
      "execution_count": null,
      "metadata": {},
      "outputs": [],
      "source": [
        "train[train['loja'].isin(['renner_br_sp_192', 'renner_br_rj_81'])]['tipo_loja'].unique()"
      ]
    },
    {
      "cell_type": "code",
      "execution_count": null,
      "metadata": {},
      "outputs": [],
      "source": []
    },
    {
      "cell_type": "code",
      "execution_count": null,
      "metadata": {},
      "outputs": [],
      "source": []
    },
    {
      "cell_type": "code",
      "execution_count": null,
      "metadata": {},
      "outputs": [],
      "source": [
        "############################################################################################################"
      ]
    },
    {
      "cell_type": "code",
      "execution_count": null,
      "metadata": {},
      "outputs": [],
      "source": [
        "temp = test.pivot(index='ds', columns='loja', values='venda').fillna(0)\n",
        "temp\n",
        "\n",
        "\n",
        "column = 'renner_br_ac_1'\n",
        "temp[[column]]"
      ]
    }
  ],
  "metadata": {
    "colab": {
      "collapsed_sections": [],
      "provenance": []
    },
    "kernelspec": {
      "display_name": "Python 3.9.13 ('data-analysis')",
      "language": "python",
      "name": "python3"
    },
    "language_info": {
      "codemirror_mode": {
        "name": "ipython",
        "version": 3
      },
      "file_extension": ".py",
      "mimetype": "text/x-python",
      "name": "python",
      "nbconvert_exporter": "python",
      "pygments_lexer": "ipython3",
      "version": "3.9.13"
    },
    "vscode": {
      "interpreter": {
        "hash": "4891d0531006130b048409e856637fe2db4a9aa47439f56f84544b554b63b093"
      }
    }
  },
  "nbformat": 4,
  "nbformat_minor": 0
}
