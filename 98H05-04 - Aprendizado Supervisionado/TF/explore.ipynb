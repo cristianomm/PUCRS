{
  "cells": [
    {
      "cell_type": "code",
      "execution_count": 7,
      "metadata": {
        "id": "DOEJVh2cR6Bb"
      },
      "outputs": [],
      "source": [
        "\n",
        "import pandas as pd\n",
        "import tensorflow as tf\n",
        "from tensorflow import keras\n",
        "\n",
        "from sklearn.preprocessing import MinMaxScaler, StandardScaler\n",
        "\n"
      ]
    },
    {
      "cell_type": "markdown",
      "metadata": {
        "id": "xFUIieYrT-Tr"
      },
      "source": [
        "##Data Augmentation\n",
        "- Dia das mães\n",
        "- Nome da loja\n",
        "- Feriado\n",
        "\n",
        "##Algoritmos\n",
        "- ANN\n",
        "- X6Boost\n",
        "- TSAI\n",
        "- SARIMA\n",
        "\n"
      ]
    },
    {
      "cell_type": "code",
      "execution_count": 4,
      "metadata": {
        "id": "CxVcQdEsSpfK"
      },
      "outputs": [],
      "source": [
        "#test_file = '/content/drive/MyDrive/PUC/Ciência de Dados e Inteligência Artificial/2022-02/98H05-04 - Aprendizado Supervisionado/TF/data/renner_sales_sample_test.csv'\n",
        "#train_file = '/content/drive/MyDrive/PUC/Ciência de Dados e Inteligência Artificial/2022-02/98H05-04 - Aprendizado Supervisionado/TF/data/renner_sales_sample_train.csv'\n",
        "\n",
        "test_file = '../TF/data/renner_sales_sample_test.csv'\n",
        "train_file = '../TF/data/renner_sales_sample_train.csv'\n",
        "\n",
        "test = pd.read_csv(test_file)\n",
        "train = pd.read_csv(train_file)"
      ]
    },
    {
      "cell_type": "code",
      "execution_count": null,
      "metadata": {
        "colab": {
          "base_uri": "https://localhost:8080/",
          "height": 206
        },
        "id": "QxWUHae3YGNe",
        "outputId": "41789e81-5200-410c-ad31-07dd306abda0"
      },
      "outputs": [],
      "source": [
        "test.head()"
      ]
    },
    {
      "cell_type": "code",
      "execution_count": null,
      "metadata": {
        "colab": {
          "base_uri": "https://localhost:8080/",
          "height": 282
        },
        "id": "aW4oXo-WSpaD",
        "outputId": "8713deac-1973-438c-f884-d6cc30d877ca"
      },
      "outputs": [],
      "source": [
        "data = train.copy(deep=True)\n",
        "data.set_index('ds', inplace=True)\n",
        "data[(data['tipo_loja'] == 'física') & (data['loja'] == 'renner_ar_ex_1')][['venda']].plot()"
      ]
    },
    {
      "cell_type": "code",
      "execution_count": null,
      "metadata": {
        "colab": {
          "base_uri": "https://localhost:8080/",
          "height": 455
        },
        "id": "RSmhul08Wgz9",
        "outputId": "ba0cf8e5-3489-45dc-f545-7b2dd14aac26"
      },
      "outputs": [],
      "source": [
        "train.groupby(by='loja').sum()"
      ]
    },
    {
      "cell_type": "code",
      "execution_count": null,
      "metadata": {
        "colab": {
          "base_uri": "https://localhost:8080/"
        },
        "id": "QheEXPetWgxM",
        "outputId": "278ccfc5-9fc9-456a-d415-0e99b46cd006"
      },
      "outputs": [],
      "source": [
        "train.pivot(index='ds', columns='loja', values='venda').fillna(0)"
      ]
    },
    {
      "cell_type": "code",
      "execution_count": null,
      "metadata": {
        "colab": {
          "base_uri": "https://localhost:8080/",
          "height": 1000
        },
        "id": "4zD5sbuUSpXb",
        "outputId": "1675ed62-6368-44ed-ab25-332e5b159847"
      },
      "outputs": [],
      "source": [
        "test.tail()"
      ]
    },
    {
      "cell_type": "code",
      "execution_count": null,
      "metadata": {
        "id": "eZnDN9inVrmS"
      },
      "outputs": [],
      "source": [
        "class TSData:\n",
        "    def __init__(self, column, data):\n",
        "        self.name = column\n",
        "        self.data = data[column]\n",
        "        #self.data_scaled = pd.DataFrame(self.data_scaled, columns=self.data.columns, index=self.data.index)\n",
        "        self.data[column + '_scaled'] = MinMaxScaler().fit_transform(self.data)\n",
        "        self.features"
      ]
    },
    {
      "cell_type": "code",
      "execution_count": null,
      "metadata": {},
      "outputs": [],
      "source": [
        "def create_features(df, column):\n",
        "    features = pd.DataFrame()\n",
        "    features['date'] = df.index\n",
        "    features['MA_3'] = df[column].rolling(3).mean()\n",
        "    features['MA_7'] = df[column].rolling(7).mean()\n",
        "    features['MA_14'] = df[column].rolling(14).mean()\n",
        "    features['MA_21'] = df[column].rolling(21).mean()\n",
        "\n",
        "    features['STD_3'] = df[column].rolling(3).std()\n",
        "    features['STD_7'] = df[column].rolling(7).std()\n",
        "    features['STD_14'] = df[column].rolling(14).std()\n",
        "    features['STD_21'] = df[column].rolling(21).std()\n",
        "\n",
        "\n",
        "    return features"
      ]
    },
    {
      "cell_type": "code",
      "execution_count": null,
      "metadata": {
        "id": "m10f3nF0VrjS"
      },
      "outputs": [],
      "source": [
        "def split_data(df):\n",
        "  web = df[df['tipo_loja'] == 'web']\n",
        "  fisica = df[df['tipo_loja'] == 'física']\n",
        "\n",
        "  return fisica, web\n",
        "\n",
        "def adjust_data(df):\n",
        "  df = df.pivot(index='ds', columns='loja', values='venda').fillna(0).rename_axis(None, axis=1)\n",
        "\n",
        "  return df\n",
        "\n",
        "def transform_data(df, column):\n",
        "  scaler = MinMaxScaler()\n",
        "  data = scaler.fit_transform(test[column].values.reshape(-1,1))\n",
        "  df[column] = data.reshape(1, -1)\n",
        "\n",
        "  return df\n"
      ]
    },
    {
      "cell_type": "code",
      "execution_count": null,
      "metadata": {},
      "outputs": [],
      "source": [
        "#construir rede neural que recebe como entrada o conjunto de k dias anteriores e retorna o valor previsto para o dia seguinte\n",
        "def build_model():\n",
        "    model = Sequential()\n",
        "    model.add(LSTM(64, activation='relu', input_shape=(train_X.shape[1], train_X.shape[2])))\n",
        "    model.add(Dense(1))\n",
        "    model.compile(optimizer='adam', loss='mse')\n",
        "    \n",
        "    return model"
      ]
    },
    {
      "cell_type": "code",
      "execution_count": null,
      "metadata": {
        "id": "yLS_1sqCVqiq"
      },
      "outputs": [],
      "source": [
        "temp = adjust_data(test)\n",
        "#transform_data(temp, 'renner_ar_ex_2')\n",
        "#temp = test.pivot(index='ds', columns='loja', values='venda').fillna(0).rename_axis(None, axis=1)"
      ]
    },
    {
      "cell_type": "code",
      "execution_count": null,
      "metadata": {},
      "outputs": [],
      "source": [
        "temp = test.pivot(index='ds', columns='loja', values='venda').fillna(0)\n",
        "temp\n",
        "\n",
        "\n",
        "column = 'renner_br_ac_1'\n",
        "temp[[column]]"
      ]
    }
  ],
  "metadata": {
    "colab": {
      "collapsed_sections": [],
      "provenance": []
    },
    "kernelspec": {
      "display_name": "Python 3.9.13 ('data-analysis')",
      "language": "python",
      "name": "python3"
    },
    "language_info": {
      "codemirror_mode": {
        "name": "ipython",
        "version": 3
      },
      "file_extension": ".py",
      "mimetype": "text/x-python",
      "name": "python",
      "nbconvert_exporter": "python",
      "pygments_lexer": "ipython3",
      "version": "3.9.13"
    },
    "vscode": {
      "interpreter": {
        "hash": "4891d0531006130b048409e856637fe2db4a9aa47439f56f84544b554b63b093"
      }
    }
  },
  "nbformat": 4,
  "nbformat_minor": 0
}
