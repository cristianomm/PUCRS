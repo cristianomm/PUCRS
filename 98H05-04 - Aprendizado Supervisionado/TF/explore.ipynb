{
  "cells": [
    {
      "cell_type": "code",
      "execution_count": 2,
      "metadata": {
        "id": "DOEJVh2cR6Bb"
      },
      "outputs": [],
      "source": [
        "\n",
        "import pandas as pd\n",
        "import statsmodels.api as sm\n",
        "\n",
        "import seaborn as sns\n",
        "import matplotlib.pyplot as plt\n",
        "\n",
        "from datetime import datetime\n",
        "from sklearn.preprocessing import MinMaxScaler, StandardScaler\n",
        "from sklearn.decomposition import PCA\n"
      ]
    },
    {
      "cell_type": "markdown",
      "metadata": {
        "id": "xFUIieYrT-Tr"
      },
      "source": [
        "##Data Augmentation\n",
        "- Dia das mães\n",
        "- Nome da loja\n",
        "- Feriado\n",
        "\n",
        "##Algoritmos\n",
        "- ANN\n",
        "- X6Boost\n",
        "- TSAI\n",
        "- SARIMA\n",
        "\n"
      ]
    },
    {
      "cell_type": "code",
      "execution_count": 16,
      "metadata": {
        "id": "m10f3nF0VrjS"
      },
      "outputs": [],
      "source": [
        "def split_data(df):\n",
        "  web = df[df['tipo_loja'] == 'web']\n",
        "  fisica = df[df['tipo_loja'] == 'física']\n",
        "\n",
        "  return fisica, web\n",
        "\n",
        "def adjust_data(df):\n",
        "  df['ds'] = pd.to_datetime(df['ds'], format='%Y-%m-%dT%H:%M:%S.%fZ')\n",
        "  df = df.pivot(index='ds', columns='loja', values='venda').fillna(0).rename_axis(None, axis=1)\n",
        "\n",
        "  return df\n",
        "\n",
        "def scale_data(df):\n",
        "  for c in df.columns:\n",
        "    df[c] = MinMaxScaler().fit_transform(df[c].values.reshape(-1, 1)).reshape(1, -1)[0]\n",
        "\n",
        "  return df\n"
      ]
    },
    {
      "cell_type": "code",
      "execution_count": 4,
      "metadata": {
        "id": "eZnDN9inVrmS"
      },
      "outputs": [],
      "source": [
        "class TSData:\n",
        "    def __init__(self, column, df):\n",
        "        self.name = column\n",
        "        self.data = df[[column]]\n",
        "        self.data[column + '_scaled'] = self.__scale_data()\n",
        "        self.features = self.create_features()\n",
        "\n",
        "    def __str__(self):\n",
        "        return f'{self.name} - data:{self.data.shape} - features:{self.features.shape}'\n",
        "\n",
        "    def __scale_data(self):\n",
        "        scaler = MinMaxScaler()\n",
        "        data = scaler.fit_transform(self.data[self.name].values.reshape(-1,1))\n",
        "        return data.reshape(1, -1)[0]\n",
        "\n",
        "    def create_features(self):\n",
        "        features = pd.DataFrame()\n",
        "        \n",
        "        features['MA_3'] = self.data[self.name].rolling(3).mean()\n",
        "        features['MA_7'] = self.data[self.name].rolling(7).mean()\n",
        "        features['MA_14'] = self.data[self.name].rolling(14).mean()\n",
        "        features['MA_21'] = self.data[self.name].rolling(21).mean()\n",
        "\n",
        "        features['STD_3'] = self.data[self.name].rolling(3).std()\n",
        "        features['STD_7'] = self.data[self.name].rolling(7).std()\n",
        "        features['STD_14'] = self.data[self.name].rolling(14).std()\n",
        "        features['STD_21'] = self.data[self.name].rolling(21).std()\n",
        "\n",
        "        return features.fillna(0)"
      ]
    },
    {
      "cell_type": "code",
      "execution_count": 19,
      "metadata": {
        "id": "CxVcQdEsSpfK"
      },
      "outputs": [],
      "source": [
        "#test_file = '/content/drive/MyDrive/PUC/Ciência de Dados e Inteligência Artificial/2022-02/98H05-04 - Aprendizado Supervisionado/TF/data/renner_sales_sample_test.csv'\n",
        "#train_file = '/content/drive/MyDrive/PUC/Ciência de Dados e Inteligência Artificial/2022-02/98H05-04 - Aprendizado Supervisionado/TF/data/renner_sales_sample_train.csv'\n",
        "\n",
        "test_file = '../TF/data/renner_sales_sample_test.csv'\n",
        "train_file = '../TF/data/renner_sales_sample_train.csv'\n",
        "\n",
        "test = pd.read_csv(test_file)\n",
        "train = pd.read_csv(train_file)\n",
        "\n",
        "test = adjust_data(test)\n",
        "train = adjust_data(train)\n",
        "\n",
        "train_scaled = scale_data(train.copy(deep=True))\n",
        "test_scaled = scale_data(test.copy(deep=True))"
      ]
    },
    {
      "cell_type": "code",
      "execution_count": null,
      "metadata": {
        "colab": {
          "base_uri": "https://localhost:8080/",
          "height": 206
        },
        "id": "QxWUHae3YGNe",
        "outputId": "41789e81-5200-410c-ad31-07dd306abda0"
      },
      "outputs": [],
      "source": [
        "for k in dataDict.keys():\n",
        "    fig = sm.tsa.seasonal_decompose(dataDict[k].data[k]).plot()\n",
        "    fig.set_figheight(8)\n",
        "    fig.set_figwidth(15)\n",
        "    fig.savefig(f'plot/decompose_{k}.png')\n",
        "    plt.close(fig)"
      ]
    },
    {
      "cell_type": "code",
      "execution_count": null,
      "metadata": {},
      "outputs": [],
      "source": [
        "sns.heatmap(data.iloc[236:243].corr())"
      ]
    },
    {
      "cell_type": "code",
      "execution_count": null,
      "metadata": {},
      "outputs": [],
      "source": [
        "sns.scatterplot(data.iloc[210])"
      ]
    },
    {
      "cell_type": "code",
      "execution_count": null,
      "metadata": {},
      "outputs": [],
      "source": [
        "#tenta prever a venda de uma loja específica criando estimativas para cada semana\n",
        "#as estimativas devem ser classificadas conforme o range de vendas da loja\n",
        "#pex:\n",
        "#range 1: 0-10\n",
        "#range 2: 10-20\n",
        "#range 3: 20-30\n",
        "#e assim por diante\n",
        "#desse modo o classificador pode ser treinado para prever o range de vendas da loja\n",
        "#utilizar indicadores de tendência e sazonalidade para estimar o range de vendas\n",
        "#utilizar o modelo de regressão linear para estimar o range de vendas\n",
        "#utilizar o modelo de regressão logística para estimar o range de vendas\n",
        "#utilizar indicadores financeiros para estimar o range de vendas, como por exemplo, \n",
        "# média móvel, média ponderada, média exponencial, bandas de bollinger e etc\n",
        "\n"
      ]
    },
    {
      "cell_type": "code",
      "execution_count": null,
      "metadata": {},
      "outputs": [],
      "source": [
        "data"
      ]
    },
    {
      "cell_type": "code",
      "execution_count": null,
      "metadata": {},
      "outputs": [],
      "source": [
        "train.plot(legend=False, figsize=(15,8))"
      ]
    },
    {
      "cell_type": "code",
      "execution_count": null,
      "metadata": {
        "colab": {
          "base_uri": "https://localhost:8080/",
          "height": 282
        },
        "id": "aW4oXo-WSpaD",
        "outputId": "8713deac-1973-438c-f884-d6cc30d877ca"
      },
      "outputs": [],
      "source": [
        "data = train.copy(deep=True)\n",
        "data.set_index('ds', inplace=True)\n",
        "data[(data['tipo_loja'] == 'física') & (data['loja'] == 'renner_ar_ex_1')][['venda']].plot()"
      ]
    },
    {
      "cell_type": "code",
      "execution_count": null,
      "metadata": {
        "colab": {
          "base_uri": "https://localhost:8080/",
          "height": 455
        },
        "id": "RSmhul08Wgz9",
        "outputId": "ba0cf8e5-3489-45dc-f545-7b2dd14aac26"
      },
      "outputs": [],
      "source": [
        "train.groupby(by='loja').sum()"
      ]
    },
    {
      "cell_type": "code",
      "execution_count": null,
      "metadata": {
        "colab": {
          "base_uri": "https://localhost:8080/"
        },
        "id": "QheEXPetWgxM",
        "outputId": "278ccfc5-9fc9-456a-d415-0e99b46cd006"
      },
      "outputs": [],
      "source": [
        "train.pivot(index='ds', columns='loja', values='venda').fillna(0)"
      ]
    },
    {
      "cell_type": "code",
      "execution_count": null,
      "metadata": {},
      "outputs": [],
      "source": [
        "temp = adjust_data(train)\n",
        "temp"
      ]
    },
    {
      "cell_type": "code",
      "execution_count": null,
      "metadata": {},
      "outputs": [],
      "source": [
        "column = 'renner_ar_ex_1'\n",
        "tsData = TSData(column, temp)\n",
        "tsData.features\n"
      ]
    },
    {
      "cell_type": "code",
      "execution_count": null,
      "metadata": {},
      "outputs": [],
      "source": [
        "print(tsData)"
      ]
    },
    {
      "cell_type": "code",
      "execution_count": null,
      "metadata": {},
      "outputs": [],
      "source": [
        "javascript:__doPostBack('ViewerControl1$TreeViewFiles','sR28324\\\\F2222850')"
      ]
    },
    {
      "cell_type": "code",
      "execution_count": null,
      "metadata": {},
      "outputs": [],
      "source": []
    },
    {
      "cell_type": "code",
      "execution_count": null,
      "metadata": {
        "colab": {
          "base_uri": "https://localhost:8080/",
          "height": 1000
        },
        "id": "4zD5sbuUSpXb",
        "outputId": "1675ed62-6368-44ed-ab25-332e5b159847"
      },
      "outputs": [],
      "source": [
        "temp = adjust_data(test)\n",
        "\n",
        "scaler = MinMaxScaler()\n",
        "data = scaler.fit_transform(temp['renner_br_rj_81'].values.reshape(-1,1))\n",
        "data.reshape(1, -1)[0]"
      ]
    },
    {
      "cell_type": "code",
      "execution_count": null,
      "metadata": {},
      "outputs": [],
      "source": [
        "temp[['renner_br_rj_81']].rolling(21).mean()"
      ]
    },
    {
      "cell_type": "code",
      "execution_count": null,
      "metadata": {},
      "outputs": [],
      "source": [
        "temp = adjust_data(train)\n",
        "temp['renner_br_rj_81']\n",
        "\n",
        "tsData = TSData('renner_br_rj_81', temp)"
      ]
    },
    {
      "cell_type": "code",
      "execution_count": null,
      "metadata": {},
      "outputs": [],
      "source": [
        "tsData.create_features(temp, 'renner_br_rj_81')"
      ]
    },
    {
      "cell_type": "code",
      "execution_count": null,
      "metadata": {},
      "outputs": [],
      "source": [
        "#construir rede neural que recebe como entrada o conjunto de k dias anteriores e retorna o valor previsto para o dia seguinte\n",
        "def build_model():\n",
        "    model = Sequential()\n",
        "    model.add(LSTM(64, activation='relu', input_shape=(train_X.shape[1], train_X.shape[2])))\n",
        "    model.add(Dense(1))\n",
        "    model.compile(optimizer='adam', loss='mse')\n",
        "    \n",
        "    return model"
      ]
    },
    {
      "cell_type": "code",
      "execution_count": null,
      "metadata": {},
      "outputs": [],
      "source": [
        "############################################################################################################"
      ]
    },
    {
      "cell_type": "code",
      "execution_count": null,
      "metadata": {
        "id": "yLS_1sqCVqiq"
      },
      "outputs": [],
      "source": [
        "temp = adjust_data(test)\n",
        "#transform_data(temp, 'renner_ar_ex_2')\n",
        "#temp = test.pivot(index='ds', columns='loja', values='venda').fillna(0).rename_axis(None, axis=1)"
      ]
    },
    {
      "cell_type": "code",
      "execution_count": null,
      "metadata": {},
      "outputs": [],
      "source": [
        "fisica, web = split_data(train)"
      ]
    },
    {
      "cell_type": "code",
      "execution_count": null,
      "metadata": {},
      "outputs": [],
      "source": [
        "web['loja'].unique()"
      ]
    },
    {
      "cell_type": "code",
      "execution_count": null,
      "metadata": {},
      "outputs": [],
      "source": [
        "train[train['loja'].isin(['renner_br_sp_192', 'renner_br_rj_81'])]['tipo_loja'].unique()"
      ]
    },
    {
      "cell_type": "code",
      "execution_count": null,
      "metadata": {},
      "outputs": [],
      "source": []
    },
    {
      "cell_type": "code",
      "execution_count": null,
      "metadata": {},
      "outputs": [],
      "source": []
    },
    {
      "cell_type": "code",
      "execution_count": null,
      "metadata": {},
      "outputs": [],
      "source": [
        "############################################################################################################"
      ]
    },
    {
      "cell_type": "code",
      "execution_count": null,
      "metadata": {},
      "outputs": [],
      "source": [
        "temp = test.pivot(index='ds', columns='loja', values='venda').fillna(0)\n",
        "temp\n",
        "\n",
        "\n",
        "column = 'renner_br_ac_1'\n",
        "temp[[column]]"
      ]
    }
  ],
  "metadata": {
    "colab": {
      "collapsed_sections": [],
      "provenance": []
    },
    "kernelspec": {
      "display_name": "Python 3.9.13 ('data-analysis')",
      "language": "python",
      "name": "python3"
    },
    "language_info": {
      "codemirror_mode": {
        "name": "ipython",
        "version": 3
      },
      "file_extension": ".py",
      "mimetype": "text/x-python",
      "name": "python",
      "nbconvert_exporter": "python",
      "pygments_lexer": "ipython3",
      "version": "3.9.13"
    },
    "vscode": {
      "interpreter": {
        "hash": "4891d0531006130b048409e856637fe2db4a9aa47439f56f84544b554b63b093"
      }
    }
  },
  "nbformat": 4,
  "nbformat_minor": 0
}
